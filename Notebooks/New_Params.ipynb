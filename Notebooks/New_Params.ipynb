{
 "cells": [
  {
   "cell_type": "code",
   "execution_count": 1,
   "id": "personal-designation",
   "metadata": {},
   "outputs": [
    {
     "name": "stdout",
     "output_type": "stream",
     "text": [
      "Hi!\n",
      "GM: Hi!  You're in Matthew's module for generally useful functions and classes\n",
      "IM: Hi!  You're in Matthew Ogden's information module for SPAM\n",
      "IC: Hi!  You're in Matthew's main code for all things image creation.\n",
      "MC: Hi!  You're in Matthew Ogden's module for all things machine comparing images\n"
     ]
    }
   ],
   "source": [
    "# Add parent directory\n",
    "from sys import path as sysPath\n",
    "sysPath.append('../')\n",
    "\n",
    "from Support_Code import general_module as gm\n",
    "from Support_Code import info_module as im\n",
    "from Image_Creator import main_image_creator as ic\n",
    "\n",
    "sysPath.append('../Machine_Compare/')\n",
    "from Machine_Compare import main_compare as mc\n",
    "\n",
    "print(\"Hi!\")\n",
    "\n",
    "gm.test()\n",
    "im.test()\n",
    "ic.test()\n",
    "mc.test()"
   ]
  },
  {
   "cell_type": "code",
   "execution_count": 2,
   "id": "indian-kruger",
   "metadata": {},
   "outputs": [
    {
     "name": "stdout",
     "output_type": "stream",
     "text": [
      "IM: target_info_class.__init__:\n",
      "\t - targetDir:  /home/mbo2d/galStuff/spam_data_pl3/587722984435351614/\n",
      "\t - printBase:  True\n",
      "\t - printAll:  True\n",
      "\t - newInfo:  False\n",
      "IM: Target.initTargetDir():\n",
      "\t - targetDir: /home/mbo2d/galStuff/spam_data_pl3/587722984435351614/\n",
      "\t - targetDir: (True) /home/mbo2d/galStuff/spam_data_pl3/587722984435351614/\n",
      "\t - infoDir: (True) /home/mbo2d/galStuff/spam_data_pl3/587722984435351614/information/\n",
      "\t - baseInfoLoc: (True) /home/mbo2d/galStuff/spam_data_pl3/587722984435351614/information/base_target_info.json\n",
      "\t - allInfoLoc: (True) /home/mbo2d/galStuff/spam_data_pl3/587722984435351614/information/target_info.json\n",
      "\t - zooMergerDir: (True) /home/mbo2d/galStuff/spam_data_pl3/587722984435351614/gen000/\n",
      "\t - plotDir: (True) /home/mbo2d/galStuff/spam_data_pl3/587722984435351614/plots/\n",
      "IM: Target: Opening target info json\n"
     ]
    }
   ],
   "source": [
    "tDir = '/home/mbo2d/galStuff/spam_data_pl3/587722984435351614/' \n",
    "tInfo = im.target_info_class( targetDir = tDir, printAll=True)"
   ]
  },
  {
   "cell_type": "code",
   "execution_count": 3,
   "id": "chemical-sydney",
   "metadata": {
    "collapsed": true,
    "jupyter": {
     "outputs_hidden": true
    }
   },
   "outputs": [
    {
     "name": "stdout",
     "output_type": "stream",
     "text": [
      "{'base_perturbation': {'cmpArg': {'cmpMethod': 'correlation'},\n",
      "                       'imgArg': {'name': 'default',\n",
      "                                  'pType': 'default'},\n",
      "                       'name': 'base_perturbation',\n",
      "                       'scoreType': 'perturbation',\n",
      "                       'simArg': {'nPts': '100k',\n",
      "                                  'name': '100k'}},\n",
      " 'base_score': {'cmpArg': {'cmpMethod': 'correlation'},\n",
      "                'imgArg': {'name': 'default',\n",
      "                           'pType': 'default'},\n",
      "                'name': 'base_score',\n",
      "                'scoreType': 'target',\n",
      "                'simArg': {'nPts': '100k',\n",
      "                           'name': '100k'},\n",
      "                'targetName': 'zoo'}}\n"
     ]
    }
   ],
   "source": [
    "pLoc = '../param/base_param.json'\n",
    "class_newParam = im.group_score_parameter_class(pLoc=pLoc)\n",
    "class_newParam.group\n",
    "gm.pprint(class_newParam.group)"
   ]
  },
  {
   "cell_type": "code",
   "execution_count": 4,
   "id": "twelve-blowing",
   "metadata": {},
   "outputs": [],
   "source": [
    "from copy import deepcopy"
   ]
  },
  {
   "cell_type": "code",
   "execution_count": 5,
   "id": "secure-draft",
   "metadata": {
    "collapsed": true,
    "jupyter": {
     "outputs_hidden": true
    }
   },
   "outputs": [
    {
     "name": "stdout",
     "output_type": "stream",
     "text": [
      "{'base0_corr': {'cmpArg': {'cmpMethod': 'correlation'},\n",
      "                'imgArg': {'name': 'default',\n",
      "                           'pType': 'default'},\n",
      "                'name': 'base0_corr',\n",
      "                'scoreType': 'target',\n",
      "                'simArg': {'nPts': '100k',\n",
      "                           'name': '100k'},\n",
      "                'targetName': 'zoo'},\n",
      " 'base_perturbation': {'cmpArg': {'cmpMethod': 'correlation'},\n",
      "                       'imgArg': {'name': 'default',\n",
      "                                  'pType': 'default'},\n",
      "                       'name': 'base_perturbation',\n",
      "                       'scoreType': 'perturbation',\n",
      "                       'simArg': {'nPts': '100k',\n",
      "                                  'name': '100k'}},\n",
      " 'base_score': {'cmpArg': {'cmpMethod': 'correlation'},\n",
      "                'imgArg': {'name': 'default',\n",
      "                           'pType': 'default'},\n",
      "                'name': 'base_score',\n",
      "                'scoreType': 'target',\n",
      "                'simArg': {'nPts': '100k',\n",
      "                           'name': '100k'},\n",
      "                'targetName': 'zoo'}}\n"
     ]
    }
   ],
   "source": [
    "base_corr = deepcopy( class_newParam.group['base_score'] )\n",
    "base_corr['cmpArg']['cmpMethod'] = 'correlation'\n",
    "base_corr['name'] = 'base0_corr'\n",
    "class_newParam.addParam(base_corr)\n",
    "gm.pprint(class_newParam.group)"
   ]
  },
  {
   "cell_type": "code",
   "execution_count": 6,
   "id": "solar-three",
   "metadata": {
    "collapsed": true,
    "jupyter": {
     "outputs_hidden": true
    }
   },
   "outputs": [
    {
     "name": "stdout",
     "output_type": "stream",
     "text": [
      "{'base0_corr': {'cmpArg': {'cmpMethod': 'correlation'},\n",
      "                'imgArg': {'name': 'default',\n",
      "                           'pType': 'default'},\n",
      "                'name': 'base0_corr',\n",
      "                'scoreType': 'target',\n",
      "                'simArg': {'nPts': '100k',\n",
      "                           'name': '100k'},\n",
      "                'targetName': 'zoo'},\n",
      " 'base0_diff': {'cmpArg': {'cmpMethod': 'absolute_difference'},\n",
      "                'imgArg': {'name': 'default',\n",
      "                           'pType': 'default'},\n",
      "                'name': 'base0_diff',\n",
      "                'scoreType': 'target',\n",
      "                'simArg': {'nPts': '100k',\n",
      "                           'name': '100k'},\n",
      "                'targetName': 'zoo'},\n",
      " 'base_perturbation': {'cmpArg': {'cmpMethod': 'correlation'},\n",
      "                       'imgArg': {'name': 'default',\n",
      "                                  'pType': 'default'},\n",
      "                       'name': 'base_perturbation',\n",
      "                       'scoreType': 'perturbation',\n",
      "                       'simArg': {'nPts': '100k',\n",
      "                                  'name': '100k'}},\n",
      " 'base_score': {'cmpArg': {'cmpMethod': 'correlation'},\n",
      "                'imgArg': {'name': 'default',\n",
      "                           'pType': 'default'},\n",
      "                'name': 'base_score',\n",
      "                'scoreType': 'target',\n",
      "                'simArg': {'nPts': '100k',\n",
      "                           'name': '100k'},\n",
      "                'targetName': 'zoo'}}\n"
     ]
    }
   ],
   "source": [
    "base_diff = deepcopy( class_newParam.group['base_score'] )\n",
    "base_diff['cmpArg']['cmpMethod'] = 'absolute_difference'\n",
    "base_diff['name'] = 'base0_diff'\n",
    "class_newParam.addParam(base_diff)\n",
    "gm.pprint(class_newParam.group)"
   ]
  },
  {
   "cell_type": "code",
   "execution_count": 7,
   "id": "according-spectacular",
   "metadata": {
    "collapsed": true,
    "jupyter": {
     "outputs_hidden": true
    }
   },
   "outputs": [
    {
     "name": "stdout",
     "output_type": "stream",
     "text": [
      "{'base0_corr': {'cmpArg': {'cmpMethod': 'correlation'},\n",
      "                'imgArg': {'name': 'default',\n",
      "                           'pType': 'default'},\n",
      "                'name': 'base0_corr',\n",
      "                'scoreType': 'target',\n",
      "                'simArg': {'nPts': '100k',\n",
      "                           'name': '100k'},\n",
      "                'targetName': 'zoo'},\n",
      " 'base0_diff': {'cmpArg': {'cmpMethod': 'absolute_difference'},\n",
      "                'imgArg': {'name': 'default',\n",
      "                           'pType': 'default'},\n",
      "                'name': 'base0_diff',\n",
      "                'scoreType': 'target',\n",
      "                'simArg': {'nPts': '100k',\n",
      "                           'name': '100k'},\n",
      "                'targetName': 'zoo'},\n",
      " 'base0_diff_scale': {'cmpArg': {'cmpMethod': 'absolute_difference_lower_scale'},\n",
      "                      'imgArg': {'name': 'default',\n",
      "                                 'pType': 'default'},\n",
      "                      'name': 'base0_diff_scale',\n",
      "                      'scoreType': 'target',\n",
      "                      'simArg': {'nPts': '100k',\n",
      "                                 'name': '100k'},\n",
      "                      'targetName': 'zoo'},\n",
      " 'base_perturbation': {'cmpArg': {'cmpMethod': 'correlation'},\n",
      "                       'imgArg': {'name': 'default',\n",
      "                                  'pType': 'default'},\n",
      "                       'name': 'base_perturbation',\n",
      "                       'scoreType': 'perturbation',\n",
      "                       'simArg': {'nPts': '100k',\n",
      "                                  'name': '100k'}},\n",
      " 'base_score': {'cmpArg': {'cmpMethod': 'correlation'},\n",
      "                'imgArg': {'name': 'default',\n",
      "                           'pType': 'default'},\n",
      "                'name': 'base_score',\n",
      "                'scoreType': 'target',\n",
      "                'simArg': {'nPts': '100k',\n",
      "                           'name': '100k'},\n",
      "                'targetName': 'zoo'}}\n"
     ]
    }
   ],
   "source": [
    "base_diff2 = deepcopy( class_newParam.group['base_score'] )\n",
    "base_diff2['cmpArg']['cmpMethod'] = 'absolute_difference_lower_scale'\n",
    "base_diff2['name'] = 'base0_diff_scale'\n",
    "class_newParam.addParam(base_diff2)\n",
    "gm.pprint(class_newParam.group)"
   ]
  },
  {
   "cell_type": "code",
   "execution_count": 8,
   "id": "ongoing-slovenia",
   "metadata": {
    "collapsed": true,
    "jupyter": {
     "outputs_hidden": true
    }
   },
   "outputs": [
    {
     "name": "stdout",
     "output_type": "stream",
     "text": [
      "{'base0_corr': {'cmpArg': {'cmpMethod': 'correlation'},\n",
      "                'imgArg': {'name': 'default',\n",
      "                           'pType': 'default'},\n",
      "                'name': 'base0_corr',\n",
      "                'scoreType': 'target',\n",
      "                'simArg': {'nPts': '100k',\n",
      "                           'name': '100k'},\n",
      "                'targetName': 'zoo'},\n",
      " 'base0_diff': {'cmpArg': {'cmpMethod': 'absolute_difference'},\n",
      "                'imgArg': {'name': 'default',\n",
      "                           'pType': 'default'},\n",
      "                'name': 'base0_diff',\n",
      "                'scoreType': 'target',\n",
      "                'simArg': {'nPts': '100k',\n",
      "                           'name': '100k'},\n",
      "                'targetName': 'zoo'},\n",
      " 'base0_diff_scale': {'cmpArg': {'cmpMethod': 'absolute_difference_lower_scale'},\n",
      "                      'imgArg': {'name': 'default',\n",
      "                                 'pType': 'default'},\n",
      "                      'name': 'base0_diff_scale',\n",
      "                      'scoreType': 'target',\n",
      "                      'simArg': {'nPts': '100k',\n",
      "                                 'name': '100k'},\n",
      "                      'targetName': 'zoo'},\n",
      " 'base0_overlap0': {'cmpArg': {'cmpMethod': 'overlap_fraction'},\n",
      "                    'imgArg': {'name': 'default',\n",
      "                               'pType': 'default'},\n",
      "                    'name': 'base0_overlap0',\n",
      "                    'scoreType': 'target',\n",
      "                    'simArg': {'nPts': '100k',\n",
      "                               'name': '100k'},\n",
      "                    'targetName': 'zoo'},\n",
      " 'base_perturbation': {'cmpArg': {'cmpMethod': 'correlation'},\n",
      "                       'imgArg': {'name': 'default',\n",
      "                                  'pType': 'default'},\n",
      "                       'name': 'base_perturbation',\n",
      "                       'scoreType': 'perturbation',\n",
      "                       'simArg': {'nPts': '100k',\n",
      "                                  'name': '100k'}},\n",
      " 'base_score': {'cmpArg': {'cmpMethod': 'correlation'},\n",
      "                'imgArg': {'name': 'default',\n",
      "                           'pType': 'default'},\n",
      "                'name': 'base_score',\n",
      "                'scoreType': 'target',\n",
      "                'simArg': {'nPts': '100k',\n",
      "                           'name': '100k'},\n",
      "                'targetName': 'zoo'}}\n"
     ]
    }
   ],
   "source": [
    "base_olap1 = deepcopy( class_newParam.group['base_score'] )\n",
    "base_olap1['cmpArg']['cmpMethod'] = 'overlap_fraction'\n",
    "base_olap1['name'] = 'base0_overlap0'\n",
    "class_newParam.addParam(base_olap1)\n",
    "gm.pprint(class_newParam.group)"
   ]
  },
  {
   "cell_type": "code",
   "execution_count": 9,
   "id": "gorgeous-glance",
   "metadata": {
    "collapsed": true,
    "jupyter": {
     "outputs_hidden": true
    }
   },
   "outputs": [
    {
     "name": "stdout",
     "output_type": "stream",
     "text": [
      "{'base0_bcorr0': {'cmpArg': {'cmpMethod': 'binary_correlation'},\n",
      "                  'imgArg': {'name': 'default',\n",
      "                             'pType': 'default'},\n",
      "                  'name': 'base0_bcorr0',\n",
      "                  'scoreType': 'target',\n",
      "                  'simArg': {'nPts': '100k',\n",
      "                             'name': '100k'},\n",
      "                  'targetName': 'zoo'},\n",
      " 'base0_corr': {'cmpArg': {'cmpMethod': 'correlation'},\n",
      "                'imgArg': {'name': 'default',\n",
      "                           'pType': 'default'},\n",
      "                'name': 'base0_corr',\n",
      "                'scoreType': 'target',\n",
      "                'simArg': {'nPts': '100k',\n",
      "                           'name': '100k'},\n",
      "                'targetName': 'zoo'},\n",
      " 'base0_diff': {'cmpArg': {'cmpMethod': 'absolute_difference'},\n",
      "                'imgArg': {'name': 'default',\n",
      "                           'pType': 'default'},\n",
      "                'name': 'base0_diff',\n",
      "                'scoreType': 'target',\n",
      "                'simArg': {'nPts': '100k',\n",
      "                           'name': '100k'},\n",
      "                'targetName': 'zoo'},\n",
      " 'base0_diff_scale': {'cmpArg': {'cmpMethod': 'absolute_difference_lower_scale'},\n",
      "                      'imgArg': {'name': 'default',\n",
      "                                 'pType': 'default'},\n",
      "                      'name': 'base0_diff_scale',\n",
      "                      'scoreType': 'target',\n",
      "                      'simArg': {'nPts': '100k',\n",
      "                                 'name': '100k'},\n",
      "                      'targetName': 'zoo'},\n",
      " 'base0_overlap0': {'cmpArg': {'cmpMethod': 'overlap_fraction'},\n",
      "                    'imgArg': {'name': 'default',\n",
      "                               'pType': 'default'},\n",
      "                    'name': 'base0_overlap0',\n",
      "                    'scoreType': 'target',\n",
      "                    'simArg': {'nPts': '100k',\n",
      "                               'name': '100k'},\n",
      "                    'targetName': 'zoo'},\n",
      " 'base_perturbation': {'cmpArg': {'cmpMethod': 'correlation'},\n",
      "                       'imgArg': {'name': 'default',\n",
      "                                  'pType': 'default'},\n",
      "                       'name': 'base_perturbation',\n",
      "                       'scoreType': 'perturbation',\n",
      "                       'simArg': {'nPts': '100k',\n",
      "                                  'name': '100k'}},\n",
      " 'base_score': {'cmpArg': {'cmpMethod': 'correlation'},\n",
      "                'imgArg': {'name': 'default',\n",
      "                           'pType': 'default'},\n",
      "                'name': 'base_score',\n",
      "                'scoreType': 'target',\n",
      "                'simArg': {'nPts': '100k',\n",
      "                           'name': '100k'},\n",
      "                'targetName': 'zoo'}}\n"
     ]
    }
   ],
   "source": [
    "base_bcorr0 = deepcopy( class_newParam.group['base_score'] )\n",
    "base_bcorr0['cmpArg']['cmpMethod'] = 'binary_correlation'\n",
    "base_bcorr0['name'] = 'base0_bcorr0'\n",
    "class_newParam.addParam(base_bcorr0)\n",
    "gm.pprint(class_newParam.group)"
   ]
  },
  {
   "cell_type": "code",
   "execution_count": 11,
   "id": "limited-landscape",
   "metadata": {
    "collapsed": true,
    "jupyter": {
     "outputs_hidden": true
    }
   },
   "outputs": [
    {
     "name": "stdout",
     "output_type": "stream",
     "text": [
      "{'base0_bcorr0': {'cmpArg': {'cmpMethod': 'binary_correlation'},\n",
      "                  'imgArg': {'name': 'default',\n",
      "                             'pType': 'default'},\n",
      "                  'name': 'base0_bcorr0',\n",
      "                  'scoreType': 'target',\n",
      "                  'simArg': {'nPts': '100k',\n",
      "                             'name': '100k'},\n",
      "                  'targetName': 'zoo'},\n",
      " 'base0_corr': {'cmpArg': {'cmpMethod': 'correlation'},\n",
      "                'imgArg': {'name': 'default',\n",
      "                           'pType': 'default'},\n",
      "                'name': 'base0_corr',\n",
      "                'scoreType': 'target',\n",
      "                'simArg': {'nPts': '100k',\n",
      "                           'name': '100k'},\n",
      "                'targetName': 'zoo'},\n",
      " 'base0_diff': {'cmpArg': {'cmpMethod': 'absolute_difference'},\n",
      "                'imgArg': {'name': 'default',\n",
      "                           'pType': 'default'},\n",
      "                'name': 'base0_diff',\n",
      "                'scoreType': 'target',\n",
      "                'simArg': {'nPts': '100k',\n",
      "                           'name': '100k'},\n",
      "                'targetName': 'zoo'},\n",
      " 'base0_diff_scale': {'cmpArg': {'cmpMethod': 'absolute_difference_lower_scale'},\n",
      "                      'imgArg': {'name': 'default',\n",
      "                                 'pType': 'default'},\n",
      "                      'name': 'base0_diff_scale',\n",
      "                      'scoreType': 'target',\n",
      "                      'simArg': {'nPts': '100k',\n",
      "                                 'name': '100k'},\n",
      "                      'targetName': 'zoo'},\n",
      " 'base0_overlap0': {'cmpArg': {'cmpMethod': 'overlap_fraction'},\n",
      "                    'imgArg': {'name': 'default',\n",
      "                               'pType': 'default'},\n",
      "                    'name': 'base0_overlap0',\n",
      "                    'scoreType': 'target',\n",
      "                    'simArg': {'nPts': '100k',\n",
      "                               'name': '100k'},\n",
      "                    'targetName': 'zoo'}}\n"
     ]
    }
   ],
   "source": [
    "# Clean up\n",
    "class_newParam.rmParam('base_score')\n",
    "class_newParam.rmParam('base_perturbation')\n",
    "gm.pprint(class_newParam.group)\n",
    "\n",
    "class_newParam.saveParam(saveLoc='../param/param_base0_scores.json')"
   ]
  },
  {
   "cell_type": "code",
   "execution_count": null,
   "id": "separated-recorder",
   "metadata": {},
   "outputs": [],
   "source": []
  }
 ],
 "metadata": {
  "kernelspec": {
   "display_name": "Python 3",
   "language": "python",
   "name": "python3"
  },
  "language_info": {
   "codemirror_mode": {
    "name": "ipython",
    "version": 3
   },
   "file_extension": ".py",
   "mimetype": "text/x-python",
   "name": "python",
   "nbconvert_exporter": "python",
   "pygments_lexer": "ipython3",
   "version": "3.8.5"
  }
 },
 "nbformat": 4,
 "nbformat_minor": 5
}
