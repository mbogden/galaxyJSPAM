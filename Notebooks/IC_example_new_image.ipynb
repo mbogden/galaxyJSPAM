{
 "cells": [
  {
   "cell_type": "markdown",
   "id": "immune-needle",
   "metadata": {},
   "source": [
    "# For modifying and testing new image creation\n",
    "\n",
    "Hello!  This in Matt's quick tutorial on how to create new model images\n",
    "## Step 1\n",
    "### Load nessecary modules"
   ]
  },
  {
   "cell_type": "code",
   "execution_count": 1,
   "id": "canadian-spine",
   "metadata": {},
   "outputs": [
    {
     "name": "stdout",
     "output_type": "stream",
     "text": [
      "SIMR: Hi!  You're in Matthew's main program for all things galaxy collisions\n",
      "GM: Hi!  You're in Matthew's module for generally useful functions and classes\n",
      "IM: Hi!  You're in Matthew's information module for SPAM\n",
      "IC: Hi!  You're in Matthew's main code for all things image creation.\n",
      "MS: Hi!  You're in Matthew's SIMR module for all things machine scoring images\n",
      "DC: Hi!  You're in direct_image_compare.py\n",
      "SA: Hi!  You're in Matthew's Main program for score analysis!\n"
     ]
    }
   ],
   "source": [
    "# Add python modules\n",
    "import numpy as np\n",
    "import cv2\n",
    "import matplotlib.pyplot as plt\n",
    "from copy import deepcopy\n",
    "\n",
    "# Add parent directory for custom modules\n",
    "from sys import path as sysPath\n",
    "sysPath.append('../')\n",
    "sysPath.append('../Machine_Score/')\n",
    "\n",
    "# Load custom modules that simr has loaded\n",
    "import main_SIMR as simr\n",
    "gm = simr.gm\n",
    "im = simr.im\n",
    "ic = simr.ic\n",
    "ms = simr.ms\n",
    "sa = simr.sa\n",
    "dc = simr.ms.dc\n",
    "\n",
    "simr.test()\n",
    "gm.test()\n",
    "im.test()\n",
    "ic.test()\n",
    "ms.test()\n",
    "dc.test()\n",
    "sa.test()"
   ]
  },
  {
   "cell_type": "markdown",
   "id": "gorgeous-bicycle",
   "metadata": {},
   "source": [
    "___\n",
    "## Step 2\n",
    "### Load Target Info class\n",
    "Needed for loading the target image and running through models later."
   ]
  },
  {
   "cell_type": "code",
   "execution_count": 2,
   "id": "spread-jordan",
   "metadata": {},
   "outputs": [
    {
     "name": "stdout",
     "output_type": "stream",
     "text": [
      "Target Good!\n",
      "Run 'run_0000' Good!\n"
     ]
    }
   ],
   "source": [
    "tDir = '../targetDir'\n",
    "tDir = gm.validPath(tDir)\n",
    "\n",
    "tInfo = im.target_info_class( targetDir = tDir, printAll=False)\n",
    "if tInfo.status == False:\n",
    "    print(\"WARNING: target info class bad\")\n",
    "else:\n",
    "    print(\"Target Good!\")\n",
    "\n",
    "# Get run info class\n",
    "rInfo = tInfo.getRunInfo( rID='run_0000' )\n",
    "\n",
    "if rInfo.status == False:\n",
    "    print(\"WARNING\")\n",
    "else:\n",
    "    print(\"Run '%s' Good!\"%rInfo.get('run_id'))"
   ]
  },
  {
   "cell_type": "markdown",
   "id": "invalid-diabetes",
   "metadata": {},
   "source": [
    "___\n",
    "## Step 3\n",
    "### Load a starting image and image parameter for target\n",
    "Loading a previous image allows you to start with the correct image size and pixel centers for an associated target image."
   ]
  },
  {
   "cell_type": "code",
   "execution_count": 3,
   "id": "ranging-palace",
   "metadata": {},
   "outputs": [
    {
     "name": "stdout",
     "output_type": "stream",
     "text": [
      "{'cmpArg': {'direct_compare_function': 'absolute_difference',\n",
      "            'targetName': 'zoo_0',\n",
      "            'targetType': 'target_image',\n",
      "            'type': 'direct_image_comparison'},\n",
      " 'comment': 'Starting score parameters '\n",
      "            'file for '\n",
      "            '587722984435351614',\n",
      " 'imgArg': {'comment': 'Starting image '\n",
      "                       'parameters for '\n",
      "                       '587722984435351614',\n",
      "            'galaxy_centers': {'px': 513,\n",
      "                               'py': 514,\n",
      "                               'sx': 309,\n",
      "                               'sy': 608},\n",
      "            'image_size': {'height': 1024,\n",
      "                           'width': 1024},\n",
      "            'name': 'zoo_0'},\n",
      " 'name': 'zoo_0',\n",
      " 'scoreType': 'model_fitness_score',\n",
      " 'simArg': {'nPts': '100k',\n",
      "            'name': '100k'}}\n"
     ]
    },
    {
     "data": {
      "text/plain": [
       "Text(0.5, 1.0, 'Starting Target Image')"
      ]
     },
     "execution_count": 3,
     "metadata": {},
     "output_type": "execute_result"
    },
    {
     "data": {
      "image/png": "[encoded data removed]",
      "text/plain": [
       "<Figure size 432x288 with 1 Axes>"
      ]
     },
     "metadata": {
      "needs_background": "light"
     },
     "output_type": "display_data"
    }
   ],
   "source": [
    "# Change image name if you want to grab a different image parameter\n",
    "old_name = 'zoo_0'\n",
    "old_params = tInfo.getImageParams(  )\n",
    "old_param = old_params[old_name]\n",
    "\n",
    "# This image parameter should have the correct size and pixel centers\n",
    "gm.pprint( old_param )\n",
    "\n",
    "#tInfo.addImageParams( old_param, overWrite = True )\n",
    "\n",
    "# Get target image for \n",
    "target_image = tInfo.getTargetImage(old_name)\n",
    "plt.imshow(target_image,cmap='gray')\n",
    "plt.title(\"Starting Target Image\")\n",
    "\n"
   ]
  },
  {
   "cell_type": "markdown",
   "id": "distributed-electron",
   "metadata": {},
   "source": [
    "___\n",
    "## Step 4: Create a new image parameter\n"
   ]
  },
  {
   "cell_type": "code",
   "execution_count": 4,
   "id": "widespread-haiti",
   "metadata": {},
   "outputs": [
    {
     "name": "stdout",
     "output_type": "stream",
     "text": [
      "{'zoo_test': {'cmpArg': {'direct_compare_function': 'absolute_difference',\n",
      "                         'targetName': 'zoo_test',\n",
      "                         'targetType': 'target_image',\n",
      "                         'type': 'direct_image_comparison'},\n",
      "              'comment': 'Starting '\n",
      "                         'score '\n",
      "                         'parameters '\n",
      "                         'file for '\n",
      "                         '587722984435351614',\n",
      "              'imgArg': {'blur': {'size': 5,\n",
      "                                  'type': 'gaussian_blur',\n",
      "                                  'weight': 1.5},\n",
      "                         'comment': 'Demonstrating '\n",
      "                                    'how '\n",
      "                                    'to '\n",
      "                                    'create '\n",
      "                                    'a '\n",
      "                                    'new '\n",
      "                                    'image '\n",
      "                                    'parameter',\n",
      "                         'galaxy_centers': {'px': 100,\n",
      "                                            'py': 100,\n",
      "                                            'sx': 200,\n",
      "                                            'sy': 100},\n",
      "                         'image_size': {'height': 200,\n",
      "                                        'width': 300},\n",
      "                         'name': 'zoo_test',\n",
      "                         'normalization': {'norm_constant': 2.5,\n",
      "                                           'type': 'type1'},\n",
      "                         'radial_const': [2.5,\n",
      "                                          1.5]},\n",
      "              'name': 'zoo_test',\n",
      "              'scoreType': 'model_fitness_score',\n",
      "              'simArg': {'nPts': '100k',\n",
      "                         'name': '100k'}}}\n"
     ]
    }
   ],
   "source": [
    "# Create a blank group score parameter and copy starting parameters\n",
    "newName = 'zoo_test'\n",
    "new_params = {}\n",
    "new_params[newName] = deepcopy( old_param )\n",
    "\n",
    "# ALWAYS modify the names\n",
    "new_params[newName]['name'] = newName\n",
    "new_params[newName]['imgArg']['name'] = newName\n",
    "\n",
    "# Leave a comment if its for a specific experiment\n",
    "cmt = 'Demonstrating how to create a new image parameter'\n",
    "new_params[newName]['imgArg']['comment'] = cmt\n",
    "\n",
    "# If you want to resize the image\n",
    "new_params[newName]['imgArg']['image_size']['width'] = 300\n",
    "new_params[newName]['imgArg']['image_size']['height'] = 200\n",
    "\n",
    "# If you want to change the galaxy centers\n",
    "# Primary Galaxy\n",
    "new_params[newName]['imgArg']['galaxy_centers']['px'] = 100\n",
    "new_params[newName]['imgArg']['galaxy_centers']['py'] = 100\n",
    "# Secondary Galaxy\n",
    "new_params[newName]['imgArg']['galaxy_centers']['sx'] = 200\n",
    "new_params[newName]['imgArg']['galaxy_centers']['sy'] = 100\n",
    "# NOTE!: If image size and/or galaxy centers are modified,\n",
    "#        you'll need to create a new target image to match.\n",
    "new_params[newName]['cmpArg']['targetName'] = newName\n",
    "\n",
    "# If you want to modify the image blurring affect\n",
    "new_params[newName]['imgArg']['blur'] = {}\n",
    "new_params[newName]['imgArg']['blur']['type'] = 'gaussian_blur'\n",
    "new_params[newName]['imgArg']['blur']['size'] = 5\n",
    "new_params[newName]['imgArg']['blur']['weight'] = 1.5\n",
    "\n",
    "# If you want to modify the radial brightness constant\n",
    "pc = 2.5    # primary galaxy\n",
    "sc = 1.5     #secondary galaxy\n",
    "new_params[newName]['imgArg']['radial_const'] = [ pc, sc ]\n",
    "\n",
    "# If you want to modify the final image brightness normalization\n",
    "new_params[newName]['imgArg']['normalization'] = {}\n",
    "new_params[newName]['imgArg']['normalization']['type'] = 'type1'\n",
    "new_params[newName]['imgArg']['normalization']['norm_constant'] = 2.5\n",
    "gm.pprint(new_params)"
   ]
  },
  {
   "cell_type": "markdown",
   "id": "married-editing",
   "metadata": {},
   "source": [
    "___\n",
    "## Step 4.1\n",
    "### Create a new target Image\n",
    "If the size and centers were modified, then create a new target image to match the size and centers\n"
   ]
  },
  {
   "cell_type": "code",
   "execution_count": 5,
   "id": "initial-valuation",
   "metadata": {},
   "outputs": [
    {
     "data": {
      "image/png": "[encoded data removed]",
      "text/plain": [
       "<Figure size 432x288 with 1 Axes>"
      ]
     },
     "metadata": {
      "needs_background": "light"
     },
     "output_type": "display_data"
    }
   ],
   "source": [
    "# Function in Image Creator that modifes\n",
    "# exsiting target images to match new image\n",
    "\n",
    "# Create and return new target image\n",
    "tImg = ic.adjustTargetImage( tInfo, new_params[newName], overWrite=True )\n",
    "\n",
    "if type(tImg) != type(None):\n",
    "    plt.imshow( tImg, cmap='gray')\n",
    "\n",
    "else:\n",
    "    print(\"WARNING!  Target image not found\")"
   ]
  },
  {
   "cell_type": "code",
   "execution_count": 6,
   "id": "handy-antarctica",
   "metadata": {},
   "outputs": [
    {
     "data": {
      "image/png": "[encoded data removed]",
      "text/plain": [
       "<Figure size 432x288 with 1 Axes>"
      ]
     },
     "metadata": {
      "needs_background": "light"
     },
     "output_type": "display_data"
    }
   ],
   "source": [
    "# Double check you can retrieve image later on. \n",
    "tImg2 = tInfo.getTargetImage( newName )\n",
    "if type(tImg2) != type(None):\n",
    "    plt.imshow( tImg2, cmap='gray')"
   ]
  },
  {
   "cell_type": "code",
   "execution_count": 7,
   "id": "separate-diabetes",
   "metadata": {},
   "outputs": [
    {
     "name": "stdout",
     "output_type": "stream",
     "text": [
      "(200, 300)\n",
      "(200, 300)\n"
     ]
    }
   ],
   "source": [
    "print(tImg.shape)\n",
    "rImg = rInfo.getModelImage(newName)\n",
    "print(rImg.shape)"
   ]
  },
  {
   "cell_type": "markdown",
   "id": "nominated-studio",
   "metadata": {},
   "source": [
    "___\n",
    "## Step 5\n",
    "### Test if SIMR pipeline can create the new model image!"
   ]
  },
  {
   "cell_type": "code",
   "execution_count": 8,
   "id": "round-mortgage",
   "metadata": {},
   "outputs": [
    {
     "name": "stdout",
     "output_type": "stream",
     "text": [
      "Run 'run_0000' Good!\n",
      "True\n"
     ]
    },
    {
     "ename": "TypeError",
     "evalue": "simr_run() got an unexpected keyword argument 'arg'",
     "output_type": "error",
     "traceback": [
      "\u001b[0;31m---------------------------------------------------------------------------\u001b[0m",
      "\u001b[0;31mTypeError\u001b[0m                                 Traceback (most recent call last)",
      "\u001b[0;32m<ipython-input-8-728b2109ed7e>\u001b[0m in \u001b[0;36m<module>\u001b[0;34m\u001b[0m\n\u001b[1;32m     18\u001b[0m \u001b[0;34m\u001b[0m\u001b[0m\n\u001b[1;32m     19\u001b[0m \u001b[0;31m# Run through simr image creation\u001b[0m\u001b[0;34m\u001b[0m\u001b[0;34m\u001b[0m\u001b[0;34m\u001b[0m\u001b[0m\n\u001b[0;32m---> 20\u001b[0;31m \u001b[0msimr\u001b[0m\u001b[0;34m.\u001b[0m\u001b[0msimr_run\u001b[0m\u001b[0;34m(\u001b[0m \u001b[0mrInfo\u001b[0m\u001b[0;34m=\u001b[0m\u001b[0mrInfo\u001b[0m\u001b[0;34m,\u001b[0m \u001b[0marg\u001b[0m \u001b[0;34m=\u001b[0m \u001b[0mnewImgArg\u001b[0m \u001b[0;34m)\u001b[0m\u001b[0;34m\u001b[0m\u001b[0;34m\u001b[0m\u001b[0m\n\u001b[0m\u001b[1;32m     21\u001b[0m \u001b[0mrInfo\u001b[0m\u001b[0;34m.\u001b[0m\u001b[0mprintScores\u001b[0m\u001b[0;34m(\u001b[0m\u001b[0mallScores\u001b[0m\u001b[0;34m=\u001b[0m\u001b[0;32mTrue\u001b[0m\u001b[0;34m)\u001b[0m\u001b[0;34m\u001b[0m\u001b[0;34m\u001b[0m\u001b[0m\n",
      "\u001b[0;31mTypeError\u001b[0m: simr_run() got an unexpected keyword argument 'arg'"
     ]
    }
   ],
   "source": [
    "\n",
    "# Get run info class\n",
    "rInfo = tInfo.getRunInfo( rID='r00000' )\n",
    "\n",
    "if rInfo.status == False:\n",
    "    print(\"WARNING\")\n",
    "else:\n",
    "    print(\"Run '%s' Good!\"%rInfo.get('run_id'))\n",
    "    print(rInfo.get('tInfo').status)\n",
    "\n",
    "# Define arguments for executing simr\n",
    "newImgArg = gm.inArgClass( )\n",
    "newImgArg.setArg( 'rInfo', rInfo )  # Give rInfo\n",
    "newImgArg.setArg( 'scoreParams', new_params )  # Give new parameter\n",
    "newImgArg.setArg( 'printAll', False )  # Print all if you need to troubleshoot\n",
    "newImgArg.setArg( 'newImage', True )  # Make true if you want new image\n",
    "newImgArg.setArg( 'newScore', True )  # Make sure it can create a new score as well.\n",
    "newImgArg.setArg( 'overWrite', True )  # Make true if you need to overwrite\n",
    "\n",
    "# Run through simr image creation\n",
    "simr.simr_run( rInfo=rInfo, arg = newImgArg )\n",
    "rInfo.printScores(allScores=True)"
   ]
  },
  {
   "cell_type": "markdown",
   "id": "detailed-service",
   "metadata": {},
   "source": [
    "___\n",
    "## Step 5.1\n",
    "### View results for the new Model Image!"
   ]
  },
  {
   "cell_type": "code",
   "execution_count": null,
   "id": "convinced-matrix",
   "metadata": {
    "tags": []
   },
   "outputs": [],
   "source": [
    "# View new model image next to target image\n",
    "mImg = rInfo.getModelImage( newName )\n",
    "\n",
    "fig, ax = plt.subplots(2,2,figsize=(8,8))\n",
    "\n",
    "ax[0,0].set_title(\"Old Target Image\")\n",
    "ax[0,0].imshow( tInfo.getTargetImage(old_param['cmpArg']['targetName']), cmap='gray' )\n",
    "\n",
    "ax[0,1].set_title(\"Old Model Image\")\n",
    "ax[0,1].imshow( rInfo.getModelImage( old_param['imgArg']['name'] ), cmap='gray' )\n",
    "\n",
    "ax[1,0].set_title(\"New Target Image\")\n",
    "ax[1,0].imshow(tImg,cmap='gray')\n",
    "\n",
    "ax[1,1].set_title(\"New Model Image\")\n",
    "ax[1,1].imshow(mImg,cmap='gray')"
   ]
  },
  {
   "cell_type": "markdown",
   "id": "available-biography",
   "metadata": {},
   "source": [
    "___\n",
    "## Step 6\n",
    "### Save your new image parameters!"
   ]
  },
  {
   "cell_type": "code",
   "execution_count": null,
   "id": "opening-brush",
   "metadata": {},
   "outputs": [],
   "source": [
    "# Add to target image repository\n",
    "tInfo.addImageParams( new_params )\n",
    "\n",
    "# Or save to a location of your choosing\n",
    "tInfoLoc = tInfo.get(\"infoDir\")\n",
    "imgParamLoc = '../param/' + 'param_zoo_test.json'\n",
    "gm.saveJson( new_params, imgParamLoc )"
   ]
  },
  {
   "cell_type": "markdown",
   "id": "opposite-emergency",
   "metadata": {},
   "source": [
    "***\n",
    "## Step 7\n",
    "### Go through all models and see if new image improves results!\n",
    "\n",
    "Note!:  This will take several minutes. Consider running in command line instead"
   ]
  },
  {
   "cell_type": "code",
   "execution_count": null,
   "id": "demanding-generation",
   "metadata": {
    "tags": []
   },
   "outputs": [],
   "source": [
    "# Define arguments for executing simr target\n",
    "newScoreArg = gm.inArgClass( )\n",
    "newScoreArg.setArg( 'scoreParams', new_params )  # Give new parameter\n",
    "newScoreArg.setArg( 'printAll', False )  # Print all if you need to troubleshoot\n",
    "newScoreArg.setArg( 'newImage', True )  # Make true if you want new image\n",
    "newScoreArg.setArg( 'newScore', True )  # Make true if you want new image\n",
    "newScoreArg.setArg( 'overWrite', False )  # Make true if you need to overwrite\n",
    "\n",
    "# Run through simr target image and score creation\n",
    "simr.simr_target( tInfo = tInfo, arg = newScoreArg )\n"
   ]
  },
  {
   "cell_type": "code",
   "execution_count": null,
   "id": "little-marketplace",
   "metadata": {},
   "outputs": [],
   "source": [
    "scores = tInfo.getScores()\n",
    "#print(scores.columns)\n",
    "#print(scores['zoo_test'])\n",
    "#fig, ax = plt.subplots(1,2,figsize=(12,12))\n",
    "sa.getNamedPlot(scores, sName='base0_corr' )\n",
    "sa.getNamedPlot( scores, sName=newName )"
   ]
  }
 ],
 "metadata": {
  "kernelspec": {
   "display_name": "Python 3",
   "language": "python",
   "name": "python3"
  },
  "language_info": {
   "codemirror_mode": {
    "name": "ipython",
    "version": 3
   },
   "file_extension": ".py",
   "mimetype": "text/x-python",
   "name": "python",
   "nbconvert_exporter": "python",
   "pygments_lexer": "ipython3",
   "version": "3.8.10"
  }
 },
 "nbformat": 4,
 "nbformat_minor": 5
}
