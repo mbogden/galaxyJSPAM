{
 "cells": [
  {
   "cell_type": "markdown",
   "id": "immune-needle",
   "metadata": {},
   "source": [
    "# For modifying and testing new image creation\n",
    "\n",
    "Hello!  This in Matt's quick tutorial on how to create new model images\n",
    "## Step 1\n",
    "### Load nessecary modules"
   ]
  },
  {
   "cell_type": "code",
   "execution_count": 1,
   "id": "canadian-spine",
   "metadata": {},
   "outputs": [
    {
     "name": "stdout",
     "output_type": "stream",
     "text": [
      "SIMR: Hi!  You're in Matthew's main program for all things galaxy collisions\n",
      "GM: Hi!  You're in Matthew's module for generally useful functions and classes\n",
      "IM: Hi!  You're in Matthew's information module for SPAM\n",
      "IC: Hi!  You're in Matthew's main code for all things image creation.\n",
      "MS: Hi!  You're in Matthew's SIMR module for all things machine scoring images\n",
      "DC: Hi!  You're in direct_image_compare.py\n",
      "SA: Hi!  You're in Matthew's Main program for score analysis!\n"
     ]
    }
   ],
   "source": [
    "# Add python modules\n",
    "import numpy as np\n",
    "import os\n",
    "import cv2\n",
    "import matplotlib.pyplot as plt\n",
    "from copy import deepcopy\n",
    "# Add parent directory for custom modules\n",
    "from sys import path as sysPath\n",
    "sysPath.append('../')\n",
    "sysPath.append('../Machine_Score/')\n",
    "\n",
    "# Load custom modules that simr has loaded\n",
    "import main_SIMR as simr\n",
    "gm = simr.gm\n",
    "im = simr.im\n",
    "ic = simr.ic\n",
    "ms = simr.ms\n",
    "sa = simr.sa\n",
    "dc = simr.ms.dc\n",
    "\n",
    "simr.test()\n",
    "gm.test()\n",
    "im.test()\n",
    "ic.test()\n",
    "ms.test()\n",
    "dc.test()\n",
    "sa.test()"
   ]
  },
  {
   "cell_type": "markdown",
   "id": "gorgeous-bicycle",
   "metadata": {},
   "source": [
    "___\n",
    "## Step 2\n",
    "### Load Target Info class\n",
    "Needed for loading the target image and running through models later."
   ]
  },
  {
   "cell_type": "code",
   "execution_count": 2,
   "id": "spread-jordan",
   "metadata": {},
   "outputs": [
    {
     "name": "stdout",
     "output_type": "stream",
     "text": [
      "Target Good!\n"
     ]
    }
   ],
   "source": [
    "tDir = '../targetDir/'\n",
    "tDir = gm.validPath(tDir)\n",
    "\n",
    "tInfo = im.target_info_class( targetDir = tDir, printAll=False)\n",
    "if tInfo.status == False:\n",
    "    print(\"WARNING: target info class bad\")\n",
    "else:\n",
    "    print(\"Target Good!\")\n"
   ]
  },
  {
   "cell_type": "code",
   "execution_count": 3,
   "id": "effe4ca3-40ef-4be2-9131-5063a4ae8cba",
   "metadata": {},
   "outputs": [
    {
     "name": "stdout",
     "output_type": "stream",
     "text": [
      "Run 'run_0000' Good!\n"
     ]
    }
   ],
   "source": [
    "\n",
    "# Get run info class\n",
    "rInfo = tInfo.getRunInfo( )\n",
    "\n",
    "if rInfo.status == False:\n",
    "    print(\"WARNING\")\n",
    "else:\n",
    "    print(\"Run '%s' Good!\"%rInfo.get('run_id'))"
   ]
  },
  {
   "cell_type": "markdown",
   "id": "invalid-diabetes",
   "metadata": {},
   "source": [
    "___\n",
    "## Step 3\n",
    "### Load a starting image and image parameter for target\n",
    "Loading a previous image allows you to start with the correct image size and pixel centers for an associated target image."
   ]
  },
  {
   "cell_type": "code",
   "execution_count": 5,
   "id": "ranging-palace",
   "metadata": {},
   "outputs": [
    {
     "name": "stdout",
     "output_type": "stream",
     "text": [
      "{'cmpArg': {'direct_compare_function': 'absolute_difference',\n",
      "            'targetName': 'zoo_0',\n",
      "            'targetType': 'target_image',\n",
      "            'type': 'direct_image_comparison'},\n",
      " 'comment': 'Starting score parameters '\n",
      "            'file for '\n",
      "            '587722984435351614',\n",
      " 'imgArg': {'comment': 'Starting image '\n",
      "                       'parameters for '\n",
      "                       '587722984435351614',\n",
      "            'galaxy_centers': {'px': 513,\n",
      "                               'py': 514,\n",
      "                               'sx': 309,\n",
      "                               'sy': 608},\n",
      "            'image_size': {'height': 1024,\n",
      "                           'width': 1024},\n",
      "            'name': 'zoo_0'},\n",
      " 'name': 'zoo_0',\n",
      " 'scoreType': 'model_fitness_score',\n",
      " 'simArg': {'nPts': '100k',\n",
      "            'name': '100k'}}\n"
     ]
    },
    {
     "data": {
      "text/plain": [
       "Text(0.5, 1.0, 'Starting Target Image')"
      ]
     },
     "execution_count": 5,
     "metadata": {},
     "output_type": "execute_result"
    },
    {
     "data": {
      "image/png": "[encoded data removed]",
      "text/plain": [
       "<Figure size 432x288 with 1 Axes>"
      ]
     },
     "metadata": {
      "needs_background": "light"
     },
     "output_type": "display_data"
    }
   ],
   "source": [
    "# Change image name if you want to grab a different image parameter\n",
    "old_name = 'zoo_0'\n",
    "old_params = tInfo.getImageParams(  )\n",
    "old_param = old_params[old_name]\n",
    "\n",
    "# This image parameter should have the correct size and pixel centers\n",
    "gm.pprint( old_param )\n",
    "\n",
    "#tInfo.addImageParams( old_param, overWrite = True )\n",
    "\n",
    "# Get target image for \n",
    "target_image = tInfo.getTargetImage(old_name)\n",
    "plt.imshow(target_image,cmap='gray')\n",
    "plt.title(\"Starting Target Image\")"
   ]
  },
  {
   "cell_type": "code",
   "execution_count": 6,
   "id": "3bf3941a-0f24-4cfd-9b40-2e665e2cfc88",
   "metadata": {},
   "outputs": [
    {
     "name": "stdout",
     "output_type": "stream",
     "text": [
      "13.770964 13.902212\n",
      "/home/jovyan/galStuff/old-spam-data_2022-10/587722984435351614/information/target.pair\n"
     ]
    }
   ],
   "source": [
    "# Get targets differing luminosities. \n",
    "os.listdir( tInfo.get('infoDir') )\n",
    "pairLoc = gm.validPath( tInfo.get('infoDir') + 'target.pair' )\n",
    "\n",
    "pFile = open( pairLoc )\n",
    "m1 = 0\n",
    "m2 = 0\n",
    "\n",
    "for l in pFile:\n",
    "    l = l.strip()\n",
    "    \n",
    "    if \"primaryMagnitude\" in l:\n",
    "        m1 = float( l.split('=')[1] )\n",
    "        \n",
    "    elif \"secondaryMagnitude\" in l:\n",
    "        m2 = float( l.split('=')[1] )\n",
    "    \n",
    "print( m1, m2 )\n",
    "print( pairLoc )"
   ]
  },
  {
   "cell_type": "markdown",
   "id": "distributed-electron",
   "metadata": {},
   "source": [
    "___\n",
    "## Step 4: Create a new image parameter\n"
   ]
  },
  {
   "cell_type": "code",
   "execution_count": 7,
   "id": "widespread-haiti",
   "metadata": {},
   "outputs": [
    {
     "name": "stdout",
     "output_type": "stream",
     "text": [
      "{'dl-s1-0': {'cmpArg': {'direct_compare_function': 'absolute_difference',\n",
      "                        'targetName': 'dl-s1-0',\n",
      "                        'targetType': 'target_image',\n",
      "                        'type': 'direct_image_comparison'},\n",
      "             'comment': 'Starting score '\n",
      "                        'parameters '\n",
      "                        'file for '\n",
      "                        '587722984435351614',\n",
      "             'imgArg': {'blur': {'size': 5,\n",
      "                                 'type': 'gaussian_blur',\n",
      "                                 'weight': 0.75},\n",
      "                        'comment': 'Data '\n",
      "                                   'Generation '\n",
      "                                   'for '\n",
      "                                   'Deep '\n",
      "                                   'Learning '\n",
      "                                   'Project '\n",
      "                                   'Stage '\n",
      "                                   '1.',\n",
      "                        'image_size': {'height': 128,\n",
      "                                       'width': 128},\n",
      "                        'name': 'dl-s1-0',\n",
      "                        'normalization': {'norm_constant': 2.5,\n",
      "                                          'type': 'type1'},\n",
      "                        'radial_const': [1,\n",
      "                                         1],\n",
      "                        'target_resize': True},\n",
      "             'name': 'dl-s1-0',\n",
      "             'scoreType': 'model_fitness_score',\n",
      "             'simArg': {'nPts': 4000,\n",
      "                        'name': '4k-r',\n",
      "                        'ratio': 1.0095307779469906}}}\n"
     ]
    }
   ],
   "source": [
    "# Create a blank group score parameter and copy starting parameters\n",
    "newName = 'dl-s1-0'\n",
    "new_params = {}\n",
    "new_params[newName] = deepcopy( old_param )\n",
    "\n",
    "# ALWAYS modify the names\n",
    "new_params[newName]['name'] = newName\n",
    "new_params[newName]['imgArg']['name'] = newName\n",
    "\n",
    "# Leave a comment if its for a specific experiment\n",
    "cmt = 'Data Generation for Deep Learning Project Stage 1.'\n",
    "new_params[newName]['imgArg']['comment'] = cmt\n",
    "\n",
    "# Change particle countnew_params[newName]['imgArg']['image_size']['width'] = 50\n",
    "new_params[newName]['simArg'] = {'nPts': 4000,\n",
    "                                'name': '4k-r',\n",
    "                                'ratio': m2/m1 }\n",
    "\n",
    "# If you want to resize the image\n",
    "new_params[newName]['imgArg']['image_size']['width'] = 128\n",
    "new_params[newName]['imgArg']['image_size']['height'] = 128\n",
    "\n",
    "# For resizing image\n",
    "new_params[newName]['imgArg'].pop('galaxy_centers')\n",
    "new_params[newName]['imgArg']['target_resize'] = True\n",
    "\n",
    "# If you want to modify the image blurring affect\n",
    "new_params[newName]['imgArg']['blur'] = {}\n",
    "new_params[newName]['imgArg']['blur']['type'] = 'gaussian_blur'\n",
    "new_params[newName]['imgArg']['blur']['size'] = 5\n",
    "new_params[newName]['imgArg']['blur']['weight'] = 0.75\n",
    "\n",
    "# If you want to modify the radial brightness constant\n",
    "new_params[newName]['imgArg']['radial_const'] = [ 1, 1 ]\n",
    "\n",
    "# If you want to modify the final image brightness normalization\n",
    "new_params[newName]['imgArg']['normalization'] = {}\n",
    "new_params[newName]['imgArg']['normalization']['type'] = 'type1'\n",
    "new_params[newName]['imgArg']['normalization']['norm_constant'] = 2.5\n",
    "\n",
    "# Make sure scoring methods know to point to new image\n",
    "new_params[newName]['cmpArg']['targetName'] = newName\n",
    "gm.pprint(new_params)\n"
   ]
  },
  {
   "cell_type": "markdown",
   "id": "married-editing",
   "metadata": {},
   "source": [
    "___\n",
    "## Step 4.1\n",
    "### Create a new target Image\n",
    "If the size and centers were modified, then create a new target image to match the size and centers\n"
   ]
  },
  {
   "cell_type": "code",
   "execution_count": 8,
   "id": "initial-valuation",
   "metadata": {},
   "outputs": [
    {
     "name": "stdout",
     "output_type": "stream",
     "text": [
      "\n",
      "IC.adjustTargetImage:\n",
      "\t - From: zoo_0\n",
      "\t - To  : dl-s1-0\n",
      "\t - Creating new galaxy centers: \n",
      "\t - From: ( 513 , 514 ) ; ( 309 , 608 )\n",
      "\t -   To: (  64 ,  64 ) ; (  39 ,  76 )\n",
      "\t - From points:\n",
      "[[513. 514.]\n",
      " [309. 608.]\n",
      " [607. 718.]]\n",
      "\t - To points:\n",
      "[[64. 64.]\n",
      " [39. 76.]\n",
      " [76. 89.]]\n",
      "\t - Warp Matrix\n",
      "[[ 0.12344407  0.00194244 -0.32522001]\n",
      " [-0.00194244  0.12344407  1.54622215]]\n",
      "\t - Writing to loc: /home/jovyan/galStuff/old-spam-data_2022-10/587722984435351614/information/target_images/target_dl-s1-0.png\n",
      "\t - File should exist: /home/jovyan/galStuff/old-spam-data_2022-10/587722984435351614/information/target_images/target_dl-s1-0.png\n",
      "<class 'numpy.ndarray'>\n",
      "[[0. 0. 0. ... 0. 0. 0.]\n",
      " [0. 0. 0. ... 0. 0. 0.]\n",
      " [0. 0. 0. ... 0. 0. 0.]\n",
      " ...\n",
      " [0. 0. 0. ... 0. 0. 0.]\n",
      " [0. 0. 0. ... 0. 0. 0.]\n",
      " [0. 0. 0. ... 0. 0. 0.]]\n"
     ]
    },
    {
     "data": {
      "image/png": "[encoded data removed]",
      "text/plain": [
       "<Figure size 432x288 with 1 Axes>"
      ]
     },
     "metadata": {
      "needs_background": "light"
     },
     "output_type": "display_data"
    }
   ],
   "source": [
    "# Function in Image Creator that modifes\n",
    "# exsiting target images to match new image\n",
    "\n",
    "# Create and return new target image\n",
    "n, tImg = ic.adjustTargetImage( tInfo, new_params[newName], overWrite=True, printAll = True )\n",
    "print( type( tImg ) )\n",
    "print( tImg )\n",
    "\n",
    "if type(tImg) != type(None):\n",
    "    plt.imshow( tImg, cmap='gray')\n",
    "\n",
    "else:\n",
    "    print(\"WARNING!  Target image not found\")"
   ]
  },
  {
   "cell_type": "markdown",
   "id": "nominated-studio",
   "metadata": {},
   "source": [
    "___\n",
    "## Step 5\n",
    "### Test if SIMR pipeline can create the new model image!"
   ]
  },
  {
   "cell_type": "code",
   "execution_count": 10,
   "id": "round-mortgage",
   "metadata": {},
   "outputs": [
    {
     "name": "stdout",
     "output_type": "stream",
     "text": [
      "SIMR.run_new_score: \n",
      "\t - rDir: None\n",
      "\t - rInfo: <class 'Support_Code.info_module.run_info_class'>\n",
      "SIMR.run_new_score: \n",
      "\t - rInfo:  <Support_Code.info_module.run_info_class object at 0x7f302ffbc160>\n",
      "\t - runID: run_0000\n",
      "SM.main_sm_run:\n",
      "\t - Run ID: run_0000\n",
      "\t - rInfo status: True\n",
      "\t - Simulations to run: 1\n",
      "\n",
      "SM.new_simulation:\n",
      "\t - New Simulation Name: 4k-r\n",
      "IC: image_creator_run\n",
      "\t - printAll\n",
      "IC: given parameters: 1\n",
      "IC:  dl-s1-0\n",
      "IC: Creating image:\n",
      "\t - runId: run_0000\n",
      "\t - score: dl-s1-0\n",
      "IC: Image 'dl-s1-0' already made for run_0000\n",
      "\t - Creating image from points\n",
      "\t - Saving model image at: /home/jovyan/galStuff/old-spam-data_2022-10/587722984435351614/zoo_merger_models/run_0000/model_images/dl-s1-0_model.png\n",
      "\t - Saving unperturbed at: /home/jovyan/galStuff/old-spam-data_2022-10/587722984435351614/zoo_merger_models/run_0000/misc_images/dl-s1-0_init.png\n",
      "IC_LOOP:    1 /    1: COMPLETE\n",
      "MS: Run:\n",
      "MS: scoreName: dl-s1-0\n",
      "MS: target_compare_setup: dl-s1-0\n",
      "\t -  paramName: dl-s1-0\n",
      "\t -  modelName: dl-s1-0\n",
      "\t - targetName: dl-s1-0\n",
      "\t - Read target image\n",
      "\t - Read model image\n",
      "MS: New Score!: dl-s1-0 - 0.992519 - 0.992519\n",
      "IM: run_info_class.printScores()\n",
      "\t - run_id: run_0000\n",
      "\t - zoo_merger: 0.9459459459459459\n",
      "\t - machine_scores: 1\n",
      "\t - dl-s1-0: 0.992519\n"
     ]
    }
   ],
   "source": [
    "\n",
    "# Get run info class\n",
    "\n",
    "# Define arguments for executing simr\n",
    "newImgArg = gm.inArgClass( )\n",
    "newImgArg.setArg( 'rInfo', rInfo )  # Give rInfo\n",
    "newImgArg.setArg( 'scoreParams', new_params )  # Give new parameter\n",
    "newImgArg.setArg( 'printAll', True )  # Print all if you need to troubleshoot\n",
    "newImgArg.setArg( 'newSim', True )  # Make true if you want new image\n",
    "newImgArg.setArg( 'newImage', True )  # Make true if you want new image\n",
    "newImgArg.setArg( 'newScore', True )  # Make sure it can create a new score as well.\n",
    "newImgArg.setArg( 'overWrite', True )  # Make true if you need to overwrite\n",
    "\n",
    "# Run through simr image creation\n",
    "simr.run_new_score( rInfo=rInfo, cmdArg = newImgArg )\n",
    "rInfo.printScores(allScores=True)"
   ]
  },
  {
   "cell_type": "markdown",
   "id": "detailed-service",
   "metadata": {},
   "source": [
    "___\n",
    "## Step 5.1\n",
    "### View results for the new Model Image!"
   ]
  },
  {
   "cell_type": "code",
   "execution_count": 12,
   "id": "convinced-matrix",
   "metadata": {
    "tags": []
   },
   "outputs": [
    {
     "data": {
      "text/plain": [
       "<matplotlib.image.AxesImage at 0x7f2fa91e55d0>"
      ]
     },
     "execution_count": 12,
     "metadata": {},
     "output_type": "execute_result"
    },
    {
     "data": {
      "image/png": "[encoded data removed]",
      "text/plain": [
       "<Figure size 576x576 with 4 Axes>"
      ]
     },
     "metadata": {
      "needs_background": "light"
     },
     "output_type": "display_data"
    }
   ],
   "source": [
    "# View new model image next to target image\n",
    "mImg = rInfo.getModelImage( newName )\n",
    "\n",
    "fig, ax = plt.subplots(2,2,figsize=(8,8))\n",
    "\n",
    "ax[0,0].set_title(\"Old Target Image\")\n",
    "ax[0,0].imshow( tInfo.getTargetImage(old_param['cmpArg']['targetName']), cmap='gray' )\n",
    "\n",
    "#ax[0,1].set_title(\"Old Model Image\")\n",
    "#ax[0,1].imshow( rInfo.getModelImage( old_param['imgArg']['name'] ), cmap='gray' )\n",
    "\n",
    "ax[1,0].set_title(\"New Target Image\")\n",
    "ax[1,0].imshow(tImg,cmap='gray')\n",
    "\n",
    "ax[1,1].set_title(\"New Model Image\")\n",
    "ax[1,1].imshow(mImg,cmap='gray')"
   ]
  },
  {
   "cell_type": "markdown",
   "id": "available-biography",
   "metadata": {},
   "source": [
    "___\n",
    "## Step 6\n",
    "### Save your new image parameters!"
   ]
  },
  {
   "cell_type": "code",
   "execution_count": 16,
   "id": "opening-brush",
   "metadata": {},
   "outputs": [],
   "source": [
    "# Add to target image repository\n",
    "tInfo.addImageParams( new_params )\n",
    "\n",
    "tInfo.addScoreParameters( new_params )\n",
    "tInfo.saveInfoFile()\n",
    "\n",
    "# Or save to a location of your choosing\n",
    "tInfoLoc = tInfo.get(\"infoDir\")\n",
    "imgParamLoc = '../param/' + 'param_zoo_test.json'\n",
    "# gm.saveJson( new_params, imgParamLoc )"
   ]
  },
  {
   "cell_type": "code",
   "execution_count": null,
   "id": "1ae99afc-d5dc-4c83-a666-94ef52e47d62",
   "metadata": {},
   "outputs": [],
   "source": []
  }
 ],
 "metadata": {
  "kernelspec": {
   "display_name": "Python 3 (ipykernel)",
   "language": "python",
   "name": "python3"
  },
  "language_info": {
   "codemirror_mode": {
    "name": "ipython",
    "version": 3
   },
   "file_extension": ".py",
   "mimetype": "text/x-python",
   "name": "python",
   "nbconvert_exporter": "python",
   "pygments_lexer": "ipython3",
   "version": "3.10.5"
  }
 },
 "nbformat": 4,
 "nbformat_minor": 5
}
