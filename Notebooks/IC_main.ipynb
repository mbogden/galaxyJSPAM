{
 "cells": [
  {
   "cell_type": "markdown",
   "id": "loving-treat",
   "metadata": {},
   "source": [
    "# For modifying and testing new image creation\n",
    "\n",
    "Hello!  This in Matt's quick tutorial on how to \n",
    "## Step 1: Load nessecary modules"
   ]
  },
  {
   "cell_type": "code",
   "execution_count": 1,
   "id": "brown-biotechnology",
   "metadata": {},
   "outputs": [
    {
     "name": "stdout",
     "output_type": "stream",
     "text": [
      "SIMR: Hi!  You're in Matthew's main program for all things galaxy collisions\n",
      "GM: Hi!  You're in Matthew's module for generally useful functions and classes\n",
      "IM: Hi!  You're in Matthew Ogden's information module for SPAM\n",
      "IC: Hi!  You're in Matthew's main code for all things image creation.\n",
      "MS: Hi!  You're in Matthew's SIMR module for all things machine scoring images\n",
      "DC: Hi!  You're in direct_image_compare.py\n",
      "SA: Hi!  You're in Matthew's Main program for score analysis!\n"
     ]
    }
   ],
   "source": [
    "# Add python modules\n",
    "import numpy as np\n",
    "import cv2\n",
    "import matplotlib.pyplot as plt\n",
    "\n",
    "# Add parent directory for custom modules\n",
    "from sys import path as sysPath\n",
    "sysPath.append('../')\n",
    "sysPath.append('../Machine_Score/')\n",
    "\n",
    "# Load custom modules that simr has loaded\n",
    "import main_SIMR as simr\n",
    "gm = simr.gm\n",
    "im = simr.im\n",
    "ic = simr.ic\n",
    "ms = simr.ms\n",
    "sa = simr.sa\n",
    "dc = simr.ms.dc\n",
    "\n",
    "simr.test()\n",
    "gm.test()\n",
    "im.test()\n",
    "ic.test()\n",
    "ms.test()\n",
    "dc.test()\n",
    "sa.test()"
   ]
  },
  {
   "cell_type": "markdown",
   "id": "great-rouge",
   "metadata": {},
   "source": [
    "___\n",
    "## Step 2: Load Target Info class\n",
    "Needed for loading the target image and running through models later."
   ]
  },
  {
   "cell_type": "code",
   "execution_count": 2,
   "id": "lonely-blend",
   "metadata": {},
   "outputs": [
    {
     "name": "stdout",
     "output_type": "stream",
     "text": [
      "Before: '../targetDir' \n",
      "After: '/home/mbo2d/587722984435351614/'\n",
      "IM: target_info_class.__init__:\n",
      "\t - targetDir:  /home/mbo2d/587722984435351614/\n",
      "IM: Target.initTargetDir():\n",
      "\t - targetDir: /home/mbo2d/587722984435351614/\n",
      "\t - targetDir: (True) /home/mbo2d/587722984435351614/\n",
      "\t - infoDir: (True) /home/mbo2d/587722984435351614/information/\n",
      "\t - baseInfoLoc: (True) /home/mbo2d/587722984435351614/information/base_target_info.json\n",
      "\t - allInfoLoc: (True) /home/mbo2d/587722984435351614/information/target_info.json\n",
      "\t - zooMergerDir: (True) /home/mbo2d/587722984435351614/zoo_merger_models/\n",
      "\t - plotDir: (True) /home/mbo2d/587722984435351614/plots/\n",
      "IM: Target: Opening target info json\n",
      "Target Good!\n"
     ]
    }
   ],
   "source": [
    "tDir = '../targetDir'\n",
    "print('Before: \\'%s\\' \\nAfter: \\'%s\\'' % (tDir,gm.validPath(tDir) ))\n",
    "tDir = gm.validPath(tDir)\n",
    "\n",
    "tInfo = im.target_info_class( targetDir = tDir, printAll=True)\n",
    "if tInfo.status == False:\n",
    "    print(\"WARNING\")\n",
    "else:\n",
    "    print(\"Target Good!\")"
   ]
  },
  {
   "cell_type": "markdown",
   "id": "likely-johnston",
   "metadata": {},
   "source": [
    "---\n",
    "## Step 3: Load a run info class.\n",
    "Needed for loading a model image and testing later"
   ]
  },
  {
   "cell_type": "code",
   "execution_count": 3,
   "id": "chinese-yesterday",
   "metadata": {},
   "outputs": [
    {
     "name": "stdout",
     "output_type": "stream",
     "text": [
      "None\n",
      "IM: run_info_class.__init__\n",
      "\t - runDir:  /home/mbo2d/587722984435351614/zoo_merger_models/run_00000/\n",
      "IM: run.initRunDir\n",
      "\t - runDir: /home/mbo2d/587722984435351614/zoo_merger_models/run_00000/\n",
      "\t - runDir: (True) /home/mbo2d/587722984435351614/zoo_merger_models/run_00000/\n",
      "\t - ptsDir: (True) /home/mbo2d/587722984435351614/zoo_merger_models/run_00000/particle_files/\n",
      "\t - imgDir: (True) /home/mbo2d/587722984435351614/zoo_merger_models/run_00000/model_images/\n",
      "\t - miscDir: (True) /home/mbo2d/587722984435351614/zoo_merger_models/run_00000/misc_images/\n",
      "\t - infoLoc: (True) /home/mbo2d/587722984435351614/zoo_merger_models/run_00000/info.json\n",
      "\t - baseLoc: (True) /home/mbo2d/587722984435351614/zoo_merger_models/run_00000/base_info.json\n",
      "\t - Reading Info file.\n",
      "IM: Run.__init__: Initalized: True\n",
      "Run 'r00000' Good!\n",
      "True\n"
     ]
    }
   ],
   "source": [
    "\n",
    "print(tInfo.get('zoo_merger_models').get('00001'))\n",
    "\n",
    "rId = 'r00000'\n",
    "runArg = gm.inArgClass()\n",
    "runArg.setArg(\"printAll\",True)\n",
    "runArg.setArg(\"tInfo\",tInfo)\n",
    "\n",
    "rInfo = tInfo.getRunInfo( rID=rId, rArg = runArg )\n",
    "rInfo.tInfo = tInfo\n",
    "\n",
    "if rInfo.status == False:\n",
    "    print(\"WARNING\")\n",
    "else:\n",
    "    print(\"Run '%s' Good!\"%rInfo.get('run_id'))\n",
    "    print(rInfo.get('tInfo').status)"
   ]
  },
  {
   "cell_type": "code",
   "execution_count": 4,
   "id": "embedded-vault",
   "metadata": {},
   "outputs": [],
   "source": [
    "# If you need to change something in a param json\n",
    "def changeParam():\n",
    "    from copy import deepcopy\n",
    "    pLoc = '../param/start_zoo_image.json'\n",
    "    params = gm.readJson( pLoc )\n",
    "    params['zoo_0'].pop('tgtArg')\n",
    "    params['zoo_0']['targetName'] = 'zoo_0'\n",
    "    params['zoo_0']['scoreType'] = 'target'\n",
    "    gm.pprint(params)\n",
    "\n",
    "    gm.saveJson( params, pLoc )\n"
   ]
  },
  {
   "cell_type": "code",
   "execution_count": 5,
   "id": "following-protein",
   "metadata": {},
   "outputs": [],
   "source": [
    "#im.getTargetInputData(tInfo,printAll=True)"
   ]
  },
  {
   "cell_type": "code",
   "execution_count": 6,
   "id": "fifteen-potential",
   "metadata": {},
   "outputs": [
    {
     "name": "stdout",
     "output_type": "stream",
     "text": [
      "{'zoo_0': {'imgArg': {'comment': 'Basic '\n",
      "                                 'image '\n",
      "                                 'parameter '\n",
      "                                 'file',\n",
      "                      'galaxy_centers': {'px': '513',\n",
      "                                         'py': '514',\n",
      "                                         'sx': '309',\n",
      "                                         'sy': '608'},\n",
      "                      'image_size': {'height': 1024,\n",
      "                                     'width': '1024'},\n",
      "                      'name': 'zoo_0',\n",
      "                      'target_id': '587722984435351614'},\n",
      "           'name': 'zoo_0',\n",
      "           'scoreType': 'target',\n",
      "           'scrArg': {'cmpMethod': 'correlation'},\n",
      "           'simArg': {'nPts': '100k',\n",
      "                      'name': '100k'},\n",
      "           'targetName': 'zoo_0'},\n",
      " 'zoo_0_1': {'imgArg': {'blur': {'size': 7,\n",
      "                                 'type': 'gaussian_blur',\n",
      "                                 'weigth': 2.5},\n",
      "                        'comment': 'Basic '\n",
      "                                   'image '\n",
      "                                   'parameter '\n",
      "                                   'file',\n",
      "                        'galaxy_centers': {'px': '513',\n",
      "                                           'py': '514',\n",
      "                                           'sx': '309',\n",
      "                                           'sy': '608'},\n",
      "                        'image_size': {'height': 1024,\n",
      "                                       'width': '1024'},\n",
      "                        'name': 'zoo_0_1',\n",
      "                        'normalization': {'max_brightness': 50,\n",
      "                                          'norm_constant': 2.5,\n",
      "                                          'type': 'type1'},\n",
      "                        'radial_const': [-0.5,\n",
      "                                         -0.5],\n",
      "                        'target_id': '587722984435351614'},\n",
      "             'name': 'zoo_0_1',\n",
      "             'scoreType': 'target',\n",
      "             'scrArg': {'cmpMethod': 'correlation'},\n",
      "             'simArg': {'nPts': '100k',\n",
      "                        'name': '100k'},\n",
      "             'targetName': 'zoo_0'}}\n"
     ]
    }
   ],
   "source": [
    "# Load param of interest\n",
    "from copy import deepcopy\n",
    "pLoc = tInfo.imgParamLoc\n",
    "params = gm.readJson( pLoc )\n",
    "gm.pprint(params)\n"
   ]
  },
  {
   "cell_type": "code",
   "execution_count": 19,
   "id": "deluxe-gambling",
   "metadata": {},
   "outputs": [
    {
     "name": "stdout",
     "output_type": "stream",
     "text": [
      "{'zoo_2': {'imgArg': {'blur': {'size': 7,\n",
      "                               'type': 'gaussian_blur',\n",
      "                               'weigth': 2.5},\n",
      "                      'comment': 'Cropping '\n",
      "                                 'and '\n",
      "                                 'rotating '\n",
      "                                 'original '\n",
      "                                 'zoo '\n",
      "                                 'file',\n",
      "                      'galaxy_centers': {'px': 200,\n",
      "                                         'py': 175,\n",
      "                                         'sx': 400,\n",
      "                                         'sy': 175},\n",
      "                      'image_size': {'height': 350,\n",
      "                                     'width': 600},\n",
      "                      'name': 'zoo_2',\n",
      "                      'normalization': {'max_brightness': 50,\n",
      "                                        'norm_constant': 2.5,\n",
      "                                        'type': 'type1'},\n",
      "                      'radial_const': [-0.5,\n",
      "                                       -0.5],\n",
      "                      'target_id': '587722984435351614'},\n",
      "           'name': 'zoo_2',\n",
      "           'scoreType': 'target',\n",
      "           'scrArg': {'cmpMethod': 'correlation'},\n",
      "           'simArg': {'nPts': '100k',\n",
      "                      'name': '100k'},\n",
      "           'targetName': 'zoo_2'}}\n"
     ]
    }
   ],
   "source": [
    "# New param!\n",
    "new_param = {}\n",
    "\n",
    "# Copy original for example\n",
    "\n",
    "new_param['zoo_2'] = deepcopy( params['zoo_0_1'] )\n",
    "\n",
    "new_param['zoo_2']['name'] = 'zoo_2'\n",
    "new_param['zoo_2']['targetName'] = 'zoo_2'\n",
    "new_param['zoo_2']['imgArg']['name'] = 'zoo_2'\n",
    "new_param['zoo_2']['imgArg']['comment'] = 'Cropping and rotating original zoo file'\n",
    "new_param['zoo_2']['imgArg']['image_size']['height'] = 350\n",
    "new_param['zoo_2']['imgArg']['image_size']['width'] = 600\n",
    "new_param['zoo_2']['imgArg']['galaxy_centers']['px'] = int(600*1/3)\n",
    "new_param['zoo_2']['imgArg']['galaxy_centers']['sx'] = int(600*2/3)\n",
    "new_param['zoo_2']['imgArg']['galaxy_centers']['py'] = int(350/2)\n",
    "new_param['zoo_2']['imgArg']['galaxy_centers']['sy'] = int(350/2)\n",
    "\n",
    "gm.pprint(new_param)"
   ]
  },
  {
   "cell_type": "code",
   "execution_count": 20,
   "id": "french-financing",
   "metadata": {},
   "outputs": [],
   "source": [
    "#Define new arguments\n",
    "newRunScoreArg = gm.inArgClass( )\n",
    "newRunScoreArg.setArg( 'rInfo', rInfo )\n",
    "newRunScoreArg.setArg( 'scoreParams', new_param )\n",
    "newRunScoreArg.setArg( 'printAll', False )\n",
    "newRunScoreArg.setArg( 'newImage', True )\n",
    "newRunScoreArg.setArg( 'newScore', False )\n",
    "newRunScoreArg.setArg( 'overWrite', True )"
   ]
  },
  {
   "cell_type": "code",
   "execution_count": 21,
   "id": "normal-wings",
   "metadata": {
    "tags": []
   },
   "outputs": [
    {
     "name": "stdout",
     "output_type": "stream",
     "text": [
      "/home/mbo2d/587722984435351614/information/target_zoo_2.png\n",
      "SIMR.pipelineRun: Inputs\n",
      "\t - rDir: None\n",
      "\t - rInfo: <class 'Support_Code.info_module.run_info_class'>\n",
      "SIMR.pipelineRun: \n",
      "\t - rInfo:  <Support_Code.info_module.run_info_class object at 0x7ff2d8f62b20>\n",
      "WARNING: SIMR: run: new Image in development!\n",
      "IC: image_creator_run\n",
      "IC: rInfo.status:  True\n",
      "IM_LOOP:    0 /    1\r"
     ]
    }
   ],
   "source": [
    "\n",
    "ic.adjustTargetImage( tInfo, new_param['zoo_2'] )\n",
    "simr.simr_run( rInfo = rInfo, arg = newRunScoreArg )\n"
   ]
  },
  {
   "cell_type": "code",
   "execution_count": 22,
   "id": "united-impossible",
   "metadata": {},
   "outputs": [
    {
     "data": {
      "text/plain": [
       "<matplotlib.image.AxesImage at 0x7ff281738b20>"
      ]
     },
     "execution_count": 22,
     "metadata": {},
     "output_type": "execute_result"
    },
    {
     "data": {
      "image/png": "[encoded data removed]",
      "text/plain": [
       "<Figure size 864x864 with 6 Axes>"
      ]
     },
     "metadata": {
      "needs_background": "light"
     },
     "output_type": "display_data"
    }
   ],
   "source": [
    "# View newly created image!\n",
    "tImg1 = tInfo.getTargetImage( 'zoo_0' )\n",
    "tImg2 = tInfo.getTargetImage( 'zoo_1' )\n",
    "tImg3 = tInfo.getTargetImage( 'zoo_2' )\n",
    "img1 = rInfo.getModelImg( 'zoo_0_1' )\n",
    "img2 = rInfo.getModelImg( 'zoo_1' )\n",
    "img3 = rInfo.getModelImg( 'zoo_2' )\n",
    "\n",
    "plt.figure(figsize=(12,12))\n",
    "plt.subplot(321)\n",
    "plt.imshow(tImg1, cmap='gray')\n",
    "plt.subplot(322)\n",
    "plt.imshow(img1, cmap='gray')\n",
    "plt.subplot(323)\n",
    "plt.imshow(tImg2, cmap='gray')\n",
    "plt.subplot(324)\n",
    "plt.imshow(img2, cmap='gray')\n",
    "plt.subplot(325)\n",
    "plt.imshow(tImg3, cmap='gray')\n",
    "plt.subplot(326)\n",
    "plt.imshow(img3, cmap='gray')\n"
   ]
  },
  {
   "cell_type": "code",
   "execution_count": 12,
   "id": "plain-liability",
   "metadata": {},
   "outputs": [
    {
     "name": "stdout",
     "output_type": "stream",
     "text": [
      "Already found:  zoo_0_1\n"
     ]
    }
   ],
   "source": [
    "# Save new param!\n",
    "\n",
    "if False:\n",
    "    tInfo.addImageParam( new_param )"
   ]
  },
  {
   "cell_type": "markdown",
   "id": "fitted-undergraduate",
   "metadata": {},
   "source": [
    "___\n",
    "## Step 9: Execute new score operation for a complete target.\n",
    "Execute the new function for a target and see if it works across many models"
   ]
  },
  {
   "cell_type": "code",
   "execution_count": null,
   "id": "serial-nursing",
   "metadata": {},
   "outputs": [],
   "source": []
  },
  {
   "cell_type": "markdown",
   "id": "continuing-found",
   "metadata": {},
   "source": [
    "___\n",
    "## Step 9: Execute new score operation for a complete target.\n",
    "Execute the new function for a target and see if it works across many models"
   ]
  },
  {
   "cell_type": "code",
   "execution_count": 10,
   "id": "sensitive-tablet",
   "metadata": {
    "tags": []
   },
   "outputs": [
    {
     "name": "stdout",
     "output_type": "stream",
     "text": [
      "SIMR: pipelineTarget: input\n",
      "\t - tDir: None\n",
      "\t - tInfo: <class 'NoneType'>\n",
      "SIMR: simr_target status:\n",
      "\t - tInfo.status: True\n"
     ]
    }
   ],
   "source": [
    "newTarget = gm.inArgClass()\n",
    "newTarget.setArg( 'tInfo', tInfo )\n",
    "newTarget.setArg( 'paramLoc', '../param/new_score.json' )\n",
    "newTarget.setArg( 'printAll', False )\n",
    "#newTarget.setArg( 'newScore', True )\n",
    "#newTarget.setArg( 'overWrite', True )\n",
    "\n",
    "simr.simr_target( arg=newTarget )"
   ]
  },
  {
   "cell_type": "markdown",
   "id": "earlier-absence",
   "metadata": {},
   "source": [
    "***\n",
    "## Step 10: View results!\n",
    "View if your new method does well or not."
   ]
  },
  {
   "cell_type": "code",
   "execution_count": 11,
   "id": "diverse-thriller",
   "metadata": {},
   "outputs": [
    {
     "data": {
      "text/plain": [
       "<AxesSubplot:title={'center':'new_score:\\nCorr: -0.1663'}, xlabel='zoo_merger_score', ylabel='new_score'>"
      ]
     },
     "execution_count": 11,
     "metadata": {},
     "output_type": "execute_result"
    },
    {
     "data": {
      "image/png": "[encoded data removed]",
      "text/plain": [
       "<Figure size 432x288 with 2 Axes>"
      ]
     },
     "metadata": {
      "needs_background": "light"
     },
     "output_type": "display_data"
    }
   ],
   "source": [
    "scores = tInfo.getScores()\n",
    "sa.getNamedPlot(scores)"
   ]
  },
  {
   "cell_type": "markdown",
   "id": "copyrighted-tunisia",
   "metadata": {},
   "source": [
    "___\n",
    "## Step 11: Add new function to direct_image_comparison.py\n",
    "\n",
    "## Step 12: Rename parameter and save\n",
    "- Create a new dict of the new score parameter\n",
    "    - Parameter name\n",
    "    - cmpMethod name: Match name of function in directory_image_compare\n",
    "   "
   ]
  },
  {
   "cell_type": "code",
   "execution_count": 12,
   "id": "rapid-check",
   "metadata": {},
   "outputs": [
    {
     "name": "stdout",
     "output_type": "stream",
     "text": [
      "{'cmpArg': {'cmpMethod': 'ssim'},\n",
      " 'imgArg': {'name': 'default',\n",
      "            'pType': 'default'},\n",
      " 'name': 'base0_ssim',\n",
      " 'scoreType': 'target',\n",
      " 'simArg': {'nPts': '100k',\n",
      "            'name': '100k'},\n",
      " 'targetName': 'zoo'}\n"
     ]
    }
   ],
   "source": [
    "param = deepcopy( new_params['new_score'] )\n",
    "param['name'] = 'base0_ssim'\n",
    "param['cmpArg']['cmpMethod'] = 'ssim'\n",
    "\n",
    "gm.pprint(param)"
   ]
  },
  {
   "cell_type": "markdown",
   "id": "severe-vietnam",
   "metadata": {},
   "source": [
    "___\n",
    "## Step 13: Save in a score parameter file"
   ]
  },
  {
   "cell_type": "code",
   "execution_count": 13,
   "id": "armed-sailing",
   "metadata": {
    "tags": []
   },
   "outputs": [
    {
     "name": "stdout",
     "output_type": "stream",
     "text": [
      "/mnt/c/Users/ogden/OneDrive/Desktop/galStuff/galaxyJSPAM/param/base0.json \n",
      "\n",
      "{'base0_bcorr0': {'cmpArg': {'cmpMethod': 'binary_correlation'},\n",
      "                  'imgArg': {'name': 'default',\n",
      "                             'pType': 'default'},\n",
      "                  'name': 'base0_bcorr0',\n",
      "                  'scoreType': 'target',\n",
      "                  'simArg': {'nPts': '100k',\n",
      "                             'name': '100k'},\n",
      "                  'targetName': 'zoo'},\n",
      " 'base0_bcorr1': {'cmpArg': {'cmpMethod': 'binary_correlation',\n",
      "                             'h1': 120,\n",
      "                             'h2': 120},\n",
      "                  'imgArg': {'name': 'default',\n",
      "                             'pType': 'default'},\n",
      "                  'name': 'base0_bcorr1',\n",
      "                  'scoreType': 'target',\n",
      "                  'simArg': {'nPts': '100k',\n",
      "                             'name': '100k'},\n",
      "                  'targetName': 'zoo'},\n",
      " 'base0_bcorr2': {'cmpArg': {'cmpMethod': 'binary_correlation',\n",
      "                             'h1': 50,\n",
      "                             'h2': 100},\n",
      "                  'imgArg': {'name': 'default',\n",
      "                             'pType': 'default'},\n",
      "                  'name': 'base0_bcorr2',\n",
      "                  'scoreType': 'target',\n",
      "                  'simArg': {'nPts': '100k',\n",
      "                             'name': '100k'},\n",
      "                  'targetName': 'zoo'},\n",
      " 'base0_bcorr3': {'cmpArg': {'cmpMethod': 'binary_correlation',\n",
      "                             'h1': 100,\n",
      "                             'h2': 50},\n",
      "                  'imgArg': {'name': 'default',\n",
      "                             'pType': 'default'},\n",
      "                  'name': 'base0_bcorr3',\n",
      "                  'scoreType': 'target',\n",
      "                  'simArg': {'nPts': '100k',\n",
      "                             'name': '100k'},\n",
      "                  'targetName': 'zoo'},\n",
      " 'base0_corr': {'cmpArg': {'cmpMethod': 'correlation'},\n",
      "                'imgArg': {'name': 'default',\n",
      "                           'pType': 'default'},\n",
      "                'name': 'base0_corr',\n",
      "                'scoreType': 'target',\n",
      "                'simArg': {'nPts': '100k',\n",
      "                           'name': '100k'},\n",
      "                'targetName': 'zoo'},\n",
      " 'base0_diff': {'cmpArg': {'cmpMethod': 'absolute_difference'},\n",
      "                'imgArg': {'name': 'default',\n",
      "                           'pType': 'default'},\n",
      "                'name': 'base0_diff',\n",
      "                'scoreType': 'target',\n",
      "                'simArg': {'nPts': '100k',\n",
      "                           'name': '100k'},\n",
      "                'targetName': 'zoo'},\n",
      " 'base0_diff_scale': {'cmpArg': {'cmpMethod': 'absolute_difference_lower_scale'},\n",
      "                      'imgArg': {'name': 'default',\n",
      "                                 'pType': 'default'},\n",
      "                      'name': 'base0_diff_scale',\n",
      "                      'scoreType': 'target',\n",
      "                      'simArg': {'nPts': '100k',\n",
      "                                 'name': '100k'},\n",
      "                      'targetName': 'zoo'},\n",
      " 'base0_diff_scale1': {'cmpArg': {'cmpMethod': 'absolute_difference_lower_scale',\n",
      "                                  'l': 0.5},\n",
      "                       'imgArg': {'name': 'default',\n",
      "                                  'pType': 'default'},\n",
      "                       'name': 'base0_diff_scale1',\n",
      "                       'scoreType': 'target',\n",
      "                       'simArg': {'nPts': '100k',\n",
      "                                  'name': '100k'},\n",
      "                       'targetName': 'zoo'},\n",
      " 'base0_diff_scale2': {'cmpArg': {'cmpMethod': 'absolute_difference_lower_scale',\n",
      "                                  'l': 0.7},\n",
      "                       'imgArg': {'name': 'default',\n",
      "                                  'pType': 'default'},\n",
      "                       'name': 'base0_diff_scale2',\n",
      "                       'scoreType': 'target',\n",
      "                       'simArg': {'nPts': '100k',\n",
      "                                  'name': '100k'},\n",
      "                       'targetName': 'zoo'},\n",
      " 'base0_overlap0': {'cmpArg': {'cmpMethod': 'overlap_fraction'},\n",
      "                    'imgArg': {'name': 'default',\n",
      "                               'pType': 'default'},\n",
      "                    'name': 'base0_overlap0',\n",
      "                    'scoreType': 'target',\n",
      "                    'simArg': {'nPts': '100k',\n",
      "                               'name': '100k'},\n",
      "                    'targetName': 'zoo'},\n",
      " 'base0_overlap1': {'cmpArg': {'cmpMethod': 'overlap_fraction',\n",
      "                               'h1': 120,\n",
      "                               'h2': 120},\n",
      "                    'imgArg': {'name': 'default',\n",
      "                               'pType': 'default'},\n",
      "                    'name': 'base0_overlap1',\n",
      "                    'scoreType': 'target',\n",
      "                    'simArg': {'nPts': '100k',\n",
      "                               'name': '100k'},\n",
      "                    'targetName': 'zoo'},\n",
      " 'base0_overlap2': {'cmpArg': {'cmpMethod': 'overlap_fraction',\n",
      "                               'h1': 100,\n",
      "                               'h2': 50},\n",
      "                    'imgArg': {'name': 'default',\n",
      "                               'pType': 'default'},\n",
      "                    'name': 'base0_overlap2',\n",
      "                    'scoreType': 'target',\n",
      "                    'simArg': {'nPts': '100k',\n",
      "                               'name': '100k'},\n",
      "                    'targetName': 'zoo'},\n",
      " 'base0_overlap3': {'cmpArg': {'cmpMethod': 'overlap_fraction',\n",
      "                               'h1': 50,\n",
      "                               'h2': 100},\n",
      "                    'imgArg': {'name': 'default',\n",
      "                               'pType': 'default'},\n",
      "                    'name': 'base0_overlap3',\n",
      "                    'scoreType': 'target',\n",
      "                    'simArg': {'nPts': '100k',\n",
      "                               'name': '100k'},\n",
      "                    'targetName': 'zoo'},\n",
      " 'base0_ssim': {'cmpArg': {'cmpMethod': 'ssim'},\n",
      "                'imgArg': {'name': 'default',\n",
      "                           'pType': 'default'},\n",
      "                'name': 'base0_ssim',\n",
      "                'scoreType': 'target',\n",
      "                'simArg': {'nPts': '100k',\n",
      "                           'name': '100k'},\n",
      "                'targetName': 'zoo'}}\n"
     ]
    }
   ],
   "source": [
    "# Load existing score parameter file\n",
    "pLoc = gm.validPath('../param/base0.json')\n",
    "print(pLoc,'\\n')\n",
    "baseParamClass = im.group_score_parameter_class(pLoc = pLoc)\n",
    "\n",
    "#gm.pprint(baseParams)\n",
    "\n",
    "# Add new score parameter to dict\n",
    "baseParamClass.group[ param['name'] ] = param\n",
    "gm.pprint(baseParamClass.group)\n",
    "baseParamClass.saveParam( saveLoc = '../param/base0.json' )\n"
   ]
  },
  {
   "cell_type": "markdown",
   "id": "guided-optimum",
   "metadata": {},
   "source": [
    "___\n",
    "## Step 14: Have target run the score parameter file you just updated"
   ]
  },
  {
   "cell_type": "code",
   "execution_count": null,
   "id": "indie-lender",
   "metadata": {},
   "outputs": [
    {
     "name": "stdout",
     "output_type": "stream",
     "text": [
      "SIMR: pipelineTarget: input\n",
      "\t - tDir: None\n",
      "\t - tInfo: <class 'NoneType'>\n",
      "SIMR: simr_target status:\n",
      "\t - tInfo.status: True\n",
      "SIMR: new_target_scores:\n",
      "\t - tInfo: True\n",
      "\t - Runs needing scores: 1293\n",
      "100.0% - 1293 / 1293\t  \n",
      "\n",
      "\n",
      "\n",
      "IM: Target.gatherRunInfos.\n",
      "GM: Printing Input arguments\n",
      "\t- printBase - <class 'bool'> :  True\n",
      "\t- printAll - <class 'bool'> :  False\n",
      "\t- nProc - <class 'int'> :  -1\n",
      "\t- simple - <class 'bool'> :  False\n",
      "\t- runDir - <class 'NoneType'> :  None\n",
      "\t- sdssDir - <class 'NoneType'> :  None\n",
      "\t- targetDir - <class 'NoneType'> :  None\n",
      "\t- dataDir - <class 'NoneType'> :  None\n",
      "\n",
      "0.2% - 3 / 1293\t  \n",
      "0.6% - 8 / 1293\t  \n",
      "76.6% - 990 / 1293\t  \r"
     ]
    }
   ],
   "source": [
    "newTarget = gm.inArgClass()\n",
    "newTarget.setArg( 'tInfo', tInfo )\n",
    "newTarget.setArg( 'scoreParams', baseParamClass.group )\n",
    "newTarget.setArg( 'printAll', False )\n",
    "newTarget.setArg( 'newScore', True )\n",
    "#newTarget.setArg( 'overWrite', True )\n",
    "\n",
    "#gm.pprint(newTarget.get('scoreParams'))\n",
    "\n",
    "simr.simr_target( arg=newTarget )"
   ]
  },
  {
   "cell_type": "markdown",
   "id": "duplicate-chaos",
   "metadata": {},
   "source": [
    "___\n",
    "## Step 15: view target results of new score function! Again!"
   ]
  },
  {
   "cell_type": "code",
   "execution_count": null,
   "id": "miniature-windows",
   "metadata": {},
   "outputs": [],
   "source": [
    "sco"
   ]
  }
 ],
 "metadata": {
  "kernelspec": {
   "display_name": "Python 3",
   "language": "python",
   "name": "python3"
  },
  "language_info": {
   "codemirror_mode": {
    "name": "ipython",
    "version": 3
   },
   "file_extension": ".py",
   "mimetype": "text/x-python",
   "name": "python",
   "nbconvert_exporter": "python",
   "pygments_lexer": "ipython3",
   "version": "3.8.5"
  }
 },
 "nbformat": 4,
 "nbformat_minor": 5
}
