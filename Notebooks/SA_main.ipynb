{
 "cells": [
  {
   "cell_type": "code",
   "execution_count": 1,
   "id": "completed-lafayette",
   "metadata": {},
   "outputs": [
    {
     "name": "stdout",
     "output_type": "stream",
     "text": [
      "SA: Hi!  You're in Matthew's Main program for score analysis!\n",
      "GM: Hi!  You're in Matthew's module for generally useful functions and classes\n",
      "IM: Hi!  You're in Matthew Ogden's information module for SPAM\n",
      "IC: Hi!  You're in Matthew's main code for all things image creation.\n",
      "MS: Hi!  You're in Matthew's SIMR module for all things machine scoring images\n",
      "DC: Hi!  You're in direct_image_compare.py\n",
      "SIMR: Hi!  You're in Matthew's main program for all things galaxy collisions\n"
     ]
    }
   ],
   "source": [
    "# Add parent directory\n",
    "from sys import path as sysPath\n",
    "from os import listdir\n",
    "sysPath.append('../')\n",
    "\n",
    "# Add custom modules\n",
    "sysPath.append('../Machine_Score/')\n",
    "\n",
    "from Support_Code import general_module as gm\n",
    "from Support_Code import info_module as im\n",
    "from Image_Creator import main_image_creator as ic\n",
    "from Machine_Score import main_machine_score as ms\n",
    "from Machine_Score import direct_image_compare as dc\n",
    "from Score_Analysis import main_score_analysis as sa\n",
    "import main_SIMR as simr\n",
    "\n",
    "# General modules\n",
    "from os import path\n",
    "import numpy as np\n",
    "from matplotlib import pyplot as plt\n",
    "\n",
    "sa.test()\n",
    "gm.test()\n",
    "im.test()\n",
    "ic.test()\n",
    "ms.test()\n",
    "dc.test()\n",
    "simr.test()"
   ]
  },
  {
   "cell_type": "code",
   "execution_count": 17,
   "id": "bizarre-finnish",
   "metadata": {},
   "outputs": [
    {
     "name": "stdout",
     "output_type": "stream",
     "text": [
      "Raw:   ../../1237678620102623480/\n",
      "Full:  /mnt/c/Users/ogden/OneDrive/Documents/_Galaxy_Code/1237678620102623480/\n"
     ]
    }
   ],
   "source": [
    "tDirRaw = '../../1237678620102623480/'\n",
    "tDir = gm.validPath(tDirRaw, printWarning=True)\n",
    "\n",
    "print('Raw:  ',tDirRaw)\n",
    "print('Full: ',tDir)\n",
    "\n",
    "dataDir = '../../spam_data_1/'"
   ]
  },
  {
   "cell_type": "code",
   "execution_count": 3,
   "id": "downtown-compilation",
   "metadata": {},
   "outputs": [
    {
     "name": "stdout",
     "output_type": "stream",
     "text": [
      "IM: target_info_class.__init__:\n",
      "\t - targetDir:  /home/mbo2d/587722984435351614/\n",
      "IM: Target.initTargetDir():\n",
      "\t - targetDir: /home/mbo2d/587722984435351614/\n",
      "\t - targetDir: (True) /home/mbo2d/587722984435351614/\n",
      "\t - infoDir: (True) /home/mbo2d/587722984435351614/information/\n",
      "\t - baseInfoLoc: (True) /home/mbo2d/587722984435351614/information/base_target_info.json\n",
      "\t - allInfoLoc: (True) /home/mbo2d/587722984435351614/information/target_info.json\n",
      "\t - zooMergerDir: (True) /home/mbo2d/587722984435351614/zoo_merger_models/\n",
      "\t - plotDir: (True) /home/mbo2d/587722984435351614/plots/\n",
      "IM: Target: Opening target info json\n",
      "Target Good!\n"
     ]
    }
   ],
   "source": [
    "tDir = gm.validPath('../targetDir/')\n",
    "dataDir = '../../spam_data_1/'\n",
    "\n",
    "tInfo = im.target_info_class( targetDir = tDir, printAll=True)\n",
    "\n",
    "if tInfo.status == False:\n",
    "    print(\"WARNING\")\n",
    "else:\n",
    "    print(\"Target Good!\")"
   ]
  },
  {
   "cell_type": "code",
   "execution_count": 4,
   "id": "invisible-atlanta",
   "metadata": {},
   "outputs": [
    {
     "ename": "FileNotFoundError",
     "evalue": "[Errno 2] No such file or directory: '../../spam_data_1/'",
     "output_type": "error",
     "traceback": [
      "\u001b[0;31m---------------------------------------------------------------------------\u001b[0m",
      "\u001b[0;31mFileNotFoundError\u001b[0m                         Traceback (most recent call last)",
      "\u001b[0;32m<ipython-input-4-ca9a8f3703c5>\u001b[0m in \u001b[0;36m<module>\u001b[0;34m\u001b[0m\n\u001b[1;32m      4\u001b[0m \u001b[0mtScores\u001b[0m \u001b[0;34m=\u001b[0m \u001b[0;34m[\u001b[0m\u001b[0;34m]\u001b[0m\u001b[0;34m\u001b[0m\u001b[0;34m\u001b[0m\u001b[0m\n\u001b[1;32m      5\u001b[0m \u001b[0;34m\u001b[0m\u001b[0m\n\u001b[0;32m----> 6\u001b[0;31m \u001b[0mtDirs\u001b[0m \u001b[0;34m=\u001b[0m \u001b[0mlistdir\u001b[0m\u001b[0;34m(\u001b[0m \u001b[0mdataDir\u001b[0m \u001b[0;34m)\u001b[0m\u001b[0;34m\u001b[0m\u001b[0;34m\u001b[0m\u001b[0m\n\u001b[0m\u001b[1;32m      7\u001b[0m \u001b[0;34m\u001b[0m\u001b[0m\n\u001b[1;32m      8\u001b[0m \u001b[0;32mfor\u001b[0m \u001b[0mtDir\u001b[0m \u001b[0;32min\u001b[0m \u001b[0mtDirs\u001b[0m\u001b[0;34m:\u001b[0m\u001b[0;34m\u001b[0m\u001b[0;34m\u001b[0m\u001b[0m\n",
      "\u001b[0;31mFileNotFoundError\u001b[0m: [Errno 2] No such file or directory: '../../spam_data_1/'"
     ]
    }
   ],
   "source": [
    "# Going through all targets and gathering scores\n",
    "\n",
    "tNames = []\n",
    "tScores = []\n",
    "\n",
    "tDirs = listdir( dataDir )\n",
    "\n",
    "for tDir in tDirs:\n",
    "    fullPath = gm.validPath( dataDir + tDir + '/' )\n",
    "    \n",
    "    tArg = gm.inArgClass()\n",
    "    tArg.targetDir = fullPath\n",
    "    \n",
    "    tmpInfo = im.target_info_class( tArg = tArg )\n",
    "    \n",
    "    if tmpInfo.status:\n",
    "        tNames.append( tmpInfo.get('target_id') )\n",
    "        tScores.append( tmpInfo.getScores() )\n",
    "    \n",
    "    del tmpInfo\n",
    "\n",
    "print(\"tNames: \", len(tNames), tNames)\n",
    "print(\"tScores: \", len(tScores ))\n",
    "\n",
    "for i in range( len( tNames ) ):\n",
    "    print( tNames[i], tScores[i].columns)"
   ]
  },
  {
   "cell_type": "code",
   "execution_count": null,
   "id": "biological-switzerland",
   "metadata": {},
   "outputs": [],
   "source": [
    "tScores = tInfo.getScores()\n",
    "print(tScores)"
   ]
  },
  {
   "cell_type": "code",
   "execution_count": null,
   "id": "affected-trustee",
   "metadata": {},
   "outputs": [],
   "source": [
    "\n",
    "#target_report_1(tInfo=tInfo)\n",
    "tmp = '''\n",
    "from os import listdir\n",
    "\n",
    "dDir = gm.validPath( '../../tmp_scores' )\n",
    "plotDir = gm.validPath( '../../tmp_plots' )\n",
    "tList = listdir( dDir )\n",
    "print(plotDir)\n",
    "\n",
    "for tName in tList:\n",
    "    \n",
    "    sLoc = gm.validPath( dDir + tName + '/information/scores.csv' )\n",
    "    pLoc = plotDir + tName + '.png'\n",
    "    print(pLoc)\n",
    "    \n",
    "    if sLoc == None:\n",
    "        continue\n",
    "    \n",
    "    #scores = gm.getScores(sLoc)\n",
    "    \n",
    "    target_report_1( scoreLoc = sLoc, plotLoc = pLoc )\n",
    "'''\n",
    "\n"
   ]
  },
  {
   "cell_type": "code",
   "execution_count": null,
   "id": "editorial-legend",
   "metadata": {},
   "outputs": [],
   "source": [
    "\n",
    "\n",
    "def target_report_2( tInfo=None, printBase = True, printAll = False ):\n",
    "    \n",
    "    from copy import deepcopy\n",
    "    \n",
    "    scores = tInfo.getScores()\n",
    "    scoreHeaders = list( scores.columns )\n",
    "    allParams = tInfo.get('score_parameters')\n",
    "\n",
    "    targKeys = []\n",
    "    pertKeys = []\n",
    "    unknKeys = []\n",
    "    \n",
    "    for pKey in allParams:\n",
    "        if allParams[pKey]['scoreType'] == 'target':\n",
    "            targKeys.append(pKey)\n",
    "        elif allParams[pKey]['scoreType'] == 'perturbation':\n",
    "            pertKeys.append(pKey)\n",
    "        else:\n",
    "            unknKeys.append(pKey)\n",
    "    \n",
    "    print(\"Target Machine Scores Found:\", len(targKeys))\n",
    "    for name in targKeys: gm.tabprint(name)\n",
    "        \n",
    "    print(\"Perturbation Scores Found:\", len(pertKeys))\n",
    "    for name in pertKeys: gm.tabprint(name)\n",
    "        \n",
    "    print(\"Unknown Scores Found:\", len(unknKeys))\n",
    "    for name in unknKeys: gm.tabprint(name)\n",
    "    \n",
    "    pertName = 'base_perturbation'\n",
    "    if printBase: print(\"SA: target report 2: Hard coded perturbation: \",pertName)\n",
    "        \n",
    "    if allParams.get(pertName) == None:\n",
    "        print(\"SA: target report 2: Base Perturbation Not found:\")\n",
    "        gm.tabprint('target: %s'%tInfo.get('target_id'))\n",
    "        gm.tabprint(\"perturb: %s\"%pertName)\n",
    "        \n",
    "    n = len(targKeys)\n",
    "    \n",
    "    fig, axs = plt.subplots( n+2, figsize=(9,7*(n+2)) )  \n",
    "    \n",
    "        \n",
    "    # Show target image\n",
    "    tImg = tInfo.getTargetImage( 'zoo' )\n",
    "    axs[0].imshow(tImg, cmap='gray')\n",
    "    axs[0].set_title(\"Target Image\")\n",
    "\n",
    "    # Show a model image\n",
    "    rId = 'r00001'\n",
    "    runArg = gm.inArgClass()\n",
    "    runArg.setArg(\"printBase\",False)\n",
    "    rInfo = tInfo.getRunInfo(rID=rId, rArg = runArg)\n",
    "    rImg = rInfo.getModelImage( 'zoo_0' )\n",
    "    rN = scores.shape[0]\n",
    "\n",
    "    if type(rImg) != type(None):\n",
    "        axs[1].imshow(rImg, cmap='gray')\n",
    "        axs[1].set_title('Model Image')\n",
    "\n",
    "    # Go through and plot Target Machine Scores\n",
    "    for i, sName in enumerate(targKeys):     \n",
    "        \n",
    "        hmScores = scores[['zoo_merger_score',sName,pertName]].dropna()\n",
    "        hScores = hmScores['zoo_merger_score'].values\n",
    "        mScores = hmScores[sName].values\n",
    "        pScores = hmScores[pertName].values\n",
    "        \n",
    "        corr = np.corrcoef( hScores, mScores )[0,1]\n",
    "        \n",
    "        print('%s: %4d/%4d' % (sName,hmScores.shape[0],rN), corr)\n",
    "        \n",
    "        hs = { 'scores':hScores, 'name':'zoo_merger_score' }\n",
    "        ms = { 'scores':mScores, 'name':sName }   \n",
    "        ps = { 'scores':pScores, 'name':pertName }\n",
    "                \n",
    "        title = '%s: %4d/%4d ' % (sName,hmScores.shape[0],rN) \n",
    "        title += '\\nCorr: %.4f' % corr\n",
    "        \n",
    "        sa.basicHeatSubPlot( fig, axs[i+2], hs, ms, ps, titleName=title)        \n",
    "        \n",
    "    return None  \n",
    "\n",
    "    plt.tight_layout()\n",
    "    \n",
    "    if tInfo != None:\n",
    "        plotLoc = tInfo.plotDir + 'basic_target_report_2.pdf'\n",
    "        print('PLotLoc: ', plotLoc)\n",
    "        fig.savefig(plotLoc, bbox_inches='tight')\n",
    "        \n",
    "target_report_2( tInfo = tInfo )"
   ]
  },
  {
   "cell_type": "code",
   "execution_count": null,
   "id": "opponent-straight",
   "metadata": {},
   "outputs": [],
   "source": []
  },
  {
   "cell_type": "code",
   "execution_count": null,
   "id": "alike-hughes",
   "metadata": {},
   "outputs": [],
   "source": []
  },
  {
   "cell_type": "code",
   "execution_count": null,
   "id": "wired-haiti",
   "metadata": {},
   "outputs": [],
   "source": []
  }
 ],
 "metadata": {
  "kernelspec": {
   "display_name": "Python 3",
   "language": "python",
   "name": "python3"
  },
  "language_info": {
   "codemirror_mode": {
    "name": "ipython",
    "version": 3
   },
   "file_extension": ".py",
   "mimetype": "text/x-python",
   "name": "python",
   "nbconvert_exporter": "python",
   "pygments_lexer": "ipython3",
   "version": "3.8.5"
  }
 },
 "nbformat": 4,
 "nbformat_minor": 5
}
