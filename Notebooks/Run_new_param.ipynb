{
 "cells": [
  {
   "cell_type": "code",
   "execution_count": 1,
   "id": "cardiac-proposal",
   "metadata": {},
   "outputs": [
    {
     "name": "stdout",
     "output_type": "stream",
     "text": [
      "Hi!\n",
      "GM: Hi!  You're in Matthew's module for generally useful functions and classes\n",
      "IM: Hi!  You're in Matthew Ogden's information module for SPAM\n",
      "IC: Hi!  You're in Matthew's main code for all things image creation.\n",
      "MS: Hi!  You're in Matthew's SIMR module for all things machine scoring images\n"
     ]
    }
   ],
   "source": [
    "# Add parent directory\n",
    "from sys import path as sysPath\n",
    "sysPath.append('../')\n",
    "\n",
    "from matplotlib import pyplot as plt\n",
    "\n",
    "from Support_Code import general_module as gm\n",
    "from Support_Code import info_module as im\n",
    "from Image_Creator import main_image_creator as ic\n",
    "\n",
    "sysPath.append('../Machine_Score/')\n",
    "from Machine_Score import main_machine_score as ms\n",
    "import main_SIMR as simr\n",
    "\n",
    "print(\"Hi!\")\n",
    "\n",
    "gm.test()\n",
    "im.test()\n",
    "ic.test()\n",
    "ms.test()"
   ]
  },
  {
   "cell_type": "code",
   "execution_count": 2,
   "id": "healthy-board",
   "metadata": {},
   "outputs": [
    {
     "name": "stdout",
     "output_type": "stream",
     "text": [
      "True\n"
     ]
    }
   ],
   "source": [
    "tDir = '/home/mbo2d/galStuff/spam_data_pl3/587722984435351614/' \n",
    "tInfo = im.target_info_class( targetDir = tDir, printAll=False)\n",
    "\n",
    "rId = '00001'\n",
    "rInfo = tInfo.getRunInfo(rID=rId, printAll = False)\n",
    "rInfo.link_tInfo = tInfo\n",
    "print(rInfo.status)"
   ]
  },
  {
   "cell_type": "code",
   "execution_count": 3,
   "id": "focused-pattern",
   "metadata": {},
   "outputs": [],
   "source": [
    "pLoc = gm.validPath('../param/param_base0_scores.json')\n",
    "#print(pLoc)\n",
    "newParams = im.group_score_parameter_class(pLoc = pLoc)\n",
    "#gm.pprint(newParams.group)"
   ]
  },
  {
   "cell_type": "code",
   "execution_count": 4,
   "id": "blank-inquiry",
   "metadata": {},
   "outputs": [
    {
     "name": "stdout",
     "output_type": "stream",
     "text": [
      "GM: Printing Input arguments\n",
      "\t- printBase - <class 'bool'> :  True\n",
      "\t- printAll - <class 'bool'> :  False\n",
      "\t- nProc - <class 'int'> :  1\n",
      "\t- simple - <class 'bool'> :  False\n",
      "\t- runDir - <class 'NoneType'> :  None\n",
      "\t- sdssDir - <class 'NoneType'> :  None\n",
      "\t- targetDir - <class 'NoneType'> :  None\n",
      "\t- dataDir - <class 'NoneType'> :  None\n",
      "\t- newScore - <class 'bool'> :  True\n"
     ]
    }
   ],
   "source": [
    "runArgs = gm.inArgClass()\n",
    "runArgs.setArg('newScore',True)\n",
    "runArgs.printArg()\n",
    "runArgs.setArg('scoreParams', newParams.group)\n",
    "runArgs.setArg('overWrite', False)"
   ]
  },
  {
   "cell_type": "code",
   "execution_count": null,
   "id": "incorrect-reconstruction",
   "metadata": {},
   "outputs": [],
   "source": []
  },
  {
   "cell_type": "code",
   "execution_count": 5,
   "id": "frank-copying",
   "metadata": {},
   "outputs": [
    {
     "name": "stdout",
     "output_type": "stream",
     "text": [
      "SIMR.pipelineRun: Inputs\n",
      "\t - rDir: None\n",
      "\t - rInfo: <class 'Support_Code.info_module.run_info_class'>\n",
      "SIMR.pipelineRun: \n",
      "\t - rInfo:  <Support_Code.info_module.run_info_class object at 0x7fb9fafc0f70>\n",
      "SIMR: run: scores before\n",
      "IM: run_info_class.printScores()\n",
      "\t - run_id: r00001\n",
      "\t - zoo_merger: 0.941176\n",
      "\t - test_v0: 0.737633\n",
      "\t - test_perturbation: 0.716723\n",
      "\t - base0_corr: 0.737633\n",
      "\t - base0_diff: 0.946880\n",
      "\t - base0_diff_scale: 0.468803\n",
      "\t - base0_overlap0: 0.505491\n",
      "\t - base0_bcorr0: 0.664186\n",
      "\t - base0_diff_scale1: 0.893761\n",
      "\t - base0_overlap1: 0.365536\n",
      "\t - base0_overlap2: 0.460386\n",
      "\t - base0_overlap3: 0.465732\n",
      "\t - base0_bcorr1: 0.571142\n",
      "\t - base0_bcorr2: 0.640460\n",
      "\t - base0_bcorr3: 0.640442\n",
      "\t - base0_diff_scale2: 0.822934\n",
      "MS: main_run:\n"
     ]
    }
   ],
   "source": [
    "simr.simr_run( arg = runArgs, rInfo=rInfo)"
   ]
  },
  {
   "cell_type": "code",
   "execution_count": 6,
   "id": "miniature-understanding",
   "metadata": {},
   "outputs": [
    {
     "ename": "AttributeError",
     "evalue": "'run_info_class' object has no attribute 'targetImg'",
     "output_type": "error",
     "traceback": [
      "\u001b[0;31m---------------------------------------------------------------------------\u001b[0m",
      "\u001b[0;31mAttributeError\u001b[0m                            Traceback (most recent call last)",
      "\u001b[0;32m<ipython-input-6-e6eca2dd7063>\u001b[0m in \u001b[0;36m<module>\u001b[0;34m\u001b[0m\n\u001b[0;32m----> 1\u001b[0;31m \u001b[0mprint\u001b[0m\u001b[0;34m(\u001b[0m\u001b[0mrInfo\u001b[0m\u001b[0;34m.\u001b[0m\u001b[0mtargetImg\u001b[0m\u001b[0;34m)\u001b[0m\u001b[0;34m\u001b[0m\u001b[0;34m\u001b[0m\u001b[0m\n\u001b[0m\u001b[1;32m      2\u001b[0m \u001b[0;31m#plt.imshow(rInfo.targetImg['zoo'])\u001b[0m\u001b[0;34m\u001b[0m\u001b[0;34m\u001b[0m\u001b[0;34m\u001b[0m\u001b[0m\n",
      "\u001b[0;31mAttributeError\u001b[0m: 'run_info_class' object has no attribute 'targetImg'"
     ]
    }
   ],
   "source": [
    "print(rInfo.targetImg)\n",
    "#plt.imshow(rInfo.targetImg['zoo'])"
   ]
  },
  {
   "cell_type": "code",
   "execution_count": null,
   "id": "romantic-marketplace",
   "metadata": {},
   "outputs": [],
   "source": [
    "print(rInfo.modelImg)\n",
    "#plt.imshow(rInfo.modelImg['default'])"
   ]
  },
  {
   "cell_type": "code",
   "execution_count": null,
   "id": "healthy-oasis",
   "metadata": {},
   "outputs": [],
   "source": []
  }
 ],
 "metadata": {
  "kernelspec": {
   "display_name": "Python 3",
   "language": "python",
   "name": "python3"
  },
  "language_info": {
   "codemirror_mode": {
    "name": "ipython",
    "version": 3
   },
   "file_extension": ".py",
   "mimetype": "text/x-python",
   "name": "python",
   "nbconvert_exporter": "python",
   "pygments_lexer": "ipython3",
   "version": "3.8.5"
  }
 },
 "nbformat": 4,
 "nbformat_minor": 5
}
