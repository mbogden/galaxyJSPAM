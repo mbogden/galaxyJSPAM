{
 "cells": [
  {
   "cell_type": "markdown",
   "id": "immune-needle",
   "metadata": {},
   "source": [
    "# Many Endings with different Image creation values\n",
    "\n",
    "## Step 1.1\n",
    "### Load nessecary modules"
   ]
  },
  {
   "cell_type": "code",
   "execution_count": 2,
   "id": "canadian-spine",
   "metadata": {},
   "outputs": [
    {
     "name": "stderr",
     "output_type": "stream",
     "text": [
      "Matplotlib created a temporary config/cache directory at /tmp/matplotlib-7dkj0xof because the default path (/home/jovyan/.cache/matplotlib) is not a writable directory; it is highly recommended to set the MPLCONFIGDIR environment variable to a writable directory, in particular to speed up the import of Matplotlib and to better support multiprocessing.\n"
     ]
    },
    {
     "name": "stdout",
     "output_type": "stream",
     "text": [
      "SIMR: Hi!  You're in Matthew's main program for all things galaxy collisions\n",
      "GM: Hi!  You're in Matthew's module for generally useful functions and classes\n",
      "SIM: Hi!  You're in Matthew's main code for all things simulation.\n",
      "IMG: Hi!  You're in Matthew's main code for all things image creation.\n",
      "MS: Hi!  You're in Matthew's SIMR module for all things machine scoring images\n",
      "DC: Hi!  You're in direct_image_compare.py\n",
      "SA: Hi!  You're in Matthew's Main program for score analysis!\n"
     ]
    }
   ],
   "source": [
    "# Add python modules\n",
    "import numpy as np\n",
    "import os\n",
    "import cv2\n",
    "import matplotlib.pyplot as plt\n",
    "from copy import deepcopy\n",
    "# Add parent directory for custom modules\n",
    "from sys import path as sysPath\n",
    "sysPath.append('../')\n",
    "sysPath.append('../Machine_Score/')\n",
    "\n",
    "# Load custom modules that simr has loaded\n",
    "import main_SIMR as SIMR\n",
    "gm = SIMR.gm\n",
    "im = SIMR.im\n",
    "SIM = SIMR.SIM\n",
    "IMG = SIMR.IMG\n",
    "ms = SIMR.ms\n",
    "sa = SIMR.sa\n",
    "dc = SIMR.ms.dc\n",
    "\n",
    "SIMR.test()\n",
    "gm.test()\n",
    "SIM.test()\n",
    "IMG.test()\n",
    "ms.test()\n",
    "dc.test()\n",
    "sa.test()"
   ]
  },
  {
   "cell_type": "markdown",
   "id": "gorgeous-bicycle",
   "metadata": {},
   "source": [
    "___\n",
    "## Step 1.2\n",
    "### Load Sample Target and Run Info class\n",
    "Needed for loading the target image and running through models later."
   ]
  },
  {
   "cell_type": "code",
   "execution_count": 3,
   "id": "spread-jordan",
   "metadata": {},
   "outputs": [
    {
     "name": "stdout",
     "output_type": "stream",
     "text": [
      "Target Good!: 587722984435351614\n",
      "Run 'run_0000' Good!\n"
     ]
    }
   ],
   "source": [
    "tDir = '../targetDir/'\n",
    "tDir = gm.validPath(tDir)\n",
    "\n",
    "tInfo = im.target_info_class( targetDir = tDir, printAll=False)\n",
    "if tInfo.status == False:\n",
    "    print(\"WARNING: target info class bad\")\n",
    "else:\n",
    "    print(\"Target Good!: %s\" % tInfo.get('target_id'))\n",
    "    \n",
    "# Get run info class\n",
    "rInfo = tInfo.getRunInfo( )\n",
    "\n",
    "if rInfo.status == False:\n",
    "    print(\"WARNING\")\n",
    "else:\n",
    "    print(\"Run '%s' Good!\"%rInfo.get('run_id'))"
   ]
  },
  {
   "cell_type": "markdown",
   "id": "invalid-diabetes",
   "metadata": {},
   "source": [
    "___\n",
    "## Step 2\n",
    "### Load a starting Image parameter set"
   ]
  },
  {
   "cell_type": "code",
   "execution_count": 4,
   "id": "ranging-palace",
   "metadata": {},
   "outputs": [
    {
     "name": "stdout",
     "output_type": "stream",
     "text": [
      "scale\n",
      "offset\n",
      "blur-weight-range\n",
      "norm-types\n",
      "norm-range\n",
      "radial-range\n",
      "range-done\n",
      "{'blur-weight-range': [0.7, 1.8, 3],\n",
      " 'norm-range': [1.5, 2.5, 3],\n",
      " 'norm-types': ['type1'],\n",
      " 'radial-range': [-1.5, 1, 3]}\n"
     ]
    }
   ],
   "source": [
    "if True: \n",
    "    tid = tInfo.get('target_id')\n",
    "    mySet = gm.readJson( '../param/mySet.json' )\n",
    "    mySet[tid]['range-done'] = True\n",
    "    for k in mySet[tid].keys():\n",
    "        print(k)\n",
    "\n",
    "baseRanges = {}\n",
    "baseRanges['blur-weight-range'] = mySet[tid]['blur-weight-range']\n",
    "baseRanges['norm-types'] = mySet[tid]['norm-types']\n",
    "baseRanges['norm-range'] = mySet[tid]['norm-range']\n",
    "baseRanges['radial-range'] = mySet[tid]['radial-range']\n",
    "\n",
    "gm.pprint( baseRanges )\n"
   ]
  },
  {
   "cell_type": "markdown",
   "id": "4c366c73",
   "metadata": {},
   "source": [
    "## 2.2 # Create Function to auto make image params and create images"
   ]
  },
  {
   "cell_type": "code",
   "execution_count": 5,
   "id": "94064357",
   "metadata": {},
   "outputs": [
    {
     "name": "stdout",
     "output_type": "stream",
     "text": [
      "SIMR.run_new_score: \n",
      "\t - runID: run_0000\n",
      "SIM: main_sm_run:\n",
      "\t - Run ID: run_0000\n",
      "\t - Simulations to run: 2\n",
      "\t - Sim Key/Type: 4k/basic_run\n",
      "\n",
      "SIM: basic_run:\n",
      "\t - New Simulation Name: 4k\n",
      "\t - Sim Key/Type: 4k-many-endings/many_endings\n",
      "\n",
      "SIM: many_endings:\n",
      "\t - New Simulation Name: 4k-many-endings\n",
      "IMG: image_creator_run\n",
      "IMG_LOOP:   54 /   54: COMPLETE\n"
     ]
    }
   ],
   "source": [
    "\n",
    "def createImages( tInfo, mySet,):\n",
    "\n",
    "    tid = tInfo.get('target_id')\n",
    "    rInfo = tInfo.getRunInfo()\n",
    "\n",
    "    # Image Parameter values and ranges for np.linspace\n",
    "    mySet[tid]['blur-weight-range'] = [ 0.7, 1.8, 3 ]\n",
    "    mySet[tid]['norm-types'] = [ 'type1' ]\n",
    "    mySet[tid]['norm-range'] = [ 1.5, 2.5, 3 ]\n",
    "    mySet[tid]['radial-range'] = [ -1.5, 1, 3 ]\n",
    "\n",
    "\n",
    "    rBlur = mySet[tid]['blur-weight-range']\n",
    "    rNorm = mySet[tid]['norm-range']\n",
    "    rRadial = mySet[tid]['radial-range']\n",
    "\n",
    "    # Base set \n",
    "    bName = 'dl-s2-1-base' \n",
    "    baseParam = { bName : gm.deepcopy( tInfo.get('score_parameters')['dl-s2-0']) }\n",
    "    baseParam[bName]['name'] = bName\n",
    "    baseParam[bName]['simArg']['nPts'] = '4k'\n",
    "    baseParam[bName]['simArg']['name'] = '4k'\n",
    "    baseParam[bName]['imgArg']['name'] = bName\n",
    "\n",
    "    # Create Base Model and Initial Parameters\n",
    "\n",
    "    newParams = {}\n",
    "    c = 0\n",
    "    for w in np.linspace( rBlur[0], rBlur[1], rBlur[2] ):\n",
    "        for n in np.linspace( rNorm[0], rNorm[1], rNorm[2] ):\n",
    "            for r1 in np.linspace( rRadial[0], rRadial[1], rRadial[2] ):\n",
    "                tempName = 'dl-s2-1-base-%d' % c\n",
    "                newParams[tempName] = gm.deepcopy( baseParam[bName] )\n",
    "                newParams[tempName]['name'] = tempName\n",
    "                newParams[tempName]['imgArg']['name'] = tempName\n",
    "                imgArg = newParams[tempName]['imgArg']\n",
    "                imgArg['blur']['weight'] = w\n",
    "                imgArg['normalization']['norm_constant'] = n\n",
    "                imgArg['radial_const'] = [ r1, r1 ]\n",
    "                #print( 'c: ', c, 'w: ', w, 'n: ', n, 'r1: ', r1,)\n",
    "                c += 1\n",
    "\n",
    "    manyBase = 'dl-s2-1-many-0' \n",
    "    newParams[manyBase] = gm.deepcopy( tInfo.get('score_parameters')['dl-s2-0'] )\n",
    "    newParams[manyBase]['name'] = manyBase\n",
    "    newParams[manyBase]['simArg']['type'] = 'many_endings'\n",
    "    newParams[manyBase]['imgArg']['type'] = 'many_endings'\n",
    "    newParams[manyBase]['simArg']['nPts'] = '4k'\n",
    "    newParams[manyBase]['simArg']['name'] = '4k-many-endings'\n",
    "    newParams[manyBase]['imgArg']['name'] = manyBase\n",
    "    newParams[manyBase]['imgArg']['blur']['size'] = 25\n",
    "    newParams[manyBase]['imgArg']['blur']['weight'] = mySet[tid]['blur-weight-range'][0]\n",
    "    newParams[manyBase]['imgArg']['normalization']['type'] = mySet[tid]['norm-types'][0]\n",
    "    newParams[manyBase]['imgArg']['normalization']['norm_constant'] = mySet[tid]['norm-range'][0]\n",
    "    newParams[manyBase]['imgArg']['radial_const'] = [ mySet[tid]['radial-range'][0], mySet[tid]['radial-range'][0]]\n",
    "\n",
    "\n",
    "    # Create Many Parameters\n",
    "    c = 0\n",
    "    for w in np.linspace( rBlur[0], rBlur[1], rBlur[2] ):\n",
    "        for n in np.linspace( rNorm[0], rNorm[1], rNorm[2] ):\n",
    "            for r1 in np.linspace( rRadial[0], rRadial[1], rRadial[2] ):\n",
    "                tempName = 'dl-s2-1-many-%d'  % c\n",
    "                newParams[tempName] = gm.deepcopy( newParams[manyBase] )\n",
    "                newParams[tempName]['name'] = tempName\n",
    "                newParams[tempName]['imgArg']['name'] = tempName\n",
    "                imgArg = newParams[tempName]['imgArg']\n",
    "                imgArg['blur']['weight'] = w\n",
    "                imgArg['normalization']['norm_constant'] = n\n",
    "                imgArg['radial_const'] = [ r1, r1 ]\n",
    "                #print( 'c: ', c, 'w: ', w, 'n: ', n, 'r1: ', r1,)\n",
    "                c += 1\n",
    "\n",
    "    # Add to tInfo class\n",
    "    tInfo.addScoreParameters( newParams )\n",
    "    tInfo.saveScoreParam( newParams, 'dl-s2-1' )\n",
    "    tInfo.saveInfoFile()\n",
    "\n",
    "    cmdArgs = gm.inArgClass()\n",
    "    cmdArgs.setArg( 'scoreParams', newParams )\n",
    "    cmdArgs.setArg( 'runInfo', rInfo )\n",
    "    cmdArgs.setArg( 'newSim', True )\n",
    "    cmdArgs.setArg( 'zipSim', True )\n",
    "    cmdArgs.setArg( 'newImage', True )\n",
    "    cmdArgs.setArg( 'overWrite', True )\n",
    "    cmdArgs.setArg( 'printAll', False )\n",
    "\n",
    "    #rInfo.printAll = True\n",
    "    SIMR.run_new_score( cmdArgs, rInfo )\n",
    "\n",
    "if True:\n",
    "    createImages( tInfo, mySet, )\n"
   ]
  },
  {
   "cell_type": "code",
   "execution_count": 8,
   "id": "d96404c8",
   "metadata": {},
   "outputs": [],
   "source": [
    "\n",
    "if False:\n",
    "\n",
    "    # Get images\n",
    "    imgList = []\n",
    "    allParams = tInfo.get('score_parameters')\n",
    "    for imgName in allParams.keys(): \n",
    "        print( imgName )\n",
    "        if 'dl-s2-1' not in imgName:\n",
    "            continue\n",
    "        if 'base' in imgName:\n",
    "            newImg1 = rInfo.getModelImage( imgName, imgType='model' )\n",
    "            newImg2 = rInfo.getModelImage( imgName, imgType='init' )\n",
    "            print( 'baseMaxes: ', np.amax( newImg1 ), np.amax( newImg2 ) )\n",
    "\n",
    "            imgList.append( newImg1 )\n",
    "            imgList.append( newImg2 )\n",
    "    gm.showImgList( imgList, size=18, col_count=4 )\n",
    "    \n",
    "\n"
   ]
  },
  {
   "cell_type": "code",
   "execution_count": 10,
   "id": "da8b3d3a",
   "metadata": {},
   "outputs": [],
   "source": [
    "if False:\n",
    "\n",
    "    # Get images\n",
    "    imgList = []\n",
    "    for imgName in newParams: \n",
    "        print( imgName )\n",
    "        if 'many' in imgName:\n",
    "            newImgList = rInfo.getModelImage( imgName, imgType='many_endings' )\n",
    "            for newImg in newImgList:\n",
    "                imgList.append( newImg  )\n",
    "            break\n",
    "            \n",
    "\n",
    "    gm.showImgList( imgList, size=18, col_count=3 )"
   ]
  },
  {
   "cell_type": "code",
   "execution_count": null,
   "id": "1916797b",
   "metadata": {},
   "outputs": [
    {
     "name": "stdout",
     "output_type": "stream",
     "text": [
      "paramDir:  ['zoo_test_3.json', 'cmd_args_test.json', 'graham_ms.json', 'exp_0_ms.json', 'exp_3_ga.json', 'dl-s1-0.json', 'sim2k_zoo100x100_mic_score.json', 'norm_chime_1.json', 'exp_2_ms.json', 'param_zoo_test.json', 'dl-test-s2-0.json', 'exp_2_cmd.json', 'norm_wndchrm_all_test.json', 'chime_test.json', 'zoo_test.json', 'dl-s2-1-many-test-2.json', 'nn_score_param_base.json', 'exp_2_ga.json', 'zoo_blank.json', 'exp_4_ms.json', 'exp_4_ga.json', 'chime_group_1.json', 'nn_train_base.json', 'init_ga_param.json', 'exp_0_ga.json', 'ga_param_test.json', 'start_param.json', 'zoo_base.json', '.ipynb_checkpoints', 'test_param.json', 'mySet.json', 'dl-s2-0.json', 'chime_group_0.json', 'dl-s1-seed.json', 'exp_base.json', 'mask_roi_blank.json']\n"
     ]
    }
   ],
   "source": [
    "paramDir = '../param/' \n",
    "print( 'paramDir: ', os.listdir(paramDir) )\n",
    "gm.saveJson( mySet, paramDir + 'mySet.json' )\n",
    "\n",
    "tInfo.addImageParams( newParams )\n",
    "tInfo.saveScoreParam( newParams, 'dl-s2-1' )\n",
    "tInfo.saveInfoFile()"
   ]
  },
  {
   "cell_type": "code",
   "execution_count": null,
   "id": "e9b2280c",
   "metadata": {},
   "outputs": [
    {
     "name": "stdout",
     "output_type": "stream",
     "text": [
      "infoLoc:  /home/jovyan/galStuff/spam-data-2022-11/587722984435351614/information/\n",
      "['wndchrm_files', 'target.meta', 'score_parameters', 'scores.csv', 'target.pair', 'base_target_info.json', 'target_info.json', 'target_masks', 'base_scores.csv', 'target_images']\n",
      "['chime_0.json', 'dl-s2-1.json', 'dl-s2-0.json', 'zoo_0_direct_scores.json']\n",
      "54\n"
     ]
    }
   ],
   "source": [
    "infoDir = tInfo.get('infoDir')\n",
    "print( 'infoLoc: ', infoDir )\n",
    "print( os.listdir( infoDir))\n",
    "srcDir = infoDir + 'score_parameters/'\n",
    "print( os.listdir( srcDir ))\n",
    "\n",
    "cpParam = gm.readJson( srcDir + 'dl-s2-1.json' )\n",
    "print( len( list( cpParam.keys())) )"
   ]
  },
  {
   "cell_type": "code",
   "execution_count": 9,
   "id": "dd05709d",
   "metadata": {},
   "outputs": [
    {
     "name": "stdout",
     "output_type": "stream",
     "text": [
      "/home/mbo2d/galStuff/galaxyJSPAM/main_SIMR.py\n"
     ]
    }
   ],
   "source": [
    "# Create function to search for a file in current directory and all parent directories\n",
    "def findFile( fileName, startDir=None, maxDepth=10 ):\n",
    "    if startDir is None:\n",
    "        startDir = os.getcwd()\n",
    "        # Append '/' if not present\n",
    "        if startDir[-1] != '/':\n",
    "            startDir += '/'\n",
    "    if not os.path.isdir( startDir ):\n",
    "        print( 'ERROR: startDir is not a directory')\n",
    "        print( 'startDir: ', startDir )\n",
    "        return None\n",
    "    if maxDepth < 0:\n",
    "        print( 'ERROR: maxDepth is less than 0')\n",
    "        return None\n",
    "    if fileName in os.listdir( startDir ):\n",
    "        # Return absolute path\n",
    "        return os.path.abspath( startDir + fileName )\n",
    "    else:\n",
    "        return findFile( fileName, startDir + '../', maxDepth-1 )\n",
    "\n",
    "print( findFile( 'main_SIMR.py' ) )"
   ]
  },
  {
   "cell_type": "markdown",
   "id": "0bc6f0b6",
   "metadata": {},
   "source": [
    "## Test if cmd arguments work"
   ]
  },
  {
   "cell_type": "code",
   "execution_count": 11,
   "id": "787873aa",
   "metadata": {},
   "outputs": [
    {
     "name": "stdout",
     "output_type": "stream",
     "text": [
      "test CMD:  python3 /home/mbo2d/galStuff/galaxyJSPAM/main_SIMR.py -targetDir /home/mbo2d/galStuff/galaxyJSPAM/targetDir -scoreParamName dl-s2-1 -newSim -zipSim -newImage -printAll -startRun 2 -endRun 4\n",
      "cmd:  python3 /home/mbo2d/galStuff/galaxyJSPAM/main_SIMR.py -targetDir /home/mbo2d/galStuff/galaxyJSPAM/targetDir -scoreParamName dl-s2-1 -newSim -zipSim -newImage -printAll\n",
      "runDir:  /home/mbo2d/galStuff/runs/\n",
      "machineName:  c1\n",
      "shLoc:  /home/mbo2d/galStuff/runs/dl-s2-1-0-c1.sh\n",
      "shLoc:  /home/mbo2d/galStuff/runs/test-dl-s2-1-0-c1.sh\n"
     ]
    }
   ],
   "source": [
    "if True:\n",
    "    \n",
    "    cmdArgs = gm.inArgClass()\n",
    "    cmdArgs.setArg( 'scoreParamName', \"dl-s2-1\" )\n",
    "    cmdArgs.setArg( 'runInfo', rInfo )\n",
    "    cmdArgs.setArg( 'newSim', True )\n",
    "    cmdArgs.setArg( 'zipSim', True )\n",
    "    cmdArgs.setArg( 'newImage', True )\n",
    "    cmdArgs.setArg( 'overWrite', False )\n",
    "    cmdArgs.setArg( 'printAll', False )\n",
    "\n",
    "    #rInfo.printAll = True\n",
    "    # SIMR.run_new_score( cmdArgs, rInfo )\n",
    "\n",
    "    \n",
    "\n",
    "    cmd = 'python3 %s' % findFile( 'main_SIMR.py' )\n",
    "    cmd += ' -targetDir %s' % findFile( 'targetDir')\n",
    "    cmd += ' -scoreParamName dl-s2-1 -newSim -zipSim -newImage -printAll' \n",
    "\n",
    "    testCmd = cmd + ' -startRun 2 -endRun 4'\n",
    "\n",
    "    print( 'test CMD: ', testCmd )\n",
    "\n",
    "    print( 'cmd: ', cmd )\n",
    "\n",
    "    runDir = findFile( 'runs' )\n",
    "    if runDir[-1] != '/':  runDir += '/'\n",
    "    print( 'runDir: ', runDir )\n",
    "\n",
    "\n",
    "    \n",
    "\n",
    "    # Get machine name\n",
    "    machineName = os.uname()[1]\n",
    "    print( 'machineName: ', machineName )\n",
    "    \n",
    "    # Save cmd in runs directory\n",
    "    shLoc = runDir + 'dl-s2-1-0-%s.sh' % machineName\n",
    "    print( 'shLoc: ', shLoc )\n",
    "    with open( shLoc, 'w' ) as f:\n",
    "        f.write( cmd + '\\n' )\n",
    "    \n",
    "    \n",
    "    # Save test cmd in runs directory\n",
    "    shLoc = runDir + 'test-dl-s2-1-0-%s.sh' % machineName\n",
    "    print( 'shLoc: ', shLoc )\n",
    "    with open( shLoc, 'w' ) as f:\n",
    "        f.write( testCmd + '\\n' )\n",
    "\n"
   ]
  },
  {
   "cell_type": "code",
   "execution_count": 45,
   "id": "275d1664",
   "metadata": {},
   "outputs": [
    {
     "name": "stdout",
     "output_type": "stream",
     "text": [
      "runDir:  /home/jovyan/galStuff/runs\n"
     ]
    }
   ],
   "source": [
    "print( 'runDir: ', findFile( 'runs' ))"
   ]
  },
  {
   "cell_type": "markdown",
   "id": "fc367615",
   "metadata": {},
   "source": []
  }
 ],
 "metadata": {
  "kernelspec": {
   "display_name": "Python 3 (ipykernel)",
   "language": "python",
   "name": "python3"
  },
  "language_info": {
   "codemirror_mode": {
    "name": "ipython",
    "version": 3
   },
   "file_extension": ".py",
   "mimetype": "text/x-python",
   "name": "python",
   "nbconvert_exporter": "python",
   "pygments_lexer": "ipython3",
   "version": "3.10.5"
  },
  "vscode": {
   "interpreter": {
    "hash": "d4d1e4263499bec80672ea0156c357c1ee493ec2b1c70f0acce89fc37c4a6abe"
   }
  }
 },
 "nbformat": 4,
 "nbformat_minor": 5
}
