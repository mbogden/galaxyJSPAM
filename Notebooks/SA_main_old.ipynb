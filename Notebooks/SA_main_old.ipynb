{
 "cells": [
  {
   "cell_type": "code",
   "execution_count": 2,
   "metadata": {},
   "outputs": [
    {
     "name": "stdout",
     "output_type": "stream",
     "text": [
      "Hi!\n",
      "GM: Hi!  You're in Matthew's module for generally useful functions and classes\n",
      "IM: Hi!  You're in Matthew Ogden's information module for SPAM\n",
      "IC: Hi!  You're in Matthew's main code for all things image creation.\n",
      "MC: Hi!  You're in Matthew Ogden's module for all things machine comparing images\n"
     ]
    }
   ],
   "source": [
    "from os import path, listdir\n",
    "from sys import exit, argv, path as sysPath\n",
    "%matplotlib notebook\n",
    "import matplotlib.pyplot as plt\n",
    "import numpy as np\n",
    "import pandas as pd\n",
    "\n",
    "# This import registers the 3D projection, but is otherwise unused.\n",
    "from mpl_toolkits.mplot3d import Axes3D  # noqa: F401 unused import\n",
    "\n",
    "# Add parent directory\n",
    "sysPath.append('../')\n",
    "\n",
    "from Support_Code import general_module as gm\n",
    "from Support_Code import info_module as im\n",
    "from Image_Creator import main_image_creator as ic\n",
    "\n",
    "sysPath.append('Machine_Compare/')\n",
    "from Machine_Compare import main_compare as mc\n",
    "\n",
    "print(\"Hi!\")\n",
    "\n",
    "gm.test()\n",
    "im.test()\n",
    "ic.test()\n",
    "mc.test()\n"
   ]
  },
  {
   "cell_type": "code",
   "execution_count": 8,
   "metadata": {},
   "outputs": [
    {
     "name": "stdout",
     "output_type": "stream",
     "text": [
      "IM: target_info_class.__init__:\n",
      "\t - targetDir:  /home/mbo2d/galStuff/spam_data_pl3/587722984435351614/\n",
      "\t - printBase:  True\n",
      "\t - printAll:  True\n",
      "\t - newInfo:  False\n",
      "IM: Target.initTargetDir():\n",
      "\t - targetDir: /home/mbo2d/galStuff/spam_data_pl3/587722984435351614/\n",
      "\t - targetDir: (True) /home/mbo2d/galStuff/spam_data_pl3/587722984435351614/\n",
      "\t - infoDir: (True) /home/mbo2d/galStuff/spam_data_pl3/587722984435351614/information/\n",
      "\t - baseInfoLoc: (True) /home/mbo2d/galStuff/spam_data_pl3/587722984435351614/information/base_target_info.json\n",
      "\t - allInfoLoc: (True) /home/mbo2d/galStuff/spam_data_pl3/587722984435351614/information/target_info.json\n",
      "\t - zooMergerDir: (True) /home/mbo2d/galStuff/spam_data_pl3/587722984435351614/gen000/\n",
      "\t - plotDir: (True) /home/mbo2d/galStuff/spam_data_pl3/587722984435351614/plots/\n",
      "IM: Target: Opening target info json\n"
     ]
    }
   ],
   "source": [
    "tDir = '/home/mbo2d/galStuff/spam_data_pl3/587722984435351614/' \n",
    "tInfo = im.target_info_class( targetDir = tDir, printAll=True)"
   ]
  },
  {
   "cell_type": "code",
   "execution_count": null,
   "metadata": {},
   "outputs": [],
   "source": [
    "tDir = '../../sdssEx'\n",
    "\n",
    "print( len( listdir( tDir ) ) )\n",
    "for i,c in enumerate( listdir(tDir ) ):\n",
    "    print(i,c)"
   ]
  },
  {
   "cell_type": "code",
   "execution_count": null,
   "metadata": {},
   "outputs": [],
   "source": []
  },
  {
   "cell_type": "code",
   "execution_count": null,
   "metadata": {},
   "outputs": [],
   "source": []
  },
  {
   "cell_type": "code",
   "execution_count": null,
   "metadata": {},
   "outputs": [],
   "source": []
  },
  {
   "cell_type": "code",
   "execution_count": null,
   "metadata": {},
   "outputs": [],
   "source": [
    "tDir = '../../sdssEx'    \n",
    "tInfo = im.target_info_class( targetDir = tDir, printAll=False)\n",
    "print('tInfo Loaded: %s' % tInfo.status)"
   ]
  },
  {
   "cell_type": "code",
   "execution_count": null,
   "metadata": {},
   "outputs": [],
   "source": [
    "allScores = tInfo.getScores()\n",
    "print(len(allScores))\n",
    "print(allScores.iloc[0])"
   ]
  },
  {
   "cell_type": "code",
   "execution_count": null,
   "metadata": {},
   "outputs": [],
   "source": [
    "\n",
    "def create3DHeatPlot( s1, s2, s3, s4=None, saveLoc = None, titleName=None ):\n",
    "\n",
    "    plt.clf()\n",
    "    \n",
    "    fig = plt.figure()\n",
    "    ax = fig.add_subplot(111, projection='3d')\n",
    "    \n",
    "    \n",
    "    if type(s4) == None:    \n",
    "        ax.scatter( s1[0], s2[0], s3[0], )\n",
    "        \n",
    "    else:    \n",
    "        cMap = plt.cm.get_cmap('RdYlBu_r')\n",
    "        plot = ax.scatter( s1[0], s2[0], s3[0], c=s4[0], )\n",
    "        \n",
    "        cBar = plt.colorbar(plot)\n",
    "        cBar.set_label(s4[1])\n",
    "        \n",
    "    \n",
    "    ax.set_xlabel(s1[1])\n",
    "    ax.set_ylabel(s2[1])\n",
    "    ax.set_zlabel(s3[1])\n",
    "    \n",
    "    \n",
    "    plt.show()\n",
    "    \n"
   ]
  },
  {
   "cell_type": "code",
   "execution_count": null,
   "metadata": {},
   "outputs": [],
   "source": [
    "s1 = ( allScores['machine_correlation'].values, 'machine_correlation' )\n",
    "s2 = ( allScores['perturbation_correlation'].values, 'perturbation_correlation' )\n",
    "s3 = ( allScores['initialBias_correlation'].values, 'initialBias_correlation' )\n",
    "s4 = ( allScores['human_galaxy_zoo_mergers'].values, 'human_galaxy_zoo_mergers' )\n",
    "\n",
    "create3DHeatPlot( s1, s2, s3, s4=s4)"
   ]
  },
  {
   "cell_type": "code",
   "execution_count": null,
   "metadata": {},
   "outputs": [],
   "source": [
    "   \n",
    "\n",
    "def oldPlot()\n",
    "\n",
    " \n",
    "    #corrVal = np.corrcoef(hScores,mScores)[0,1]\n",
    "    return \n",
    "    if type( pScores ) == type( None ):\n",
    "        plot = plt.scatter( hScores, mScores, s=5 )\n",
    "\n",
    "    else:\n",
    "        pMin = np.amin( pScores )\n",
    "        pMax = np.amax( pScores )\n",
    "        cMap = plt.cm.get_cmap('RdYlBu_r')\n",
    "\n",
    "        plot = plt.scatter( hScores, mScores, c=pScores, vmin = pMin, vmax = 1.0, s=5, cmap=cMap)\n",
    "\n",
    "        cBar = plt.colorbar(plot)\n",
    "        cBar.set_label(\"Correlation with Unperturbed model image\")\n",
    "        \n",
    "    plt.xlim(0,1)\n",
    "    plt.ylim(0,1)\n",
    "\n",
    "    plt.title( titleName + \"\\nCorrelation: %f\" % corrVal )\n",
    "    plt.xlabel(\"Human Scores\")\n",
    "    plt.ylabel(\"Machine Score\")\n",
    "\n",
    "    ax = plt.gca()\n",
    "    ax.set_facecolor(\"xkcd:grey\")\n",
    "\n",
    "    if saveLoc != None:\n",
    "        plt.savefig( saveLoc )"
   ]
  }
 ],
 "metadata": {
  "kernelspec": {
   "display_name": "Python 3",
   "language": "python",
   "name": "python3"
  },
  "language_info": {
   "codemirror_mode": {
    "name": "ipython",
    "version": 3
   },
   "file_extension": ".py",
   "mimetype": "text/x-python",
   "name": "python",
   "nbconvert_exporter": "python",
   "pygments_lexer": "ipython3",
   "version": "3.8.5"
  }
 },
 "nbformat": 4,
 "nbformat_minor": 4
}
