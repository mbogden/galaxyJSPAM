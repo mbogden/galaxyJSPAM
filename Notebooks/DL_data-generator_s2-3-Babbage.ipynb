{
 "cells": [
  {
   "cell_type": "markdown",
   "id": "immune-needle",
   "metadata": {},
   "source": [
    "# Many Endings with different Image creation values\n",
    "\n",
    "## Step 1.1\n",
    "### Load nessecary modules"
   ]
  },
  {
   "cell_type": "code",
   "execution_count": 5,
   "id": "canadian-spine",
   "metadata": {},
   "outputs": [
    {
     "name": "stdout",
     "output_type": "stream",
     "text": [
      "SIMR: Hi!  You're in Matthew's main program for all things galaxy collisions\n",
      "GM: Hi!  You're in Matthew's module for generally useful functions and classes\n",
      "SIM: Hi!  You're in Matthew's main code for all things simulation.\n",
      "IMG: Hi!  You're in Matthew's main code for all things image creation.\n",
      "MS: Hi!  You're in Matthew's SIMR module for all things machine scoring images\n",
      "DC: Hi!  You're in direct_image_compare.py\n",
      "SA: Hi!  You're in Matthew's Main program for score analysis!\n"
     ]
    }
   ],
   "source": [
    "# Add python modules\n",
    "import numpy as np\n",
    "import os\n",
    "import cv2\n",
    "import matplotlib.pyplot as plt\n",
    "from copy import deepcopy\n",
    "# Add parent directory for custom modules\n",
    "from sys import path as sysPath\n",
    "sysPath.append('../')\n",
    "sysPath.append('../Machine_Score/')\n",
    "\n",
    "# Load custom modules that simr has loaded\n",
    "import main_SIMR as SIMR\n",
    "gm = SIMR.gm\n",
    "im = SIMR.im\n",
    "SIM = SIMR.SIM\n",
    "IMG = SIMR.IMG\n",
    "ms = SIMR.ms\n",
    "sa = SIMR.sa\n",
    "dc = SIMR.ms.dc\n",
    "\n",
    "SIMR.test()\n",
    "gm.test()\n",
    "SIM.test()\n",
    "IMG.test()\n",
    "ms.test()\n",
    "dc.test()\n",
    "sa.test()"
   ]
  },
  {
   "cell_type": "markdown",
   "id": "gorgeous-bicycle",
   "metadata": {},
   "source": [
    "___\n",
    "## Step 1.2\n",
    "### Load Sample Target and Run Info class\n",
    "Needed for loading the target image and running through models later."
   ]
  },
  {
   "cell_type": "code",
   "execution_count": 7,
   "id": "spread-jordan",
   "metadata": {},
   "outputs": [
    {
     "name": "stdout",
     "output_type": "stream",
     "text": [
      "Target Good!: 587722984435351614\n",
      "Run 'run_0000' Good!\n"
     ]
    }
   ],
   "source": [
    "tDir = '../targetDir/'\n",
    "#tDir = '../dataDir/588013383816904792/'\n",
    "tDir = gm.validPath(tDir)\n",
    "\n",
    "tInfo = im.target_info_class( targetDir = tDir, printAll=False)\n",
    "if tInfo.status == False:\n",
    "    print(\"WARNING: target info class bad\")\n",
    "else:\n",
    "    print(\"Target Good!: %s\" % tInfo.get('target_id'))\n",
    "    \n",
    "# Get run info class\n",
    "rInfo = tInfo.getRunInfo( )\n",
    "\n",
    "if rInfo.status == False:\n",
    "    print(\"WARNING\")\n",
    "else:\n",
    "    print(\"Run '%s' Good!\"%rInfo.get('run_id'))"
   ]
  },
  {
   "cell_type": "markdown",
   "id": "invalid-diabetes",
   "metadata": {},
   "source": [
    "___\n",
    "## Step 2\n",
    "### Load a starting Image parameter set"
   ]
  },
  {
   "cell_type": "code",
   "execution_count": 8,
   "id": "8ecb4d69-251c-4a3f-b1a3-2317968f0ef6",
   "metadata": {},
   "outputs": [
    {
     "data": {
      "text/plain": [
       "(5.5260009765625, 62.831932067871094, 16.5)"
      ]
     },
     "execution_count": 8,
     "metadata": {},
     "output_type": "execute_result"
    }
   ],
   "source": [
    "# Get memory usage\n",
    "def getMemUsage():\n",
    "    import psutil\n",
    "    mem = psutil.virtual_memory()\n",
    "    memUsed = mem.used / 1024**3\n",
    "    memTotal = mem.total / 1024**3\n",
    "    memPercent = mem.percent\n",
    "    # return memPercent\n",
    "    return memUsed, memTotal, memPercent\n",
    "    # print( 'memUsed: ', memUsed )\n",
    "    # print( 'memTotal: ', memTotal )\n",
    "    # print( 'memPercent: ', memPercent )\n",
    "\n",
    "getMemUsage()"
   ]
  },
  {
   "cell_type": "code",
   "execution_count": 9,
   "id": "5196ca9d-6b8a-4807-9079-7117af729a2f",
   "metadata": {},
   "outputs": [
    {
     "name": "stdout",
     "output_type": "stream",
     "text": [
      "dl-s2-1-base-0\n",
      "dl-s2-1-base-1\n",
      "dl-s2-1-base-2\n",
      "dl-s2-1-base-3\n",
      "dl-s2-1-base-4\n",
      "dl-s2-1-base-5\n",
      "dl-s2-1-base-6\n",
      "dl-s2-1-base-7\n",
      "dl-s2-1-base-8\n",
      "dl-s2-1-base-9\n",
      "dl-s2-1-base-10\n",
      "dl-s2-1-base-11\n",
      "dl-s2-1-base-12\n",
      "dl-s2-1-base-13\n",
      "dl-s2-1-base-14\n",
      "dl-s2-1-base-15\n",
      "dl-s2-1-base-16\n",
      "dl-s2-1-base-17\n",
      "dl-s2-1-base-18\n",
      "dl-s2-1-base-19\n",
      "dl-s2-1-base-20\n",
      "dl-s2-1-base-21\n",
      "dl-s2-1-base-22\n",
      "dl-s2-1-base-23\n",
      "dl-s2-1-base-24\n",
      "dl-s2-1-base-25\n",
      "dl-s2-1-base-26\n",
      "dl-s2-1-many-0\n",
      "dl-s2-1-many-1\n",
      "dl-s2-1-many-2\n",
      "dl-s2-1-many-3\n",
      "dl-s2-1-many-4\n",
      "dl-s2-1-many-5\n",
      "dl-s2-1-many-6\n",
      "dl-s2-1-many-7\n",
      "dl-s2-1-many-8\n",
      "dl-s2-1-many-9\n",
      "dl-s2-1-many-10\n",
      "dl-s2-1-many-11\n",
      "dl-s2-1-many-12\n",
      "dl-s2-1-many-13\n",
      "dl-s2-1-many-14\n",
      "dl-s2-1-many-15\n",
      "dl-s2-1-many-16\n",
      "dl-s2-1-many-17\n",
      "dl-s2-1-many-18\n",
      "dl-s2-1-many-19\n",
      "dl-s2-1-many-20\n",
      "dl-s2-1-many-21\n",
      "dl-s2-1-many-22\n",
      "dl-s2-1-many-23\n",
      "dl-s2-1-many-24\n",
      "dl-s2-1-many-25\n",
      "dl-s2-1-many-26\n"
     ]
    }
   ],
   "source": [
    "sParam = tInfo.readScoreParam( 'dl-s2-1' )\n",
    "for key in sParam:\n",
    "    print( key )"
   ]
  },
  {
   "cell_type": "code",
   "execution_count": 10,
   "id": "9a272a8b-6fcc-42a4-a17e-c817961aec89",
   "metadata": {},
   "outputs": [
    {
     "name": "stdout",
     "output_type": "stream",
     "text": [
      "1292 run_1292\n",
      "DONE\n",
      "\n"
     ]
    }
   ],
   "source": [
    "# Find out the ratio of scores I need\n",
    "rDicts = tInfo.get('zoo_merger_models')\n",
    "n = len( rDicts.keys() ) \n",
    "scores = np.zeros(n)\n",
    "\n",
    "for i, rid in enumerate(rDicts):\n",
    "    scores[i] = rDicts[rid]['zoo_merger_score']\n",
    "    print( i, rid, end='\\r' ) \n",
    "    \n",
    "print(\"\\nDONE\\n\")\n",
    "    "
   ]
  },
  {
   "cell_type": "code",
   "execution_count": 11,
   "id": "8725700c-51bb-48b7-9aa8-8764aed45664",
   "metadata": {},
   "outputs": [
    {
     "data": {
      "text/plain": [
       "(array([723., 248., 106.,  56.,  34.,  27.,  32.,  26.,  16.,  25.]),\n",
       " array([0.        , 0.09459459, 0.18918919, 0.28378378, 0.37837838,\n",
       "        0.47297297, 0.56756757, 0.66216216, 0.75675676, 0.85135135,\n",
       "        0.94594595]),\n",
       " <BarContainer object of 10 artists>)"
      ]
     },
     "execution_count": 11,
     "metadata": {},
     "output_type": "execute_result"
    },
    {
     "data": {
      "image/png": "[encoded data removed]",
      "text/plain": [
       "<Figure size 640x480 with 1 Axes>"
      ]
     },
     "metadata": {},
     "output_type": "display_data"
    }
   ],
   "source": [
    "#plt.scatter( range(n), scores, )\n",
    "plt.hist( scores )"
   ]
  },
  {
   "cell_type": "code",
   "execution_count": 12,
   "id": "7cc5085d-d3d0-4988-9a3e-7e7d63b80920",
   "metadata": {},
   "outputs": [
    {
     "name": "stdout",
     "output_type": "stream",
     "text": [
      "1292 run_1292\n",
      "DONE\n",
      "\n",
      "timeRatio:  [0.09090909 0.2        0.5        0.57142857 1.        ]\n",
      "visRatio:  [0.35881753 1.         1.         1.         1.        ]\n"
     ]
    }
   ],
   "source": [
    "# Find out the ratio of scores I need\n",
    "rDicts = tInfo.get('zoo_merger_models')\n",
    "n = len( rDicts.keys() ) \n",
    "scores = np.zeros(n)\n",
    "\n",
    "for i, rid in enumerate(rDicts):\n",
    "    scores[i] = rDicts[rid]['zoo_merger_score']\n",
    "    print( i, rid, end='\\r' ) \n",
    "    \n",
    "print(\"\\nDONE\\n\")\n",
    "\n",
    "# Create numpy histogram of scores\n",
    "tmp = np.histogram( scores, bins=5, range=(0,1) )\n",
    "sHist = tmp[0]\n",
    "sBins = tmp[1]\n",
    "\n",
    "max = np.amin( sHist ) * 11\n",
    "\n",
    "sHist = sHist * 11\n",
    "\n",
    "r1 = max / sHist\n",
    "\n",
    "cutoff = 1/11.\n",
    "\n",
    "r2 = np.ones( len(sHist) )\n",
    "for i, v in enumerate(r1):\n",
    "    if v < cutoff:\n",
    "        r2[i] = r1[i] / cutoff\n",
    "        r1[i] = cutoff\n",
    "\n",
    "timeRatio = r1\n",
    "visRatio = r2\n",
    "print( 'timeRatio: ', timeRatio )\n",
    "print( 'visRatio: ', visRatio )\n"
   ]
  },
  {
   "cell_type": "code",
   "execution_count": 16,
   "id": "f2c32788-8c6a-40ba-9292-eb727451291e",
   "metadata": {},
   "outputs": [
    {
     "name": "stdout",
     "output_type": "stream",
     "text": [
      "0.10 0\n",
      "0.16 0\n",
      "0.21 1\n",
      "0.27 1\n",
      "0.33 1\n",
      "0.39 1\n",
      "0.44 2\n",
      "0.50 2\n",
      "0.56 2\n",
      "0.61 3\n",
      "0.67 3\n",
      "0.73 3\n",
      "0.79 3\n",
      "0.84 4\n",
      "0.90 4\n"
     ]
    }
   ],
   "source": [
    "def getBinIndex( value ):\n",
    "    # Get index of bin value would fall into\n",
    "    binIndex = np.digitize( value, sBins ) - 1\n",
    "    return binIndex\n",
    "\n",
    "for f in np.linspace( 0.1, 0.9, 15 ):\n",
    "    print( '%.2f' % f, getBinIndex(f) )"
   ]
  },
  {
   "cell_type": "code",
   "execution_count": 18,
   "id": "827839d1-a0e4-4af2-b803-2438dcda613d",
   "metadata": {},
   "outputs": [
    {
     "name": "stdout",
     "output_type": "stream",
     "text": [
      "return 27 27\n",
      "(27, 11, 128, 128)\n",
      "(27, 11, 128, 128)\n"
     ]
    }
   ],
   "source": [
    "sParam = tInfo.readScoreParam( 'dl-s2-1' )\n",
    "for key in sParam:\n",
    "    #print( key )\n",
    "    pass\n",
    "    \n",
    "def getManyImages( rInfo, sParam):\n",
    "    imgList = []\n",
    "    initList = []\n",
    "    \n",
    "    for key in sParam:\n",
    "        if 'base' in key:\n",
    "            # print( sParam[key]['imgArg'].get(\"type\",'model' ) )\n",
    "            tmpImg = rInfo.getModelImage( key, imgType = 'init' )\n",
    "            if type( tmpImg ) != type( None ):\n",
    "                initList.append( tmpImg )\n",
    "                \n",
    "        elif 'many' in key:\n",
    "            tmpImg = rInfo.getModelImage( key, imgType = 'many_endings' )\n",
    "            if type( tmpImg ) != type( None ):\n",
    "                imgList.append( tmpImg )\n",
    "        \n",
    "    # Expand init array\n",
    "    imgList = np.array(imgList)\n",
    "    initList = np.array(initList)\n",
    "\n",
    "    newInitAr = np.zeros( imgList.shape )\n",
    "    for i in range( len(initList) ):\n",
    "        for j in range( imgList.shape[1] ):\n",
    "            newInitAr[i,j,:,:] = initList[i,:,:]\n",
    "                \n",
    "    \n",
    "    return ( imgList , newInitAr  )\n",
    "    \n",
    "\n",
    "imgList, initList = getManyImages( tInfo.getRunInfo(), sParam,  )\n",
    "print( \"return\", len(imgList), len(initList ) )\n",
    "\n",
    "print( imgList.shape )\n",
    "print( initList.shape )\n",
    "\n"
   ]
  },
  {
   "cell_type": "code",
   "execution_count": 19,
   "id": "f5954594-24c7-4f1d-84ab-e0e25ccaf0e8",
   "metadata": {},
   "outputs": [
    {
     "name": "stdout",
     "output_type": "stream",
     "text": [
      "{'run_id': 'run_0000', 'model_data': '-9.93853,-4.5805,3.27377,-0.50008,-2.45565,-1.07799,23.33004,24.69427,3.49825,5.32056,309.6923,36.8125,41.78471,51.42857,0.3,0.3,0.0,0.0,0.0,0.0,0.0,0.0,0.94594,0,0,0.18901,-22.47999,9.02372,0.0,1.0,0.0,0.0,0.0,0.0', 'zoo_merger_score': '0.9459459459459459', 'machine_scores': {}, 'human_scores': {'zoo_merger_wins_losses': '35/37', 'zoo_merger_score': '0.9459459459459459'}}\n",
      "score:  0.9459459459459459\n",
      "binIndex:  4\n",
      "randTimeBool:  [ True  True  True  True  True  True  True  True  True  True  True]\n",
      "randVisBool:  [ True  True  True  True  True  True  True  True  True  True  True  True\n",
      "  True  True  True  True  True  True  True  True  True  True  True  True\n",
      "  True  True  True]\n",
      "rimgList.shape:  (27, 11, 128, 128)\n",
      "rinitList.shape:  (27, 11, 128, 128)\n",
      "New rimgList.shape:  (27, 11, 128, 128)\n",
      "New rinitList.shape:  (27, 11, 128, 128)\n",
      "Final rimgList.shape:  (297, 128, 128)\n",
      "Final rinitList.shape:  (297, 128, 128)\n",
      "{'run_id': 'run_1000', 'model_data': '-9.93853,-4.5805,16.08311,-2.05862,-0.63936,-3.98811,10.68847,29.69685,3.64748,4.42453,299.02803,30.20499,47.17212,116.83424,0.3,0.3,0.0,0.0,0.0,0.0,0.0,0.0,0.02857,0,0,0.23342,-2.61999,4.65524,0.0,0.0,1.0,0.0,0.0,0.0', 'zoo_merger_score': '0.02857142857142857', 'machine_scores': {}, 'human_scores': {'zoo_merger_wins_losses': '1/35', 'zoo_merger_score': '0.02857142857142857'}}\n",
      "score:  0.02857142857142857\n",
      "binIndex:  0\n",
      "randTimeBool:  [False False False  True False False  True False False False False]\n",
      "randVisBool:  [False  True False  True  True False False  True False False False False\n",
      " False False False False False  True False False  True False False False\n",
      "  True False False]\n",
      "rimgList.shape:  (27, 11, 128, 128)\n",
      "rinitList.shape:  (27, 11, 128, 128)\n",
      "New rimgList.shape:  (7, 2, 128, 128)\n",
      "New rinitList.shape:  (7, 2, 128, 128)\n",
      "Final rimgList.shape:  (14, 128, 128)\n",
      "Final rinitList.shape:  (14, 128, 128)\n"
     ]
    },
    {
     "data": {
      "image/png": "[encoded data removed]",
      "text/plain": [
       "<Figure size 640x480 with 4 Axes>"
      ]
     },
     "metadata": {},
     "output_type": "display_data"
    }
   ],
   "source": [
    "def getImageAndInfo( rInfo, sParam, printAll=False  ):\n",
    "    if printAll:  print( rInfo.rDict )\n",
    "\n",
    "    # Get imags\n",
    "    rimgList, rinitList = getManyImages( rInfo, sParam )\n",
    "    \n",
    "    # Get bin based on score\n",
    "    score = rInfo.rDict.get(\"zoo_merger_score\")\n",
    "    if printAll:  print( 'score: ', score )\n",
    "    bi = getBinIndex( score )\n",
    "    if printAll:  print( 'binIndex: ', bi )\n",
    "\n",
    "    # Get 11 random values between 0 and 1\n",
    "    randTimeVals = np.random.rand( 11 )\n",
    "    randVisVals = np.random.rand( 27 )\n",
    "\n",
    "    # boolean if it's above or below the cutoff ratio\n",
    "    randTimeBool = randTimeVals < timeRatio[bi]\n",
    "    randVisBool = randVisVals < visRatio[bi]\n",
    "\n",
    "    # Verify at least one is true\n",
    "    if np.sum( randTimeBool ) == 0:\n",
    "        randTimeBool[5] = True\n",
    "    if np.sum( randVisBool ) == 0:\n",
    "        randVisBool[ np.random.randint(0,27) ] = True\n",
    "\n",
    "    # Print the values and booleans\n",
    "    if printAll:  \n",
    "        print( 'randTimeBool: ', randTimeBool )\n",
    "        print( 'randVisBool: ', randVisBool )\n",
    "\n",
    "        print( 'rimgList.shape: ', rimgList.shape )\n",
    "        print( 'rinitList.shape: ', rinitList.shape )\n",
    "\n",
    "    # Extract Visual chosen images\n",
    "    rimgList = rimgList[ randVisBool ]\n",
    "    rinitList = rinitList[ randVisBool ]\n",
    "\n",
    "    # Extract time chose images\n",
    "    rimgList = rimgList[ :, randTimeBool ]\n",
    "    rinitList = rinitList[ :, randTimeBool ]\n",
    "\n",
    "    if printAll:  \n",
    "        print( 'New rimgList.shape: ', rimgList.shape )\n",
    "        print( 'New rinitList.shape: ', rinitList.shape )\n",
    "\n",
    "    # Reshape \n",
    "    rimgList = rimgList.reshape( ( -1, 128, 128 ) )\n",
    "    rinitList = rinitList.reshape( ( -1, 128, 128 ) )\n",
    "\n",
    "    if printAll:  \n",
    "        print( 'Final rimgList.shape: ', rimgList.shape )\n",
    "        print( 'Final rinitList.shape: ', rinitList.shape )\n",
    "\n",
    "        \n",
    "    # Get info for images\n",
    "    iDict = { 'score' : score,\n",
    "                'model_data' : rInfo.rDict.get(\"model_data\"),\n",
    "                'run_id' : rInfo.get('run_id'),\n",
    "    }\n",
    "\n",
    "    rinfoList = []\n",
    "    for i in range( len( rimgList ) ):\n",
    "        rinfoList.append( iDict )\n",
    "\n",
    "    return ( rimgList, rinitList, rinfoList )\n",
    "\n",
    "rimgList, rinitList, rinfoList = getImageAndInfo( tInfo.getRunInfo(), sParam, printAll=True )\n",
    "\n",
    "rimgList2, rinitList2, rinfoList2 = getImageAndInfo( tInfo.getRunInfo('run_1000'), sParam, printAll=True )\n",
    "\n",
    "# Plot x random images from list\n",
    "for i,j in enumerate(range(0, 20, 5)):\n",
    "    plt.subplot(2,2,i+1)\n",
    "    plt.imshow( rimgList[j,:,:], cmap='gray' )"
   ]
  },
  {
   "cell_type": "code",
   "execution_count": null,
   "id": "d77e9677-3e2b-4721-8738-9cbbc20de282",
   "metadata": {},
   "outputs": [],
   "source": [
    "# Modifying info real quick. "
   ]
  },
  {
   "cell_type": "code",
   "execution_count": 20,
   "id": "b9d1d1c4-14d4-4bf3-a0aa-9e89d2c0a912",
   "metadata": {},
   "outputs": [
    {
     "name": "stdout",
     "output_type": "stream",
     "text": [
      "N:  1293\n",
      "RID:   run_0706 1293 (16.943073272705078, 62.831932067871094, 34.6)\r"
     ]
    },
    {
     "ename": "ValueError",
     "evalue": "Cannot load file containing pickled data when allow_pickle=False",
     "output_type": "error",
     "traceback": [
      "\u001b[0;31m---------------------------------------------------------------------------\u001b[0m",
      "\u001b[0;31mValueError\u001b[0m                                Traceback (most recent call last)",
      "Cell \u001b[0;32mIn[20], line 27\u001b[0m\n\u001b[1;32m     24\u001b[0m     \u001b[38;5;28mprint\u001b[39m(\u001b[38;5;124m\"\u001b[39m\u001b[38;5;124mERROR: rid: \u001b[39m\u001b[38;5;124m\"\u001b[39m, rId )\n\u001b[1;32m     25\u001b[0m     \u001b[38;5;28;01mcontinue\u001b[39;00m\n\u001b[0;32m---> 27\u001b[0m rimgList, rinitList, rinfoList \u001b[38;5;241m=\u001b[39m \u001b[43mgetImageAndInfo\u001b[49m\u001b[43m(\u001b[49m\u001b[43m \u001b[49m\u001b[43mrInfo\u001b[49m\u001b[43m,\u001b[49m\u001b[43m \u001b[49m\u001b[43msParam\u001b[49m\u001b[43m,\u001b[49m\u001b[43m \u001b[49m\u001b[43mprintAll\u001b[49m\u001b[38;5;241;43m=\u001b[39;49m\u001b[43mprintAll\u001b[49m\u001b[43m \u001b[49m\u001b[43m)\u001b[49m\n\u001b[1;32m     30\u001b[0m \u001b[38;5;66;03m# Add to list\u001b[39;00m\n\u001b[1;32m     31\u001b[0m imgList\u001b[38;5;241m.\u001b[39mextend( rimgList )\n",
      "Cell \u001b[0;32mIn[19], line 5\u001b[0m, in \u001b[0;36mgetImageAndInfo\u001b[0;34m(rInfo, sParam, printAll)\u001b[0m\n\u001b[1;32m      2\u001b[0m \u001b[38;5;28;01mif\u001b[39;00m printAll:  \u001b[38;5;28mprint\u001b[39m( rInfo\u001b[38;5;241m.\u001b[39mrDict )\n\u001b[1;32m      4\u001b[0m \u001b[38;5;66;03m# Get imags\u001b[39;00m\n\u001b[0;32m----> 5\u001b[0m rimgList, rinitList \u001b[38;5;241m=\u001b[39m \u001b[43mgetManyImages\u001b[49m\u001b[43m(\u001b[49m\u001b[43m \u001b[49m\u001b[43mrInfo\u001b[49m\u001b[43m,\u001b[49m\u001b[43m \u001b[49m\u001b[43msParam\u001b[49m\u001b[43m \u001b[49m\u001b[43m)\u001b[49m\n\u001b[1;32m      7\u001b[0m \u001b[38;5;66;03m# Get bin based on score\u001b[39;00m\n\u001b[1;32m      8\u001b[0m score \u001b[38;5;241m=\u001b[39m rInfo\u001b[38;5;241m.\u001b[39mrDict\u001b[38;5;241m.\u001b[39mget(\u001b[38;5;124m\"\u001b[39m\u001b[38;5;124mzoo_merger_score\u001b[39m\u001b[38;5;124m\"\u001b[39m)\n",
      "Cell \u001b[0;32mIn[18], line 18\u001b[0m, in \u001b[0;36mgetManyImages\u001b[0;34m(rInfo, sParam)\u001b[0m\n\u001b[1;32m     15\u001b[0m         initList\u001b[38;5;241m.\u001b[39mappend( tmpImg )\n\u001b[1;32m     17\u001b[0m \u001b[38;5;28;01melif\u001b[39;00m \u001b[38;5;124m'\u001b[39m\u001b[38;5;124mmany\u001b[39m\u001b[38;5;124m'\u001b[39m \u001b[38;5;129;01min\u001b[39;00m key:\n\u001b[0;32m---> 18\u001b[0m     tmpImg \u001b[38;5;241m=\u001b[39m \u001b[43mrInfo\u001b[49m\u001b[38;5;241;43m.\u001b[39;49m\u001b[43mgetModelImage\u001b[49m\u001b[43m(\u001b[49m\u001b[43m \u001b[49m\u001b[43mkey\u001b[49m\u001b[43m,\u001b[49m\u001b[43m \u001b[49m\u001b[43mimgType\u001b[49m\u001b[43m \u001b[49m\u001b[38;5;241;43m=\u001b[39;49m\u001b[43m \u001b[49m\u001b[38;5;124;43m'\u001b[39;49m\u001b[38;5;124;43mmany_endings\u001b[39;49m\u001b[38;5;124;43m'\u001b[39;49m\u001b[43m \u001b[49m\u001b[43m)\u001b[49m\n\u001b[1;32m     19\u001b[0m     \u001b[38;5;28;01mif\u001b[39;00m \u001b[38;5;28mtype\u001b[39m( tmpImg ) \u001b[38;5;241m!=\u001b[39m \u001b[38;5;28mtype\u001b[39m( \u001b[38;5;28;01mNone\u001b[39;00m ):\n\u001b[1;32m     20\u001b[0m         imgList\u001b[38;5;241m.\u001b[39mappend( tmpImg )\n",
      "File \u001b[0;32m~/galStuff/galaxyJSPAM/Notebooks/../Support_Code/info_module.py:534\u001b[0m, in \u001b[0;36mrun_info_class.getModelImage\u001b[0;34m(self, imgName, imgType, toType, overWrite)\u001b[0m\n\u001b[1;32m    532\u001b[0m     img \u001b[38;5;241m=\u001b[39m gm\u001b[38;5;241m.\u001b[39mreadImg(imgLoc, toType\u001b[38;5;241m=\u001b[39mtoType)\n\u001b[1;32m    533\u001b[0m \u001b[38;5;28;01melif\u001b[39;00m imgType \u001b[38;5;241m==\u001b[39m \u001b[38;5;124m'\u001b[39m\u001b[38;5;124mmany_endings\u001b[39m\u001b[38;5;124m'\u001b[39m:\n\u001b[0;32m--> 534\u001b[0m     img \u001b[38;5;241m=\u001b[39m \u001b[43mnp\u001b[49m\u001b[38;5;241;43m.\u001b[39;49m\u001b[43mload\u001b[49m\u001b[43m(\u001b[49m\u001b[43m \u001b[49m\u001b[43mimgLoc\u001b[49m\u001b[43m \u001b[49m\u001b[43m)\u001b[49m[\u001b[38;5;124m'\u001b[39m\u001b[38;5;124marr_0\u001b[39m\u001b[38;5;124m'\u001b[39m]\n\u001b[1;32m    536\u001b[0m \u001b[38;5;66;03m# Store image if called upon later           \u001b[39;00m\n\u001b[1;32m    537\u001b[0m \u001b[38;5;28;01mif\u001b[39;00m imgType \u001b[38;5;241m==\u001b[39m \u001b[38;5;124m'\u001b[39m\u001b[38;5;124minit\u001b[39m\u001b[38;5;124m'\u001b[39m: \u001b[38;5;28mself\u001b[39m\u001b[38;5;241m.\u001b[39minit[imgName] \u001b[38;5;241m=\u001b[39m img\n",
      "File \u001b[0;32m/opt/conda/lib/python3.10/site-packages/numpy/lib/npyio.py:438\u001b[0m, in \u001b[0;36mload\u001b[0;34m(file, mmap_mode, allow_pickle, fix_imports, encoding, max_header_size)\u001b[0m\n\u001b[1;32m    435\u001b[0m \u001b[38;5;28;01melse\u001b[39;00m:\n\u001b[1;32m    436\u001b[0m     \u001b[38;5;66;03m# Try a pickle\u001b[39;00m\n\u001b[1;32m    437\u001b[0m     \u001b[38;5;28;01mif\u001b[39;00m \u001b[38;5;129;01mnot\u001b[39;00m allow_pickle:\n\u001b[0;32m--> 438\u001b[0m         \u001b[38;5;28;01mraise\u001b[39;00m \u001b[38;5;167;01mValueError\u001b[39;00m(\u001b[38;5;124m\"\u001b[39m\u001b[38;5;124mCannot load file containing pickled data \u001b[39m\u001b[38;5;124m\"\u001b[39m\n\u001b[1;32m    439\u001b[0m                          \u001b[38;5;124m\"\u001b[39m\u001b[38;5;124mwhen allow_pickle=False\u001b[39m\u001b[38;5;124m\"\u001b[39m)\n\u001b[1;32m    440\u001b[0m     \u001b[38;5;28;01mtry\u001b[39;00m:\n\u001b[1;32m    441\u001b[0m         \u001b[38;5;28;01mreturn\u001b[39;00m pickle\u001b[38;5;241m.\u001b[39mload(fid, \u001b[38;5;241m*\u001b[39m\u001b[38;5;241m*\u001b[39mpickle_kwargs)\n",
      "\u001b[0;31mValueError\u001b[0m: Cannot load file containing pickled data when allow_pickle=False"
     ]
    }
   ],
   "source": [
    "\n",
    "rDicts = tInfo.get('zoo_merger_models')\n",
    "\n",
    "n = len( rDicts.keys() )\n",
    "print( 'N: ', n )\n",
    "\n",
    "imgList = []\n",
    "initList = []\n",
    "infoList = []\n",
    "\n",
    "printAll = False\n",
    "\n",
    "for i, rId in enumerate(rDicts):\n",
    "    \n",
    "    if rId == None:\n",
    "        print(\"ERROR: rid: \", rId )\n",
    "        continue\n",
    "    \n",
    "    rInfo = tInfo.getRunInfo( rId )\n",
    "    if type( rInfo ) == type( None ):\n",
    "        print(\"ERROR: rid: \", rId )\n",
    "        continue\n",
    "\n",
    "    if rInfo.status == False:\n",
    "        print(\"ERROR: rid: \", rId )\n",
    "        continue\n",
    "        \n",
    "    rimgList, rinitList, rinfoList = getImageAndInfo( rInfo, sParam, printAll=printAll )\n",
    "\n",
    "\n",
    "    # Add to list\n",
    "    imgList.extend( rimgList )\n",
    "    initList.extend( rinitList )\n",
    "    infoList.extend( rinfoList )\n",
    "    \n",
    "    print( 'RID:  ', rId, n, getMemUsage(), end='\\r' )\n",
    "    \n",
    "    # if i > 0: break\n",
    "\n",
    "print( '\\n\\nDone' )\n",
    "print( 'imgList: ', len(imgList) )\n",
    "print( 'initList: ', len(initList) )\n",
    "print( 'infoList: ', len(infoList) )\n",
    "\n"
   ]
  },
  {
   "cell_type": "code",
   "execution_count": 15,
   "id": "f810eaef-b242-4b22-9b0d-42ead8c59490",
   "metadata": {},
   "outputs": [
    {
     "name": "stdout",
     "output_type": "stream",
     "text": [
      "[46802  4930  1697 22639 14856 46991 21783  9920 11556 21211]\n"
     ]
    },
    {
     "data": {
      "image/png": "[encoded data removed]",
      "text/plain": [
       "<Figure size 360x1080 with 20 Axes>"
      ]
     },
     "metadata": {
      "needs_background": "light"
     },
     "output_type": "display_data"
    }
   ],
   "source": [
    "# Plot X random images from image list\n",
    "x = 10\n",
    "n = len( imgList )\n",
    "randVals = np.random.randint( 0, n, x )\n",
    "print( randVals )\n",
    "\n",
    "plt.rcParams['figure.figsize'] = [5, 15]\n",
    "\n",
    "# Plot 8 random images\n",
    "for i,j in enumerate(randVals):\n",
    "    plt.subplot(x,2,2*i+1)\n",
    "    plt.imshow( imgList[j], cmap='gray' )\n",
    "    plt.subplot(x,2,2*i+2)\n",
    "    plt.imshow( initList[j], cmap='gray' )\n",
    "\n"
   ]
  },
  {
   "cell_type": "code",
   "execution_count": 37,
   "id": "c9615280-c6f0-4971-8de5-8bea2432b9a6",
   "metadata": {},
   "outputs": [
    {
     "name": "stderr",
     "output_type": "stream",
     "text": [
      "/tmp/ipykernel_599304/3786355309.py:2: DeprecationWarning: `np.float` is a deprecated alias for the builtin `float`. To silence this warning, use `float` by itself. Doing this will not modify any behavior and is safe. If you specifically wanted the numpy scalar type, use `np.float64` here.\n",
      "Deprecated in NumPy 1.20; for more details and guidance: https://numpy.org/devdocs/release/1.20.0-notes.html#deprecations\n",
      "  scores = np.array( scores ).astype( np.float )\n"
     ]
    }
   ],
   "source": [
    "scores = [ d['score'] for d in infoList ]\n",
    "scores = np.array( scores ).astype( np.float )"
   ]
  },
  {
   "cell_type": "code",
   "execution_count": 39,
   "id": "8b79a196-2c91-47b8-a6bf-a461ef39068d",
   "metadata": {},
   "outputs": [
    {
     "name": "stdout",
     "output_type": "stream",
     "text": [
      "0.9459459459459459 <class 'numpy.float64'>\n"
     ]
    },
    {
     "data": {
      "image/png": "[encoded data removed]",
      "text/plain": [
       "<Figure size 360x1080 with 1 Axes>"
      ]
     },
     "metadata": {
      "needs_background": "light"
     },
     "output_type": "display_data"
    }
   ],
   "source": [
    "\n",
    "# plt.hist( scores, bins=5, )\n",
    "plt.hist( scores, bins=5, range=(0,1) )\n",
    "\n",
    "print( scores[0], type( scores[0] ) )"
   ]
  },
  {
   "cell_type": "code",
   "execution_count": 41,
   "id": "b4450d8f-559a-4071-b3dc-681c7e85086b",
   "metadata": {},
   "outputs": [],
   "source": [
    "imgList = np.array( imgList )\n",
    "initList = np.array( initList )"
   ]
  },
  {
   "cell_type": "code",
   "execution_count": 49,
   "id": "8a4534bd-91fa-4bc1-a7fa-338c43a30af4",
   "metadata": {},
   "outputs": [
    {
     "name": "stdout",
     "output_type": "stream",
     "text": [
      "/home/mbo2d/galStuff/galaxyJSPAM/Notebooks\n"
     ]
    }
   ],
   "source": [
    "# np.savez_compressed( imgLoc, img )\n",
    "\n",
    "print( os.getcwd() )\n",
    "\n",
    "dataLoc = \"/home/mbo2d/galStuff/data-dir/\"\n",
    "\n",
    "imgLoc = dataLoc + 'img'\n",
    "initLoc = dataLoc + 'init'\n",
    "\n",
    "np.savez_compressed( imgLoc, imgList )\n",
    "np.savez_compressed( initLoc, initList )"
   ]
  },
  {
   "cell_type": "code",
   "execution_count": 44,
   "id": "d531a78e-7926-4778-83ed-350dcd7a5471",
   "metadata": {},
   "outputs": [
    {
     "name": "stdout",
     "output_type": "stream",
     "text": [
      "done\n"
     ]
    }
   ],
   "source": [
    "print( 'done' )"
   ]
  },
  {
   "cell_type": "code",
   "execution_count": 47,
   "id": "69f418c5-534f-4d0b-b2b1-61fb86527d87",
   "metadata": {},
   "outputs": [],
   "source": [
    "infoDict = { 'info' : infoList } \n",
    "\n",
    "gm.saveJson( infoDict, dataLoc + 'info.json' )"
   ]
  },
  {
   "cell_type": "code",
   "execution_count": 2,
   "id": "0b7aba87-1637-4bc4-8226-569ad59c45b0",
   "metadata": {},
   "outputs": [],
   "source": [
    "dataLoc = \"/home/mbo2d/galStuff/data-dir/\"\n"
   ]
  },
  {
   "cell_type": "code",
   "execution_count": 23,
   "id": "db3c36ff-2975-4d48-b232-d0f6c6012d9a",
   "metadata": {},
   "outputs": [
    {
     "name": "stdout",
     "output_type": "stream",
     "text": [
      "<class 'str'> <class 'numpy.ndarray'> <class 'numpy.ndarray'>\n"
     ]
    }
   ],
   "source": [
    "dataLoc = \"/home/mbo2d/galStuff/data-dir/\"\n",
    "infoDict = dataLoc + 'info.json'\n",
    "imgData = np.load( dataLoc + 'img.npz' )['arr_0']\n",
    "iniData = np.load( dataLoc + 'init.npz' )['arr_0']\n",
    "\n",
    "print( type( infoDict ), type( imgData ), type( iniData ) )"
   ]
  },
  {
   "cell_type": "code",
   "execution_count": 24,
   "id": "b0f7b533-1011-4f70-a9f3-e05f1b88cef1",
   "metadata": {},
   "outputs": [
    {
     "name": "stdout",
     "output_type": "stream",
     "text": [
      "img:  (52814, 128, 128)\n",
      "ini:  (52814, 128, 128)\n"
     ]
    }
   ],
   "source": [
    "print( 'img: ', imgData.shape )\n",
    "print( 'ini: ', iniData.shape )"
   ]
  },
  {
   "cell_type": "code",
   "execution_count": 25,
   "id": "4557e1e2-33dc-46d2-80c7-94ee1782856e",
   "metadata": {},
   "outputs": [
    {
     "name": "stdout",
     "output_type": "stream",
     "text": [
      "<class 'numpy.ndarray'>\n"
     ]
    }
   ],
   "source": [
    "tImg = tInfo.getTargetImage( 'dl-s2-0' )\n",
    "print( type( tImg ) )"
   ]
  },
  {
   "cell_type": "code",
   "execution_count": 26,
   "id": "b9215fae-53ee-4a6f-a99c-a2667089d9f7",
   "metadata": {},
   "outputs": [
    {
     "name": "stdout",
     "output_type": "stream",
     "text": [
      "(128, 128)\n"
     ]
    }
   ],
   "source": [
    "print( tImg.shape )"
   ]
  },
  {
   "cell_type": "code",
   "execution_count": 27,
   "id": "7aabddd4-273d-4f0e-a5b3-f3be95dfbd16",
   "metadata": {},
   "outputs": [
    {
     "name": "stdout",
     "output_type": "stream",
     "text": [
      "data:  (52814, 128, 128, 3)\n"
     ]
    }
   ],
   "source": [
    "data = np.zeros( ( imgData.shape[0], 128, 128, 3 ) )\n",
    "print( 'data: ', data.shape )"
   ]
  },
  {
   "cell_type": "code",
   "execution_count": 28,
   "id": "347a0948-1dc2-43d3-a5db-ebe3816a5086",
   "metadata": {},
   "outputs": [
    {
     "name": "stdout",
     "output_type": "stream",
     "text": [
      "52813 52814\n",
      "Done\n"
     ]
    }
   ],
   "source": [
    "for i in range( imgData.shape[0] ):\n",
    "    # Load target image\n",
    "    data[i,:,:,0] = tImg[:,:]\n",
    "    \n",
    "    # Load Model Image\n",
    "    data[i,:,:,1] = imgData[i,:,:]\n",
    "    \n",
    "    # Load Init Image\n",
    "    data[i,:,:,2] = iniData[i,:,:]\n",
    "    \n",
    "    print( i, imgData.shape[0], end='\\r' )\n",
    "    \n",
    "print('\\nDone')"
   ]
  },
  {
   "cell_type": "code",
   "execution_count": 34,
   "id": "8688df3a-7943-4319-a552-9620f01efb4c",
   "metadata": {},
   "outputs": [
    {
     "data": {
      "text/plain": [
       "<matplotlib.image.AxesImage at 0x7fd312ea0dc0>"
      ]
     },
     "execution_count": 34,
     "metadata": {},
     "output_type": "execute_result"
    },
    {
     "data": {
      "image/png": "[encoded data removed]",
      "text/plain": [
       "<Figure size 432x288 with 1 Axes>"
      ]
     },
     "metadata": {
      "needs_background": "light"
     },
     "output_type": "display_data"
    }
   ],
   "source": [
    "plt.imshow( data[0] )"
   ]
  },
  {
   "cell_type": "code",
   "execution_count": 35,
   "id": "7c60db2f-d286-49c2-b18c-829ea591eb9b",
   "metadata": {},
   "outputs": [
    {
     "name": "stdout",
     "output_type": "stream",
     "text": [
      "1.0 0.0\n"
     ]
    }
   ],
   "source": [
    "print( np.amax( data ), np.amin( data ) )"
   ]
  },
  {
   "cell_type": "code",
   "execution_count": 36,
   "id": "f76f6d1c-d953-4db7-9cd1-c2a229ba5adb",
   "metadata": {},
   "outputs": [
    {
     "name": "stdout",
     "output_type": "stream",
     "text": [
      "255.0 0.0\n"
     ]
    }
   ],
   "source": [
    "data *= 255\n",
    "print( np.amax( data ), np.amin( data ) )\n"
   ]
  },
  {
   "cell_type": "code",
   "execution_count": 37,
   "id": "05fb018d-c3f8-4e22-80af-21076b6a4fc4",
   "metadata": {},
   "outputs": [
    {
     "name": "stdout",
     "output_type": "stream",
     "text": [
      "255 0\n"
     ]
    }
   ],
   "source": [
    "data = data.astype( np.uint8 )\n",
    "print( np.amax( data ), np.amin( data ) )\n"
   ]
  },
  {
   "cell_type": "code",
   "execution_count": 38,
   "id": "f4800b54-75a2-4684-a7ee-287021d9e223",
   "metadata": {},
   "outputs": [
    {
     "name": "stdout",
     "output_type": "stream",
     "text": [
      "Saved\n"
     ]
    }
   ],
   "source": [
    "np.savez_compressed( dataLoc + 'dl-s2-2', data )\n",
    "print(\"Saved\")"
   ]
  },
  {
   "cell_type": "code",
   "execution_count": 39,
   "id": "f446fd26-dea3-42c4-86a1-eb1133aea1ed",
   "metadata": {},
   "outputs": [
    {
     "name": "stdout",
     "output_type": "stream",
     "text": [
      "(1057, 128, 128, 3)\n",
      "done\n"
     ]
    }
   ],
   "source": [
    "# Save smaller file for dev work\n",
    "data3 = data[::50]\n",
    "print( data3.shape )\n",
    "np.savez_compressed( dataLoc + 'dl-s2-3', data3 )\n",
    "print( 'done' )\n"
   ]
  },
  {
   "cell_type": "code",
   "execution_count": 4,
   "id": "ac991b8a-393d-49be-bc7a-f55b96255596",
   "metadata": {},
   "outputs": [
    {
     "name": "stdout",
     "output_type": "stream",
     "text": [
      "dict_keys(['info'])\n"
     ]
    }
   ],
   "source": [
    "import json\n",
    "dataLoc = \"/home/mbo2d/galStuff/data-dir/\"\n",
    "\n",
    "with open( dataLoc + 'info.json' ) as keyFile:\n",
    "    info = json.load( keyFile )\n",
    "\n",
    "print( info.keys() )"
   ]
  },
  {
   "cell_type": "code",
   "execution_count": 8,
   "id": "062ad499-3121-4227-8276-df31e04e9f4d",
   "metadata": {},
   "outputs": [
    {
     "name": "stdout",
     "output_type": "stream",
     "text": [
      "done\n"
     ]
    }
   ],
   "source": [
    "# Fix string scores to float scores\n",
    "\n",
    "for i, ii in enumerate( info['info'] ):\n",
    "    info['info'][i]['score'] = float ( info['info'][i]['score'] )\n",
    "\n",
    "print( 'done' )"
   ]
  },
  {
   "cell_type": "code",
   "execution_count": 9,
   "id": "e42560a7-ae74-44d7-93a3-6e3c559b3eec",
   "metadata": {},
   "outputs": [],
   "source": [
    "with open( dataLoc + 'dl-s2-2.json', 'w' ) as keyFile:\n",
    "    json.dump( info, keyFile )"
   ]
  },
  {
   "cell_type": "code",
   "execution_count": 10,
   "id": "58810fff-efe2-4068-b215-d4dbd21d348a",
   "metadata": {},
   "outputs": [
    {
     "name": "stdout",
     "output_type": "stream",
     "text": [
      "<class 'dict'>\n"
     ]
    }
   ],
   "source": [
    "\n",
    "info3List = [ ii for i, ii in enumerate(info['info']) if i % 50 == 0  ]\n",
    "info3 = { 'info' : info3List }\n",
    "\n",
    "print( type( info3 ) )"
   ]
  },
  {
   "cell_type": "code",
   "execution_count": 11,
   "id": "a4916e9c-96d4-44a8-be3c-5f27dfd43df0",
   "metadata": {},
   "outputs": [
    {
     "name": "stdout",
     "output_type": "stream",
     "text": [
      "<class 'list'>\n",
      "1057\n"
     ]
    }
   ],
   "source": [
    "print( type( info3['info'] ) )\n",
    "print( len( info3['info'] ) )"
   ]
  },
  {
   "cell_type": "code",
   "execution_count": 12,
   "id": "ceec704b-13d2-4165-8446-ac53e2ca2e1b",
   "metadata": {},
   "outputs": [],
   "source": [
    "\n",
    "with open( dataLoc + 'dl-s2-3.json', 'w' ) as keyFile:\n",
    "    json.dump( info3, keyFile )"
   ]
  },
  {
   "cell_type": "code",
   "execution_count": 13,
   "id": "1d0f305d-0e2b-4c11-8a36-59e7b001f83d",
   "metadata": {},
   "outputs": [
    {
     "name": "stdout",
     "output_type": "stream",
     "text": [
      "yay\n"
     ]
    }
   ],
   "source": [
    "print('yay')"
   ]
  },
  {
   "cell_type": "code",
   "execution_count": null,
   "id": "c436aa74-14b5-4a20-93bc-7fd17b774572",
   "metadata": {},
   "outputs": [],
   "source": []
  }
 ],
 "metadata": {
  "kernelspec": {
   "display_name": "Python 3",
   "language": "python",
   "name": "python3"
  },
  "language_info": {
   "codemirror_mode": {
    "name": "ipython",
    "version": 3
   },
   "file_extension": ".py",
   "mimetype": "text/x-python",
   "name": "python",
   "nbconvert_exporter": "python",
   "pygments_lexer": "ipython3",
   "version": "3.10.8"
  },
  "vscode": {
   "interpreter": {
    "hash": "d4d1e4263499bec80672ea0156c357c1ee493ec2b1c70f0acce89fc37c4a6abe"
   }
  }
 },
 "nbformat": 4,
 "nbformat_minor": 5
}
