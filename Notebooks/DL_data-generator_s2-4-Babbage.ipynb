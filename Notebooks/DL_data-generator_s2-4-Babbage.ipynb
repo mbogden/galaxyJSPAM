{
 "cells": [
  {
   "cell_type": "markdown",
   "id": "immune-needle",
   "metadata": {},
   "source": [
    "# Many Endings with different Image creation values\n",
    "\n",
    "## Step 1.1\n",
    "### Load nessecary modules"
   ]
  },
  {
   "cell_type": "code",
   "execution_count": 24,
   "id": "canadian-spine",
   "metadata": {},
   "outputs": [
    {
     "name": "stderr",
     "output_type": "stream",
     "text": [
      "Matplotlib created a temporary config/cache directory at /tmp/matplotlib-j0y07sl7 because the default path (/home/jovyan/.cache/matplotlib) is not a writable directory; it is highly recommended to set the MPLCONFIGDIR environment variable to a writable directory, in particular to speed up the import of Matplotlib and to better support multiprocessing.\n"
     ]
    },
    {
     "name": "stdout",
     "output_type": "stream",
     "text": [
      "SIMR: Hi!  You're in Matthew's main program for all things galaxy collisions\n",
      "GM: Hi!  You're in Matthew's module for generally useful functions and classes\n",
      "SIM: Hi!  You're in Matthew's main code for all things simulation.\n",
      "IMG: Hi!  You're in Matthew's main code for all things image creation.\n",
      "MS: Hi!  You're in Matthew's SIMR module for all things machine scoring images\n",
      "DC: Hi!  You're in direct_image_compare.py\n",
      "SA: Hi!  You're in Matthew's Main program for score analysis!\n"
     ]
    }
   ],
   "source": [
    "# Add python modules\n",
    "import numpy as np\n",
    "import os\n",
    "import cv2\n",
    "import matplotlib.pyplot as plt\n",
    "from copy import deepcopy\n",
    "# Add parent directory for custom modules\n",
    "from sys import path as sysPath\n",
    "sysPath.append('../')\n",
    "sysPath.append('../Machine_Score/')\n",
    "\n",
    "# Load custom modules that simr has loaded\n",
    "import main_SIMR as SIMR\n",
    "gm = SIMR.gm\n",
    "im = SIMR.im\n",
    "SIM = SIMR.SIM\n",
    "IMG = SIMR.IMG\n",
    "ms = SIMR.ms\n",
    "sa = SIMR.sa\n",
    "dc = SIMR.ms.dc\n",
    "\n",
    "SIMR.test()\n",
    "gm.test()\n",
    "SIM.test()\n",
    "IMG.test()\n",
    "ms.test()\n",
    "dc.test()\n",
    "sa.test()"
   ]
  },
  {
   "cell_type": "markdown",
   "id": "gorgeous-bicycle",
   "metadata": {},
   "source": [
    "___\n",
    "## Step 1.2\n",
    "### Load Sample Target and Run Info class\n",
    "Needed for loading the target image and running through models later."
   ]
  },
  {
   "cell_type": "code",
   "execution_count": 25,
   "id": "spread-jordan",
   "metadata": {},
   "outputs": [
    {
     "name": "stdout",
     "output_type": "stream",
     "text": [
      "Target Good!: 587722984435351614\n",
      "Run 'run_0000' Good!\n"
     ]
    }
   ],
   "source": [
    "tDir = '../targetDir/'\n",
    "#tDir = '../dataDir/588013383816904792/'\n",
    "tDir = gm.validPath(tDir)\n",
    "\n",
    "tInfo = im.target_info_class( targetDir = tDir, printAll=False)\n",
    "if tInfo.status == False:\n",
    "    print(\"WARNING: target info class bad\")\n",
    "else:\n",
    "    print(\"Target Good!: %s\" % tInfo.get('target_id'))\n",
    "    \n",
    "# Get run info class\n",
    "rInfo = tInfo.getRunInfo( )\n",
    "\n",
    "if rInfo.status == False:\n",
    "    print(\"WARNING\")\n",
    "else:\n",
    "    print(\"Run '%s' Good!\"%rInfo.get('run_id'))"
   ]
  },
  {
   "cell_type": "markdown",
   "id": "invalid-diabetes",
   "metadata": {},
   "source": [
    "___\n",
    "## Step 2\n",
    "### Load a starting Image parameter set"
   ]
  },
  {
   "cell_type": "code",
   "execution_count": 3,
   "id": "8ecb4d69-251c-4a3f-b1a3-2317968f0ef6",
   "metadata": {},
   "outputs": [
    {
     "data": {
      "text/plain": [
       "(0.8724365234375, 62.67174530029297, 4.7)"
      ]
     },
     "execution_count": 3,
     "metadata": {},
     "output_type": "execute_result"
    }
   ],
   "source": [
    "# Get memory usage\n",
    "def getMemUsage():\n",
    "    import psutil\n",
    "    mem = psutil.virtual_memory()\n",
    "    memUsed = mem.used / 1024**3\n",
    "    memTotal = mem.total / 1024**3\n",
    "    memPercent = mem.percent\n",
    "    # return memPercent\n",
    "    return memUsed, memTotal, memPercent\n",
    "    # print( 'memUsed: ', memUsed )\n",
    "    # print( 'memTotal: ', memTotal )\n",
    "    # print( 'memPercent: ', memPercent )\n",
    "\n",
    "getMemUsage()"
   ]
  },
  {
   "cell_type": "code",
   "execution_count": 4,
   "id": "5196ca9d-6b8a-4807-9079-7117af729a2f",
   "metadata": {},
   "outputs": [
    {
     "name": "stdout",
     "output_type": "stream",
     "text": [
      "dl-s2-1-base-0\n",
      "dl-s2-1-base-1\n",
      "dl-s2-1-base-2\n",
      "dl-s2-1-base-3\n",
      "dl-s2-1-base-4\n",
      "dl-s2-1-base-5\n",
      "dl-s2-1-base-6\n",
      "dl-s2-1-base-7\n",
      "dl-s2-1-base-8\n",
      "dl-s2-1-base-9\n",
      "dl-s2-1-base-10\n",
      "dl-s2-1-base-11\n",
      "dl-s2-1-base-12\n",
      "dl-s2-1-base-13\n",
      "dl-s2-1-base-14\n",
      "dl-s2-1-base-15\n",
      "dl-s2-1-base-16\n",
      "dl-s2-1-base-17\n",
      "dl-s2-1-base-18\n",
      "dl-s2-1-base-19\n",
      "dl-s2-1-base-20\n",
      "dl-s2-1-base-21\n",
      "dl-s2-1-base-22\n",
      "dl-s2-1-base-23\n",
      "dl-s2-1-base-24\n",
      "dl-s2-1-base-25\n",
      "dl-s2-1-base-26\n",
      "dl-s2-1-many-0\n",
      "dl-s2-1-many-1\n",
      "dl-s2-1-many-2\n",
      "dl-s2-1-many-3\n",
      "dl-s2-1-many-4\n",
      "dl-s2-1-many-5\n",
      "dl-s2-1-many-6\n",
      "dl-s2-1-many-7\n",
      "dl-s2-1-many-8\n",
      "dl-s2-1-many-9\n",
      "dl-s2-1-many-10\n",
      "dl-s2-1-many-11\n",
      "dl-s2-1-many-12\n",
      "dl-s2-1-many-13\n",
      "dl-s2-1-many-14\n",
      "dl-s2-1-many-15\n",
      "dl-s2-1-many-16\n",
      "dl-s2-1-many-17\n",
      "dl-s2-1-many-18\n",
      "dl-s2-1-many-19\n",
      "dl-s2-1-many-20\n",
      "dl-s2-1-many-21\n",
      "dl-s2-1-many-22\n",
      "dl-s2-1-many-23\n",
      "dl-s2-1-many-24\n",
      "dl-s2-1-many-25\n",
      "dl-s2-1-many-26\n"
     ]
    }
   ],
   "source": [
    "sParam = tInfo.readScoreParam( 'dl-s2-1' )\n",
    "for key in sParam:\n",
    "    print( key )"
   ]
  },
  {
   "cell_type": "code",
   "execution_count": 5,
   "id": "fa325bb5-b2b8-48c8-8d77-74114ea965d2",
   "metadata": {},
   "outputs": [
    {
     "data": {
      "text/plain": [
       "(0.8723297119140625, 62.67174530029297, 4.7)"
      ]
     },
     "execution_count": 5,
     "metadata": {},
     "output_type": "execute_result"
    }
   ],
   "source": [
    "getMemUsage()"
   ]
  },
  {
   "cell_type": "code",
   "execution_count": 4,
   "id": "fe73665f-5dc8-41df-8c41-1b7cd648a536",
   "metadata": {},
   "outputs": [
    {
     "name": "stdout",
     "output_type": "stream",
     "text": [
      "dataLoc:  /home/mbo2d/galStuff/data-dir/\n",
      "Info:  dict_keys(['info']) 52814\n",
      "Imgs:  (52814, 128, 128, 3)\n"
     ]
    }
   ],
   "source": [
    "import numpy as np, json\n",
    "dataLoc = \"/home/mbo2d/galStuff/data-dir/\"\n",
    "print(\"dataLoc: \", dataLoc )\n",
    "\n",
    "with open( dataLoc + 'dl-s2-2.json' ) as jFile: info = json.load( jFile )\n",
    "print( 'Info: ', info.keys(), len( info['info'] ) )\n",
    "\n",
    "imgs = np.load( dataLoc + 'dl-s2-2.npz' )['arr_0']\n",
    "print( 'Imgs: ', imgs.shape, type( imgs[0,0,0,0] )"
   ]
  },
  {
   "cell_type": "code",
   "execution_count": 17,
   "id": "4f65064b-29a5-4058-b13d-4301af897ea5",
   "metadata": {},
   "outputs": [
    {
     "name": "stdout",
     "output_type": "stream",
     "text": [
      "[7 0 9 8 1 2 5 3 6 4 3 8 0 5 2 4 1 7 6 9 1 2 4 6 5 7 0 9 8 3]\n",
      "[ 4  2  6  5  3  0  9  7  0  1  8  2  4  5  3  6 11 11 11 11 11 11 11 11\n",
      " 11 11 11 11 11 11]\n"
     ]
    }
   ],
   "source": [
    "# Create mask to place images in 10 even containers\n",
    "m = np.zeros( 52814 ).astype( np.uint8 )\n",
    "for i in range( 5280 ):\n",
    "    m[10*i:10*i+10] = np.random.permutation( 10 )\n",
    "\n",
    "# Ignore last 14 values for symmetry\n",
    "for i in range( 52800, 52814 ):\n",
    "    m[i] = 11\n",
    "    \n",
    "print( m[0:30] )\n",
    "print( m[-30:] )\n",
    "    \n",
    "    "
   ]
  },
  {
   "cell_type": "code",
   "execution_count": 26,
   "id": "478ce5fd-6ed6-4dd1-93a1-f563f6720878",
   "metadata": {},
   "outputs": [
    {
     "name": "stdout",
     "output_type": "stream",
     "text": [
      "587722984435351614\n"
     ]
    }
   ],
   "source": [
    "print( tInfo.get('target_id') )"
   ]
  },
  {
   "cell_type": "code",
   "execution_count": 28,
   "id": "8eb025a2-d93e-46c2-88d4-715bea57179c",
   "metadata": {},
   "outputs": [
    {
     "name": "stdout",
     "output_type": "stream",
     "text": [
      "0 5280\n",
      "1 5280\n",
      "2 5280\n",
      "3 5280\n",
      "4 5280\n",
      "5 5280\n",
      "6 5280\n",
      "7 5280\n",
      "8 5280\n",
      "9 5280\n"
     ]
    }
   ],
   "source": [
    "# Init Score List\n",
    "infoList = []\n",
    "for i in range( 10 ):\n",
    "    infoList.append( { 'info' : [] } )\n",
    "\n",
    "for i in range( 52800 ):\n",
    "    infoList[ m[i] ]['info'].append( info['info'][i] )\n",
    "    infoList[ m[i] ]['info'][-1]['target_id'] = tInfo.get('target_id')\n",
    "    \n",
    "\n",
    "for i in range( 10 ):\n",
    "    print( i, len( infoList[i]['info'] ) )"
   ]
  },
  {
   "cell_type": "code",
   "execution_count": 19,
   "id": "dae1178d-26db-4297-9c97-b891837434ce",
   "metadata": {},
   "outputs": [
    {
     "name": "stdout",
     "output_type": "stream",
     "text": [
      "(5280, 128, 128, 3)\n",
      "(5280, 128, 128, 3)\n",
      "(5280, 128, 128, 3)\n",
      "(5280, 128, 128, 3)\n",
      "(5280, 128, 128, 3)\n",
      "(5280, 128, 128, 3)\n",
      "(5280, 128, 128, 3)\n",
      "(5280, 128, 128, 3)\n",
      "(5280, 128, 128, 3)\n",
      "(5280, 128, 128, 3)\n"
     ]
    }
   ],
   "source": [
    "imgList = []\n",
    "for i in range(10):\n",
    "    imgList.append( imgs[ m == i ] )\n",
    "    print( imgList[-1].shape )"
   ]
  },
  {
   "cell_type": "code",
   "execution_count": 29,
   "id": "21c5b139-3489-4f1b-8253-7e82cf2eb8ed",
   "metadata": {},
   "outputs": [
    {
     "name": "stdout",
     "output_type": "stream",
     "text": [
      "0 5280 (5280, 128, 128, 3) <class 'numpy.uint8'>\n",
      "\t -  /home/mbo2d/galStuff/data-dir/dl-s2-10.npz /home/mbo2d/galStuff/data-dir/dl-s2-10.json\n",
      "1 5280 (5280, 128, 128, 3) <class 'numpy.uint8'>\n",
      "\t -  /home/mbo2d/galStuff/data-dir/dl-s2-11.npz /home/mbo2d/galStuff/data-dir/dl-s2-11.json\n",
      "2 5280 (5280, 128, 128, 3) <class 'numpy.uint8'>\n",
      "\t -  /home/mbo2d/galStuff/data-dir/dl-s2-12.npz /home/mbo2d/galStuff/data-dir/dl-s2-12.json\n",
      "3 5280 (5280, 128, 128, 3) <class 'numpy.uint8'>\n",
      "\t -  /home/mbo2d/galStuff/data-dir/dl-s2-13.npz /home/mbo2d/galStuff/data-dir/dl-s2-13.json\n",
      "4 5280 (5280, 128, 128, 3) <class 'numpy.uint8'>\n",
      "\t -  /home/mbo2d/galStuff/data-dir/dl-s2-14.npz /home/mbo2d/galStuff/data-dir/dl-s2-14.json\n",
      "5 5280 (5280, 128, 128, 3) <class 'numpy.uint8'>\n",
      "\t -  /home/mbo2d/galStuff/data-dir/dl-s2-15.npz /home/mbo2d/galStuff/data-dir/dl-s2-15.json\n",
      "6 5280 (5280, 128, 128, 3) <class 'numpy.uint8'>\n",
      "\t -  /home/mbo2d/galStuff/data-dir/dl-s2-16.npz /home/mbo2d/galStuff/data-dir/dl-s2-16.json\n",
      "7 5280 (5280, 128, 128, 3) <class 'numpy.uint8'>\n",
      "\t -  /home/mbo2d/galStuff/data-dir/dl-s2-17.npz /home/mbo2d/galStuff/data-dir/dl-s2-17.json\n",
      "8 5280 (5280, 128, 128, 3) <class 'numpy.uint8'>\n",
      "\t -  /home/mbo2d/galStuff/data-dir/dl-s2-18.npz /home/mbo2d/galStuff/data-dir/dl-s2-18.json\n",
      "9 5280 (5280, 128, 128, 3) <class 'numpy.uint8'>\n",
      "\t -  /home/mbo2d/galStuff/data-dir/dl-s2-19.npz /home/mbo2d/galStuff/data-dir/dl-s2-19.json\n"
     ]
    }
   ],
   "source": [
    "# Save as seperate files\n",
    "\n",
    "for i in range( 10 ):\n",
    "    print( i, len( infoList[i]['info'] ), imgList[i].shape, type(imgList[i][0,0,0,0]) )\n",
    "    imgLoc = dataLoc + 'dl-s2-1%d.npz'  % i\n",
    "    infLoc = dataLoc + 'dl-s2-1%d.json' % i\n",
    "    print( '\\t - ', imgLoc, infLoc )\n",
    "    # np.savez_compressed( imgLoc, imgList[i]  )\n",
    "    with open( infLoc , 'w' ) as jFile: json.dump( infoList[i], jFile )"
   ]
  },
  {
   "cell_type": "code",
   "execution_count": 31,
   "id": "5b95b120-927b-4f35-98c1-756bc352db8d",
   "metadata": {},
   "outputs": [
    {
     "name": "stdout",
     "output_type": "stream",
     "text": [
      "{'score': 0.9459459459459459, 'model_data': '-9.93853,-4.5805,3.27377,-0.50008,-2.45565,-1.07799,23.33004,24.69427,3.49825,5.32056,309.6923,36.8125,41.78471,51.42857,0.3,0.3,0.0,0.0,0.0,0.0,0.0,0.0,0.94594,0,0,0.18901,-22.47999,9.02372,0.0,1.0,0.0,0.0,0.0,0.0', 'run_id': 'run_0000', 'target_id': '587722984435351614'}\n"
     ]
    }
   ],
   "source": [
    "print( infoList[0]['info'][0] )"
   ]
  },
  {
   "cell_type": "code",
   "execution_count": null,
   "id": "7ee5f18f-7e3e-47ce-9500-cfd7882eed4b",
   "metadata": {},
   "outputs": [],
   "source": []
  }
 ],
 "metadata": {
  "kernelspec": {
   "display_name": "Python 3 (ipykernel)",
   "language": "python",
   "name": "python3"
  },
  "language_info": {
   "codemirror_mode": {
    "name": "ipython",
    "version": 3
   },
   "file_extension": ".py",
   "mimetype": "text/x-python",
   "name": "python",
   "nbconvert_exporter": "python",
   "pygments_lexer": "ipython3",
   "version": "3.10.5"
  },
  "vscode": {
   "interpreter": {
    "hash": "d4d1e4263499bec80672ea0156c357c1ee493ec2b1c70f0acce89fc37c4a6abe"
   }
  }
 },
 "nbformat": 4,
 "nbformat_minor": 5
}
