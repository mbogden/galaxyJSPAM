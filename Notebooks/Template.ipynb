{
 "cells": [
  {
   "cell_type": "code",
   "execution_count": 1,
   "id": "finished-serve",
   "metadata": {},
   "outputs": [
    {
     "name": "stdout",
     "output_type": "stream",
     "text": [
      "SA: Hi!  You're in Matthew's Main program for score analysis!\n",
      "GM: Hi!  You're in Matthew's module for generally useful functions and classes\n",
      "IM: Hi!  You're in Matthew Ogden's information module for SPAM\n",
      "IC: Hi!  You're in Matthew's main code for all things image creation.\n",
      "MS: Hi!  You're in Matthew's SIMR module for all things machine scoring images\n",
      "DI: Hi! Inside direct_image_compare.py\n",
      "SIMR: Hi!  You're in Matthew's main program for all things galaxy collisions\n"
     ]
    }
   ],
   "source": [
    "# Add parent directory\n",
    "from sys import path as sysPath\n",
    "sysPath.append('../')\n",
    "\n",
    "# Add custom modules\n",
    "sysPath.append('../Machine_Score/')\n",
    "\n",
    "from Support_Code import general_module as gm\n",
    "from Support_Code import info_module as im\n",
    "from Image_Creator import main_image_creator as ic\n",
    "from Machine_Score import main_machine_score as ms\n",
    "from Machine_Score import direct_image_compare as dc\n",
    "from Score_Analysis import main_score_analysis as sa\n",
    "import main_SIMR as simr\n",
    "\n",
    "# General modules\n",
    "from os import path\n",
    "import numpy as np\n",
    "from matplotlib import pyplot as plt\n",
    "\n",
    "sa.test()\n",
    "gm.test()\n",
    "im.test()\n",
    "ic.test()\n",
    "ms.test()\n",
    "dc.test()\n",
    "simr.test()"
   ]
  },
  {
   "cell_type": "code",
   "execution_count": 4,
   "id": "dying-equity",
   "metadata": {},
   "outputs": [
    {
     "name": "stdout",
     "output_type": "stream",
     "text": [
      "IM: target_info_class.__init__:\n",
      "\t - targetDir:  ../../1237678620102623480/\n",
      "IM: Target.initTargetDir():\n",
      "\t - targetDir: ../../1237678620102623480/\n",
      "NEW PATH EXISTS: /mnt/c/Users/ogden/OneDrive/Desktop/galStuff/1237678620102623480/zoo_merger_models/\n",
      "\t - targetDir: (True) /mnt/c/Users/ogden/OneDrive/Desktop/galStuff/1237678620102623480/\n",
      "\t - infoDir: (True) /mnt/c/Users/ogden/OneDrive/Desktop/galStuff/1237678620102623480/information/\n",
      "\t - baseInfoLoc: (True) /mnt/c/Users/ogden/OneDrive/Desktop/galStuff/1237678620102623480/information/base_target_info.json\n",
      "\t - allInfoLoc: (True) /mnt/c/Users/ogden/OneDrive/Desktop/galStuff/1237678620102623480/information/target_info.json\n",
      "\t - zooMergerDir: (True) /mnt/c/Users/ogden/OneDrive/Desktop/galStuff/1237678620102623480/zoo_merger_models/\n",
      "\t - plotDir: (True) /mnt/c/Users/ogden/OneDrive/Desktop/galStuff/1237678620102623480/plots/\n",
      "IM: Target: Opening target info json\n",
      "Target Good!\n"
     ]
    }
   ],
   "source": [
    "#tDir = '/home/mbo2d/galStuff/spam_data_pl3/587722984435351614/' \n",
    "#tDir = '../../targetDir/'\n",
    "#tDir = '../../1237678620102623480/'\n",
    "tDir = '../../587722984435351614/'\n",
    "\n",
    "tInfo = im.target_info_class( targetDir = tDir, printAll=True)\n",
    "\n",
    "if tInfo.status == False:\n",
    "    print(\"WARNING\")\n",
    "else:\n",
    "    print(\"Target Good!\")"
   ]
  },
  {
   "cell_type": "code",
   "execution_count": 9,
   "id": "spiritual-electronics",
   "metadata": {},
   "outputs": [
    {
     "name": "stdout",
     "output_type": "stream",
     "text": [
      "None\n",
      "IM: run_info_class.__init__\n",
      "\t - runDir:  /mnt/c/Users/ogden/OneDrive/Desktop/galStuff/1237678620102623480/zoo_merger_models/run_00001/\n",
      "IM: run.initRunDir\n",
      "\t - runDir: /mnt/c/Users/ogden/OneDrive/Desktop/galStuff/1237678620102623480/zoo_merger_models/run_00001/\n",
      "\t - runDir: (True) /mnt/c/Users/ogden/OneDrive/Desktop/galStuff/1237678620102623480/zoo_merger_models/run_00001/\n",
      "\t - ptsDir: (True) /mnt/c/Users/ogden/OneDrive/Desktop/galStuff/1237678620102623480/zoo_merger_models/run_00001/particle_files/\n",
      "\t - imgDir: (True) /mnt/c/Users/ogden/OneDrive/Desktop/galStuff/1237678620102623480/zoo_merger_models/run_00001/model_images/\n",
      "\t - miscDir: (True) /mnt/c/Users/ogden/OneDrive/Desktop/galStuff/1237678620102623480/zoo_merger_models/run_00001/misc_images/\n",
      "\t - infoLoc: (True) /mnt/c/Users/ogden/OneDrive/Desktop/galStuff/1237678620102623480/zoo_merger_models/run_00001/info.json\n",
      "\t - baseLoc: (True) /mnt/c/Users/ogden/OneDrive/Desktop/galStuff/1237678620102623480/zoo_merger_models/run_00001/base_info.json\n",
      "\t - Reading Info file.\n",
      "IM: Run.__init__: Initalized: True\n",
      "Run 'r00001' Good!\n"
     ]
    }
   ],
   "source": [
    "\n",
    "print(tInfo.get('zoo_merger_models').get('00001'))\n",
    "\n",
    "rId = 'r00001'\n",
    "runArg = gm.inArgClass()\n",
    "runArg.setArg(\"printAll\",True)\n",
    "\n",
    "rInfo = tInfo.getRunInfo( rID=rId, rArg = runArg)\n",
    "rInfo.tInfo = tInfo\n",
    "\n",
    "if rInfo.status == False:\n",
    "    print(\"WARNING\")\n",
    "else:\n",
    "    print(\"Run '%s' Good!\"%rInfo.get('run_id'))"
   ]
  },
  {
   "cell_type": "code",
   "execution_count": 1,
   "id": "mounted-aquatic",
   "metadata": {},
   "outputs": [
    {
     "ename": "NameError",
     "evalue": "name 'gm' is not defined",
     "output_type": "error",
     "traceback": [
      "\u001b[0;31m---------------------------------------------------------------------------\u001b[0m",
      "\u001b[0;31mNameError\u001b[0m                                 Traceback (most recent call last)",
      "\u001b[0;32m<ipython-input-1-e3f5db614a32>\u001b[0m in \u001b[0;36m<module>\u001b[0;34m\u001b[0m\n\u001b[0;32m----> 1\u001b[0;31m \u001b[0mpLoc\u001b[0m \u001b[0;34m=\u001b[0m \u001b[0mgm\u001b[0m\u001b[0;34m.\u001b[0m\u001b[0mvalidPath\u001b[0m\u001b[0;34m(\u001b[0m\u001b[0;34m'../param/start_param.json'\u001b[0m\u001b[0;34m)\u001b[0m\u001b[0;34m\u001b[0m\u001b[0;34m\u001b[0m\u001b[0m\n\u001b[0m\u001b[1;32m      2\u001b[0m \u001b[0mprint\u001b[0m\u001b[0;34m(\u001b[0m\u001b[0mpLoc\u001b[0m\u001b[0;34m)\u001b[0m\u001b[0;34m\u001b[0m\u001b[0;34m\u001b[0m\u001b[0m\n\u001b[1;32m      3\u001b[0m \u001b[0mstartParams\u001b[0m \u001b[0;34m=\u001b[0m \u001b[0mim\u001b[0m\u001b[0;34m.\u001b[0m\u001b[0mgroup_score_parameter_class\u001b[0m\u001b[0;34m(\u001b[0m\u001b[0mpLoc\u001b[0m \u001b[0;34m=\u001b[0m \u001b[0mpLoc\u001b[0m\u001b[0;34m)\u001b[0m\u001b[0;34m\u001b[0m\u001b[0;34m\u001b[0m\u001b[0m\n\u001b[1;32m      4\u001b[0m \u001b[0;34m\u001b[0m\u001b[0m\n\u001b[1;32m      5\u001b[0m \u001b[0;32mif\u001b[0m \u001b[0mstartParams\u001b[0m\u001b[0;34m.\u001b[0m\u001b[0mstatus\u001b[0m\u001b[0;34m:\u001b[0m\u001b[0;34m\u001b[0m\u001b[0;34m\u001b[0m\u001b[0m\n",
      "\u001b[0;31mNameError\u001b[0m: name 'gm' is not defined"
     ]
    }
   ],
   "source": [
    "pLoc = gm.validPath('../param/start_param.json')\n",
    "print(pLoc)\n",
    "startParams = im.group_score_parameter_class(pLoc = pLoc)\n",
    "\n",
    "if startParams.status:\n",
    "    gm.pprint(startParams.group)\n",
    "    print(\"Good Starting Parameters!\")\n",
    "else:\n",
    "    print(\"NOOOOOO\")\n"
   ]
  },
  {
   "cell_type": "code",
   "execution_count": null,
   "id": "owned-mediterranean",
   "metadata": {},
   "outputs": [],
   "source": []
  }
 ],
 "metadata": {
  "kernelspec": {
   "display_name": "Python 3",
   "language": "python",
   "name": "python3"
  },
  "language_info": {
   "codemirror_mode": {
    "name": "ipython",
    "version": 3
   },
   "file_extension": ".py",
   "mimetype": "text/x-python",
   "name": "python",
   "nbconvert_exporter": "python",
   "pygments_lexer": "ipython3",
   "version": "3.8.5"
  }
 },
 "nbformat": 4,
 "nbformat_minor": 5
}
