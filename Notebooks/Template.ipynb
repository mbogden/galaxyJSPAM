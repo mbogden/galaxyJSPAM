{
 "cells": [
  {
   "cell_type": "code",
   "execution_count": 1,
   "id": "cardiovascular-ethics",
   "metadata": {},
   "outputs": [
    {
     "name": "stdout",
     "output_type": "stream",
     "text": [
      "SIMR: Hi!  You're in Matthew's main program for all things galaxy collisions\n",
      "GM: Hi!  You're in Matthew's module for generally useful functions and classes\n",
      "IM: Hi!  You're in Matthew Ogden's information module for SPAM\n",
      "IC: Hi!  You're in Matthew's main code for all things image creation.\n",
      "MS: Hi!  You're in Matthew's SIMR module for all things machine scoring images\n",
      "DC: Hi!  You're in direct_image_compare.py\n",
      "SA: Hi!  You're in Matthew's Main program for score analysis!\n"
     ]
    }
   ],
   "source": [
    "# Add python modules\n",
    "import numpy as np\n",
    "import matplotlib.pyplot as plt\n",
    "\n",
    "# Add parent directory for custom modules\n",
    "from sys import path as sysPath\n",
    "sysPath.append('../')\n",
    "sysPath.append('../Machine_Score/')\n",
    "\n",
    "# Load custom modules that simr has loaded\n",
    "import main_SIMR as simr\n",
    "gm = simr.gm\n",
    "im = simr.im\n",
    "ic = simr.ic\n",
    "ms = simr.ms\n",
    "sa = simr.sa\n",
    "dc = simr.ms.dc\n",
    "\n",
    "simr.test()\n",
    "gm.test()\n",
    "im.test()\n",
    "ic.test()\n",
    "ms.test()\n",
    "dc.test()\n",
    "sa.test()"
   ]
  },
  {
   "cell_type": "code",
   "execution_count": 5,
   "id": "catholic-former",
   "metadata": {},
   "outputs": [
    {
     "name": "stdout",
     "output_type": "stream",
     "text": [
      "Before: '../targetDir' \n",
      "After: '/home/mbo2d/587722984435351614/'\n",
      "NEW PATH EXISTS: /home/mbo2d/587722984435351614/zoo_merger_models/\n",
      "Target Good!\n"
     ]
    }
   ],
   "source": [
    "#tDir = '/home/mbo2d/galStuff/spam_data_pl3/587722984435351614/' \n",
    "tDir = '../targetDir'\n",
    "#tDir = '../../1237678620102623480/'\n",
    "print('Before: \\'%s\\' \\nAfter: \\'%s\\'' % (tDir,gm.validPath(tDir) ))\n",
    "tDir = gm.validPath(tDir)\n",
    "tInfo = im.target_info_class( targetDir = tDir, printAll=False)\n",
    "\n",
    "if tInfo.status == False:\n",
    "    print(\"WARNING\")\n",
    "else:\n",
    "    print(\"Target Good!\")"
   ]
  },
  {
   "cell_type": "code",
   "execution_count": 3,
   "id": "taken-scholarship",
   "metadata": {},
   "outputs": [
    {
     "name": "stdout",
     "output_type": "stream",
     "text": [
      "None\n",
      "IM: run_info_class.__init__\n",
      "\t - runDir:  /home/mbo2d/587722984435351614/zoo_merger_models/run_00001/\n",
      "IM: run.initRunDir\n",
      "\t - runDir: /home/mbo2d/587722984435351614/zoo_merger_models/run_00001/\n",
      "\t - runDir: (True) /home/mbo2d/587722984435351614/zoo_merger_models/run_00001/\n",
      "\t - ptsDir: (True) /home/mbo2d/587722984435351614/zoo_merger_models/run_00001/particle_files/\n",
      "\t - imgDir: (True) /home/mbo2d/587722984435351614/zoo_merger_models/run_00001/model_images/\n",
      "\t - miscDir: (True) /home/mbo2d/587722984435351614/zoo_merger_models/run_00001/misc_images/\n",
      "\t - infoLoc: (True) /home/mbo2d/587722984435351614/zoo_merger_models/run_00001/info.json\n",
      "\t - baseLoc: (True) /home/mbo2d/587722984435351614/zoo_merger_models/run_00001/base_info.json\n",
      "\t - Reading Info file.\n",
      "IM: Run.__init__: Initalized: True\n",
      "Run 'r00001' Good!\n"
     ]
    }
   ],
   "source": [
    "\n",
    "print(tInfo.get('zoo_merger_models').get('00001'))\n",
    "\n",
    "rId = 'r00001'\n",
    "runArg = gm.inArgClass()\n",
    "runArg.setArg(\"printAll\",True)\n",
    "\n",
    "rInfo = tInfo.getRunInfo( rID=rId, rArg = runArg)\n",
    "rInfo.tInfo = tInfo\n",
    "\n",
    "if rInfo.status == False:\n",
    "    print(\"WARNING\")\n",
    "else:\n",
    "    print(\"Run '%s' Good!\"%rInfo.get('run_id'))"
   ]
  },
  {
   "cell_type": "code",
   "execution_count": 4,
   "id": "sixth-shopper",
   "metadata": {},
   "outputs": [
    {
     "name": "stdout",
     "output_type": "stream",
     "text": [
      "/mnt/c/Users/ogden/OneDrive/Desktop/galStuff/galaxyJSPAM/param/start_param.json\n",
      "{'base_perturbation': {'cmpArg': {'cmpMethod': 'correlation'},\n",
      "                       'imgArg': {'name': 'default',\n",
      "                                  'pType': 'default'},\n",
      "                       'name': 'base_perturbation',\n",
      "                       'scoreType': 'perturbation',\n",
      "                       'simArg': {'nPts': '100k',\n",
      "                                  'name': '100k'}},\n",
      " 'base_score': {'cmpArg': {'cmpMethod': 'correlation'},\n",
      "                'imgArg': {'name': 'default',\n",
      "                           'pType': 'default'},\n",
      "                'name': 'base_score',\n",
      "                'scoreType': 'target',\n",
      "                'simArg': {'nPts': '100k',\n",
      "                           'name': '100k'},\n",
      "                'targetName': 'zoo'}}\n",
      "Good Starting Parameters!\n"
     ]
    }
   ],
   "source": [
    "pLoc = gm.validPath('../param/start_param.json')\n",
    "print(pLoc)\n",
    "startParams = im.group_score_parameter_class(pLoc = pLoc)\n",
    "\n",
    "if startParams.status:\n",
    "    gm.pprint(startParams.group)\n",
    "    print(\"Good Starting Parameters!\")\n",
    "else:\n",
    "    print(\"NOOOOOO\")\n"
   ]
  },
  {
   "cell_type": "code",
   "execution_count": null,
   "id": "figured-composer",
   "metadata": {},
   "outputs": [],
   "source": []
  }
 ],
 "metadata": {
  "kernelspec": {
   "display_name": "Python 3",
   "language": "python",
   "name": "python3"
  },
  "language_info": {
   "codemirror_mode": {
    "name": "ipython",
    "version": 3
   },
   "file_extension": ".py",
   "mimetype": "text/x-python",
   "name": "python",
   "nbconvert_exporter": "python",
   "pygments_lexer": "ipython3",
   "version": "3.8.5"
  }
 },
 "nbformat": 4,
 "nbformat_minor": 5
}
