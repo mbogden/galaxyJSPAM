{
 "cells": [
  {
   "cell_type": "code",
   "execution_count": 2,
   "id": "revolutionary-absolute",
   "metadata": {
    "collapsed": true,
    "jupyter": {
     "outputs_hidden": true
    }
   },
   "outputs": [
    {
     "name": "stdout",
     "output_type": "stream",
     "text": [
      "Hi!\n",
      "GM: Hi!  You're in Matthew's module for generally useful functions and classes\n",
      "IM: Hi!  You're in Matthew Ogden's information module for SPAM\n",
      "IC: Hi!  You're in Matthew's main code for all things image creation.\n",
      "MC: Hi!  You're in Matthew Ogden's module for all things machine comparing images\n"
     ]
    }
   ],
   "source": [
    "# Add parent directory\n",
    "from sys import path as sysPath\n",
    "sysPath.append('../')\n",
    "\n",
    "from Support_Code import general_module as gm\n",
    "from Support_Code import info_module as im\n",
    "from Image_Creator import main_image_creator as ic\n",
    "\n",
    "sysPath.append('../Machine_Compare/')\n",
    "from Machine_Compare import main_compare as mc\n",
    "\n",
    "print(\"Hi!\")\n",
    "\n",
    "gm.test()\n",
    "im.test()\n",
    "ic.test()\n",
    "mc.test()"
   ]
  },
  {
   "cell_type": "code",
   "execution_count": 3,
   "id": "friendly-paper",
   "metadata": {
    "collapsed": true,
    "jupyter": {
     "outputs_hidden": true
    }
   },
   "outputs": [
    {
     "name": "stdout",
     "output_type": "stream",
     "text": [
      "IM: target_info_class.__init__:\n",
      "\t - targetDir:  /home/mbo2d/galStuff/spam_data_pl3/587722984435351614/\n",
      "\t - printBase:  True\n",
      "\t - printAll:  True\n",
      "\t - newInfo:  False\n",
      "IM: Target.initTargetDir():\n",
      "\t - targetDir: /home/mbo2d/galStuff/spam_data_pl3/587722984435351614/\n",
      "\t - targetDir: (True) /home/mbo2d/galStuff/spam_data_pl3/587722984435351614/\n",
      "\t - infoDir: (True) /home/mbo2d/galStuff/spam_data_pl3/587722984435351614/information/\n",
      "\t - baseInfoLoc: (True) /home/mbo2d/galStuff/spam_data_pl3/587722984435351614/information/base_target_info.json\n",
      "\t - allInfoLoc: (True) /home/mbo2d/galStuff/spam_data_pl3/587722984435351614/information/target_info.json\n",
      "\t - zooMergerDir: (True) /home/mbo2d/galStuff/spam_data_pl3/587722984435351614/gen000/\n",
      "\t - plotDir: (True) /home/mbo2d/galStuff/spam_data_pl3/587722984435351614/plots/\n",
      "IM: Target: Opening target info json\n"
     ]
    }
   ],
   "source": [
    "tDir = '/home/mbo2d/galStuff/spam_data_pl3/587722984435351614/' \n",
    "tInfo = im.target_info_class( targetDir = tDir, printAll=True)"
   ]
  },
  {
   "cell_type": "code",
   "execution_count": null,
   "id": "developmental-silicon",
   "metadata": {},
   "outputs": [],
   "source": []
  }
 ],
 "metadata": {
  "kernelspec": {
   "display_name": "Python 3",
   "language": "python",
   "name": "python3"
  },
  "language_info": {
   "codemirror_mode": {
    "name": "ipython",
    "version": 3
   },
   "file_extension": ".py",
   "mimetype": "text/x-python",
   "name": "python",
   "nbconvert_exporter": "python",
   "pygments_lexer": "ipython3",
   "version": "3.8.5"
  }
 },
 "nbformat": 4,
 "nbformat_minor": 5
}
