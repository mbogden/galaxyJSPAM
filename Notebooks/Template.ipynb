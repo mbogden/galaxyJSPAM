{
 "cells": [
  {
   "cell_type": "code",
   "execution_count": 1,
   "id": "naked-liberia",
   "metadata": {},
   "outputs": [
    {
     "name": "stdout",
     "output_type": "stream",
     "text": [
      "SA: Hi!  You're in Matthew's Main program for score analysis!\n",
      "GM: Hi!  You're in Matthew's module for generally useful functions and classes\n",
      "IM: Hi!  You're in Matthew Ogden's information module for SPAM\n",
      "IC: Hi!  You're in Matthew's main code for all things image creation.\n",
      "MS: Hi!  You're in Matthew's SIMR module for all things machine scoring images\n",
      "DI: Hi! Inside direct_image_compare.py\n",
      "SIMR: Hi!  You're in Matthew's main program for all things galaxy collisions\n"
     ]
    }
   ],
   "source": [
    "# Add parent directory\n",
    "from sys import path as sysPath\n",
    "sysPath.append('../')\n",
    "\n",
    "# Add custom modules\n",
    "sysPath.append('../Machine_Score/')\n",
    "\n",
    "from Support_Code import general_module as gm\n",
    "from Support_Code import info_module as im\n",
    "from Image_Creator import main_image_creator as ic\n",
    "from Machine_Score import main_machine_score as ms\n",
    "from Machine_Score import direct_image_compare as dc\n",
    "from Score_Analysis import main_score_analysis as sa\n",
    "import main_SIMR as simr\n",
    "\n",
    "# General modules\n",
    "from os import path\n",
    "import numpy as np\n",
    "from matplotlib import pyplot as plt\n",
    "\n",
    "sa.test()\n",
    "gm.test()\n",
    "im.test()\n",
    "ic.test()\n",
    "ms.test()\n",
    "dc.test()\n",
    "simr.test()"
   ]
  },
  {
   "cell_type": "code",
   "execution_count": 4,
   "id": "compatible-extension",
   "metadata": {},
   "outputs": [
    {
     "name": "stdout",
     "output_type": "stream",
     "text": [
      "IM: target_info_class.__init__:\n",
      "\t - targetDir:  ../../1237678620102623480/\n",
      "IM: Target.initTargetDir():\n",
      "\t - targetDir: ../../1237678620102623480/\n",
      "NEW PATH EXISTS: /mnt/c/Users/ogden/OneDrive/Desktop/galStuff/1237678620102623480/zoo_merger_models/\n",
      "\t - targetDir: (True) /mnt/c/Users/ogden/OneDrive/Desktop/galStuff/1237678620102623480/\n",
      "\t - infoDir: (True) /mnt/c/Users/ogden/OneDrive/Desktop/galStuff/1237678620102623480/information/\n",
      "\t - baseInfoLoc: (True) /mnt/c/Users/ogden/OneDrive/Desktop/galStuff/1237678620102623480/information/base_target_info.json\n",
      "\t - allInfoLoc: (True) /mnt/c/Users/ogden/OneDrive/Desktop/galStuff/1237678620102623480/information/target_info.json\n",
      "\t - zooMergerDir: (True) /mnt/c/Users/ogden/OneDrive/Desktop/galStuff/1237678620102623480/zoo_merger_models/\n",
      "\t - plotDir: (True) /mnt/c/Users/ogden/OneDrive/Desktop/galStuff/1237678620102623480/plots/\n",
      "IM: Target: Opening target info json\n",
      "Target Good!\n"
     ]
    }
   ],
   "source": [
    "#tDir = '/home/mbo2d/galStuff/spam_data_pl3/587722984435351614/' \n",
    "#tDir = '../../targetDir/'\n",
    "tDir = '../../1237678620102623480/'\n",
    "\n",
    "tInfo = im.target_info_class( targetDir = tDir, printAll=True)\n",
    "\n",
    "if tInfo.status == False:\n",
    "    print(\"WARNING\")\n",
    "else:\n",
    "    print(\"Target Good!\")"
   ]
  },
  {
   "cell_type": "code",
   "execution_count": 9,
   "id": "alpha-adventure",
   "metadata": {},
   "outputs": [
    {
     "name": "stdout",
     "output_type": "stream",
     "text": [
      "None\n",
      "IM: run_info_class.__init__\n",
      "\t - runDir:  /mnt/c/Users/ogden/OneDrive/Desktop/galStuff/1237678620102623480/zoo_merger_models/run_00001/\n",
      "IM: run.initRunDir\n",
      "\t - runDir: /mnt/c/Users/ogden/OneDrive/Desktop/galStuff/1237678620102623480/zoo_merger_models/run_00001/\n",
      "\t - runDir: (True) /mnt/c/Users/ogden/OneDrive/Desktop/galStuff/1237678620102623480/zoo_merger_models/run_00001/\n",
      "\t - ptsDir: (True) /mnt/c/Users/ogden/OneDrive/Desktop/galStuff/1237678620102623480/zoo_merger_models/run_00001/particle_files/\n",
      "\t - imgDir: (True) /mnt/c/Users/ogden/OneDrive/Desktop/galStuff/1237678620102623480/zoo_merger_models/run_00001/model_images/\n",
      "\t - miscDir: (True) /mnt/c/Users/ogden/OneDrive/Desktop/galStuff/1237678620102623480/zoo_merger_models/run_00001/misc_images/\n",
      "\t - infoLoc: (True) /mnt/c/Users/ogden/OneDrive/Desktop/galStuff/1237678620102623480/zoo_merger_models/run_00001/info.json\n",
      "\t - baseLoc: (True) /mnt/c/Users/ogden/OneDrive/Desktop/galStuff/1237678620102623480/zoo_merger_models/run_00001/base_info.json\n",
      "\t - Reading Info file.\n",
      "IM: Run.__init__: Initalized: True\n",
      "Run 'r00001' Good!\n"
     ]
    }
   ],
   "source": [
    "\n",
    "print(tInfo.get('zoo_merger_models').get('00001'))\n",
    "\n",
    "rId = 'r00001'\n",
    "runArg = gm.inArgClass()\n",
    "runArg.setArg(\"printAll\",True)\n",
    "\n",
    "rInfo = tInfo.getRunInfo( rID=rId, rArg = runArg)\n",
    "rInfo.tInfo = tInfo\n",
    "\n",
    "if rInfo.status == False:\n",
    "    print(\"WARNING\")\n",
    "else:\n",
    "    print(\"Run '%s' Good!\"%rInfo.get('run_id'))"
   ]
  },
  {
   "cell_type": "code",
   "execution_count": 10,
   "id": "surprising-circumstances",
   "metadata": {},
   "outputs": [
    {
     "name": "stdout",
     "output_type": "stream",
     "text": [
      "/mnt/c/Users/ogden/OneDrive/Desktop/galStuff/galaxyJSPAM/param/start_param.json\n",
      "{'base_perturbation': {'cmpArg': {'cmpMethod': 'correlation'},\n",
      "                       'imgArg': {'name': 'default',\n",
      "                                  'pType': 'default'},\n",
      "                       'name': 'base_perturbation',\n",
      "                       'scoreType': 'perturbation',\n",
      "                       'simArg': {'nPts': '100k',\n",
      "                                  'name': '100k'}},\n",
      " 'base_score': {'cmpArg': {'cmpMethod': 'correlation'},\n",
      "                'imgArg': {'name': 'default',\n",
      "                           'pType': 'default'},\n",
      "                'name': 'base_score',\n",
      "                'scoreType': 'target',\n",
      "                'simArg': {'nPts': '100k',\n",
      "                           'name': '100k'},\n",
      "                'targetName': 'zoo'}}\n",
      "Done\n"
     ]
    }
   ],
   "source": [
    "pLoc = gm.validPath('../param/start_param.json')\n",
    "print(pLoc)\n",
    "newParams = im.group_score_parameter_class(pLoc = pLoc)\n",
    "gm.pprint(newParams.group)\n",
    "print(\"Done\")"
   ]
  },
  {
   "cell_type": "code",
   "execution_count": null,
   "id": "swiss-family",
   "metadata": {},
   "outputs": [],
   "source": []
  }
 ],
 "metadata": {
  "kernelspec": {
   "display_name": "Python 3",
   "language": "python",
   "name": "python3"
  },
  "language_info": {
   "codemirror_mode": {
    "name": "ipython",
    "version": 3
   },
   "file_extension": ".py",
   "mimetype": "text/x-python",
   "name": "python",
   "nbconvert_exporter": "python",
   "pygments_lexer": "ipython3",
   "version": "3.8.5"
  }
 },
 "nbformat": 4,
 "nbformat_minor": 5
}
