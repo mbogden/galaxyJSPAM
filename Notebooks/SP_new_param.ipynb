{
 "cells": [
  {
   "cell_type": "code",
   "execution_count": 1,
   "id": "gentle-confidentiality",
   "metadata": {},
   "outputs": [
    {
     "name": "stdout",
     "output_type": "stream",
     "text": [
      "Hi!\n",
      "GM: Hi!  You're in Matthew's module for generally useful functions and classes\n",
      "IM: Hi!  You're in Matthew Ogden's information module for SPAM\n",
      "IC: Hi!  You're in Matthew's main code for all things image creation.\n",
      "MS: Hi!  You're in Matthew's SIMR module for all things machine scoring images\n"
     ]
    }
   ],
   "source": [
    "# Add parent directory\n",
    "from sys import path as sysPath\n",
    "sysPath.append('../')\n",
    "\n",
    "from Support_Code import general_module as gm\n",
    "from Support_Code import info_module as im\n",
    "from Image_Creator import main_image_creator as ic\n",
    "\n",
    "sysPath.append('../Machine_Score/')\n",
    "from Machine_Score import main_machine_score as ms\n",
    "\n",
    "print(\"Hi!\")\n",
    "\n",
    "gm.test()\n",
    "im.test()\n",
    "ic.test()\n",
    "ms.test()"
   ]
  },
  {
   "cell_type": "code",
   "execution_count": 2,
   "id": "current-monitoring",
   "metadata": {},
   "outputs": [
    {
     "name": "stdout",
     "output_type": "stream",
     "text": [
      "IM: target_info_class.__init__:\n",
      "\t - targetDir:  /home/mbo2d/galStuff/spam_data_pl3/587722984435351614/\n",
      "\t - printBase:  True\n",
      "\t - printAll:  True\n",
      "\t - newInfo:  False\n",
      "IM: Target.initTargetDir():\n",
      "\t - targetDir: /home/mbo2d/galStuff/spam_data_pl3/587722984435351614/\n",
      "\t - targetDir: (True) /home/mbo2d/galStuff/spam_data_pl3/587722984435351614/\n",
      "\t - infoDir: (True) /home/mbo2d/galStuff/spam_data_pl3/587722984435351614/information/\n",
      "\t - baseInfoLoc: (True) /home/mbo2d/galStuff/spam_data_pl3/587722984435351614/information/base_target_info.json\n",
      "\t - allInfoLoc: (True) /home/mbo2d/galStuff/spam_data_pl3/587722984435351614/information/target_info.json\n",
      "\t - zooMergerDir: (True) /home/mbo2d/galStuff/spam_data_pl3/587722984435351614/gen000/\n",
      "\t - plotDir: (True) /home/mbo2d/galStuff/spam_data_pl3/587722984435351614/plots/\n",
      "IM: Target: Opening target info json\n"
     ]
    }
   ],
   "source": [
    "tDir = '/home/mbo2d/galStuff/spam_data_pl3/587722984435351614/' \n",
    "tInfo = im.target_info_class( targetDir = tDir, printAll=True)"
   ]
  },
  {
   "cell_type": "code",
   "execution_count": 3,
   "id": "infrared-reservation",
   "metadata": {},
   "outputs": [
    {
     "name": "stdout",
     "output_type": "stream",
     "text": [
      "{'base_perturbation': {'cmpArg': {'cmpMethod': 'correlation'},\n",
      "                       'imgArg': {'name': 'default',\n",
      "                                  'pType': 'default'},\n",
      "                       'name': 'base_perturbation',\n",
      "                       'scoreType': 'perturbation',\n",
      "                       'simArg': {'nPts': '100k',\n",
      "                                  'name': '100k'}},\n",
      " 'base_score': {'cmpArg': {'cmpMethod': 'correlation'},\n",
      "                'imgArg': {'name': 'default',\n",
      "                           'pType': 'default'},\n",
      "                'name': 'base_score',\n",
      "                'scoreType': 'target',\n",
      "                'simArg': {'nPts': '100k',\n",
      "                           'name': '100k'},\n",
      "                'targetName': 'zoo'}}\n"
     ]
    }
   ],
   "source": [
    "pLoc = '../param/base_param.json'\n",
    "class_newParam = im.group_score_parameter_class(pLoc=pLoc)\n",
    "class_newParam.group\n",
    "gm.pprint(class_newParam.group)"
   ]
  },
  {
   "cell_type": "code",
   "execution_count": 4,
   "id": "separated-butterfly",
   "metadata": {},
   "outputs": [],
   "source": [
    "from copy import deepcopy"
   ]
  },
  {
   "cell_type": "code",
   "execution_count": 5,
   "id": "behavioral-egypt",
   "metadata": {},
   "outputs": [],
   "source": [
    "base_corr = deepcopy( class_newParam.group['base_score'] )\n",
    "base_corr['cmpArg']['cmpMethod'] = 'correlation'\n",
    "base_corr['name'] = 'base0_corr'\n",
    "class_newParam.addParam(base_corr)"
   ]
  },
  {
   "cell_type": "code",
   "execution_count": 6,
   "id": "downtown-darkness",
   "metadata": {},
   "outputs": [],
   "source": [
    "base_diff = deepcopy( class_newParam.group['base_score'] )\n",
    "base_diff['cmpArg']['cmpMethod'] = 'absolute_difference'\n",
    "base_diff['name'] = 'base0_diff'\n",
    "class_newParam.addParam(base_diff)\n"
   ]
  },
  {
   "cell_type": "code",
   "execution_count": 7,
   "id": "political-incentive",
   "metadata": {},
   "outputs": [],
   "source": [
    "base_diff2 = deepcopy( class_newParam.group['base_score'] )\n",
    "base_diff2['cmpArg']['cmpMethod'] = 'absolute_difference_lower_scale'\n",
    "base_diff2['name'] = 'base0_diff_scale'\n",
    "class_newParam.addParam(base_diff2)\n"
   ]
  },
  {
   "cell_type": "code",
   "execution_count": 8,
   "id": "scheduled-geology",
   "metadata": {},
   "outputs": [],
   "source": [
    "base_diff3 = deepcopy( class_newParam.group['base_score'] )\n",
    "base_diff3['cmpArg']['cmpMethod'] = 'absolute_difference_lower_scale'\n",
    "base_diff3['name'] = 'base0_diff_scale1'\n",
    "base_diff3['cmpArg']['l'] = .5\n",
    "class_newParam.addParam(base_diff3)\n"
   ]
  },
  {
   "cell_type": "code",
   "execution_count": 9,
   "id": "patient-nomination",
   "metadata": {},
   "outputs": [],
   "source": [
    "base_diff3 = deepcopy( class_newParam.group['base_score'] )\n",
    "base_diff3['cmpArg']['cmpMethod'] = 'absolute_difference_lower_scale'\n",
    "base_diff3['name'] = 'base0_diff_scale2'\n",
    "base_diff3['cmpArg']['l'] = .7\n",
    "class_newParam.addParam(base_diff3)\n"
   ]
  },
  {
   "cell_type": "code",
   "execution_count": 10,
   "id": "informal-stone",
   "metadata": {},
   "outputs": [],
   "source": [
    "base_olap1 = deepcopy( class_newParam.group['base_score'] )\n",
    "base_olap1['cmpArg']['cmpMethod'] = 'overlap_fraction'\n",
    "base_olap1['name'] = 'base0_overlap0'\n",
    "class_newParam.addParam(base_olap1)\n"
   ]
  },
  {
   "cell_type": "code",
   "execution_count": 11,
   "id": "close-rabbit",
   "metadata": {},
   "outputs": [],
   "source": [
    "base_olap1 = deepcopy( class_newParam.group['base_score'] )\n",
    "base_olap1['cmpArg']['cmpMethod'] = 'overlap_fraction'\n",
    "base_olap1['cmpArg']['h1'] = 120\n",
    "base_olap1['cmpArg']['h2'] = 120\n",
    "base_olap1['name'] = 'base0_overlap1'\n",
    "class_newParam.addParam(base_olap1)\n"
   ]
  },
  {
   "cell_type": "code",
   "execution_count": 12,
   "id": "academic-interface",
   "metadata": {},
   "outputs": [],
   "source": [
    "base_olap1 = deepcopy( class_newParam.group['base_score'] )\n",
    "base_olap1['cmpArg']['cmpMethod'] = 'overlap_fraction'\n",
    "base_olap1['cmpArg']['h1'] = 100\n",
    "base_olap1['cmpArg']['h2'] = 50\n",
    "base_olap1['name'] = 'base0_overlap2'\n",
    "class_newParam.addParam(base_olap1)\n"
   ]
  },
  {
   "cell_type": "code",
   "execution_count": 13,
   "id": "prostate-grounds",
   "metadata": {},
   "outputs": [],
   "source": [
    "base_olap1 = deepcopy( class_newParam.group['base_score'] )\n",
    "base_olap1['cmpArg']['cmpMethod'] = 'overlap_fraction'\n",
    "base_olap1['cmpArg']['h1'] = 50\n",
    "base_olap1['cmpArg']['h2'] = 100\n",
    "base_olap1['name'] = 'base0_overlap3'\n",
    "class_newParam.addParam(base_olap1)\n"
   ]
  },
  {
   "cell_type": "code",
   "execution_count": 14,
   "id": "surprised-outreach",
   "metadata": {},
   "outputs": [],
   "source": [
    "base_bcorr0 = deepcopy( class_newParam.group['base_score'] )\n",
    "base_bcorr0['cmpArg']['cmpMethod'] = 'binary_correlation'\n",
    "base_bcorr0['name'] = 'base0_bcorr0'\n",
    "class_newParam.addParam(base_bcorr0)\n"
   ]
  },
  {
   "cell_type": "code",
   "execution_count": 15,
   "id": "pediatric-adrian",
   "metadata": {},
   "outputs": [],
   "source": [
    "base_bcorr0 = deepcopy( class_newParam.group['base_score'] )\n",
    "base_bcorr0['cmpArg']['cmpMethod'] = 'binary_correlation'\n",
    "base_bcorr0['cmpArg']['h1'] = 120\n",
    "base_bcorr0['cmpArg']['h2'] = 120\n",
    "base_bcorr0['name'] = 'base0_bcorr1'\n",
    "class_newParam.addParam(base_bcorr0)\n"
   ]
  },
  {
   "cell_type": "code",
   "execution_count": 16,
   "id": "failing-leader",
   "metadata": {},
   "outputs": [],
   "source": [
    "base_bcorr0 = deepcopy( class_newParam.group['base_score'] )\n",
    "base_bcorr0['cmpArg']['cmpMethod'] = 'binary_correlation'\n",
    "base_bcorr0['cmpArg']['h1'] = 50\n",
    "base_bcorr0['cmpArg']['h2'] = 100\n",
    "base_bcorr0['name'] = 'base0_bcorr2'\n",
    "class_newParam.addParam(base_bcorr0)\n"
   ]
  },
  {
   "cell_type": "code",
   "execution_count": 17,
   "id": "transparent-synthesis",
   "metadata": {},
   "outputs": [],
   "source": [
    "base_bcorr0 = deepcopy( class_newParam.group['base_score'] )\n",
    "base_bcorr0['cmpArg']['cmpMethod'] = 'binary_correlation'\n",
    "base_bcorr0['cmpArg']['h1'] = 100\n",
    "base_bcorr0['cmpArg']['h2'] = 50\n",
    "base_bcorr0['name'] = 'base0_bcorr3'\n",
    "class_newParam.addParam(base_bcorr0)\n"
   ]
  },
  {
   "cell_type": "code",
   "execution_count": 18,
   "id": "supported-interest",
   "metadata": {},
   "outputs": [
    {
     "name": "stdout",
     "output_type": "stream",
     "text": [
      "{'base0_bcorr0': {'cmpArg': {'cmpMethod': 'binary_correlation'},\n",
      "                  'imgArg': {'name': 'default',\n",
      "                             'pType': 'default'},\n",
      "                  'name': 'base0_bcorr0',\n",
      "                  'scoreType': 'target',\n",
      "                  'simArg': {'nPts': '100k',\n",
      "                             'name': '100k'},\n",
      "                  'targetName': 'zoo'},\n",
      " 'base0_bcorr1': {'cmpArg': {'cmpMethod': 'binary_correlation',\n",
      "                             'h1': 120,\n",
      "                             'h2': 120},\n",
      "                  'imgArg': {'name': 'default',\n",
      "                             'pType': 'default'},\n",
      "                  'name': 'base0_bcorr1',\n",
      "                  'scoreType': 'target',\n",
      "                  'simArg': {'nPts': '100k',\n",
      "                             'name': '100k'},\n",
      "                  'targetName': 'zoo'},\n",
      " 'base0_bcorr2': {'cmpArg': {'cmpMethod': 'binary_correlation',\n",
      "                             'h1': 50,\n",
      "                             'h2': 100},\n",
      "                  'imgArg': {'name': 'default',\n",
      "                             'pType': 'default'},\n",
      "                  'name': 'base0_bcorr2',\n",
      "                  'scoreType': 'target',\n",
      "                  'simArg': {'nPts': '100k',\n",
      "                             'name': '100k'},\n",
      "                  'targetName': 'zoo'},\n",
      " 'base0_bcorr3': {'cmpArg': {'cmpMethod': 'binary_correlation',\n",
      "                             'h1': 100,\n",
      "                             'h2': 50},\n",
      "                  'imgArg': {'name': 'default',\n",
      "                             'pType': 'default'},\n",
      "                  'name': 'base0_bcorr3',\n",
      "                  'scoreType': 'target',\n",
      "                  'simArg': {'nPts': '100k',\n",
      "                             'name': '100k'},\n",
      "                  'targetName': 'zoo'},\n",
      " 'base0_corr': {'cmpArg': {'cmpMethod': 'correlation'},\n",
      "                'imgArg': {'name': 'default',\n",
      "                           'pType': 'default'},\n",
      "                'name': 'base0_corr',\n",
      "                'scoreType': 'target',\n",
      "                'simArg': {'nPts': '100k',\n",
      "                           'name': '100k'},\n",
      "                'targetName': 'zoo'},\n",
      " 'base0_diff': {'cmpArg': {'cmpMethod': 'absolute_difference'},\n",
      "                'imgArg': {'name': 'default',\n",
      "                           'pType': 'default'},\n",
      "                'name': 'base0_diff',\n",
      "                'scoreType': 'target',\n",
      "                'simArg': {'nPts': '100k',\n",
      "                           'name': '100k'},\n",
      "                'targetName': 'zoo'},\n",
      " 'base0_diff_scale': {'cmpArg': {'cmpMethod': 'absolute_difference_lower_scale'},\n",
      "                      'imgArg': {'name': 'default',\n",
      "                                 'pType': 'default'},\n",
      "                      'name': 'base0_diff_scale',\n",
      "                      'scoreType': 'target',\n",
      "                      'simArg': {'nPts': '100k',\n",
      "                                 'name': '100k'},\n",
      "                      'targetName': 'zoo'},\n",
      " 'base0_diff_scale1': {'cmpArg': {'cmpMethod': 'absolute_difference_lower_scale',\n",
      "                                  'l': 0.5},\n",
      "                       'imgArg': {'name': 'default',\n",
      "                                  'pType': 'default'},\n",
      "                       'name': 'base0_diff_scale1',\n",
      "                       'scoreType': 'target',\n",
      "                       'simArg': {'nPts': '100k',\n",
      "                                  'name': '100k'},\n",
      "                       'targetName': 'zoo'},\n",
      " 'base0_diff_scale2': {'cmpArg': {'cmpMethod': 'absolute_difference_lower_scale',\n",
      "                                  'l': 0.7},\n",
      "                       'imgArg': {'name': 'default',\n",
      "                                  'pType': 'default'},\n",
      "                       'name': 'base0_diff_scale2',\n",
      "                       'scoreType': 'target',\n",
      "                       'simArg': {'nPts': '100k',\n",
      "                                  'name': '100k'},\n",
      "                       'targetName': 'zoo'},\n",
      " 'base0_overlap0': {'cmpArg': {'cmpMethod': 'overlap_fraction'},\n",
      "                    'imgArg': {'name': 'default',\n",
      "                               'pType': 'default'},\n",
      "                    'name': 'base0_overlap0',\n",
      "                    'scoreType': 'target',\n",
      "                    'simArg': {'nPts': '100k',\n",
      "                               'name': '100k'},\n",
      "                    'targetName': 'zoo'},\n",
      " 'base0_overlap1': {'cmpArg': {'cmpMethod': 'overlap_fraction',\n",
      "                               'h1': 120,\n",
      "                               'h2': 120},\n",
      "                    'imgArg': {'name': 'default',\n",
      "                               'pType': 'default'},\n",
      "                    'name': 'base0_overlap1',\n",
      "                    'scoreType': 'target',\n",
      "                    'simArg': {'nPts': '100k',\n",
      "                               'name': '100k'},\n",
      "                    'targetName': 'zoo'},\n",
      " 'base0_overlap2': {'cmpArg': {'cmpMethod': 'overlap_fraction',\n",
      "                               'h1': 100,\n",
      "                               'h2': 50},\n",
      "                    'imgArg': {'name': 'default',\n",
      "                               'pType': 'default'},\n",
      "                    'name': 'base0_overlap2',\n",
      "                    'scoreType': 'target',\n",
      "                    'simArg': {'nPts': '100k',\n",
      "                               'name': '100k'},\n",
      "                    'targetName': 'zoo'},\n",
      " 'base0_overlap3': {'cmpArg': {'cmpMethod': 'overlap_fraction',\n",
      "                               'h1': 50,\n",
      "                               'h2': 100},\n",
      "                    'imgArg': {'name': 'default',\n",
      "                               'pType': 'default'},\n",
      "                    'name': 'base0_overlap3',\n",
      "                    'scoreType': 'target',\n",
      "                    'simArg': {'nPts': '100k',\n",
      "                               'name': '100k'},\n",
      "                    'targetName': 'zoo'}}\n"
     ]
    }
   ],
   "source": [
    "# Clean up\n",
    "class_newParam.rmParam('base_score')\n",
    "class_newParam.rmParam('base_perturbation')\n",
    "gm.pprint(class_newParam.group)\n",
    "\n",
    "class_newParam.saveParam(saveLoc='../param/param_base0_scores.json')"
   ]
  },
  {
   "cell_type": "code",
   "execution_count": null,
   "id": "tutorial-cloud",
   "metadata": {},
   "outputs": [],
   "source": []
  }
 ],
 "metadata": {
  "kernelspec": {
   "display_name": "Python 3",
   "language": "python",
   "name": "python3"
  },
  "language_info": {
   "codemirror_mode": {
    "name": "ipython",
    "version": 3
   },
   "file_extension": ".py",
   "mimetype": "text/x-python",
   "name": "python",
   "nbconvert_exporter": "python",
   "pygments_lexer": "ipython3",
   "version": "3.8.5"
  }
 },
 "nbformat": 4,
 "nbformat_minor": 5
}
