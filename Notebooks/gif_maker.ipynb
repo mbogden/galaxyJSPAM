{
 "cells": [
  {
   "cell_type": "code",
   "execution_count": 1,
   "id": "prompt-excerpt",
   "metadata": {},
   "outputs": [
    {
     "name": "stdout",
     "output_type": "stream",
     "text": [
      "../../weights_diff/0.png\n",
      "../../weights_diff/1.png\n",
      "../../weights_diff/2.png\n",
      "../../weights_diff/3.png\n",
      "../../weights_diff/4.png\n",
      "../../weights_diff/246.png\n",
      "../../weights_diff/247.png\n",
      "../../weights_diff/248.png\n",
      "../../weights_diff/249.png\n"
     ]
    }
   ],
   "source": [
    "# Grab Image locations in correct order\n",
    "\n",
    "from os import listdir\n",
    "import cv2\n",
    "from natsort import natsorted\n",
    "\n",
    "imgDir = '../../weights_diff/'\n",
    "imgNames = natsorted( listdir( imgDir ) )\n",
    "imgLocList = [ imgDir + f for f in imgNames if '.png' in f ]\n",
    "\n",
    "natsorted( imgLocList )\n",
    "n = len( imgLocList )\n",
    "\n",
    "for i,imgLoc in enumerate(imgLocList):\n",
    "    if i < 5 or i > n-5:\n",
    "        print(imgLoc)\n",
    "    pass"
   ]
  },
  {
   "cell_type": "code",
   "execution_count": 2,
   "id": "vietnamese-symposium",
   "metadata": {},
   "outputs": [],
   "source": [
    "# Load images\n",
    "images = []\n",
    "for imgLoc in imgLocList:\n",
    "    img = cv2.imread(imgLoc,)\n",
    "    if type(img) != type(None):\n",
    "        img = cv2.cvtColor(img, cv2.COLOR_BGR2RGB)\n",
    "        images.append( img )\n",
    "\n",
    "#print(images)"
   ]
  },
  {
   "cell_type": "code",
   "execution_count": 3,
   "id": "reduced-circle",
   "metadata": {},
   "outputs": [],
   "source": [
    "\n",
    "import imageio\n",
    "\n",
    "# Convert to gif using the imageio.mimsave method\n",
    "imageio.mimsave('diff.gif', images, fps=15)"
   ]
  },
  {
   "cell_type": "code",
   "execution_count": null,
   "id": "bulgarian-cleveland",
   "metadata": {},
   "outputs": [],
   "source": []
  }
 ],
 "metadata": {
  "kernelspec": {
   "display_name": "Python 3",
   "language": "python",
   "name": "python3"
  },
  "language_info": {
   "codemirror_mode": {
    "name": "ipython",
    "version": 3
   },
   "file_extension": ".py",
   "mimetype": "text/x-python",
   "name": "python",
   "nbconvert_exporter": "python",
   "pygments_lexer": "ipython3",
   "version": "3.8.10"
  }
 },
 "nbformat": 4,
 "nbformat_minor": 5
}
