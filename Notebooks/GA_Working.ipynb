{
 "cells": [
  {
   "cell_type": "code",
   "execution_count": 1,
   "id": "treated-annotation",
   "metadata": {},
   "outputs": [
    {
     "name": "stdout",
     "output_type": "stream",
     "text": [
      "GM: Hi!  You're in Matthew's module for generally useful functions and classes\n",
      "IM: Hi!  You're in Matthew's information module for SPAM\n",
      "GA: Hi!  You're in Matthew's main code for all things genetric algorithm.\n",
      "SIMR: Hi!  You're in Matthew's main program for all things galaxy collisions\n"
     ]
    }
   ],
   "source": [
    "#!/usr/bin/env python3\n",
    "# -*- coding: utf-8 -*-\n",
    "\n",
    "'''\n",
    "    Author:\t Matthew Ogden and Graham West\n",
    "    Created:\t01 Sep 2020\n",
    "Description:\tThis code is a modified version of code written by Graham West at https://github.com/gtw2i/GA-Galaxy. \n",
    "                The pupose of this code is to genetrically modify the SPAM orbital parameters for galactic models.\n",
    "'''\n",
    "\n",
    "# Add parent directory\n",
    "from sys import path as sysPath\n",
    "from os import listdir\n",
    "sysPath.append('../')\n",
    "\n",
    "# Add custom modules\n",
    "sysPath.append('../Machine_Score/')\n",
    "\n",
    "from Support_Code import general_module as gm\n",
    "from Support_Code import info_module as im\n",
    "from Genetic_Algorithm import main_Genetic_Algorithm as ga\n",
    "import main_SIMR as simr\n",
    "\n",
    "# General modules\n",
    "from os import path\n",
    "import numpy as np\n",
    "import numpy.linalg as LA\n",
    "import pandas as pd\n",
    "from matplotlib import pyplot as plt\n",
    "import random\n",
    "import pickle\n",
    "from time import sleep \n",
    "\n",
    "# Print testing\n",
    "gm.test()\n",
    "im.test()\n",
    "ga.test()\n",
    "simr.test()\n"
   ]
  },
  {
   "cell_type": "code",
   "execution_count": 2,
   "id": "written-replacement",
   "metadata": {},
   "outputs": [
    {
     "name": "stdout",
     "output_type": "stream",
     "text": [
      "Target Good!\n",
      "\t - Grabbing first model.\n",
      "RUN GOOOD!!!\n",
      "\t - rInfo status: True\n"
     ]
    }
   ],
   "source": [
    "tDir = '../targetDir'\n",
    "#print('Before: \\'%s\\' \\nAfter: \\'%s\\'' % (tDir,gm.validPath(tDir) ))\n",
    "tDir = gm.validPath(tDir)\n",
    "rInfo = None\n",
    "\n",
    "tInfo = im.target_info_class( targetDir = tDir, printAll=False)\n",
    "if tInfo.status == False:\n",
    "    print(\"WARNING\")\n",
    "else:\n",
    "    print(\"Target Good!\")\n",
    "    im.tabprint(\"Grabbing first model.\")\n",
    "    rInfo = tInfo.getRunInfo()\n",
    "    #print(rInfo)\n",
    "    if type(rInfo) == type(None):\n",
    "        print(\"BAD RUN!!!!\")\n",
    "    else:\n",
    "        print(\"RUN GOOOD!!!\")\n",
    "        im.tabprint('rInfo status: %s' % (rInfo.status) )"
   ]
  },
  {
   "cell_type": "code",
   "execution_count": null,
   "id": "north-brisbane",
   "metadata": {},
   "outputs": [
    {
     "name": "stdout",
     "output_type": "stream",
     "text": [
      "SIMR: target_main:\n",
      "SIMR.target_initialize:\n",
      "\t - tDir: ../targetDir\n",
      "\t - tInfo: <class 'NoneType'>\n",
      "IM: target_info_class.__init__:\n",
      "\t - targetDir:  ../targetDir\n",
      "\t - arg.targetDir:  ../targetDir\n",
      "IM: Target.initTargetDir():\n",
      "\t - targetDir: ../targetDir\n",
      "\t - targetDir: (True) /home/mbo2d/587722984435351614/\n",
      "\t - infoDir: (True) /home/mbo2d/587722984435351614/information/\n",
      "\t - baseInfoLoc: (True) /home/mbo2d/587722984435351614/information/base_target_info.json\n",
      "\t - allInfoLoc: (True) /home/mbo2d/587722984435351614/information/target_info.json\n",
      "\t - zooMergerDir: (True) /home/mbo2d/587722984435351614/zoo_merger_models/\n",
      "\t - plotDir: (True) /home/mbo2d/587722984435351614/plots/\n",
      "IM: Target: Opening target info json\n",
      "\t - True - 587722984435351614 - 1293 Models\n",
      "SIMR.GA_Experiment_Wrapper:\n",
      "\t - Setting up parameters\n",
      "SIMR: target_prep_cmd_params: 587722984435351614\n",
      "\t - 0 in target_prep_cmd_params: 587722984435351614: \n",
      "SIMR.target_prep_cmd_params: Printing new run argments\n",
      "\n",
      "GM: Printing Input arguments\n",
      "\t- printBase - <class 'bool'> :  False\n",
      "\t- printAll - <class 'bool'> :  False\n",
      "\t- simple - <class 'bool'> :  False\n",
      "\t- runDir - <class 'NoneType'> :  None\n",
      "\t- targetDir - <class 'str'> :  ../targetDir\n",
      "\t- dataDir - <class 'NoneType'> :  None\n",
      "\t- scoreParamLoc - <class 'str'> :  ../param/test_param.json\n",
      "\t- gaParamLoc - <class 'str'> :  ../param/init_ga_param.json\n",
      "\t- gaExp - <class 'bool'> :  True\n",
      "\t- workerLocName - <class 'str'> :  target\n",
      "\t- scoreParams - <class 'dict'> :  {'test_param': {'name': 'test_param', 'simArg': {'name': 'test_sim', 'nPts': '1000'}, 'imgArg': {'name': 'test_img', 'comment': 'Smaller Image by Matthew.', 'image_size': {'width': 150, 'height': 100}, 'galaxy_centers': {'px': 50, 'py': 50, 'sx': 100, 'sy': 50}, 'target_id': '587722984435351614', 'blur': {'type': 'gaussian_blur', 'size': 5, 'weight': 0.75}, 'radial_const': [-1.5, -1.5], 'normalization': {'type': 'type1', 'norm_constant': 2.5}}, 'scoreType': 'model_fitness_score', 'cmpArg': {'cmpMethod': 'correlation', 'name': 'test_score', 'type': 'direct_image_comparison', 'targetName': 'zoo_test', 'direct_compare_function': 'correlation'}}}\n",
      "\t- tInfo - <class 'Support_Code.info_module.target_info_class'> :  <Support_Code.info_module.target_info_class object at 0x7f4e7ccfe1f0>\n",
      "\n",
      "SIMR.GA_Experiment_Wrapper:\n",
      "\t - Saving results: /home/mbo2d/587722984435351614/tmp/Testing_2022-04-28T19-53-47_\n",
      "SIMR.ga_simple_score_wrapper\n",
      "GA.Genetic_Algorithm_Experiment: Beginning Experiment\n",
      "Master: Received 3 / 4 - 0.61876556688286536\n",
      "Master: Complete\n",
      "GA: step: 0 / 1\n",
      "Master: Received 3 / 4 - 0.7587948273623051\n",
      "Master: Complete\n",
      "Phase: 1 / 2\n",
      "Master: Received 3 / 4 - 0.20358634412406468\n",
      "Master: Complete\n",
      "GA: step: 0 / 1\n",
      "Master: Received 2 / 4 - 0.7307799397991168\r"
     ]
    }
   ],
   "source": [
    "\n",
    "# Executable parameter setup\n",
    "cmdArgs = gm.inArgClass()\n",
    "cmdArgs.setArg('scoreParamLoc', '../param/test_param.json')\n",
    "cmdArgs.setArg('gaParamLoc', '../param/init_ga_param.json')\n",
    "cmdArgs.setArg('targetDir', '../targetDir')\n",
    "\n",
    "cmd_dict = {}\n",
    "cmd_dict['printAll'] = True\n",
    "cmd_dict['gaExp'] = True\n",
    "cmd_dict['workerLocName'] = 'target'\n",
    "\n",
    "cmdArgs.updateArgsFromDict( cmd_dict )\n",
    "\n",
    "simr.target_main( cmdArg = cmdArgs )"
   ]
  },
  {
   "cell_type": "code",
   "execution_count": null,
   "id": "affecting-northern",
   "metadata": {},
   "outputs": [],
   "source": [
    "\n",
    "\n",
    "ga_param = Prep_GA_Input_Parameters('../param/init_ga_param.json')\n",
    "print( ga_param.keys() )"
   ]
  },
  {
   "cell_type": "code",
   "execution_count": null,
   "id": "critical-theory",
   "metadata": {},
   "outputs": [],
   "source": [
    "outDir = gm.validPath ( '../tmpDir/' )\n",
    "\n",
    "outBase = outDir + 'Results_%s_' % gm.getFileFriendlyDateTime()\n",
    "\n",
    "exp_details = {}\n",
    "\n",
    "exp_details['name'] = 'Genetic Algorithm Creation'\n",
    "exp_details['info'] = 'This file is the prototype for creating \\\n",
    "    the Genetic Algorythm pipeline.'\n",
    "exp_details['score_parameters'] = runArgs.get('scoreParams')\n",
    "exp_details['ga_paramters'] = ga_param\n",
    "\n",
    "print( exp_details.keys() )\n",
    "\n",
    "eLoc = outBase + 'Details.json'\n",
    "print(eLoc)\n",
    "\n",
    "gm.saveJson( exp_details, eLoc, pretty = False, convert_numpy_array=True )\n",
    "\n",
    "\n",
    "print(\"Saved\")"
   ]
  },
  {
   "cell_type": "code",
   "execution_count": null,
   "id": "collected-ethics",
   "metadata": {
    "tags": []
   },
   "outputs": [],
   "source": [
    "Genetic_Algorithm_Experiment( ga_param, scorer.score_models, outBase, True )"
   ]
  },
  {
   "cell_type": "code",
   "execution_count": null,
   "id": "binding-liability",
   "metadata": {},
   "outputs": [],
   "source": [
    "models = pickle.load( open( outBase + 'models.pkl', 'rb') )\n",
    "print(models.shape)"
   ]
  },
  {
   "cell_type": "code",
   "execution_count": null,
   "id": "greenhouse-founder",
   "metadata": {},
   "outputs": [],
   "source": []
  }
 ],
 "metadata": {
  "kernelspec": {
   "display_name": "Python 3",
   "language": "python",
   "name": "python3"
  },
  "language_info": {
   "codemirror_mode": {
    "name": "ipython",
    "version": 3
   },
   "file_extension": ".py",
   "mimetype": "text/x-python",
   "name": "python",
   "nbconvert_exporter": "python",
   "pygments_lexer": "ipython3",
   "version": "3.8.10"
  }
 },
 "nbformat": 4,
 "nbformat_minor": 5
}
