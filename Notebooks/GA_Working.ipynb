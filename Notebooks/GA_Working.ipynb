{
 "cells": [
  {
   "cell_type": "code",
   "execution_count": 1,
   "id": "competent-saturday",
   "metadata": {},
   "outputs": [
    {
     "name": "stdout",
     "output_type": "stream",
     "text": [
      "GM: Hi!  You're in Matthew's module for generally useful functions and classes\n",
      "IM: Hi!  You're in Matthew's information module for SPAM\n",
      "GA: Hi!  You're in Matthew's main code for all things genetric algorithm.\n",
      "SIMR: Hi!  You're in Matthew's main program for all things galaxy collisions\n"
     ]
    }
   ],
   "source": [
    "#!/usr/bin/env python3\n",
    "# -*- coding: utf-8 -*-\n",
    "\n",
    "'''\n",
    "    Author:\t Matthew Ogden and Graham West\n",
    "    Created:\t01 Sep 2020\n",
    "Description:\tThis code is a modified version of code written by Graham West at https://github.com/gtw2i/GA-Galaxy. \n",
    "                The pupose of this code is to genetrically modify the SPAM orbital parameters for galactic models.\n",
    "'''\n",
    "\n",
    "# Add parent directory\n",
    "from sys import path as sysPath\n",
    "from os import listdir\n",
    "sysPath.append('../')\n",
    "\n",
    "# Add custom modules\n",
    "sysPath.append('../Machine_Score/')\n",
    "\n",
    "from Support_Code import general_module as gm\n",
    "from Support_Code import info_module as im\n",
    "from Genetic_Algorithm import main_Genetic_Algorithm as ga\n",
    "import main_SIMR as simr\n",
    "\n",
    "# General modules\n",
    "from os import path\n",
    "import numpy as np\n",
    "import numpy.linalg as LA\n",
    "import pandas as pd\n",
    "from matplotlib import pyplot as plt\n",
    "import random\n",
    "import pickle\n",
    "\n",
    "# Print testing\n",
    "gm.test()\n",
    "im.test()\n",
    "ga.test()\n",
    "simr.test()\n"
   ]
  },
  {
   "cell_type": "code",
   "execution_count": 2,
   "id": "known-memphis",
   "metadata": {},
   "outputs": [
    {
     "name": "stdout",
     "output_type": "stream",
     "text": [
      "Target Good!\n",
      "\t - Grabbing first model.\n",
      "RUN GOOOD!!!\n",
      "\t - rInfo status: True\n"
     ]
    }
   ],
   "source": [
    "tDir = '../targetDir'\n",
    "#print('Before: \\'%s\\' \\nAfter: \\'%s\\'' % (tDir,gm.validPath(tDir) ))\n",
    "tDir = gm.validPath(tDir)\n",
    "rInfo = None\n",
    "\n",
    "tInfo = im.target_info_class( targetDir = tDir, printAll=False)\n",
    "if tInfo.status == False:\n",
    "    print(\"WARNING\")\n",
    "else:\n",
    "    print(\"Target Good!\")\n",
    "    im.tabprint(\"Grabbing first model.\")\n",
    "    rInfo = tInfo.getRunInfo()\n",
    "    #print(rInfo)\n",
    "    if type(rInfo) == type(None):\n",
    "        print(\"BAD RUN!!!!\")\n",
    "    else:\n",
    "        print(\"RUN GOOOD!!!\")\n",
    "        im.tabprint('rInfo status: %s' % (rInfo.status) )"
   ]
  },
  {
   "cell_type": "markdown",
   "id": "cross-grounds",
   "metadata": {},
   "source": [
    "## Working Graham's Code"
   ]
  },
  {
   "cell_type": "code",
   "execution_count": 3,
   "id": "overall-westminster",
   "metadata": {},
   "outputs": [
    {
     "name": "stdout",
     "output_type": "stream",
     "text": [
      "SIMR.target_initialize:\n",
      "\t - tDir: None\n",
      "\t - tInfo: <class 'Support_Code.info_module.target_info_class'>\n",
      "\t - True - 587722984435351614 - 1293 Models\n",
      "SIMR: target_prep_cmd_params: 587722984435351614\n"
     ]
    }
   ],
   "source": [
    "cmdArgs = gm.inArgClass()\n",
    "cmdArgs.setArg('paramLoc', '../param/test_param.json')\n",
    "\n",
    "tInfo = simr.target_initialize( cmdArgs, tInfo )\n",
    "runArgs = simr.target_prep_cmd_params( tInfo, cmdArgs )\n",
    "#runArgs.printArg()\n",
    "\n",
    "runArgs.printBase = False\n",
    "runArgs.printAll = False\n",
    "runArgs.newAll = True\n",
    "runArgs.newInfo = True\n",
    "runArgs.rmRunDir = False\n",
    "runArgs.overWrite = True\n",
    "runArgs.overwrite = True\n"
   ]
  },
  {
   "cell_type": "code",
   "execution_count": 4,
   "id": "authorized-venezuela",
   "metadata": {},
   "outputs": [
    {
     "name": "stdout",
     "output_type": "stream",
     "text": [
      "{'covariance_burn': 2.0,\n",
      " 'covariance_mix_amplitude': [0.3333333333333333,\n",
      "                              3.0],\n",
      " 'covariance_mix_matrix': True,\n",
      " 'covariance_mix_probability': array([0.33333333, 0.33333333, 0.33333333]),\n",
      " 'covariance_scale': 0.05,\n",
      " 'generation_number': 1,\n",
      " 'generation_total_number': 2,\n",
      " 'parameter_fixed_values': [-9.938529968261719,\n",
      "                            -4.58050012588501,\n",
      "                            3.2737700939178467,\n",
      "                            0.2912585437297821,\n",
      "                            258.48944091796875,\n",
      "                            -23.275182723999023,\n",
      "                            0.4857964813709259,\n",
      "                            48.02430725097656,\n",
      "                            9.125129699707031,\n",
      "                            17.649972915649414,\n",
      "                            129.69229125976562,\n",
      "                            36.8125,\n",
      "                            -41.784698486328125,\n",
      "                            51.42856979370117],\n",
      " 'parameter_limits': array([[ -9.93852997,  -9.93852997],\n",
      "       [ -4.58050013,  -4.58050013],\n",
      "       [  0.        ,  24.89882159],\n",
      "       [ -0.39239576,   0.97912344],\n",
      "       [146.40583801, 283.50491333],\n",
      "       [-67.00068474,  76.37662697],\n",
      "       [  0.30287886,   0.79711592],\n",
      "       [ 18.17852974,  65.98039246],\n",
      "       [  2.3761797 ,  18.5749073 ],\n",
      "       [  3.34206104,  33.76221848],\n",
      "       [  0.        , 180.        ],\n",
      "       [  0.        , 180.        ],\n",
      "       [-89.        ,  89.        ],\n",
      "       [-89.00000381,  89.        ]]),\n",
      " 'parameter_number': 14,\n",
      " 'parameter_psi': [1, 1],\n",
      " 'parameter_to_fit': [2, 3, 4, 5, 6, 8,\n",
      "                      9, 10, 11, 12,\n",
      "                      13],\n",
      " 'phase_number': 2,\n",
      " 'phase_parameter_to_fit': [[4, 5, 10,\n",
      "                             11, 12,\n",
      "                             13],\n",
      "                            [2, 3, 6, 8,\n",
      "                             9]],\n",
      " 'population_initialization_method': 1,\n",
      " 'population_keep': 1,\n",
      " 'population_reseed_ratio': 0.125,\n",
      " 'population_sample_size': 1000,\n",
      " 'population_size': 4}\n"
     ]
    }
   ],
   "source": [
    "ga_param = gm.readJson( '../param/init_ga_param.json' )\n",
    "\n",
    "ga_param['generation_number'] = int( ga_param['generation_total_number'] \\\n",
    "                                    / ga_param['phase_number'] )\n",
    "ga_param['covariance_burn'] = np.power( ga_param['generation_number']/2, -1 )\n",
    "ga_param['covariance_mix_probability'] = ga_param['covariance_mix_probability']/np.sum(ga_param['covariance_mix_probability'])\n",
    "\n",
    "ga_param['parameter_limits'] = np.array( ga_param['parameter_limits'] )\n",
    "\n",
    "gm.pprint( ga_param )"
   ]
  },
  {
   "cell_type": "code",
   "execution_count": 5,
   "id": "broken-medicare",
   "metadata": {},
   "outputs": [],
   "source": [
    "\n",
    "tmp = '''\n",
    "# Creation and saving of needed variables for genetic algorythm. \n",
    "ga_param = {}\n",
    "\n",
    "# Total number of generations to complete in a GA experiment.\n",
    "ga_param['generation_total_number'] = 2\n",
    "\n",
    "# Number of phases during a complete GA experiment. \n",
    "nPhase = 2\n",
    "ga_param['phase_number'] = 2\n",
    "\n",
    "# Number of generations during a single phase. \n",
    "nGen = 1\n",
    "ga_param['generation_number'] = int( ga_param['generation_total_number'] \\\n",
    "                                    / ga_param['phase_number'] )\n",
    "\n",
    "# number of SPAM / GA parameters per model.\n",
    "ga_param['parameter_number'] = 14 \n",
    "\n",
    "# total list of indices for parameters that will change/mutate during GA to fit target. \n",
    "ga_param['parameter_to_fit'] = [ 2, 3, 4, 5, 6, 8, 9, 10, 11, 12, 13 ]\n",
    "\n",
    "# SPAM / GA parameter limits\n",
    "ga_param['parameter_limits'] = xLim\n",
    "\n",
    "# Target / fixed parameters\n",
    "ga_param['parameter_fixed_values'] = pReal\n",
    "\n",
    "# Size of model population during each generational step.\n",
    "nPop = 2**2\t# size of population at each step\n",
    "ga_param['population_size'] = 2**2\n",
    "\n",
    "# sets of parameters to change during seperate phases.\n",
    "ga_param['phase_parameter_to_fit'] = []\n",
    "ga_param['phase_parameter_to_fit'].append([ 4, 5, 10, 11, 12, 13 ])\n",
    "ga_param['phase_parameter_to_fit'].append([ 2, 3, 6, 8, 9 ])\n",
    "\n",
    "# Set population initialization method.\n",
    "ga_param['population_initialization_method'] = 1\n",
    "\n",
    "# Number of loops to find a maximum correlation.\n",
    "ga_param['population_sample_size'] = 1000\n",
    "\n",
    "# Psi value....\n",
    "ga_param['parameter_psi'] = [ 1, 1 ]\n",
    "\n",
    "# ga parameter initialization\n",
    "ga_param['covariance_mix_matrix'] = True\n",
    "ga_param['covariance_mix_amplitude'] = [ 1.0/3.0, 3.0 ]\n",
    "ga_param['covariance_scale'] = 0.05\n",
    "ga_param['covariance_mix_probability'] = np.array( [ 1.0, 1.0, 1.0 ] )\n",
    "ga_param['population_keep'] = 1\n",
    "ga_param['population_reseed_ratio'] = 0.125\n",
    "\n",
    "# Self creating/editing variables for GA experiment\n",
    "ga_param['covariance_burn'] = np.power( ga_param['generation_number']/2, -1 )\n",
    "ga_param['covariance_mix_probability'] = ga_param['covariance_mix_probability']/np.sum(ga_param['covariance_mix_probability'])\n",
    "\n",
    "\n",
    "gm.saveJson( ga_param, '../param/init_ga_param.json', pretty = True, convert_numpy_array = True )\n",
    "\n",
    "print('done')\n",
    "'''"
   ]
  },
  {
   "cell_type": "code",
   "execution_count": 6,
   "id": "certified-seeking",
   "metadata": {},
   "outputs": [
    {
     "name": "stdout",
     "output_type": "stream",
     "text": [
      "SIMR.ga_machine_score_wrapper\n"
     ]
    }
   ],
   "source": [
    "\n",
    "class ga_machine_score_wrapper:\n",
    "    \n",
    "    runArgs = None # arguments while scoring individual models\n",
    "    tInfo   = None # class for target system\n",
    "    psi     = None # variable needed for converting from ga to spam parameters\n",
    "    prog    = None # variable for printing scoring progress\n",
    "    \n",
    "    def __init__( self, runArgs, tInfo, psi, printProg ):\n",
    "        \n",
    "        # Save variables\n",
    "        self.runArgs = runArgs\n",
    "        self.tInfo   = tInfo\n",
    "        self.psi     = psi\n",
    "        self.prog    = printProg\n",
    "        \n",
    "        if self.prog:  print(\"SIMR.ga_machine_score_wrapper\")\n",
    "        \n",
    "    def score_models( self, ga_params ):\n",
    "        spam_parameters = ga.convert_ga_to_spam( ga_params, self.psi )\n",
    "        scores = simr.score_models_iter( self.tInfo, self.runArgs, \\\n",
    "                                        spam_parameters, printProg = self.prog )\n",
    "        return scores\n",
    "\n",
    "# End ga_machine score wrapper\n",
    "\n",
    "scorer = ga_machine_score_wrapper( runArgs, tInfo, ga_param['parameter_psi'], True )\n"
   ]
  },
  {
   "cell_type": "code",
   "execution_count": 7,
   "id": "quiet-chancellor",
   "metadata": {},
   "outputs": [],
   "source": [
    "from Genetic_Algorithm.main_Genetic_Algorithm import *"
   ]
  },
  {
   "cell_type": "code",
   "execution_count": 8,
   "id": "parallel-cathedral",
   "metadata": {},
   "outputs": [
    {
     "name": "stdout",
     "output_type": "stream",
     "text": [
      "dict_keys(['name', 'info', 'score_parameters', 'ga_paramters'])\n",
      "/mnt/c/Users/ogden/OneDrive/Documents/_Galaxy_Code/galaxyJSPAM/tmpDir/Results_2022-04-28T13-52-25_Details.json\n",
      "Saved\n"
     ]
    }
   ],
   "source": [
    "outDir = gm.validPath ( '../tmpDir/' )\n",
    "outBase = outDir + 'Results_%s_' % gm.getFileFriendlyDateTime()\n",
    "\n",
    "exp_details = {}\n",
    "\n",
    "exp_details['name'] = 'Genetic Algorithm Creation'\n",
    "exp_details['info'] = 'This file is the prototype for creating \\\n",
    "    the Genetic Algorythm pipeline.'\n",
    "exp_details['score_parameters'] = runArgs.get('scoreParams')\n",
    "exp_details['ga_paramters'] = ga_param\n",
    "\n",
    "print( exp_details.keys() )\n",
    "\n",
    "eLoc = outBase + 'Details.json'\n",
    "print(eLoc)\n",
    "\n",
    "#gm.saveJson( exp_details, eLoc, pretty = True, convert_numpy_array=True )\n",
    "gm.saveJson( exp_details, eLoc, pretty = False, convert_numpy_array=True )\n",
    "\n",
    "print(\"Saved\")"
   ]
  },
  {
   "cell_type": "code",
   "execution_count": 9,
   "id": "corporate-delta",
   "metadata": {
    "tags": []
   },
   "outputs": [
    {
     "name": "stdout",
     "output_type": "stream",
     "text": [
      "GA.Genetic_Algorithm_Experiment: Beginning Experiment\n",
      "Master: Received 3 / 4 - 0.6408727264231049\n",
      "Master: Complete\n",
      "GA: step: 0 / 1\n",
      "Master: Received 3 / 4 - 0.6317319129116885\n",
      "Master: Complete\n"
     ]
    },
    {
     "ename": "NameError",
     "evalue": "name 'pickle' is not defined",
     "output_type": "error",
     "traceback": [
      "\u001b[0;31m---------------------------------------------------------------------------\u001b[0m",
      "\u001b[0;31mNameError\u001b[0m                                 Traceback (most recent call last)",
      "\u001b[0;32m<ipython-input-9-4db0c3654071>\u001b[0m in \u001b[0;36m<module>\u001b[0;34m\u001b[0m\n\u001b[0;32m----> 1\u001b[0;31m \u001b[0mGenetic_Algorithm_Experiment\u001b[0m\u001b[0;34m(\u001b[0m \u001b[0mga_param\u001b[0m\u001b[0;34m,\u001b[0m \u001b[0mscorer\u001b[0m\u001b[0;34m.\u001b[0m\u001b[0mscore_models\u001b[0m\u001b[0;34m,\u001b[0m \u001b[0moutBase\u001b[0m\u001b[0;34m,\u001b[0m \u001b[0;32mTrue\u001b[0m \u001b[0;34m)\u001b[0m\u001b[0;34m\u001b[0m\u001b[0;34m\u001b[0m\u001b[0m\n\u001b[0m",
      "\u001b[0;32m/mnt/c/Users/ogden/OneDrive/Documents/_Galaxy_Code/galaxyJSPAM/Notebooks/../Genetic_Algorithm/main_Genetic_Algorithm.py\u001b[0m in \u001b[0;36mGenetic_Algorithm_Experiment\u001b[0;34m(ga_param, scorerFunc, writeLocBase, printProg)\u001b[0m\n\u001b[1;32m     47\u001b[0m \u001b[0;34m\u001b[0m\u001b[0m\n\u001b[1;32m     48\u001b[0m     \u001b[0;31m# Save initial progress\u001b[0m\u001b[0;34m\u001b[0m\u001b[0;34m\u001b[0m\u001b[0;34m\u001b[0m\u001b[0m\n\u001b[0;32m---> 49\u001b[0;31m     \u001b[0mpickle\u001b[0m\u001b[0;34m.\u001b[0m\u001b[0mdump\u001b[0m\u001b[0;34m(\u001b[0m \u001b[0mchain\u001b[0m\u001b[0;34m,\u001b[0m   \u001b[0mopen\u001b[0m\u001b[0;34m(\u001b[0m \u001b[0mwriteLocBase\u001b[0m \u001b[0;34m+\u001b[0m \u001b[0;34m\"models.pkl\"\u001b[0m\u001b[0;34m,\u001b[0m \u001b[0;34m\"wb\"\u001b[0m \u001b[0;34m)\u001b[0m \u001b[0;34m)\u001b[0m\u001b[0;34m\u001b[0m\u001b[0;34m\u001b[0m\u001b[0m\n\u001b[0m\u001b[1;32m     50\u001b[0m     \u001b[0mpickle\u001b[0m\u001b[0;34m.\u001b[0m\u001b[0mdump\u001b[0m\u001b[0;34m(\u001b[0m \u001b[0mscores\u001b[0m\u001b[0;34m,\u001b[0m  \u001b[0mopen\u001b[0m\u001b[0;34m(\u001b[0m \u001b[0mwriteLocBase\u001b[0m \u001b[0;34m+\u001b[0m \u001b[0;34m\"scores.pkl\"\u001b[0m\u001b[0;34m,\u001b[0m \u001b[0;34m\"wb\"\u001b[0m \u001b[0;34m)\u001b[0m \u001b[0;34m)\u001b[0m\u001b[0;34m\u001b[0m\u001b[0;34m\u001b[0m\u001b[0m\n\u001b[1;32m     51\u001b[0m \u001b[0;34m\u001b[0m\u001b[0m\n",
      "\u001b[0;31mNameError\u001b[0m: name 'pickle' is not defined"
     ]
    }
   ],
   "source": [
    "\n",
    "    \n",
    "Genetic_Algorithm_Experiment( ga_param, scorer.score_models, outBase, True )"
   ]
  },
  {
   "cell_type": "code",
   "execution_count": null,
   "id": "specific-messaging",
   "metadata": {
    "tags": []
   },
   "outputs": [],
   "source": [
    "tmp = '''\n",
    "pFile = '../Genetic_Algorithm/587722984435351614_combined.txt'\n",
    "print( path.exists(pFile), pFile )\n",
    "\n",
    "zooThresh = 0.5\n",
    "\n",
    "import math\n",
    "from copy import deepcopy\n",
    "data, psi, nModel, nCol = ga.ReadAndCleanupData( pFile, zooThresh )\n",
    "print(\"data: \", data.shape)\n",
    "print(\"PSI: \", psi.shape)\n",
    "print(\"nModel: \", nModel)\n",
    "print(\"nCol: \", nCol)\n",
    "#print(psi)\n",
    "#####################\n",
    "###   VARIABLES   ###\n",
    "#####################\n",
    "\n",
    "# target ID\n",
    "zooBase = \"587722984435351614\"\n",
    "targetInd = 0\n",
    "nParam    = 14\t\t# number of SPAM parameters\n",
    "shrink   = 1.0\t\t# fraction of max xLim\n",
    "\n",
    "pReal   = data[targetInd,0:-1]\n",
    "psiReal = psi[targetInd,:]\n",
    "print('psiReal', psiReal)\n",
    "\n",
    "# read max xLim and window bounds\n",
    "#XXX = np.loadtxt( \"../Genetic_Algorithm/Bounds_587722984435351614.txt\" )\n",
    "#\tmmm = XXX[:nParam,:]\n",
    "\n",
    "# get parameter stats\n",
    "mins = np.min( data, axis=0 )[0:-1]\n",
    "maxs = np.max( data, axis=0 )[0:-1]\n",
    "mmm = [ mins, maxs ]\n",
    "mmm = np.transpose(np.array(mmm))\n",
    "#\tprint mmm\n",
    "# modify max xLim\n",
    "#\tmmm[2,:]  = np.array([ -10.0,  10.0 ])\n",
    "#\tmmm[2,:]  = np.array([   0.0,   5.0 ])\n",
    "mmm[2,:]  = np.array([   0.0,   mmm[2,1] ])  # sym\n",
    "\"\"\"\n",
    "mmm[3,:]  = np.array([  -0.9,   0.9 ])\n",
    "mmm[4,:]  = np.array([   0.0, 360.0 ])\n",
    "mmm[5,:]  = np.array([ -90.0,  90.0 ])\n",
    "#\tmmm[6,:]  = np.array([   0.2,   0.8 ])\n",
    "#\tmmm[7,:]  = np.array([  10.0,  70.0 ])\n",
    "#\tmmm[8,:]  = np.array([   0.5,  10.0 ])\n",
    "#\tmmm[9,:]  = np.array([   0.5,  10.0 ])\n",
    "\"\"\"\n",
    "mmm[10,:] = np.array([   0.0, 180.0 ])\t# sym\n",
    "mmm[11,:] = np.array([   0.0, 180.0 ])\t# sym\n",
    "mmm[12,:] = np.array([ -89.0,  89.0 ])\t\n",
    "mmm[13,:] = np.array([ -89.0,  89.0 ])\t\n",
    "\n",
    "# shrink xLim\n",
    "xLim = np.zeros((nParam,2))\n",
    "for i in range(nParam):\n",
    "    xLim[i,0] = pReal[i] - shrink*(pReal[i] - mmm[i,0])\n",
    "    xLim[i,1] = shrink*(mmm[i,1] - pReal[i]) + pReal[i]\n",
    "# end\n",
    "\n",
    "print(\"    min      real     max\")\n",
    "for i in range(nParam):\n",
    "#\t\tprint xLim[i,0], pReal[i], xLim[i,1]#, pWidth[i]\n",
    "    print( \"{:8.2f} \".format(xLim[i,0]) + \"{:8.2f} \".format(pReal[i]) + \"{:8.2f} \".format(xLim[i,1]) )\n",
    "# end\n",
    "print(\" \")\n",
    "'''"
   ]
  },
  {
   "cell_type": "code",
   "execution_count": null,
   "id": "bridal-headset",
   "metadata": {},
   "outputs": [],
   "source": []
  },
  {
   "cell_type": "code",
   "execution_count": null,
   "id": "gorgeous-offer",
   "metadata": {},
   "outputs": [],
   "source": []
  },
  {
   "cell_type": "code",
   "execution_count": null,
   "id": "brilliant-formation",
   "metadata": {},
   "outputs": [],
   "source": []
  }
 ],
 "metadata": {
  "kernelspec": {
   "display_name": "Python 3",
   "language": "python",
   "name": "python3"
  },
  "language_info": {
   "codemirror_mode": {
    "name": "ipython",
    "version": 3
   },
   "file_extension": ".py",
   "mimetype": "text/x-python",
   "name": "python",
   "nbconvert_exporter": "python",
   "pygments_lexer": "ipython3",
   "version": "3.8.10"
  }
 },
 "nbformat": 4,
 "nbformat_minor": 5
}
