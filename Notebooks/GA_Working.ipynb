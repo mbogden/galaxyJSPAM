{
 "cells": [
  {
   "cell_type": "code",
   "execution_count": 1,
   "id": "informative-missouri",
   "metadata": {},
   "outputs": [
    {
     "name": "stdout",
     "output_type": "stream",
     "text": [
      "GM: Hi!  You're in Matthew's module for generally useful functions and classes\n",
      "IM: Hi!  You're in Matthew's information module for SPAM\n",
      "GA: Hi!  You're in Matthew's main code for all things genetric algorithm.\n",
      "SIMR: Hi!  You're in Matthew's main program for all things galaxy collisions\n"
     ]
    }
   ],
   "source": [
    "#!/usr/bin/env python3\n",
    "# -*- coding: utf-8 -*-\n",
    "\n",
    "'''\n",
    "    Author:\t Matthew Ogden and Graham West\n",
    "    Created:\t01 Sep 2020\n",
    "Description:\tThis code is a modified version of code written by Graham West at https://github.com/gtw2i/GA-Galaxy. \n",
    "                The pupose of this code is to genetrically modify the SPAM orbital parameters for galactic models.\n",
    "'''\n",
    "\n",
    "# Add parent directory\n",
    "from sys import path as sysPath\n",
    "from os import listdir\n",
    "sysPath.append('../')\n",
    "\n",
    "# Add custom modules\n",
    "sysPath.append('../Machine_Score/')\n",
    "\n",
    "from Support_Code import general_module as gm\n",
    "from Support_Code import info_module as im\n",
    "from Genetic_Algorithm import main_Genetic_Algorithm as ga\n",
    "import main_SIMR as simr\n",
    "\n",
    "# General modules\n",
    "from os import path\n",
    "import numpy as np\n",
    "import numpy.linalg as LA\n",
    "import pandas as pd\n",
    "from matplotlib import pyplot as plt\n",
    "import random\n",
    "import pickle\n",
    "from time import sleep \n",
    "\n",
    "# Print testing\n",
    "gm.test()\n",
    "im.test()\n",
    "ga.test()\n",
    "simr.test()\n"
   ]
  },
  {
   "cell_type": "code",
   "execution_count": 2,
   "id": "vocal-standing",
   "metadata": {},
   "outputs": [
    {
     "name": "stdout",
     "output_type": "stream",
     "text": [
      "Target Good!\n",
      "\t - Grabbing first model.\n",
      "RUN GOOOD!!!\n",
      "\t - rInfo status: True\n"
     ]
    }
   ],
   "source": [
    "tDir = '../targetDir'\n",
    "#print('Before: \\'%s\\' \\nAfter: \\'%s\\'' % (tDir,gm.validPath(tDir) ))\n",
    "tDir = gm.validPath(tDir)\n",
    "rInfo = None\n",
    "\n",
    "tInfo = im.target_info_class( targetDir = tDir, printAll=False)\n",
    "if tInfo.status == False:\n",
    "    print(\"WARNING\")\n",
    "else:\n",
    "    print(\"Target Good!\")\n",
    "    im.tabprint(\"Grabbing first model.\")\n",
    "    rInfo = tInfo.getRunInfo()\n",
    "    #print(rInfo)\n",
    "    if type(rInfo) == type(None):\n",
    "        print(\"BAD RUN!!!!\")\n",
    "    else:\n",
    "        print(\"RUN GOOOD!!!\")\n",
    "        im.tabprint('rInfo status: %s' % (rInfo.status) )"
   ]
  },
  {
   "cell_type": "code",
   "execution_count": 3,
   "id": "fossil-tribe",
   "metadata": {},
   "outputs": [
    {
     "name": "stdout",
     "output_type": "stream",
     "text": [
      "SIMR: target_main:\n",
      "SIMR.target_initialize:\n",
      "\t - tDir: ../targetDir\n",
      "\t - tInfo: <class 'NoneType'>\n",
      "IM: target_info_class.__init__:\n",
      "\t - targetDir:  ../targetDir\n",
      "\t - arg.targetDir:  ../targetDir\n",
      "IM: Target.initTargetDir():\n",
      "\t - targetDir: ../targetDir\n",
      "\t - targetDir: (True) /home/mbo2d/587722984435351614/\n",
      "\t - infoDir: (True) /home/mbo2d/587722984435351614/information/\n",
      "\t - baseInfoLoc: (True) /home/mbo2d/587722984435351614/information/base_target_info.json\n",
      "\t - allInfoLoc: (True) /home/mbo2d/587722984435351614/information/target_info.json\n",
      "\t - zooMergerDir: (True) /home/mbo2d/587722984435351614/zoo_merger_models/\n",
      "\t - plotDir: (True) /home/mbo2d/587722984435351614/plots/\n",
      "IM: Target: Opening target info json\n",
      "\t - True - 587722984435351614 - 1293 Models\n",
      "SIMR.GA_Experiment_Wrapper:\n",
      "\t - Setting up parameters\n",
      "SIMR: target_prep_cmd_params: 587722984435351614\n",
      "\t - 0 in target_prep_cmd_params: 587722984435351614: \n",
      "SIMR.target_prep_cmd_params: Printing new run argments\n",
      "\n",
      "GM: Printing Input arguments\n",
      "\t- printBase - <class 'bool'> :  False\n",
      "\t- printAll - <class 'bool'> :  False\n",
      "\t- simple - <class 'bool'> :  False\n",
      "\t- runDir - <class 'NoneType'> :  None\n",
      "\t- targetDir - <class 'str'> :  ../targetDir\n",
      "\t- dataDir - <class 'NoneType'> :  None\n",
      "\t- scoreParamLoc - <class 'str'> :  ../param/test_param.json\n",
      "\t- gaParamLoc - <class 'str'> :  ../param/init_ga_param.json\n",
      "\t- gaExp - <class 'bool'> :  True\n",
      "\t- workerLocName - <class 'str'> :  target\n",
      "\t- scoreParams - <class 'dict'> :  {'test_param': {'name': 'test_param', 'simArg': {'name': 'test_sim', 'nPts': '1000'}, 'imgArg': {'name': 'test_img', 'comment': 'Smaller Image by Matthew.', 'image_size': {'width': 150, 'height': 100}, 'galaxy_centers': {'px': 50, 'py': 50, 'sx': 100, 'sy': 50}, 'target_id': '587722984435351614', 'blur': {'type': 'gaussian_blur', 'size': 5, 'weight': 0.75}, 'radial_const': [-1.5, -1.5], 'normalization': {'type': 'type1', 'norm_constant': 2.5}}, 'scoreType': 'model_fitness_score', 'cmpArg': {'cmpMethod': 'correlation', 'name': 'test_score', 'type': 'direct_image_comparison', 'targetName': 'zoo_test', 'direct_compare_function': 'correlation'}}}\n",
      "\t- tInfo - <class 'Support_Code.info_module.target_info_class'> :  <Support_Code.info_module.target_info_class object at 0x7f7a8a5d0df0>\n",
      "\n",
      "SIMR.GA_Experiment_Wrapper:\n",
      "\t - Saving results: /home/mbo2d/587722984435351614/tmp/Testing_2022-04-29T12-32-20_\n",
      "SIMR.ga_simple_score_wrapper\n",
      "GA.Genetic_Algorithm_Experiment: Beginning Experiment\n",
      "Master: Received 3 / 4 - 0.4975788047029897\n",
      "Master: Complete\n",
      "GA: step: 0 / 1\n",
      "Master: Received 3 / 4 - 0.7425412290817783\n",
      "Master: Complete\n",
      "Phase: 1 / 2\n",
      "Master: Received 3 / 4 - 0.5813697245905486\n",
      "Master: Complete\n",
      "GA: step: 0 / 1\n",
      "Master: Received 3 / 4 - 0.7383727501572215\n",
      "Master: Complete\n",
      "GA.Genetic_Algorithm_Experiment: DONE!\n"
     ]
    }
   ],
   "source": [
    "\n",
    "# Executable parameter setup\n",
    "cmdArgs = gm.inArgClass()\n",
    "cmdArgs.setArg('scoreParamLoc', '../param/test_param.json')\n",
    "cmdArgs.setArg('gaParamLoc', '../param/init_ga_param.json')\n",
    "cmdArgs.setArg('targetDir', '../targetDir')\n",
    "\n",
    "cmd_dict = {}\n",
    "cmd_dict['printAll'] = True\n",
    "cmd_dict['gaExp'] = True\n",
    "cmd_dict['workerLocName'] = 'target'\n",
    "\n",
    "cmdArgs.updateArgsFromDict( cmd_dict )\n",
    "\n",
    "simr.target_main( cmdArg = cmdArgs )"
   ]
  },
  {
   "cell_type": "code",
   "execution_count": 4,
   "id": "warming-rouge",
   "metadata": {},
   "outputs": [
    {
     "name": "stdout",
     "output_type": "stream",
     "text": [
      "dict_keys(['generation_total_number', 'phase_number', 'generation_number', 'parameter_number', 'parameter_to_fit', 'parameter_limits', 'parameter_fixed_values', 'population_size', 'phase_parameter_to_fit', 'population_initialization_method', 'population_sample_size', 'parameter_psi', 'covariance_mix_matrix', 'covariance_mix_amplitude', 'covariance_scale', 'covariance_mix_probability', 'population_keep', 'population_reseed_ratio', 'covariance_burn'])\n"
     ]
    }
   ],
   "source": [
    "#ga_param = ga.Prep_GA_Input_Parameters('../param/init_ga_param.json')\n",
    "#print( ga_param.keys() )"
   ]
  },
  {
   "cell_type": "code",
   "execution_count": 5,
   "id": "editorial-angel",
   "metadata": {},
   "outputs": [
    {
     "ename": "NameError",
     "evalue": "name 'runArgs' is not defined",
     "output_type": "error",
     "traceback": [
      "\u001b[0;31m---------------------------------------------------------------------------\u001b[0m",
      "\u001b[0;31mNameError\u001b[0m                                 Traceback (most recent call last)",
      "\u001b[0;32m<ipython-input-5-6af8e550e6e7>\u001b[0m in \u001b[0;36m<module>\u001b[0;34m\u001b[0m\n\u001b[1;32m      8\u001b[0m \u001b[0mexp_details\u001b[0m\u001b[0;34m[\u001b[0m\u001b[0;34m'info'\u001b[0m\u001b[0;34m]\u001b[0m \u001b[0;34m=\u001b[0m\u001b[0;31m \u001b[0m\u001b[0;31m'\u001b[0m\u001b[0mThis\u001b[0m \u001b[0mfile\u001b[0m \u001b[0;32mis\u001b[0m \u001b[0mthe\u001b[0m \u001b[0mprototype\u001b[0m \u001b[0;32mfor\u001b[0m \u001b[0mcreating\u001b[0m\u001b[0;31m \u001b[0m\u001b[0;31m\\\u001b[0m\u001b[0;34m\u001b[0m\u001b[0;34m\u001b[0m\u001b[0m\n\u001b[1;32m      9\u001b[0m     \u001b[0mthe\u001b[0m \u001b[0mGenetic\u001b[0m \u001b[0mAlgorythm\u001b[0m \u001b[0mpipeline\u001b[0m\u001b[0;34m.\u001b[0m\u001b[0;31m'\u001b[0m\u001b[0;34m\u001b[0m\u001b[0;34m\u001b[0m\u001b[0m\n\u001b[0;32m---> 10\u001b[0;31m \u001b[0mexp_details\u001b[0m\u001b[0;34m[\u001b[0m\u001b[0;34m'score_parameters'\u001b[0m\u001b[0;34m]\u001b[0m \u001b[0;34m=\u001b[0m \u001b[0mrunArgs\u001b[0m\u001b[0;34m.\u001b[0m\u001b[0mget\u001b[0m\u001b[0;34m(\u001b[0m\u001b[0;34m'scoreParams'\u001b[0m\u001b[0;34m)\u001b[0m\u001b[0;34m\u001b[0m\u001b[0;34m\u001b[0m\u001b[0m\n\u001b[0m\u001b[1;32m     11\u001b[0m \u001b[0mexp_details\u001b[0m\u001b[0;34m[\u001b[0m\u001b[0;34m'ga_paramters'\u001b[0m\u001b[0;34m]\u001b[0m \u001b[0;34m=\u001b[0m \u001b[0mga_param\u001b[0m\u001b[0;34m\u001b[0m\u001b[0;34m\u001b[0m\u001b[0m\n\u001b[1;32m     12\u001b[0m \u001b[0;34m\u001b[0m\u001b[0m\n",
      "\u001b[0;31mNameError\u001b[0m: name 'runArgs' is not defined"
     ]
    }
   ],
   "source": [
    "outDir = gm.validPath ( '../tmpDir/' )\n",
    "\n",
    "outBase = outDir + 'Results_%s_' % gm.getFileFriendlyDateTime()\n",
    "\n",
    "exp_details = {}\n",
    "\n",
    "exp_details['name'] = 'Genetic Algorithm Creation'\n",
    "exp_details['info'] = 'This file is the prototype for creating \\\n",
    "    the Genetic Algorythm pipeline.'\n",
    "exp_details['score_parameters'] = runArgs.get('scoreParams')\n",
    "exp_details['ga_paramters'] = ga_param\n",
    "\n",
    "print( exp_details.keys() )\n",
    "\n",
    "eLoc = outBase + 'Details.json'\n",
    "print(eLoc)\n",
    "\n",
    "gm.saveJson( exp_details, eLoc, pretty = False, convert_numpy_array=True )\n",
    "\n",
    "\n",
    "print(\"Saved\")"
   ]
  },
  {
   "cell_type": "code",
   "execution_count": null,
   "id": "applicable-replica",
   "metadata": {
    "tags": []
   },
   "outputs": [],
   "source": [
    "ga.Genetic_Algorithm_Experiment( ga_param, scorer.score_models, outBase, True )"
   ]
  },
  {
   "cell_type": "code",
   "execution_count": 10,
   "id": "conceptual-domain",
   "metadata": {},
   "outputs": [
    {
     "name": "stdout",
     "output_type": "stream",
     "text": [
      "(4, 4, 14) (4, 4)\n"
     ]
    }
   ],
   "source": [
    "models = pickle.load( open( '../targetDir/tmp/Testing_2022-04-29T12-32-20_models.pkl', 'rb') )\n",
    "scores = pickle.load( open( '../targetDir/tmp/Testing_2022-04-29T12-32-20_scores.pkl', 'rb') )\n",
    "print(models.shape, scores.shape)"
   ]
  },
  {
   "cell_type": "code",
   "execution_count": 11,
   "id": "sized-broadcast",
   "metadata": {},
   "outputs": [
    {
     "name": "stdout",
     "output_type": "stream",
     "text": [
      "[[[-9.93852997e+00 -4.58050013e+00  2.48988216e+01  6.47773047e-02\n",
      "    2.37805222e+02 -1.92082475e+01  4.67624545e-01  4.80243073e+01\n",
      "    1.31753314e+01  3.37622185e+01  0.00000000e+00  1.80000000e+02\n",
      "   -2.96666667e+01 -2.96666692e+01]\n",
      "  [-9.93852997e+00 -4.58050013e+00  0.00000000e+00  9.79123443e-01\n",
      "    1.92105530e+02  2.85841897e+01  7.97115922e-01  4.80243073e+01\n",
      "    1.85749073e+01  2.36221660e+01  6.00000000e+01  1.20000000e+02\n",
      "   -8.90000000e+01  8.90000000e+01]\n",
      "  [-9.93852997e+00 -4.58050013e+00  8.29960720e+00  5.21950374e-01\n",
      "    2.83504913e+02 -6.70006847e+01  3.02878857e-01  4.80243073e+01\n",
      "    2.37617970e+00  3.34206104e+00  1.20000000e+02  0.00000000e+00\n",
      "    2.96666667e+01 -8.90000038e+01]\n",
      "  [-9.93852997e+00 -4.58050013e+00  1.65992144e+01 -3.92395765e-01\n",
      "    1.46405838e+02  7.63766270e+01  6.32370234e-01  4.80243073e+01\n",
      "    7.77575556e+00  1.34821135e+01  1.80000000e+02  6.00000000e+01\n",
      "    8.90000000e+01  2.96666654e+01]]\n",
      "\n",
      " [[-9.93853007e+00 -4.58050012e+00  1.82691823e+01  5.38765462e-01\n",
      "    1.47702088e+02  7.63766270e+01  6.15119803e-01  4.80243071e+01\n",
      "    6.96772542e+00  3.39771969e+00  1.17606812e+02  9.00000000e+01\n",
      "    3.12684241e+01  3.53848676e+01]\n",
      "  [-9.93853011e+00 -4.58050004e+00  9.19821747e+00  6.19459153e-01\n",
      "    2.83504913e+02  2.84583326e+01  3.24971845e-01  4.80243074e+01\n",
      "    2.37617970e+00  3.34206104e+00  1.50000000e+02  9.00000000e+01\n",
      "   -7.27127970e+01 -6.35116931e+01]\n",
      "  [-9.93852988e+00 -4.58050004e+00  2.39645677e+01 -9.34610984e-02\n",
      "    2.31986725e+02  7.63766270e+01  4.68377860e-01  4.80243062e+01\n",
      "    1.48663878e+01  1.37832223e+01  7.29636885e+01  1.21581803e+02\n",
      "    8.56071405e+01 -2.18414703e+01]\n",
      "  [-9.93852997e+00 -4.58050013e+00  2.48988216e+01  6.47773047e-02\n",
      "    2.37805222e+02 -1.92082475e+01  4.67624545e-01  4.80243073e+01\n",
      "    1.31753314e+01  3.37622185e+01  0.00000000e+00  1.80000000e+02\n",
      "   -2.96666667e+01 -2.96666692e+01]]\n",
      "\n",
      " [[-9.93852997e+00 -4.58050013e+00  2.48988216e+01  6.47773047e-02\n",
      "    2.83504913e+02  2.85841897e+01  4.67624545e-01  4.80243073e+01\n",
      "    1.31753314e+01  3.37622185e+01  6.00000000e+01  1.80000000e+02\n",
      "   -2.96666667e+01  2.96666654e+01]\n",
      "  [-9.93852997e+00 -4.58050013e+00  2.48988216e+01  6.47773047e-02\n",
      "    1.46405838e+02 -6.70006847e+01  4.67624545e-01  4.80243073e+01\n",
      "    1.31753314e+01  3.37622185e+01  1.20000000e+02  6.00000000e+01\n",
      "   -8.90000000e+01 -8.90000038e+01]\n",
      "  [-9.93852997e+00 -4.58050013e+00  2.48988216e+01  6.47773047e-02\n",
      "    1.92105530e+02  7.63766270e+01  4.67624545e-01  4.80243073e+01\n",
      "    1.31753314e+01  3.37622185e+01  1.80000000e+02  0.00000000e+00\n",
      "    8.90000000e+01 -2.96666692e+01]\n",
      "  [-9.93852997e+00 -4.58050013e+00  2.48988216e+01  6.47773047e-02\n",
      "    2.37805222e+02 -1.92082475e+01  4.67624545e-01  4.80243073e+01\n",
      "    1.31753314e+01  3.37622185e+01  0.00000000e+00  1.20000000e+02\n",
      "    2.96666667e+01  8.90000000e+01]]\n",
      "\n",
      " [[-9.93853094e+00 -4.58049968e+00  2.48988218e+01  6.47772099e-02\n",
      "    2.83504913e+02  2.14681918e+01  4.67624080e-01  4.80243072e+01\n",
      "    1.31753312e+01  3.37622205e+01  1.80000000e+02  9.00000000e+01\n",
      "   -2.77911187e+01  8.25690540e+00]\n",
      "  [-9.93853097e+00 -4.58049998e+00  2.48988217e+01  6.47772698e-02\n",
      "    1.92013596e+02  2.61800604e+01  4.67624263e-01  4.80243077e+01\n",
      "    1.31753313e+01  3.37622181e+01  1.80000000e+02  2.96127047e+01\n",
      "    5.79299778e+01 -3.28336924e+01]\n",
      "  [-9.93852788e+00 -4.58049987e+00  2.48988215e+01  6.47773263e-02\n",
      "    2.83504913e+02  2.39538256e+01  4.67625308e-01  4.80243067e+01\n",
      "    1.31753318e+01  3.37622176e+01  1.20000000e+02  1.80000000e+02\n",
      "    6.34020250e+01  7.22312499e+00]\n",
      "  [-9.93852997e+00 -4.58050013e+00  2.48988216e+01  6.47773047e-02\n",
      "    2.83504913e+02  2.85841897e+01  4.67624545e-01  4.80243073e+01\n",
      "    1.31753314e+01  3.37622185e+01  6.00000000e+01  1.80000000e+02\n",
      "   -2.96666667e+01  2.96666654e+01]]]\n",
      "[[0.73529453 0.3278616  0.46760814 0.4975788 ]\n",
      " [0.73893414 0.61129221 0.6043234  0.74254123]\n",
      " [0.74331439 0.34628739 0.51241815 0.58136972]\n",
      " [0.74296014 0.727293   0.77841432 0.73837275]]\n"
     ]
    }
   ],
   "source": [
    "print(models)\n",
    "print(scores)"
   ]
  },
  {
   "cell_type": "code",
   "execution_count": null,
   "id": "gross-yugoslavia",
   "metadata": {},
   "outputs": [],
   "source": []
  }
 ],
 "metadata": {
  "kernelspec": {
   "display_name": "Python 3",
   "language": "python",
   "name": "python3"
  },
  "language_info": {
   "codemirror_mode": {
    "name": "ipython",
    "version": 3
   },
   "file_extension": ".py",
   "mimetype": "text/x-python",
   "name": "python",
   "nbconvert_exporter": "python",
   "pygments_lexer": "ipython3",
   "version": "3.8.10"
  }
 },
 "nbformat": 4,
 "nbformat_minor": 5
}
