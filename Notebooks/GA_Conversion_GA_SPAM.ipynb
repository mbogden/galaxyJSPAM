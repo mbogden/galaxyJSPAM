{
 "cells": [
  {
   "cell_type": "code",
   "execution_count": 2,
   "id": "popular-appearance",
   "metadata": {},
   "outputs": [
    {
     "name": "stdout",
     "output_type": "stream",
     "text": [
      "GM: Hi!  You're in Matthew's module for generally useful functions and classes\n",
      "IM: Hi!  You're in Matthew's information module for SPAM\n",
      "GA: Hi!  You're in Matthew's main code for all things genetric algorithm.\n",
      "SIMR: Hi!  You're in Matthew's main program for all things galaxy collisions\n"
     ]
    }
   ],
   "source": [
    "#!/usr/bin/env python3\n",
    "# -*- coding: utf-8 -*-\n",
    "\n",
    "'''\n",
    "    Author:\t Matthew Ogden and Graham West\n",
    "    Created:\t01 Sep 2020\n",
    "Description:\tThis code is a modified version of code written by Graham West at https://github.com/gtw2i/GA-Galaxy. \n",
    "                The pupose of this code is to genetrically modify the SPAM orbital parameters for galactic models.\n",
    "'''\n",
    "\n",
    "# Add parent directory\n",
    "from sys import path as sysPath\n",
    "from os import listdir\n",
    "sysPath.append('../')\n",
    "\n",
    "# Add custom modules\n",
    "sysPath.append('../Machine_Score/')\n",
    "\n",
    "from Support_Code import general_module as gm\n",
    "from Support_Code import info_module as im\n",
    "from Genetic_Algorithm import main_Genetic_Algorithm as ga\n",
    "import main_SIMR as simr\n",
    "sm = simr.sm\n",
    "\n",
    "# General modules\n",
    "from os import path\n",
    "import numpy as np\n",
    "import pandas as pd\n",
    "from matplotlib import pyplot as plt\n",
    "\n",
    "\n",
    "# Print testing\n",
    "gm.test()\n",
    "im.test()\n",
    "ga.test()\n",
    "simr.test()\n",
    "\n",
    "def test():\n",
    "    print(\"SM: Hi!  You're in Matthew's main code for all things simulation.\")\n",
    "\n",
    "# For testing and developement from outside. \n",
    "new_func = None\n",
    "def set_new_func( new_func_ptr ):\n",
    "    global new_func\n",
    "    new_func = new_func_ptr\n",
    "# End set new function\n",
    "    "
   ]
  },
  {
   "cell_type": "code",
   "execution_count": 3,
   "id": "placed-fight",
   "metadata": {},
   "outputs": [
    {
     "name": "stdout",
     "output_type": "stream",
     "text": [
      "Before: '../targetDir' \n",
      "After: '/home/mbo2d/587722984435351614/'\n",
      "IM: target_info_class.__init__:\n",
      "\t - targetDir:  /home/mbo2d/587722984435351614/\n",
      "\t - arg.targetDir:  None\n",
      "IM: Target.initTargetDir():\n",
      "\t - targetDir: /home/mbo2d/587722984435351614/\n",
      "\t - targetDir: (True) /home/mbo2d/587722984435351614/\n",
      "\t - infoDir: (True) /home/mbo2d/587722984435351614/information/\n",
      "\t - baseInfoLoc: (True) /home/mbo2d/587722984435351614/information/base_target_info.json\n",
      "\t - allInfoLoc: (True) /home/mbo2d/587722984435351614/information/target_info.json\n",
      "\t - zooMergerDir: (True) /home/mbo2d/587722984435351614/zoo_merger_models/\n",
      "\t - plotDir: (True) /home/mbo2d/587722984435351614/plots/\n",
      "IM: Target: Opening target info json\n",
      "Target Good!\n",
      "\t - Grabbing first model.\n",
      "RUN GOOOD!!!\n",
      "\t - rInfo status: True\n"
     ]
    }
   ],
   "source": [
    "tDir = '../targetDir'\n",
    "print('Before: \\'%s\\' \\nAfter: \\'%s\\'' % (tDir,gm.validPath(tDir) ))\n",
    "tDir = gm.validPath(tDir)\n",
    "rInfo = None\n",
    "\n",
    "tInfo = im.target_info_class( targetDir = tDir, printAll=True)\n",
    "if tInfo.status == False:\n",
    "    print(\"WARNING\")\n",
    "else:\n",
    "    print(\"Target Good!\")\n",
    "    im.tabprint(\"Grabbing first model.\")\n",
    "    rInfo = tInfo.getRunInfo()\n",
    "    #print(rInfo)\n",
    "    if type(rInfo) == type(None):\n",
    "        print(\"BAD RUN!!!!\")\n",
    "    else:\n",
    "        print(\"RUN GOOOD!!!\")\n",
    "        im.tabprint('rInfo status: %s' % (rInfo.status) )"
   ]
  },
  {
   "cell_type": "markdown",
   "id": "advised-republic",
   "metadata": {},
   "source": [
    "# TO-DO List\n",
    "- Ask about boundary files\n",
    "- Ask about Maxes and Mins Graham's Code uses from Zoo Merger Files. \n",
    "- Ask about the trailing values on the Galaxy Zoo Merger Models files and is it ok to cut them like Graham does? "
   ]
  },
  {
   "cell_type": "code",
   "execution_count": 4,
   "id": "absolute-embassy",
   "metadata": {},
   "outputs": [
    {
     "name": "stdout",
     "output_type": "stream",
     "text": [
      "[0.94594595 0.94117647 0.91891892 ... 0.         0.         0.        ]\n",
      "[[-9.93853 -4.5805   3.27377 ...  0.       0.       0.     ]\n",
      " [-9.93853 -4.5805  20.84411 ...  1.       0.       0.     ]\n",
      " [-9.93853 -4.5805  18.86315 ...  0.       0.       0.     ]\n",
      " ...\n",
      " [-9.93853 -4.5805  18.17628 ...  1.       0.       0.     ]\n",
      " [-9.93853 -4.5805  -7.327   ...  0.       0.       0.     ]\n",
      " [-9.93853 -4.5805   0.86396 ...  0.       0.       0.     ]]\n"
     ]
    }
   ],
   "source": [
    "zScores, mData = tInfo.getOrbParam()\n",
    "print(zScores)\n",
    "print(mData)\n",
    "\n",
    "tParam = mData[0,:]  # target orbital parameters"
   ]
  },
  {
   "cell_type": "code",
   "execution_count": 5,
   "id": "latest-playlist",
   "metadata": {},
   "outputs": [
    {
     "name": "stdout",
     "output_type": "stream",
     "text": [
      "True\n",
      "Cleaning target file...\n",
      "data:  (121, 15)\n",
      "PSI:  (121, 2)\n",
      "nModel:  121\n",
      "nCol:  15\n"
     ]
    }
   ],
   "source": [
    "\n",
    "pFile = '../Genetic_Algorithm/587722984435351614_combined.txt'\n",
    "print(path.exists(pFile))\n",
    "\n",
    "zooThresh = 0.5\n",
    "\n",
    "import math\n",
    "from copy import deepcopy\n",
    "data, psi, nModel, nCol = ga.ReadAndCleanupData( pFile, zooThresh )\n",
    "print(\"data: \", data.shape)\n",
    "print(\"PSI: \", psi.shape)\n",
    "print(\"nModel: \", nModel)\n",
    "print(\"nCol: \", nCol)\n"
   ]
  },
  {
   "cell_type": "code",
   "execution_count": 6,
   "id": "operating-rider",
   "metadata": {},
   "outputs": [
    {
     "name": "stdout",
     "output_type": "stream",
     "text": [
      "['sec_vec_1', 'sec_vec_2', 'sec_vec_3', 'sec_vec_4', 'sec_vec_5', 'sec_vec_6', 'mass_1', 'mass_2', 'rout_1', 'rout_2', 'phi_1', 'phi_2', 'theta_1', 'theta_2', 'epsilon_1', 'epsilon_2', 'rscale_1_1', 'rscale_1_2', 'rscale_1_3', 'rscale_2_1', 'rscale_2_2', 'rscale_2_3']\n"
     ]
    }
   ],
   "source": [
    "ga_param = {}\n",
    "ga_param['limits'] = {}\n",
    "names = sm.spam_param_names\n",
    "print(names)"
   ]
  },
  {
   "cell_type": "code",
   "execution_count": 7,
   "id": "developed-typing",
   "metadata": {},
   "outputs": [
    {
     "name": "stdout",
     "output_type": "stream",
     "text": [
      "    min      real     max\n",
      "   -9.94    -9.94    -9.94 \n",
      "   -4.58    -4.58    -4.58 \n",
      "    0.00     3.27    24.90 \n",
      "   -0.39     0.29     0.98 \n",
      "  146.41   258.49   283.50 \n",
      "  -67.00   -23.28    76.38 \n",
      "    0.30     0.49     0.80 \n",
      "   18.18    48.02    65.98 \n",
      "    2.38     9.13    18.57 \n",
      "    3.34    17.65    33.76 \n",
      "    0.00   129.69   180.00 \n",
      "    0.00    36.81   180.00 \n",
      "  -89.00   -41.78    89.00 \n",
      "  -89.00    51.43    89.00 \n",
      " \n",
      "{'limits': {'mass_1': {'max': 0.7971159219741821,\n",
      "                       'min': 0.30287885665893555},\n",
      "            'mass_2': {'max': 65.98039245605469,\n",
      "                       'min': 18.178529739379883},\n",
      "            'phi_1': {'max': 180.0,\n",
      "                      'min': 0.0},\n",
      "            'phi_2': {'max': 180.0,\n",
      "                      'min': 0.0},\n",
      "            'rout_1': {'max': 18.574907302856445,\n",
      "                       'min': 2.3761796951293945},\n",
      "            'rout_2': {'max': 33.7622184753418,\n",
      "                       'min': 3.3420610427856445},\n",
      "            'sec_vec_1': {'max': -9.938529968261719,\n",
      "                          'min': -9.938529968261719},\n",
      "            'sec_vec_2': {'max': -4.58050012588501,\n",
      "                          'min': -4.58050012588501},\n",
      "            'sec_vec_3': {'max': 24.898821592330933,\n",
      "                          'min': 0.0},\n",
      "            'sec_vec_4': {'max': 0.979123443365097,\n",
      "                          'min': -0.3923957645893097},\n",
      "            'sec_vec_5': {'max': 283.5049133300781,\n",
      "                          'min': 146.4058380126953},\n",
      "            'sec_vec_6': {'max': 76.37662696838379,\n",
      "                          'min': -67.00068473815918},\n",
      "            'theta_1': {'max': 89.0,\n",
      "                        'min': -89.0},\n",
      "            'theta_2': {'max': 89.0,\n",
      "                        'min': -89.00000381469727}}}\n"
     ]
    }
   ],
   "source": [
    "#####################\n",
    "###   VARIABLES   ###\n",
    "#####################\n",
    "\n",
    "\n",
    "# target ID\n",
    "zooBase = \"587722984435351614\"\n",
    "targetInd = 0\n",
    "nParam    = 14\t\t# number of SPAM parameters\n",
    "shrink   = 1.0\t\t# fraction of max xLim\n",
    "\n",
    "pReal   = data[targetInd,0:-1]\n",
    "psiReal = psi[targetInd,:]\n",
    "nBin = 200\n",
    "\n",
    "# read max xLim and window bounds\n",
    "XXX = np.loadtxt( \"../Genetic_Algorithm/Bounds_587722984435351614.txt\" )\n",
    "#\tmmm = XXX[:nParam,:]\n",
    "bound = XXX[nParam:,:]\n",
    "\n",
    "# get parameter stats\n",
    "mins = np.min( data, axis=0 )[0:-1]\n",
    "maxs = np.max( data, axis=0 )[0:-1]\n",
    "mmm = [ mins, maxs ]\n",
    "mmm = np.transpose(np.array(mmm))\n",
    "#\tprint mmm\n",
    "# modify max xLim\n",
    "#\tmmm[2,:]  = np.array([ -10.0,  10.0 ])\n",
    "#\tmmm[2,:]  = np.array([   0.0,   5.0 ])\n",
    "mmm[2,:]  = np.array([   0.0,   mmm[2,1] ])  # sym\n",
    "\"\"\"\n",
    "mmm[3,:]  = np.array([  -0.9,   0.9 ])\n",
    "mmm[4,:]  = np.array([   0.0, 360.0 ])\n",
    "mmm[5,:]  = np.array([ -90.0,  90.0 ])\n",
    "#\tmmm[6,:]  = np.array([   0.2,   0.8 ])\n",
    "#\tmmm[7,:]  = np.array([  10.0,  70.0 ])\n",
    "#\tmmm[8,:]  = np.array([   0.5,  10.0 ])\n",
    "#\tmmm[9,:]  = np.array([   0.5,  10.0 ])\n",
    "\"\"\"\n",
    "mmm[10,:] = np.array([   0.0, 180.0 ])\t# sym\n",
    "mmm[11,:] = np.array([   0.0, 180.0 ])\t# sym\n",
    "mmm[12,:] = np.array([ -89.0,  89.0 ])\t\n",
    "mmm[13,:] = np.array([ -89.0,  89.0 ])\t\n",
    "# shrink xLim\n",
    "xLim = np.zeros((nParam,2))\n",
    "for i in range(nParam):\n",
    "    xLim[i,0] = pReal[i] - shrink*(pReal[i] - mmm[i,0])\n",
    "    xLim[i,1] = shrink*(mmm[i,1] - pReal[i]) + pReal[i]\n",
    "# end\n",
    "\n",
    "print(\"    min      real     max\")\n",
    "for i in range(nParam):\n",
    "    print( \"{:8.2f} \".format(xLim[i,0]) + \"{:8.2f} \".format(pReal[i]) + \"{:8.2f} \".format(xLim[i,1]) )\n",
    "    ga_param['limits'][names[i]] = {}\n",
    "    ga_param['limits'][names[i]]['min'] = xLim[i,0]\n",
    "    ga_param['limits'][names[i]]['max'] = xLim[i,1]\n",
    "# end\n",
    "print(\" \")\n",
    "gm.pprint(ga_param)"
   ]
  },
  {
   "cell_type": "code",
   "execution_count": 8,
   "id": "indian-investigator",
   "metadata": {},
   "outputs": [
    {
     "name": "stdout",
     "output_type": "stream",
     "text": [
      "['x', 'y', 'z', 'vx', 'vy', 'vz', 'mf', 'mt', 'rp', 'rs', 'pp', 'ps', 'tp', 'ts']\n"
     ]
    }
   ],
   "source": [
    "gpLoc = '../param/ga_test_param.json'\n",
    "listdir('../param/')\n",
    "#gm.saveJson( ga_param, gpLoc )\n",
    "labels = [ 'x', 'y', 'z', 'vx', 'vy', 'vz', 'mf', 'mt', 'rp', 'rs', 'pp', 'ps', 'tp', 'ts']\n",
    "print(labels)"
   ]
  },
  {
   "cell_type": "code",
   "execution_count": 9,
   "id": "dominican-paris",
   "metadata": {},
   "outputs": [
    {
     "name": "stdout",
     "output_type": "stream",
     "text": [
      "../Genetic_Algorithm/basic_run_unpreturbed -o 00 -9.93853,-4.5805,3.27377,-0.500079,-2.4556503,-1.0779899,23.33004,24.694267,3.49825,5.32056,129.69229,36.8125,-41.7847,51.42857,0 > SolveMetro.out\n",
      "RV.shape (2001, 6)\n",
      "done\n"
     ]
    }
   ],
   "source": [
    "gaLoc = '../Genetic_Algorithm/'\n",
    "listdir( gaLoc )\n",
    "\n",
    "# Add custom modules\n",
    "sysPath.append(gaLoc)\n",
    "import working_ga as spam_ga\n",
    "\n",
    "#solve( param, nParam, nBin, bound, fileInd, psi )\n",
    "# T, V, RVt, RVv = solve( pReal, nParam, nBin, bound, \"00\", psiReal )\n",
    "pCall = spam_ga.solve( pReal, nParam, nBin, bound, \"00\", psiReal )\n",
    "print('done')"
   ]
  },
  {
   "cell_type": "markdown",
   "id": "first-accreditation",
   "metadata": {},
   "source": [
    "### Graham's Code and Model Data\n",
    "This is how Graham's GA code reads in the Galazy Zoo: Merger files and converts them to his GA coordinate system.\n",
    "It also converts it back into the SPAM coordinate system before calling SPAM. \n",
    "NOTE:  His code converts back into one of the 8 true symmetries he identifies in his dissertation. "
   ]
  },
  {
   "cell_type": "code",
   "execution_count": 10,
   "id": "conceptual-schema",
   "metadata": {},
   "outputs": [
    {
     "name": "stdout",
     "output_type": "stream",
     "text": [
      " i :   Model 1  :   pReal  :  paramStr  : diff\n"
     ]
    },
    {
     "ename": "TypeError",
     "evalue": "only size-1 arrays can be converted to Python scalars",
     "output_type": "error",
     "traceback": [
      "\u001b[0;31m---------------------------------------------------------------------------\u001b[0m",
      "\u001b[0;31mTypeError\u001b[0m                                 Traceback (most recent call last)",
      "\u001b[0;32m<ipython-input-10-171ce7a60583>\u001b[0m in \u001b[0;36m<module>\u001b[0;34m\u001b[0m\n\u001b[1;32m      1\u001b[0m \u001b[0mprint\u001b[0m\u001b[0;34m(\u001b[0m\u001b[0;34m\" i :   Model 1  :   pReal  :  paramStr  : diff\"\u001b[0m\u001b[0;34m)\u001b[0m\u001b[0;34m\u001b[0m\u001b[0;34m\u001b[0m\u001b[0m\n\u001b[1;32m      2\u001b[0m \u001b[0;32mfor\u001b[0m \u001b[0mi\u001b[0m \u001b[0;32min\u001b[0m \u001b[0mrange\u001b[0m\u001b[0;34m(\u001b[0m\u001b[0mpReal\u001b[0m\u001b[0;34m.\u001b[0m\u001b[0mshape\u001b[0m\u001b[0;34m[\u001b[0m\u001b[0;36m0\u001b[0m\u001b[0;34m]\u001b[0m\u001b[0;34m)\u001b[0m\u001b[0;34m:\u001b[0m\u001b[0;34m\u001b[0m\u001b[0;34m\u001b[0m\u001b[0m\n\u001b[0;32m----> 3\u001b[0;31m     \u001b[0mprint\u001b[0m\u001b[0;34m(\u001b[0m \u001b[0;34m\"%2d : %+5.2e : %+5.2e : %+5.2e : %+5.2f\"\u001b[0m \u001b[0;34m%\u001b[0m \u001b[0;34m(\u001b[0m\u001b[0mi\u001b[0m\u001b[0;34m,\u001b[0m \u001b[0mtParam\u001b[0m\u001b[0;34m[\u001b[0m\u001b[0mi\u001b[0m\u001b[0;34m]\u001b[0m\u001b[0;34m,\u001b[0m \u001b[0mpReal\u001b[0m\u001b[0;34m[\u001b[0m\u001b[0mi\u001b[0m\u001b[0;34m]\u001b[0m\u001b[0;34m,\u001b[0m \u001b[0mpCall\u001b[0m\u001b[0;34m[\u001b[0m\u001b[0mi\u001b[0m\u001b[0;34m]\u001b[0m\u001b[0;34m,\u001b[0m \u001b[0mtParam\u001b[0m\u001b[0;34m[\u001b[0m\u001b[0mi\u001b[0m\u001b[0;34m]\u001b[0m\u001b[0;34m-\u001b[0m\u001b[0mpCall\u001b[0m\u001b[0;34m[\u001b[0m\u001b[0mi\u001b[0m\u001b[0;34m]\u001b[0m\u001b[0;34m)\u001b[0m \u001b[0;34m)\u001b[0m\u001b[0;34m\u001b[0m\u001b[0;34m\u001b[0m\u001b[0m\n\u001b[0m",
      "\u001b[0;31mTypeError\u001b[0m: only size-1 arrays can be converted to Python scalars"
     ]
    }
   ],
   "source": [
    "print(\" i :   Model 1  :   pReal  :  paramStr  : diff\")\n",
    "for i in range(pReal.shape[0]):\n",
    "    print( \"%2d : %+5.2e : %+5.2e : %+5.2e : %+5.2f\" % (i, tParam[i], pReal[i], pCall[i], tParam[i]-pCall[i]) )"
   ]
  },
  {
   "cell_type": "code",
   "execution_count": null,
   "id": "destroyed-bahamas",
   "metadata": {},
   "outputs": [],
   "source": [
    "\n",
    "\n",
    "gaData, gaPsi= ga.convert_spam_to_ga(mData)\n",
    "p2 = gaData[0,:]\n",
    "p2_psi = gaPsi[0,:]\n",
    "\n",
    "print(pReal.shape)\n",
    "print(p2.shape)\n",
    "print(p2_psi)\n",
    "\n",
    "print(\" i :    real   : converted :   target  : diff\")\n",
    "for i in range(pReal.shape[0]):\n",
    "    print( \"%2d : %+5.2e : %+5.2e : %+5.2e : %+5.2f\" % (i, pReal[i], p2[i], tParam[i], pReal[i]-p2[i]) )"
   ]
  },
  {
   "cell_type": "code",
   "execution_count": null,
   "id": "noted-pioneer",
   "metadata": {},
   "outputs": [],
   "source": [
    "def convert_ga_to_spam( in_param, psi ):\n",
    "    \n",
    "    # Expand in parameters if a single vector\n",
    "    if len( in_param.shape ) == 1:\n",
    "        in_param = np.expand_dims(in_param, axis=0)\n",
    "    \n",
    "    # Create seperate matrix for output parameters\n",
    "    out_param = deepcopy(in_param)\n",
    "    \n",
    "    for i in range( out_param.shape[0]):\n",
    "        \n",
    "        # add for psi\n",
    "        if( psi[i,0] == -1 ):\n",
    "            out_param[i,12] += 180.0\n",
    "        # end\n",
    "        if( psi[i,1] == -1 ):\n",
    "            out_param[i,13] += 180.0\n",
    "        # end\n",
    "\n",
    "        # convert mass units\n",
    "        f    = out_param[i,6]\n",
    "        t    = out_param[i,7]\n",
    "        out_param[i,6] = f*out_param[i,7]\n",
    "        out_param[i,7] = (1.0-f)*out_param[i,7]\n",
    "\n",
    "        G = 1\n",
    "        c = out_param[i,3]\n",
    "        v = ( (1+c)/(1-c)*2*G*out_param[i,6]/(out_param[i,0]**2+out_param[i,1]**2+out_param[i,2]**2)**0.5 )**0.5    \n",
    "\n",
    "        vx = v*math.cos(out_param[i,4]*np.pi/180.0)*math.cos(out_param[i,5]*np.pi/180.0)\n",
    "        vy = v*math.sin(out_param[i,4]*np.pi/180.0)*math.cos(out_param[i,5]*np.pi/180.0)\n",
    "        vz = v*math.sin(out_param[i,5]*np.pi/180.0)\n",
    "        out_param[i,3] = vx\n",
    "        out_param[i,4] = vy\n",
    "        out_param[i,5] = vz\n",
    "        \n",
    "        Ap = out_param[i,8]\n",
    "        As = out_param[i,9]\n",
    "        out_param[i,8] = np.abs(Ap/np.cos(out_param[i,12]*np.pi/180.0))**0.5\n",
    "        out_param[i,9] = np.abs(As/np.cos(out_param[i,13]*np.pi/180.0))**0.5\n",
    "        \n",
    "    return out_param\n",
    "\n",
    "print(p2_psi)\n",
    "\n",
    "spamData = ga.convert_ga_to_spam( gaData, gaPsi )\n",
    "p3 = spamData[0,:]\n",
    "\n",
    "#print(tParam)\n",
    "print(\"tParam\",tParam.shape)\n",
    "print(\"p2\", p2.shape)\n",
    "print(\"p3\", p3.shape)\n",
    "\n",
    "print(\" i :    target   :   p2   :     p3    : diff\")\n",
    "for i in range(pReal.shape[0]):\n",
    "    print( \"%2d : %+5.2e : %+5.2e : %+5.2e : %+5.2f\" % (i, p2[i], p3[i], tParam[i], tParam[i]-p3[i]) )\n"
   ]
  },
  {
   "cell_type": "markdown",
   "id": "wrapped-prospect",
   "metadata": {},
   "source": [
    "## Comparison\n",
    "Here we can see my code matches Graham's Code for the very first model.  This was not tested on any other model parameters. "
   ]
  },
  {
   "cell_type": "code",
   "execution_count": null,
   "id": "molecular-italian",
   "metadata": {},
   "outputs": [],
   "source": [
    "\n",
    "print(\" i :   target  :   pCall   :     p3    : diff\")\n",
    "for i in range(pReal.shape[0]):\n",
    "    print( \"%2d : %+5.2e : %+5.2e : %+5.2e : %+5.2f\" % (i, tParam[i], pCall[i], p3[i], pCall[i]-p3[i]) )\n"
   ]
  },
  {
   "cell_type": "code",
   "execution_count": null,
   "id": "manufactured-harris",
   "metadata": {},
   "outputs": [],
   "source": []
  }
 ],
 "metadata": {
  "kernelspec": {
   "display_name": "Python 3",
   "language": "python",
   "name": "python3"
  },
  "language_info": {
   "codemirror_mode": {
    "name": "ipython",
    "version": 3
   },
   "file_extension": ".py",
   "mimetype": "text/x-python",
   "name": "python",
   "nbconvert_exporter": "python",
   "pygments_lexer": "ipython3",
   "version": "3.8.10"
  }
 },
 "nbformat": 4,
 "nbformat_minor": 5
}
