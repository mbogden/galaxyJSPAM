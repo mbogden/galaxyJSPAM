{
 "cells": [
  {
   "cell_type": "markdown",
   "id": "immune-needle",
   "metadata": {},
   "source": [
    "# For modifying and testing new image creation\n",
    "\n",
    "Hello!  This in Matt's quick tutorial on how to create new model images\n",
    "## Step 1\n",
    "### Load nessecary modules"
   ]
  },
  {
   "cell_type": "code",
   "execution_count": 3,
   "id": "canadian-spine",
   "metadata": {},
   "outputs": [
    {
     "name": "stdout",
     "output_type": "stream",
     "text": [
      "SIMR: Hi!  You're in Matthew's main program for all things galaxy collisions\n",
      "GM: Hi!  You're in Matthew's module for generally useful functions and classes\n",
      "IM: Hi!  You're in Matthew's information module for SPAM\n",
      "IC: Hi!  You're in Matthew's main code for all things image creation.\n",
      "MS: Hi!  You're in Matthew's SIMR module for all things machine scoring images\n",
      "DC: Hi!  You're in direct_image_compare.py\n",
      "SA: Hi!  You're in Matthew's Main program for score analysis!\n"
     ]
    }
   ],
   "source": [
    "# Add python modules\n",
    "import numpy as np\n",
    "import os\n",
    "import cv2\n",
    "import matplotlib.pyplot as plt\n",
    "from copy import deepcopy\n",
    "# Add parent directory for custom modules\n",
    "from sys import path as sysPath\n",
    "sysPath.append('../')\n",
    "sysPath.append('../Machine_Score/')\n",
    "\n",
    "# Load custom modules that simr has loaded\n",
    "import main_SIMR as simr\n",
    "gm = simr.gm\n",
    "im = simr.im\n",
    "ic = simr.ic\n",
    "ms = simr.ms\n",
    "sa = simr.sa\n",
    "dc = simr.ms.dc\n",
    "\n",
    "simr.test()\n",
    "gm.test()\n",
    "im.test()\n",
    "ic.test()\n",
    "ms.test()\n",
    "dc.test()\n",
    "sa.test()"
   ]
  },
  {
   "cell_type": "code",
   "execution_count": 26,
   "id": "cbb5e612-effe-46be-bb7a-85cbecc3b184",
   "metadata": {
    "tags": []
   },
   "outputs": [
    {
     "name": "stdout",
     "output_type": "stream",
     "text": [
      "True\n"
     ]
    }
   ],
   "source": [
    "\n",
    "dDir = '../dataDir/'\n",
    "# tNames = os.listdir( dDir )\n",
    "# tNames.sort()\n",
    "\n",
    "badTargets = [ '587726100947206190', 'hst_Arp_220', 'hst_Arp_65' ]\n",
    "tName = '587722984435351614'\n",
    "\n",
    "newCmd = gm.inArgClass()\n",
    "newCmd.setArg('dataDir',dDir)\n",
    "newCmd.setArg('newInfo',True)\n",
    "newCmd.setArg('newBase',True)\n",
    "newCmd.setArg('newRunInfo',True)\n",
    "newCmd.setArg('newRunBase',True)\n",
    "newCmd.setArg('newTarget', tName )\n",
    "\n",
    "\n",
    "tDir = dDir + tName + '/'\n",
    "tInfo = im.target_info_class( targetDir = tDir, printAll=False)\n",
    "print( tInfo.status )\n",
    "\n",
    "if not tInfo.status:\n",
    "    print(\"NOTEBOOK: Creating New Target\")\n",
    "    tInfo = im.target_info_class( targetDir = tDir, tArg=newCmd, printAll = True )\n",
    "    print( tInfo.status )"
   ]
  },
  {
   "cell_type": "code",
   "execution_count": 27,
   "id": "85d79de0-e55f-4a87-a045-71cc1fac67f6",
   "metadata": {},
   "outputs": [
    {
     "name": "stdout",
     "output_type": "stream",
     "text": [
      "['1237678620102623480', '587722984435351614', '587724234257137777', '587726033843585146', '587727177926508595', '587727178988388373', '587727222471131318', '587728676861051075', '587729227151704160', '587731913110650988', '587732136993882121', '587732772130652231', '587733080814583863', '587734862680752822', '587735043609329845', '587735665840881790', '587736523764334706', '587736941981466667', '587738569246376675', '587738569249390718', '587739153356095531', '587739407868690486', '587739505541578866', '587739646743412797', '587739647284805725', '587739707420967061', '587739720308818095', '587739721376202860', '587739721900163101', '587739810496708646', '587739845393580192', '587741391565422775', '587741532784361481', '587741534400217110', '587741602030026825', '587741722819493915', '587741817851674654', '587741829658181698', '587742010583941189', '587742014353702970', '587742571610243080', '587745402001817662', '587746029596311590', '587747120521216156', '588007005230530750', '588011124116422756', '588013383816904792', '588017604696408086', '588017604696408195', '588017702948962343', '588017978901528612', '588018055130710322', '758874299603222717', '758877153600208945', 'hst_Arp_148', 'hst_Arp_244', 'hst_Arp_272', 'hst_Arp_273', 'hst_ESO_77-14', 'hst_NGC_5331', 'hst_NGC_6786']\n"
     ]
    }
   ],
   "source": [
    "from os import listdir, getcwd\n",
    "\n",
    "mydir = getcwd()\n",
    "tNames = listdir( '../dataDir' )\n",
    "tNames.sort()\n",
    "print( tNames )"
   ]
  },
  {
   "cell_type": "code",
   "execution_count": 28,
   "id": "1805df51-7eae-42ff-85a5-64b2eb2c37cf",
   "metadata": {},
   "outputs": [
    {
     "name": "stdout",
     "output_type": "stream",
     "text": [
      "True 1237678620102623480\n",
      "True 587722984435351614\n",
      "True 587724234257137777\n",
      "True 587726033843585146\n",
      "True 587727177926508595\n",
      "True 587727178988388373\n",
      "True 587727222471131318\n",
      "True 587728676861051075\n",
      "True 587729227151704160\n",
      "True 587731913110650988\n",
      "True 587732136993882121\n",
      "True 587732772130652231\n",
      "True 587733080814583863\n",
      "True 587734862680752822\n",
      "True 587735043609329845\n",
      "True 587735665840881790\n",
      "True 587736523764334706\n",
      "True 587736941981466667\n",
      "True 587738569246376675\n",
      "True 587738569249390718\n",
      "True 587739153356095531\n",
      "True 587739407868690486\n",
      "True 587739505541578866\n",
      "True 587739646743412797\n",
      "True 587739647284805725\n",
      "True 587739707420967061\n",
      "True 587739720308818095\n",
      "True 587739721376202860\n",
      "True 587739721900163101\n",
      "True 587739810496708646\n",
      "True 587739845393580192\n",
      "True 587741391565422775\n",
      "True 587741532784361481\n",
      "True 587741534400217110\n",
      "True 587741602030026825\n",
      "True 587741722819493915\n",
      "True 587741817851674654\n",
      "True 587741829658181698\n",
      "True 587742010583941189\n",
      "True 587742014353702970\n",
      "True 587742571610243080\n",
      "True 587745402001817662\n",
      "True 587746029596311590\n",
      "True 587747120521216156\n",
      "True 588007005230530750\n",
      "True 588011124116422756\n",
      "True 588013383816904792\n",
      "True 588017604696408086\n",
      "True 588017604696408195\n",
      "True 588017702948962343\n",
      "True 588017978901528612\n",
      "True 588018055130710322\n",
      "True 758874299603222717\n",
      "True 758877153600208945\n",
      "True hst_Arp_148\n",
      "True hst_Arp_244\n",
      "True hst_Arp_272\n",
      "True hst_Arp_273\n",
      "True hst_ESO_77-14\n",
      "True hst_NGC_5331\n",
      "True hst_NGC_6786\n",
      "Hi\n"
     ]
    }
   ],
   "source": [
    "\n",
    "dDir = '../dataDir/'\n",
    "\n",
    "newCmd = gm.inArgClass()\n",
    "newCmd.setArg('dataDir',dDir)\n",
    "newCmd.setArg('newInfo',True)\n",
    "newCmd.setArg('newBase',True)\n",
    "newCmd.setArg('newRunInfo',True)\n",
    "newCmd.setArg('newRunBase',True)\n",
    "\n",
    "for t in tNames:\n",
    "    newCmd.setArg('targetDir', dDir + t )\n",
    "    newCmd.setArg('newTarget', t )\n",
    "    #tInfo = im.target_info_class( tArg = newCmd, printAll=False)\n",
    "    tInfo = im.target_info_class( targetDir = dDir + t, printAll=False)\n",
    "    print(  tInfo.status, t, )\n",
    "\n",
    "print(\"Hi\")"
   ]
  },
  {
   "cell_type": "code",
   "execution_count": 10,
   "id": "99ba9290-1604-46c5-ac9a-75686dc1ae9c",
   "metadata": {},
   "outputs": [
    {
     "name": "stdout",
     "output_type": "stream",
     "text": [
      "WARNING: target info class bad\n"
     ]
    },
    {
     "name": "stderr",
     "output_type": "stream",
     "text": [
      "WARNING: IM: target_info_class.initVarNames:\n",
      "\t - Bad targetDir: None\n",
      "WARNING: IM.target_info_class.__init__(): \n",
      "\t - Something went wrong initializing variables.\n"
     ]
    },
    {
     "ename": "TypeError",
     "evalue": "'NoneType' object is not subscriptable",
     "output_type": "error",
     "traceback": [
      "\u001b[0;31m---------------------------------------------------------------------------\u001b[0m",
      "\u001b[0;31mTypeError\u001b[0m                                 Traceback (most recent call last)",
      "Input \u001b[0;32mIn [10]\u001b[0m, in \u001b[0;36m<cell line: 11>\u001b[0;34m()\u001b[0m\n\u001b[1;32m      8\u001b[0m     \u001b[38;5;28mprint\u001b[39m(\u001b[38;5;124m\"\u001b[39m\u001b[38;5;124mTarget Good!\u001b[39m\u001b[38;5;124m\"\u001b[39m)\n\u001b[1;32m     10\u001b[0m \u001b[38;5;66;03m# Get run info class\u001b[39;00m\n\u001b[0;32m---> 11\u001b[0m rInfo \u001b[38;5;241m=\u001b[39m \u001b[43mtInfo\u001b[49m\u001b[38;5;241;43m.\u001b[39;49m\u001b[43mgetRunInfo\u001b[49m\u001b[43m(\u001b[49m\u001b[43m \u001b[49m\u001b[43m)\u001b[49m\n\u001b[1;32m     13\u001b[0m \u001b[38;5;28;01mif\u001b[39;00m rInfo\u001b[38;5;241m.\u001b[39mstatus \u001b[38;5;241m==\u001b[39m \u001b[38;5;28;01mFalse\u001b[39;00m:\n\u001b[1;32m     14\u001b[0m     \u001b[38;5;28mprint\u001b[39m(\u001b[38;5;124m\"\u001b[39m\u001b[38;5;124mWARNING\u001b[39m\u001b[38;5;124m\"\u001b[39m)\n",
      "File \u001b[0;32m~/galStuff/galaxyJSPAM/Notebooks/../Support_Code/info_module.py:1168\u001b[0m, in \u001b[0;36mtarget_info_class.getRunInfo\u001b[0;34m(self, rID, rArg)\u001b[0m\n\u001b[1;32m   1164\u001b[0m \u001b[38;5;28;01mdef\u001b[39;00m \u001b[38;5;21mgetRunInfo\u001b[39m( \u001b[38;5;28mself\u001b[39m, rID\u001b[38;5;241m=\u001b[39m\u001b[38;5;28;01mNone\u001b[39;00m, rArg\u001b[38;5;241m=\u001b[39m\u001b[38;5;28;01mNone\u001b[39;00m ):\n\u001b[1;32m   1165\u001b[0m     \n\u001b[1;32m   1166\u001b[0m     \u001b[38;5;66;03m# If no argument given, just grab the first\u001b[39;00m\n\u001b[1;32m   1167\u001b[0m     \u001b[38;5;28;01mif\u001b[39;00m rID \u001b[38;5;241m==\u001b[39m \u001b[38;5;28;01mNone\u001b[39;00m:\n\u001b[0;32m-> 1168\u001b[0m         rID \u001b[38;5;241m=\u001b[39m \u001b[38;5;28mlist\u001b[39m( \u001b[38;5;28;43mself\u001b[39;49m\u001b[38;5;241;43m.\u001b[39;49m\u001b[43mtDict\u001b[49m\u001b[43m[\u001b[49m\u001b[38;5;124;43m'\u001b[39;49m\u001b[38;5;124;43mzoo_merger_models\u001b[39;49m\u001b[38;5;124;43m'\u001b[39;49m\u001b[43m]\u001b[49m)[\u001b[38;5;241m0\u001b[39m]\n\u001b[1;32m   1170\u001b[0m     runDir \u001b[38;5;241m=\u001b[39m \u001b[38;5;28mself\u001b[39m\u001b[38;5;241m.\u001b[39mgetRunDir(rID\u001b[38;5;241m=\u001b[39mrID)\n\u001b[1;32m   1174\u001b[0m     \u001b[38;5;28;01mif\u001b[39;00m rArg \u001b[38;5;241m==\u001b[39m \u001b[38;5;28;01mNone\u001b[39;00m:\n",
      "\u001b[0;31mTypeError\u001b[0m: 'NoneType' object is not subscriptable"
     ]
    }
   ],
   "source": [
    "tDir = '../targetDir'\n",
    "tDir = gm.validPath(tDir)\n",
    "\n",
    "tInfo = im.target_info_class( targetDir = tDir, printAll=False)\n",
    "if tInfo.status == False:\n",
    "    print(\"WARNING: target info class bad\")\n",
    "else:\n",
    "    print(\"Target Good!\")\n",
    "\n",
    "# Get run info class\n",
    "rInfo = tInfo.getRunInfo( )\n",
    "\n",
    "if rInfo.status == False:\n",
    "    print(\"WARNING\")\n",
    "else:\n",
    "    print(\"Run '%s' Good!\"%rInfo.get('run_id'))"
   ]
  },
  {
   "cell_type": "markdown",
   "id": "gorgeous-bicycle",
   "metadata": {},
   "source": [
    "___\n",
    "## Step 2\n",
    "### Load Target Info class\n",
    "Needed for loading the target image and running through models later."
   ]
  },
  {
   "cell_type": "code",
   "execution_count": 12,
   "id": "little-marketplace",
   "metadata": {},
   "outputs": [
    {
     "name": "stdout",
     "output_type": "stream",
     "text": [
      "True 1237678620102623480\n",
      "True 587722984435351614\n",
      "False 587722984435351614 \n",
      "True 587724234257137777\n",
      "True 587726033843585146\n",
      "False 587726100947206190\n",
      "True 587727177926508595\n",
      "True 587727178988388373\n",
      "True 587727222471131318\n",
      "True 587728676861051075\n",
      "True 587729227151704160\n",
      "True 587731913110650988\n",
      "True 587732136993882121\n",
      "True 587732772130652231\n",
      "True 587733080814583863\n",
      "True 587734862680752822\n",
      "True 587735043609329845\n",
      "True 587735665840881790\n"
     ]
    },
    {
     "name": "stderr",
     "output_type": "stream",
     "text": [
      "IM: Target_init: Needed information files not found.\n",
      "\t - Main Info: None\n",
      "\t - Base Info: /home/jovyan/galStuff/spam-data_2022-10/587722984435351614 /information/base_target_info.json\n",
      "\t - Main Score: None\n",
      "\t - Base Score: None\n",
      "\t - Consider using -newInfo command\n",
      "WARNING: IM.target_info_class.__init__(): \n",
      "\t - Something went wrong initializing directory.\n",
      "IM: Target_init: Needed information files not found.\n",
      "\t - Main Info: None\n",
      "\t - Base Info: /home/jovyan/galStuff/spam-data_2022-10/587726100947206190/information/base_target_info.json\n",
      "\t - Main Score: None\n",
      "\t - Base Score: None\n",
      "\t - Consider using -newInfo command\n",
      "WARNING: IM.target_info_class.__init__(): \n",
      "\t - Something went wrong initializing directory.\n"
     ]
    },
    {
     "name": "stdout",
     "output_type": "stream",
     "text": [
      "True 587736523764334706\n",
      "True 587736941981466667\n",
      "True 587738569246376675\n",
      "True 587738569249390718\n",
      "True 587739153356095531\n",
      "True 587739407868690486\n",
      "True 587739505541578866\n",
      "True 587739646743412797\n",
      "True 587739647284805725\n",
      "True 587739707420967061\n",
      "True 587739720308818095\n",
      "True 587739721376202860\n",
      "True 587739721900163101\n",
      "True 587739810496708646\n",
      "True 587739845393580192\n",
      "True 587741391565422775\n",
      "True 587741532784361481\n",
      "True 587741534400217110\n",
      "True 587741602030026825\n",
      "True 587741722819493915\n",
      "True 587741817851674654\n",
      "True 587741829658181698\n",
      "True 587742010583941189\n",
      "True 587742014353702970\n",
      "True 587742571610243080\n",
      "True 587745402001817662\n",
      "True 587746029596311590\n",
      "True 587747120521216156\n",
      "True 588007005230530750\n",
      "True 588011124116422756\n",
      "True 588013383816904792\n",
      "True 588017604696408086\n",
      "True 588017604696408195\n",
      "True 588017702948962343\n",
      "True 588017978901528612\n",
      "True 588018055130710322\n",
      "True 758874299603222717\n",
      "True 758877153600208945\n",
      "True hst_Arp_148\n",
      "False hst_Arp_220\n",
      "True hst_Arp_244\n",
      "True hst_Arp_272\n",
      "True hst_Arp_273\n",
      "False hst_Arp_65\n",
      "True hst_ESO_77-14\n",
      "True hst_NGC_5331\n",
      "True hst_NGC_6786\n"
     ]
    },
    {
     "name": "stderr",
     "output_type": "stream",
     "text": [
      "IM: Target_init: Needed information files not found.\n",
      "\t - Main Info: None\n",
      "\t - Base Info: /home/jovyan/galStuff/spam-data_2022-10/hst_Arp_220/information/base_target_info.json\n",
      "\t - Main Score: None\n",
      "\t - Base Score: None\n",
      "\t - Consider using -newInfo command\n",
      "WARNING: IM.target_info_class.__init__(): \n",
      "\t - Something went wrong initializing directory.\n",
      "IM: Target_init: Needed information files not found.\n",
      "\t - Main Info: None\n",
      "\t - Base Info: /home/jovyan/galStuff/spam-data_2022-10/hst_Arp_65/information/base_target_info.json\n",
      "\t - Main Score: None\n",
      "\t - Base Score: None\n",
      "\t - Consider using -newInfo command\n",
      "WARNING: IM.target_info_class.__init__(): \n",
      "\t - Something went wrong initializing directory.\n"
     ]
    }
   ],
   "source": [
    "\n",
    "dDir = '../dataDir/'\n",
    "tNames = os.listdir( dDir )\n",
    "tNames.sort()\n",
    "from shutil import rmtree\n",
    "\n",
    "\n",
    "for t in tNames:\n",
    "    tDir = gm.validPath( dDir + t  )\n",
    "    #print( tDir )\n",
    "    try:\n",
    "        tInfo = im.target_info_class( targetDir = tDir, printAll=False)\n",
    "        #if not tInfo.status:\n",
    "            #rmtree( tDir )\n",
    "        if tInfo != None: rInfo = tInfo.getRunInfo( )\n",
    "        \n",
    "    except:\n",
    "        pass \n",
    "        #rmtree( tDir )\n",
    "        #tInfo = im.target_info_class( targetDir = tDir, tArg=newCmd )\n",
    "        #print( tInfo.status )\n",
    "        #tInfo.saveInfoFile()\n",
    "    print( tInfo.status, t )"
   ]
  },
  {
   "cell_type": "code",
   "execution_count": null,
   "id": "a5c2b6e9-e514-404b-a8ed-8c9acd29d5fe",
   "metadata": {},
   "outputs": [],
   "source": [
    "print(\"Done\")"
   ]
  },
  {
   "cell_type": "code",
   "execution_count": null,
   "id": "cb186a06-478b-48b7-adee-d341ffa01d12",
   "metadata": {},
   "outputs": [],
   "source": []
  }
 ],
 "metadata": {
  "kernelspec": {
   "display_name": "Python 3 (ipykernel)",
   "language": "python",
   "name": "python3"
  },
  "language_info": {
   "codemirror_mode": {
    "name": "ipython",
    "version": 3
   },
   "file_extension": ".py",
   "mimetype": "text/x-python",
   "name": "python",
   "nbconvert_exporter": "python",
   "pygments_lexer": "ipython3",
   "version": "3.10.5"
  }
 },
 "nbformat": 4,
 "nbformat_minor": 5
}
