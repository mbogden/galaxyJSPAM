{
 "cells": [
  {
   "cell_type": "markdown",
   "id": "stable-surveillance",
   "metadata": {},
   "source": [
    "# Creating a new Machine Scoring Method\n",
    "Hello!  This in Matt's quick tutorial on how to create and implement a new direct scoring method and then testing it on a target.\n",
    "\n",
    "## Step 1: Load nessecary modules"
   ]
  },
  {
   "cell_type": "code",
   "execution_count": 1,
   "id": "arbitrary-corpus",
   "metadata": {},
   "outputs": [
    {
     "name": "stdout",
     "output_type": "stream",
     "text": [
      "SIMR: Hi!  You're in Matthew's main program for all things galaxy collisions\n",
      "GM: Hi!  You're in Matthew's module for generally useful functions and classes\n",
      "IM: Hi!  You're in Matthew Ogden's information module for SPAM\n",
      "IC: Hi!  You're in Matthew's main code for all things image creation.\n",
      "MS: Hi!  You're in Matthew's SIMR module for all things machine scoring images\n",
      "DC: Hi!  You're in direct_image_compare.py\n",
      "SA: Hi!  You're in Matthew's Main program for score analysis!\n"
     ]
    }
   ],
   "source": [
    "# Add python modules\n",
    "import numpy as np\n",
    "import matplotlib.pyplot as plt\n",
    "\n",
    "# Add parent directory for custom modules\n",
    "from sys import path as sysPath\n",
    "sysPath.append('../')\n",
    "sysPath.append('../Machine_Score/')\n",
    "\n",
    "# Load custom modules that simr has loaded\n",
    "import main_SIMR as simr\n",
    "gm = simr.gm\n",
    "im = simr.im\n",
    "ic = simr.ic\n",
    "ms = simr.ms\n",
    "sa = simr.sa\n",
    "dc = simr.ms.dc\n",
    "\n",
    "simr.test()\n",
    "gm.test()\n",
    "im.test()\n",
    "ic.test()\n",
    "ms.test()\n",
    "dc.test()\n",
    "sa.test()"
   ]
  },
  {
   "cell_type": "markdown",
   "id": "moving-needle",
   "metadata": {},
   "source": [
    "___\n",
    "## Step 2: Load Target Info class\n",
    "Needed for loading the target image and running through models later."
   ]
  },
  {
   "cell_type": "code",
   "execution_count": 2,
   "id": "organized-damage",
   "metadata": {},
   "outputs": [
    {
     "name": "stdout",
     "output_type": "stream",
     "text": [
      "Before: '../targetDir' \n",
      "After: '/home/mbo2d/587722984435351614/'\n",
      "IM: target_info_class.__init__:\n",
      "\t - targetDir:  /home/mbo2d/587722984435351614/\n",
      "IM: Target.initTargetDir():\n",
      "\t - targetDir: /home/mbo2d/587722984435351614/\n",
      "NEW PATH EXISTS: /home/mbo2d/587722984435351614/zoo_merger_models/\n",
      "\t - targetDir: (True) /home/mbo2d/587722984435351614/\n",
      "\t - infoDir: (True) /home/mbo2d/587722984435351614/information/\n",
      "\t - baseInfoLoc: (True) /home/mbo2d/587722984435351614/information/base_target_info.json\n",
      "\t - allInfoLoc: (True) /home/mbo2d/587722984435351614/information/target_info.json\n",
      "\t - zooMergerDir: (True) /home/mbo2d/587722984435351614/zoo_merger_models/\n",
      "\t - plotDir: (True) /home/mbo2d/587722984435351614/plots/\n",
      "IM: Target: Opening target info json\n",
      "Target Good!\n"
     ]
    }
   ],
   "source": [
    "tDir = '../targetDir'\n",
    "print('Before: \\'%s\\' \\nAfter: \\'%s\\'' % (tDir,gm.validPath(tDir) ))\n",
    "tDir = gm.validPath(tDir)\n",
    "\n",
    "tInfo = im.target_info_class( targetDir = tDir, printAll=True)\n",
    "if tInfo.status == False:\n",
    "    print(\"WARNING\")\n",
    "else:\n",
    "    print(\"Target Good!\")"
   ]
  },
  {
   "cell_type": "markdown",
   "id": "liable-brain",
   "metadata": {},
   "source": [
    "---\n",
    "## Step 3: Load a run info class.\n",
    "Needed for loading a model image and testing later"
   ]
  },
  {
   "cell_type": "code",
   "execution_count": 3,
   "id": "authorized-attempt",
   "metadata": {},
   "outputs": [
    {
     "name": "stdout",
     "output_type": "stream",
     "text": [
      "None\n",
      "IM: run_info_class.__init__\n",
      "\t - runDir:  /home/mbo2d/587722984435351614/zoo_merger_models/run_00001/\n",
      "IM: run.initRunDir\n",
      "\t - runDir: /home/mbo2d/587722984435351614/zoo_merger_models/run_00001/\n",
      "\t - runDir: (True) /home/mbo2d/587722984435351614/zoo_merger_models/run_00001/\n",
      "\t - ptsDir: (True) /home/mbo2d/587722984435351614/zoo_merger_models/run_00001/particle_files/\n",
      "\t - imgDir: (True) /home/mbo2d/587722984435351614/zoo_merger_models/run_00001/model_images/\n",
      "\t - miscDir: (True) /home/mbo2d/587722984435351614/zoo_merger_models/run_00001/misc_images/\n",
      "\t - infoLoc: (True) /home/mbo2d/587722984435351614/zoo_merger_models/run_00001/info.json\n",
      "\t - baseLoc: (True) /home/mbo2d/587722984435351614/zoo_merger_models/run_00001/base_info.json\n",
      "\t - Reading Info file.\n",
      "IM: Run.__init__: Initalized: True\n",
      "Run 'r00001' Good!\n",
      "True\n"
     ]
    }
   ],
   "source": [
    "\n",
    "print(tInfo.get('zoo_merger_models').get('00001'))\n",
    "\n",
    "rId = 'r00001'\n",
    "runArg = gm.inArgClass()\n",
    "runArg.setArg(\"printAll\",True)\n",
    "runArg.setArg(\"tInfo\",tInfo)\n",
    "\n",
    "rInfo = tInfo.getRunInfo( rID=rId, rArg = runArg )\n",
    "rInfo.tInfo = tInfo\n",
    "\n",
    "if rInfo.status == False:\n",
    "    print(\"WARNING\")\n",
    "else:\n",
    "    print(\"Run '%s' Good!\"%rInfo.get('run_id'))\n",
    "    print(rInfo.get('tInfo').status)"
   ]
  },
  {
   "cell_type": "markdown",
   "id": "juvenile-evolution",
   "metadata": {},
   "source": [
    "---\n",
    "## Step 4: Load score parameter file\n",
    "For loading in the the new score parameter file.  You can edit this file as you see fit"
   ]
  },
  {
   "cell_type": "code",
   "execution_count": 5,
   "id": "basic-pillow",
   "metadata": {},
   "outputs": [
    {
     "name": "stdout",
     "output_type": "stream",
     "text": [
      "/mnt/c/Users/ogden/OneDrive/Desktop/galStuff/galaxyJSPAM/param/new_score.json \n",
      "\n",
      "{'new_score': {'cmpArg': {'cmpMethod': 'test_compare'},\n",
      "               'imgArg': {'name': 'default',\n",
      "                          'pType': 'default'},\n",
      "               'name': 'new_score',\n",
      "               'scoreType': 'target',\n",
      "               'simArg': {'nPts': '100k',\n",
      "                          'name': '100k'},\n",
      "               'targetName': 'zoo'}}\n",
      "{'new_score': {'cmpArg': {'cmpMethod': 'test_compare'},\n",
      "               'imgArg': {'name': 'default',\n",
      "                          'pType': 'default'},\n",
      "               'name': 'new_score',\n",
      "               'scoreType': 'target',\n",
      "               'simArg': {'nPts': '100k',\n",
      "                          'name': '100k'},\n",
      "               'targetName': 'zoo'}}\n"
     ]
    }
   ],
   "source": [
    "# If you need to create a brand new json score parameter\n",
    "from copy import deepcopy\n",
    "pLoc = gm.validPath('../param/new_score.json')\n",
    "print(pLoc,'\\n')\n",
    "oldParams = im.group_score_parameter_class(pLoc = pLoc)\n",
    "params = oldParams.group\n",
    "gm.pprint(params)\n",
    "\n",
    "params['new_score'] = deepcopy( params['new_score'] )\n",
    "params['new_score']['name'] = 'new_score'\n",
    "params['new_score']['cmpArg']['cmpMethod'] = 'test_compare'\n",
    "gm.pprint(params)\n",
    "\n",
    "newParamClass = im.group_score_parameter_class( params = params )\n",
    "#newParams.saveParam( saveLoc = '../param/new_score.json')\n",
    "new_params = newParamClass.group\n",
    "\n"
   ]
  },
  {
   "cell_type": "markdown",
   "id": "binary-sister",
   "metadata": {},
   "source": [
    "___\n",
    "## Step 5: Load image for comparison\n",
    "Load in the target image and a model image for initial comparison"
   ]
  },
  {
   "cell_type": "code",
   "execution_count": 6,
   "id": "thousand-teddy",
   "metadata": {},
   "outputs": [
    {
     "name": "stdout",
     "output_type": "stream",
     "text": [
      "IM: Loading imgLoc: default False\n"
     ]
    },
    {
     "data": {
      "text/plain": [
       "<matplotlib.image.AxesImage at 0x7fb4e9594400>"
      ]
     },
     "execution_count": 6,
     "metadata": {},
     "output_type": "execute_result"
    },
    {
     "data": {
      "image/png": "[encoded data removed]",
      "text/plain": [
       "<Figure size 576x288 with 2 Axes>"
      ]
     },
     "metadata": {
      "needs_background": "light"
     },
     "output_type": "display_data"
    }
   ],
   "source": [
    "img1 = rInfo.getModelImg( params['new_score']['imgArg']['name'] )\n",
    "img2 = tInfo.getTargetImage( params['new_score']['targetName'] )\n",
    "\n",
    "plt.figure(figsize=(8,4))\n",
    "plt.subplot(121)\n",
    "plt.imshow(img1, cmap='gray')\n",
    "plt.subplot(122)\n",
    "plt.imshow(img2, cmap='gray')"
   ]
  },
  {
   "cell_type": "markdown",
   "id": "bulgarian-gambling",
   "metadata": {},
   "source": [
    "___\n",
    "## Step 6: Create the new comparison function!\n",
    "Note: All direct image comparison take 3 arguments\n",
    "- 2x images of the same size\n",
    "- dict of comparison arguments"
   ]
  },
  {
   "cell_type": "code",
   "execution_count": 7,
   "id": "czech-customer",
   "metadata": {},
   "outputs": [
    {
     "name": "stdout",
     "output_type": "stream",
     "text": [
      "0.9128633914893991\n"
     ]
    }
   ],
   "source": [
    "# Test new scoring method on 2 images directly\n",
    "from skimage.metrics import structural_similarity as ssim\n",
    "\n",
    "def score_ssim( img1, img2, cmpArg ):\n",
    "    score = -1\n",
    "    score = ssim( img1, img2 )\n",
    "    return score\n",
    "\n",
    "score = score_ssim( img1, img2, None )\n",
    "\n",
    "print(score)"
   ]
  },
  {
   "cell_type": "markdown",
   "id": "governmental-favor",
   "metadata": {},
   "source": [
    "___\n",
    "## Step 7: Load new function into direct image module\n",
    "This will allow the existing code to run the function in a standard new score operation."
   ]
  },
  {
   "cell_type": "code",
   "execution_count": 8,
   "id": "filled-girlfriend",
   "metadata": {},
   "outputs": [
    {
     "name": "stdout",
     "output_type": "stream",
     "text": [
      "New Score Function:  <function score_ssim at 0x7fb4e950c280>\n",
      "NOTE! All should match\n",
      "nb:    <function score_ssim at 0x7fb4e950c280>\n",
      "dc:    <function score_ssim at 0x7fb4e950c280>\n",
      "ms:    <function score_ssim at 0x7fb4e950c280>\n",
      "simr:  <function score_ssim at 0x7fb4e950c280>\n"
     ]
    }
   ],
   "source": [
    "# Assign new function to test function in direct image compare\n",
    "dc.set_test_compare(score_ssim)\n",
    "\n",
    "# Check if all modules loaded the same function\n",
    "print(\"NOTE! All should match\")\n",
    "print('nb:   ',score_ssim)\n",
    "print('dc:   ',dc.test_compare)\n",
    "print('ms:   ',ms.dc.test_compare)\n",
    "print('simr: ',simr.ms.dc.test_compare)\n"
   ]
  },
  {
   "cell_type": "markdown",
   "id": "grand-vocabulary",
   "metadata": {},
   "source": [
    "___\n",
    "## Step 8: Execute new score operation for a single model.\n",
    "This confirms that the score function operates correcting in the new score pipeline"
   ]
  },
  {
   "cell_type": "code",
   "execution_count": 9,
   "id": "spatial-geology",
   "metadata": {},
   "outputs": [
    {
     "name": "stdout",
     "output_type": "stream",
     "text": [
      "SIMR.pipelineRun: Inputs\n",
      "\t - rDir: None\n",
      "\t - rInfo: <class 'Support_Code.info_module.run_info_class'>\n",
      "SIMR.pipelineRun: \n",
      "\t - rInfo:  <Support_Code.info_module.run_info_class object at 0x7fb5248d6670>\n",
      "MS: Run:\n",
      "MS: scoreName: new_score\n",
      "MS: target_image_compare: new_score\n",
      "\t -  paramName: new_score\n",
      "\t -  modelName: default\n",
      "\t - targetName: zoo\n",
      "\t - Read target image\n",
      "IM: Loading imgLoc: default False\n",
      "MS: run: Read model image\n",
      "IM: Run.saveInfoFile: Saving info data file...\n",
      "MS: New Score!: new_score - 0.912863 - 0.912863\n"
     ]
    }
   ],
   "source": [
    "newRunScoreArg = gm.inArgClass()\n",
    "newRunScoreArg.setArg( 'rInfo', rInfo )\n",
    "newRunScoreArg.setArg( 'scoreParams', new_params )\n",
    "newRunScoreArg.setArg( 'printAll', True )\n",
    "newRunScoreArg.setArg( 'newScore', True )\n",
    "newRunScoreArg.setArg( 'overWrite', True )\n",
    "\n",
    "simr.simr_run( rInfo = rInfo, arg = newRunScoreArg )\n",
    "#print(rInfo.get('machine_scores'))"
   ]
  },
  {
   "cell_type": "markdown",
   "id": "humanitarian-isaac",
   "metadata": {},
   "source": [
    "___\n",
    "## Step 9: Execute new score operation for a complete target.\n",
    "Execute the new function for a target and see if it works across many models"
   ]
  },
  {
   "cell_type": "code",
   "execution_count": 10,
   "id": "tired-building",
   "metadata": {
    "tags": []
   },
   "outputs": [
    {
     "name": "stdout",
     "output_type": "stream",
     "text": [
      "SIMR: pipelineTarget: input\n",
      "\t - tDir: None\n",
      "\t - tInfo: <class 'NoneType'>\n",
      "SIMR: simr_target status:\n",
      "\t - tInfo.status: True\n"
     ]
    }
   ],
   "source": [
    "newTarget = gm.inArgClass()\n",
    "newTarget.setArg( 'tInfo', tInfo )\n",
    "newTarget.setArg( 'paramLoc', '../param/new_score.json' )\n",
    "newTarget.setArg( 'printAll', False )\n",
    "#newTarget.setArg( 'newScore', True )\n",
    "#newTarget.setArg( 'overWrite', True )\n",
    "\n",
    "simr.simr_target( arg=newTarget )"
   ]
  },
  {
   "cell_type": "markdown",
   "id": "laughing-thong",
   "metadata": {},
   "source": [
    "***\n",
    "## Step 10: View results!\n",
    "View if your new method does well or not."
   ]
  },
  {
   "cell_type": "code",
   "execution_count": 11,
   "id": "searching-logic",
   "metadata": {},
   "outputs": [
    {
     "data": {
      "text/plain": [
       "<AxesSubplot:title={'center':'new_score:\\nCorr: -0.1663'}, xlabel='zoo_merger_score', ylabel='new_score'>"
      ]
     },
     "execution_count": 11,
     "metadata": {},
     "output_type": "execute_result"
    },
    {
     "data": {
      "image/png": "[encoded data removed]",
      "text/plain": [
       "<Figure size 432x288 with 2 Axes>"
      ]
     },
     "metadata": {
      "needs_background": "light"
     },
     "output_type": "display_data"
    }
   ],
   "source": [
    "scores = tInfo.getScores()\n",
    "sa.getNamedPlot(scores)"
   ]
  },
  {
   "cell_type": "markdown",
   "id": "simplified-client",
   "metadata": {},
   "source": [
    "___\n",
    "## Step 11: Add new function to direct_image_comparison.py\n",
    "\n",
    "## Step 12: Rename parameter and save\n",
    "- Create a new dict of the new score parameter\n",
    "    - Parameter name\n",
    "    - cmpMethod name: Match name of function in directory_image_compare\n",
    "   "
   ]
  },
  {
   "cell_type": "code",
   "execution_count": 12,
   "id": "aerial-notion",
   "metadata": {},
   "outputs": [
    {
     "name": "stdout",
     "output_type": "stream",
     "text": [
      "{'cmpArg': {'cmpMethod': 'ssim'},\n",
      " 'imgArg': {'name': 'default',\n",
      "            'pType': 'default'},\n",
      " 'name': 'base0_ssim',\n",
      " 'scoreType': 'target',\n",
      " 'simArg': {'nPts': '100k',\n",
      "            'name': '100k'},\n",
      " 'targetName': 'zoo'}\n"
     ]
    }
   ],
   "source": [
    "param = deepcopy( new_params['new_score'] )\n",
    "param['name'] = 'base0_ssim'\n",
    "param['cmpArg']['cmpMethod'] = 'ssim'\n",
    "\n",
    "gm.pprint(param)"
   ]
  },
  {
   "cell_type": "markdown",
   "id": "worse-theology",
   "metadata": {},
   "source": [
    "___\n",
    "## Step 13: Save in a score parameter file"
   ]
  },
  {
   "cell_type": "code",
   "execution_count": 13,
   "id": "other-transmission",
   "metadata": {
    "tags": []
   },
   "outputs": [
    {
     "name": "stdout",
     "output_type": "stream",
     "text": [
      "/mnt/c/Users/ogden/OneDrive/Desktop/galStuff/galaxyJSPAM/param/base0.json \n",
      "\n",
      "{'base0_bcorr0': {'cmpArg': {'cmpMethod': 'binary_correlation'},\n",
      "                  'imgArg': {'name': 'default',\n",
      "                             'pType': 'default'},\n",
      "                  'name': 'base0_bcorr0',\n",
      "                  'scoreType': 'target',\n",
      "                  'simArg': {'nPts': '100k',\n",
      "                             'name': '100k'},\n",
      "                  'targetName': 'zoo'},\n",
      " 'base0_bcorr1': {'cmpArg': {'cmpMethod': 'binary_correlation',\n",
      "                             'h1': 120,\n",
      "                             'h2': 120},\n",
      "                  'imgArg': {'name': 'default',\n",
      "                             'pType': 'default'},\n",
      "                  'name': 'base0_bcorr1',\n",
      "                  'scoreType': 'target',\n",
      "                  'simArg': {'nPts': '100k',\n",
      "                             'name': '100k'},\n",
      "                  'targetName': 'zoo'},\n",
      " 'base0_bcorr2': {'cmpArg': {'cmpMethod': 'binary_correlation',\n",
      "                             'h1': 50,\n",
      "                             'h2': 100},\n",
      "                  'imgArg': {'name': 'default',\n",
      "                             'pType': 'default'},\n",
      "                  'name': 'base0_bcorr2',\n",
      "                  'scoreType': 'target',\n",
      "                  'simArg': {'nPts': '100k',\n",
      "                             'name': '100k'},\n",
      "                  'targetName': 'zoo'},\n",
      " 'base0_bcorr3': {'cmpArg': {'cmpMethod': 'binary_correlation',\n",
      "                             'h1': 100,\n",
      "                             'h2': 50},\n",
      "                  'imgArg': {'name': 'default',\n",
      "                             'pType': 'default'},\n",
      "                  'name': 'base0_bcorr3',\n",
      "                  'scoreType': 'target',\n",
      "                  'simArg': {'nPts': '100k',\n",
      "                             'name': '100k'},\n",
      "                  'targetName': 'zoo'},\n",
      " 'base0_corr': {'cmpArg': {'cmpMethod': 'correlation'},\n",
      "                'imgArg': {'name': 'default',\n",
      "                           'pType': 'default'},\n",
      "                'name': 'base0_corr',\n",
      "                'scoreType': 'target',\n",
      "                'simArg': {'nPts': '100k',\n",
      "                           'name': '100k'},\n",
      "                'targetName': 'zoo'},\n",
      " 'base0_diff': {'cmpArg': {'cmpMethod': 'absolute_difference'},\n",
      "                'imgArg': {'name': 'default',\n",
      "                           'pType': 'default'},\n",
      "                'name': 'base0_diff',\n",
      "                'scoreType': 'target',\n",
      "                'simArg': {'nPts': '100k',\n",
      "                           'name': '100k'},\n",
      "                'targetName': 'zoo'},\n",
      " 'base0_diff_scale': {'cmpArg': {'cmpMethod': 'absolute_difference_lower_scale'},\n",
      "                      'imgArg': {'name': 'default',\n",
      "                                 'pType': 'default'},\n",
      "                      'name': 'base0_diff_scale',\n",
      "                      'scoreType': 'target',\n",
      "                      'simArg': {'nPts': '100k',\n",
      "                                 'name': '100k'},\n",
      "                      'targetName': 'zoo'},\n",
      " 'base0_diff_scale1': {'cmpArg': {'cmpMethod': 'absolute_difference_lower_scale',\n",
      "                                  'l': 0.5},\n",
      "                       'imgArg': {'name': 'default',\n",
      "                                  'pType': 'default'},\n",
      "                       'name': 'base0_diff_scale1',\n",
      "                       'scoreType': 'target',\n",
      "                       'simArg': {'nPts': '100k',\n",
      "                                  'name': '100k'},\n",
      "                       'targetName': 'zoo'},\n",
      " 'base0_diff_scale2': {'cmpArg': {'cmpMethod': 'absolute_difference_lower_scale',\n",
      "                                  'l': 0.7},\n",
      "                       'imgArg': {'name': 'default',\n",
      "                                  'pType': 'default'},\n",
      "                       'name': 'base0_diff_scale2',\n",
      "                       'scoreType': 'target',\n",
      "                       'simArg': {'nPts': '100k',\n",
      "                                  'name': '100k'},\n",
      "                       'targetName': 'zoo'},\n",
      " 'base0_overlap0': {'cmpArg': {'cmpMethod': 'overlap_fraction'},\n",
      "                    'imgArg': {'name': 'default',\n",
      "                               'pType': 'default'},\n",
      "                    'name': 'base0_overlap0',\n",
      "                    'scoreType': 'target',\n",
      "                    'simArg': {'nPts': '100k',\n",
      "                               'name': '100k'},\n",
      "                    'targetName': 'zoo'},\n",
      " 'base0_overlap1': {'cmpArg': {'cmpMethod': 'overlap_fraction',\n",
      "                               'h1': 120,\n",
      "                               'h2': 120},\n",
      "                    'imgArg': {'name': 'default',\n",
      "                               'pType': 'default'},\n",
      "                    'name': 'base0_overlap1',\n",
      "                    'scoreType': 'target',\n",
      "                    'simArg': {'nPts': '100k',\n",
      "                               'name': '100k'},\n",
      "                    'targetName': 'zoo'},\n",
      " 'base0_overlap2': {'cmpArg': {'cmpMethod': 'overlap_fraction',\n",
      "                               'h1': 100,\n",
      "                               'h2': 50},\n",
      "                    'imgArg': {'name': 'default',\n",
      "                               'pType': 'default'},\n",
      "                    'name': 'base0_overlap2',\n",
      "                    'scoreType': 'target',\n",
      "                    'simArg': {'nPts': '100k',\n",
      "                               'name': '100k'},\n",
      "                    'targetName': 'zoo'},\n",
      " 'base0_overlap3': {'cmpArg': {'cmpMethod': 'overlap_fraction',\n",
      "                               'h1': 50,\n",
      "                               'h2': 100},\n",
      "                    'imgArg': {'name': 'default',\n",
      "                               'pType': 'default'},\n",
      "                    'name': 'base0_overlap3',\n",
      "                    'scoreType': 'target',\n",
      "                    'simArg': {'nPts': '100k',\n",
      "                               'name': '100k'},\n",
      "                    'targetName': 'zoo'},\n",
      " 'base0_ssim': {'cmpArg': {'cmpMethod': 'ssim'},\n",
      "                'imgArg': {'name': 'default',\n",
      "                           'pType': 'default'},\n",
      "                'name': 'base0_ssim',\n",
      "                'scoreType': 'target',\n",
      "                'simArg': {'nPts': '100k',\n",
      "                           'name': '100k'},\n",
      "                'targetName': 'zoo'}}\n"
     ]
    }
   ],
   "source": [
    "# Load existing score parameter file\n",
    "pLoc = gm.validPath('../param/base0.json')\n",
    "print(pLoc,'\\n')\n",
    "baseParamClass = im.group_score_parameter_class(pLoc = pLoc)\n",
    "\n",
    "#gm.pprint(baseParams)\n",
    "\n",
    "# Add new score parameter to dict\n",
    "baseParamClass.group[ param['name'] ] = param\n",
    "gm.pprint(baseParamClass.group)\n",
    "baseParamClass.saveParam( saveLoc = '../param/base0.json' )\n"
   ]
  },
  {
   "cell_type": "markdown",
   "id": "cellular-explorer",
   "metadata": {},
   "source": [
    "___\n",
    "## Step 14: Have target run the score parameter file you just updated"
   ]
  },
  {
   "cell_type": "code",
   "execution_count": 14,
   "id": "gothic-grass",
   "metadata": {},
   "outputs": [
    {
     "name": "stdout",
     "output_type": "stream",
     "text": [
      "SIMR: pipelineTarget: input\n",
      "\t - tDir: None\n",
      "\t - tInfo: <class 'NoneType'>\n",
      "SIMR: simr_target status:\n",
      "\t - tInfo.status: True\n",
      "SIMR: new_target_scores:\n",
      "\t - tInfo: True\n",
      "\t - Runs needing scores: 1293\n",
      "100.0% - 1293 / 1293\t  \n",
      "\n",
      "\n",
      "\n",
      "IM: Target.gatherRunInfos.\n",
      "GM: Printing Input arguments\n",
      "\t- printBase - <class 'bool'> :  True\n",
      "\t- printAll - <class 'bool'> :  False\n",
      "\t- nProc - <class 'int'> :  -1\n",
      "\t- simple - <class 'bool'> :  False\n",
      "\t- runDir - <class 'NoneType'> :  None\n",
      "\t- sdssDir - <class 'NoneType'> :  None\n",
      "\t- targetDir - <class 'NoneType'> :  None\n",
      "\t- dataDir - <class 'NoneType'> :  None\n",
      "\n",
      "0.2% - 3 / 1293\t  \n",
      "0.6% - 8 / 1293\t  \n",
      "100.0% - 1293 / 1293\t  \n",
      "\n",
      "\n",
      "\n",
      "\n",
      "\n",
      "\n",
      "IM: Target.saveInfoFile():\n",
      "\t - Saving target info file...\n",
      "IM: Target.saveInfoFile():\n",
      "\t - Saving target info file...\n",
      "IM: Target.saveInfoFile():\n",
      "\t - Saving target info file...\n"
     ]
    }
   ],
   "source": [
    "newTarget = gm.inArgClass()\n",
    "newTarget.setArg( 'tInfo', tInfo )\n",
    "newTarget.setArg( 'scoreParams', baseParamClass.group )\n",
    "newTarget.setArg( 'printAll', False )\n",
    "newTarget.setArg( 'newScore', True )\n",
    "#newTarget.setArg( 'overWrite', True )\n",
    "\n",
    "#gm.pprint(newTarget.get('scoreParams'))\n",
    "\n",
    "simr.simr_target( arg=newTarget )"
   ]
  },
  {
   "cell_type": "markdown",
   "id": "abroad-vanilla",
   "metadata": {},
   "source": [
    "___\n",
    "## Step 15: view target results of new score function! Again!"
   ]
  },
  {
   "cell_type": "code",
   "execution_count": 17,
   "id": "neural-scholarship",
   "metadata": {},
   "outputs": [
    {
     "data": {
      "image/png": "[encoded data removed]",
      "text/plain": [
       "<Figure size 432x288 with 2 Axes>"
      ]
     },
     "metadata": {
      "needs_background": "light"
     },
     "output_type": "display_data"
    }
   ],
   "source": [
    "scores = tInfo.getScores()\n",
    "ax = sa.getNamedPlot(scores, sName = 'base0_ssim' )"
   ]
  },
  {
   "cell_type": "code",
   "execution_count": null,
   "id": "variable-portland",
   "metadata": {},
   "outputs": [],
   "source": []
  }
 ],
 "metadata": {
  "kernelspec": {
   "display_name": "Python 3",
   "language": "python",
   "name": "python3"
  },
  "language_info": {
   "codemirror_mode": {
    "name": "ipython",
    "version": 3
   },
   "file_extension": ".py",
   "mimetype": "text/x-python",
   "name": "python",
   "nbconvert_exporter": "python",
   "pygments_lexer": "ipython3",
   "version": "3.8.5"
  }
 },
 "nbformat": 4,
 "nbformat_minor": 5
}
