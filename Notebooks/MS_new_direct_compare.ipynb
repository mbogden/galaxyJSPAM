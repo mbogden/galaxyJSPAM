{
 "cells": [
  {
   "cell_type": "code",
   "execution_count": 1,
   "id": "subjective-compact",
   "metadata": {},
   "outputs": [
    {
     "name": "stdout",
     "output_type": "stream",
     "text": [
      "SA: Hi!  You're in Matthew's Main program for score analysis!\n",
      "GM: Hi!  You're in Matthew's module for generally useful functions and classes\n",
      "IM: Hi!  You're in Matthew Ogden's information module for SPAM\n",
      "IC: Hi!  You're in Matthew's main code for all things image creation.\n",
      "MS: Hi!  You're in Matthew's SIMR module for all things machine scoring images\n",
      "DI: Hi!  You're in direct_image_compare.py\n",
      "SIMR: Hi!  You're in Matthew's main program for all things galaxy collisions\n"
     ]
    }
   ],
   "source": [
    "# Add parent directory\n",
    "from sys import path as sysPath\n",
    "sysPath.append('../')\n",
    "\n",
    "# Add custom modules\n",
    "sysPath.append('../Machine_Score/')\n",
    "\n",
    "from Support_Code import general_module as gm\n",
    "from Support_Code import info_module as im\n",
    "from Image_Creator import main_image_creator as ic\n",
    "from Machine_Score import main_machine_score as ms\n",
    "from Machine_Score import direct_image_compare as dc\n",
    "from Score_Analysis import main_score_analysis as sa\n",
    "import main_SIMR as simr\n",
    "\n",
    "# General modules\n",
    "from os import path\n",
    "import numpy as np\n",
    "from matplotlib import pyplot as plt\n",
    "\n",
    "sa.test()\n",
    "gm.test()\n",
    "im.test()\n",
    "ic.test()\n",
    "ms.test()\n",
    "dc.test()\n",
    "simr.test()"
   ]
  },
  {
   "cell_type": "code",
   "execution_count": 2,
   "id": "matched-division",
   "metadata": {},
   "outputs": [
    {
     "name": "stdout",
     "output_type": "stream",
     "text": [
      "IM: target_info_class.__init__:\n",
      "\t - targetDir:  ../../1237678620102623480/\n",
      "IM: Target.initTargetDir():\n",
      "\t - targetDir: ../../1237678620102623480/\n",
      "NEW PATH EXISTS: /mnt/c/Users/ogden/OneDrive/Desktop/galStuff/1237678620102623480/zoo_merger_models/\n",
      "\t - targetDir: (True) /mnt/c/Users/ogden/OneDrive/Desktop/galStuff/1237678620102623480/\n",
      "\t - infoDir: (True) /mnt/c/Users/ogden/OneDrive/Desktop/galStuff/1237678620102623480/information/\n",
      "\t - baseInfoLoc: (True) /mnt/c/Users/ogden/OneDrive/Desktop/galStuff/1237678620102623480/information/base_target_info.json\n",
      "\t - allInfoLoc: (True) /mnt/c/Users/ogden/OneDrive/Desktop/galStuff/1237678620102623480/information/target_info.json\n",
      "\t - zooMergerDir: (True) /mnt/c/Users/ogden/OneDrive/Desktop/galStuff/1237678620102623480/zoo_merger_models/\n",
      "\t - plotDir: (True) /mnt/c/Users/ogden/OneDrive/Desktop/galStuff/1237678620102623480/plots/\n",
      "IM: Target: Opening target info json\n",
      "Target Good!\n"
     ]
    }
   ],
   "source": [
    "#tDir = '/home/mbo2d/galStuff/spam_data_pl3/587722984435351614/' \n",
    "#tDir = '../../targetDir/'\n",
    "tDir = '../../1237678620102623480/'\n",
    "\n",
    "tInfo = im.target_info_class( targetDir = tDir, printAll=True)\n",
    "\n",
    "if tInfo.status == False:\n",
    "    print(\"WARNING\")\n",
    "else:\n",
    "    print(\"Target Good!\")"
   ]
  },
  {
   "cell_type": "code",
   "execution_count": 3,
   "id": "temporal-exhibit",
   "metadata": {},
   "outputs": [
    {
     "name": "stdout",
     "output_type": "stream",
     "text": [
      "None\n",
      "IM: run_info_class.__init__\n",
      "\t - runDir:  /mnt/c/Users/ogden/OneDrive/Desktop/galStuff/1237678620102623480/zoo_merger_models/run_00001/\n",
      "IM: run.initRunDir\n",
      "\t - runDir: /mnt/c/Users/ogden/OneDrive/Desktop/galStuff/1237678620102623480/zoo_merger_models/run_00001/\n",
      "\t - runDir: (True) /mnt/c/Users/ogden/OneDrive/Desktop/galStuff/1237678620102623480/zoo_merger_models/run_00001/\n",
      "\t - ptsDir: (True) /mnt/c/Users/ogden/OneDrive/Desktop/galStuff/1237678620102623480/zoo_merger_models/run_00001/particle_files/\n",
      "\t - imgDir: (True) /mnt/c/Users/ogden/OneDrive/Desktop/galStuff/1237678620102623480/zoo_merger_models/run_00001/model_images/\n",
      "\t - miscDir: (True) /mnt/c/Users/ogden/OneDrive/Desktop/galStuff/1237678620102623480/zoo_merger_models/run_00001/misc_images/\n",
      "\t - infoLoc: (True) /mnt/c/Users/ogden/OneDrive/Desktop/galStuff/1237678620102623480/zoo_merger_models/run_00001/info.json\n",
      "\t - baseLoc: (True) /mnt/c/Users/ogden/OneDrive/Desktop/galStuff/1237678620102623480/zoo_merger_models/run_00001/base_info.json\n",
      "\t - Reading Info file.\n",
      "IM: Run.__init__: Initalized: True\n",
      "Run 'r00001' Good!\n",
      "True\n"
     ]
    }
   ],
   "source": [
    "\n",
    "print(tInfo.get('zoo_merger_models').get('00001'))\n",
    "\n",
    "rId = 'r00001'\n",
    "runArg = gm.inArgClass()\n",
    "runArg.setArg(\"printAll\",True)\n",
    "runArg.setArg(\"tInfo\",tInfo)\n",
    "\n",
    "rInfo = tInfo.getRunInfo( rID=rId, rArg = runArg)\n",
    "rInfo.tInfo = tInfo\n",
    "\n",
    "if rInfo.status == False:\n",
    "    print(\"WARNING\")\n",
    "else:\n",
    "    print(\"Run '%s' Good!\"%rInfo.get('run_id'))\n",
    "    print(rInfo.get('tInfo').status)"
   ]
  },
  {
   "cell_type": "code",
   "execution_count": 7,
   "id": "sustainable-mortgage",
   "metadata": {},
   "outputs": [],
   "source": [
    "# If you need to create a brand new json score parameter\n",
    "tmp = '''\n",
    "from copy import deepcopy\n",
    "pLoc = gm.validPath('../param/start_param.json')\n",
    "print(pLoc,'\\n')\n",
    "oldParams = im.group_score_parameter_class(pLoc = pLoc)\n",
    "params = oldParams.group\n",
    "gm.pprint(params)\n",
    "\n",
    "params['new_score'] = deepcopy( params['base_score'] )\n",
    "params['new_score']['name'] = 'test_compare'\n",
    "params['new_score']['cmpArg']['cmpMethod'] = 'test_compare'\n",
    "\n",
    "params['new_perturbation'] = deepcopy( params['new_score'] )\n",
    "params['new_perturbation']['name'] = 'test_perturbation'\n",
    "params['new_perturbation']['scoreType'] = 'perturbation'\n",
    "params['new_perturbation'].pop('targetName',None)\n",
    "\n",
    "params.pop('base_score',None)\n",
    "params.pop('base_perturbation',None)\n",
    "\n",
    "gm.pprint(params)\n",
    "\n",
    "newParams = im.group_score_parameter_class( params = params )\n",
    "newParams.saveParam( saveLoc = '../param/new_score.json')\n",
    "'''"
   ]
  },
  {
   "cell_type": "code",
   "execution_count": 22,
   "id": "married-montana",
   "metadata": {},
   "outputs": [
    {
     "name": "stdout",
     "output_type": "stream",
     "text": [
      "/mnt/c/Users/ogden/OneDrive/Desktop/galStuff/galaxyJSPAM/param/new_score.json \n",
      "\n",
      "New Score Params Good!\n",
      "{'new_perturbation': {'cmpArg': {'cmpMethod': 'test_compare'},\n",
      "                      'imgArg': {'name': 'default',\n",
      "                                 'pType': 'default'},\n",
      "                      'name': 'test_perturbation',\n",
      "                      'scoreType': 'perturbation',\n",
      "                      'simArg': {'nPts': '100k',\n",
      "                                 'name': '100k'}},\n",
      " 'new_score': {'cmpArg': {'cmpMethod': 'test_compare'},\n",
      "               'imgArg': {'name': 'default',\n",
      "                          'pType': 'default'},\n",
      "               'name': 'test_compare',\n",
      "               'scoreType': 'target',\n",
      "               'simArg': {'nPts': '100k',\n",
      "                          'name': '100k'},\n",
      "               'targetName': 'zoo'}}\n"
     ]
    }
   ],
   "source": [
    "pLoc = gm.validPath('../param/new_score.json')\n",
    "print(pLoc,'\\n')\n",
    "newParam = im.group_score_parameter_class(pLoc = pLoc)\n",
    "if newParam.status == True:\n",
    "    new_params = newParam.group\n",
    "    print(\"New Score Params Good!\")\n",
    "    gm.pprint(params)\n",
    "else:\n",
    "    print(\"Failed to load new params\")"
   ]
  },
  {
   "cell_type": "code",
   "execution_count": 15,
   "id": "lined-premiere",
   "metadata": {},
   "outputs": [
    {
     "data": {
      "text/plain": [
       "<matplotlib.image.AxesImage at 0x7fb141275250>"
      ]
     },
     "execution_count": 15,
     "metadata": {},
     "output_type": "execute_result"
    },
    {
     "data": {
      "image/png": "[encoded data removed]",
      "text/plain": [
       "<Figure size 432x288 with 1 Axes>"
      ]
     },
     "metadata": {
      "needs_background": "light"
     },
     "output_type": "display_data"
    }
   ],
   "source": [
    "img1 = rInfo.getModelImg( params['new_score']['imgArg']['name'] )\n",
    "plt.imshow(img1)"
   ]
  },
  {
   "cell_type": "code",
   "execution_count": 17,
   "id": "automated-memphis",
   "metadata": {},
   "outputs": [
    {
     "data": {
      "text/plain": [
       "<matplotlib.image.AxesImage at 0x7fb140187640>"
      ]
     },
     "execution_count": 17,
     "metadata": {},
     "output_type": "execute_result"
    },
    {
     "data": {
      "image/png": "[encoded data removed]",
      "text/plain": [
       "<Figure size 432x288 with 1 Axes>"
      ]
     },
     "metadata": {
      "needs_background": "light"
     },
     "output_type": "display_data"
    }
   ],
   "source": [
    "img2 = tInfo.getTargetImage( params['new_score']['targetName'] )\n",
    "plt.imshow(img2)"
   ]
  },
  {
   "cell_type": "code",
   "execution_count": 18,
   "id": "protective-motorcycle",
   "metadata": {},
   "outputs": [
    {
     "name": "stdout",
     "output_type": "stream",
     "text": [
      "0.9488813198644631\n"
     ]
    }
   ],
   "source": [
    "from skimage.metrics import structural_similarity as ssim\n",
    "\n",
    "def new_image_compare( img1, img2 ):\n",
    "    score = 0\n",
    "    score = ssim( img1, img2 )\n",
    "    return score\n",
    "\n",
    "score = new_image_compare( img1, img2 )\n",
    "print(score)"
   ]
  },
  {
   "cell_type": "code",
   "execution_count": 20,
   "id": "realistic-drain",
   "metadata": {},
   "outputs": [
    {
     "name": "stdout",
     "output_type": "stream",
     "text": [
      "<function new_image_compare at 0x7fb14019f3a0>\n",
      "<function new_image_compare at 0x7fb14019f3a0>\n"
     ]
    }
   ],
   "source": [
    "print(dc.test_compare)\n",
    "\n",
    "dc.set_test_compare(new_image_compare)\n",
    "\n",
    "print(dc.test_compare)"
   ]
  },
  {
   "cell_type": "code",
   "execution_count": 23,
   "id": "breeding-arkansas",
   "metadata": {},
   "outputs": [
    {
     "name": "stdout",
     "output_type": "stream",
     "text": [
      "SIMR.pipelineRun: Inputs\n",
      "\t - rDir: None\n",
      "\t - rInfo: <class 'Support_Code.info_module.run_info_class'>\n",
      "SIMR.pipelineRun: \n",
      "\t - rInfo:  <Support_Code.info_module.run_info_class object at 0x7fb1985b92b0>\n",
      "MS: Run:\n",
      "MS: target_image_compare: test_compare\n",
      "\t -  paramName: test_compare\n",
      "\t -  modelName: default\n",
      "\t - targetName: zoo\n",
      "\t - Read target image\n",
      "MS: run: Read model image\n",
      "IM: Run.saveInfoFile: Saving info data file...\n",
      "IM: Run.saveInfoFile: Saving info data file...\n",
      "WARNING: MS: Run\n",
      "Score Type of 'perturbation' not yet implemented\n"
     ]
    }
   ],
   "source": [
    "newRunScoreArg = gm.inArgClass()\n",
    "newRunScoreArg.setArg( 'rInfo', rInfo )\n",
    "newRunScoreArg.setArg( 'scoreParams', new_params )\n",
    "newRunScoreArg.setArg( 'printAll', True )\n",
    "newRunScoreArg.setArg( 'newScore', True )\n",
    "\n",
    "simr.simr_run( rInfo = rInfo, arg = newRunScoreArg )\n"
   ]
  },
  {
   "cell_type": "code",
   "execution_count": null,
   "id": "ranging-queens",
   "metadata": {},
   "outputs": [],
   "source": []
  }
 ],
 "metadata": {
  "kernelspec": {
   "display_name": "Python 3",
   "language": "python",
   "name": "python3"
  },
  "language_info": {
   "codemirror_mode": {
    "name": "ipython",
    "version": 3
   },
   "file_extension": ".py",
   "mimetype": "text/x-python",
   "name": "python",
   "nbconvert_exporter": "python",
   "pygments_lexer": "ipython3",
   "version": "3.8.5"
  }
 },
 "nbformat": 4,
 "nbformat_minor": 5
}
