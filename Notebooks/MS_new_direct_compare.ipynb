{
 "cells": [
  {
   "cell_type": "markdown",
   "id": "convenient-chester",
   "metadata": {},
   "source": [
    "# Creating a new Machine Scoring Method\n",
    "Hello!  This in Matt's quick tutorial on how to create and implement a new direct scoring method and then testing it on a target.\n",
    "\n",
    "## Step 1: Load nessecary modules"
   ]
  },
  {
   "cell_type": "code",
   "execution_count": 18,
   "id": "loving-honolulu",
   "metadata": {},
   "outputs": [
    {
     "name": "stdout",
     "output_type": "stream",
     "text": [
      "SIMR: Hi!  You're in Matthew's main program for all things galaxy collisions\n",
      "GM: Hi!  You're in Matthew's module for generally useful functions and classes\n",
      "IM: Hi!  You're in Matthew's information module for SPAM\n",
      "IC: Hi!  You're in Matthew's main code for all things image creation.\n",
      "MS: Hi!  You're in Matthew's SIMR module for all things machine scoring images\n",
      "DC: Hi!  You're in direct_image_compare.py\n",
      "SA: Hi!  You're in Matthew's Main program for score analysis!\n"
     ]
    }
   ],
   "source": [
    "# Add python modules\n",
    "import numpy as np\n",
    "import matplotlib.pyplot as plt\n",
    "from copy import deepcopy\n",
    "\n",
    "# Add parent directory for custom modules\n",
    "from sys import path as sysPath\n",
    "sysPath.append('../')\n",
    "sysPath.append('../Machine_Score/')\n",
    "\n",
    "# Load custom modules that simr has loaded\n",
    "import main_SIMR as simr\n",
    "gm = simr.gm\n",
    "im = simr.im\n",
    "ic = simr.ic\n",
    "ms = simr.ms\n",
    "sa = simr.sa\n",
    "dc = simr.ms.dc\n",
    "\n",
    "simr.test()\n",
    "gm.test()\n",
    "im.test()\n",
    "ic.test()\n",
    "ms.test()\n",
    "dc.test()\n",
    "sa.test()"
   ]
  },
  {
   "cell_type": "markdown",
   "id": "coupled-projector",
   "metadata": {},
   "source": [
    "___\n",
    "## Step 2: Load Target and single Run Info class\n",
    "Needed for loading the target image and running through models later."
   ]
  },
  {
   "cell_type": "code",
   "execution_count": 19,
   "id": "animated-billy",
   "metadata": {},
   "outputs": [
    {
     "name": "stdout",
     "output_type": "stream",
     "text": [
      "Target Good!\n",
      "Run 'run_0000' Good!\n"
     ]
    }
   ],
   "source": [
    "tDir = '../targetDir'\n",
    "tDir = gm.validPath(tDir)\n",
    "\n",
    "tInfo = im.target_info_class( targetDir = tDir, printAll=False)\n",
    "if tInfo.status == False:\n",
    "    print(\"WARNING: target info class bad\")\n",
    "else:\n",
    "    print(\"Target Good!\")\n",
    "\n",
    "# Get run info class\n",
    "rInfo = tInfo.getRunInfo( rID='run_0000' )\n",
    "\n",
    "if rInfo.status == False:\n",
    "    print(\"WARNING\")\n",
    "else:\n",
    "    print(\"Run '%s' Good!\"%rInfo.get('run_id'))"
   ]
  },
  {
   "cell_type": "markdown",
   "id": "conventional-white",
   "metadata": {},
   "source": [
    "---\n",
    "## Step 4: Load score parameter file\n",
    "For loading in the the new score parameter file.  You can edit this file as you see fit"
   ]
  },
  {
   "cell_type": "code",
   "execution_count": 20,
   "id": "amazing-royal",
   "metadata": {},
   "outputs": [
    {
     "name": "stdout",
     "output_type": "stream",
     "text": [
      "zoo_0\n",
      "new_score\n",
      "zoo_test\n",
      "test_param\n",
      "{'test_grahams_score': {'cmpArg': {'cmpMethod': 'correlation',\n",
      "                                   'direct_compare_function': 'correlation',\n",
      "                                   'function_name': 'test_compare',\n",
      "                                   'name': 'test_score',\n",
      "                                   'targetName': 'zoo_test',\n",
      "                                   'type': 'direct_image_comparison'},\n",
      "                        'imgArg': {'blur': {'size': 5,\n",
      "                                            'type': 'gaussian_blur',\n",
      "                                            'weight': 0.75},\n",
      "                                   'comment': 'Smaller '\n",
      "                                              'Image '\n",
      "                                              'by '\n",
      "                                              'Matthew.',\n",
      "                                   'galaxy_centers': {'px': 50,\n",
      "                                                      'py': 50,\n",
      "                                                      'sx': 100,\n",
      "                                                      'sy': 50},\n",
      "                                   'image_size': {'height': 100,\n",
      "                                                  'width': 150},\n",
      "                                   'name': 'test_img',\n",
      "                                   'normalization': {'norm_constant': 2.5,\n",
      "                                                     'type': 'type1'},\n",
      "                                   'radial_const': [-1.5,\n",
      "                                                    -1.5],\n",
      "                                   'target_id': '587722984435351614'},\n",
      "                        'name': 'test_grahams_score',\n",
      "                        'scoreType': 'model_fitness_score',\n",
      "                        'simArg': {'nPts': '1000',\n",
      "                                   'name': 'test_sim'}}}\n"
     ]
    }
   ],
   "source": [
    "tParams = tInfo.getImageParams()\n",
    "#gm.pprint(tParams)\n",
    "for key in tParams:\n",
    "    print(key)\n",
    "\n",
    "# Create a new score param in tInfo if needed\n",
    "new_name = 'test_grahams_score'\n",
    "new_params = {}\n",
    "\n",
    "# Copy desired starting parameter.\n",
    "new_params[new_name] = deepcopy( tParams['test_param'] )\n",
    "new_params[new_name]['name'] = new_name\n",
    "new_params[new_name]['cmpArg']['function_name'] = 'test_compare'\n",
    "gm.pprint(new_params)\n",
    "\n",
    "#tInfo.addImageParams(new_params, overWrite = True)\n",
    "\n"
   ]
  },
  {
   "cell_type": "code",
   "execution_count": 22,
   "id": "handmade-deadline",
   "metadata": {},
   "outputs": [
    {
     "name": "stdout",
     "output_type": "stream",
     "text": [
      "import\n"
     ]
    }
   ],
   "source": [
    "from main_machine_score import *\n",
    "print(\"import\")"
   ]
  },
  {
   "cell_type": "code",
   "execution_count": 30,
   "id": "modified-lesson",
   "metadata": {},
   "outputs": [
    {
     "name": "stdout",
     "output_type": "stream",
     "text": [
      "SIMR.simr_run: Inputs\n",
      "\t - rDir: None\n",
      "\t - rInfo: <class 'Support_Code.info_module.run_info_class'>\n",
      "SIMR.pipelineRun: \n",
      "\t - rInfo:  <Support_Code.info_module.run_info_class object at 0x7f146152f0a0>\n",
      "\t - Overwriting old scores\n",
      "\t - Creating new scores\n",
      "IC: image_creator_run\n",
      "IC: rInfo.status:  True\n",
      "IC: given parameters: 1\n",
      "IC:  test_img\n",
      "IC: Creating image:\n",
      "\t - runId: run_0000\n",
      "\t - score: test_grahams_score_2\n",
      "IC: Image 'test_img' already made for run_0000\n",
      "\t - Creating image from points\n",
      "\t - Saving model image at: /home/mbo2d/587722984435351614/zoo_merger_models/run_0000/model_images/test_img_model.png\n",
      "\t - Saving unperturbed at: /home/mbo2d/587722984435351614/zoo_merger_models/run_0000/misc_images/test_img_init.png\n",
      "IC_LOOP:    1 /    1: COMPLETE\n",
      "MS: Run:\n",
      "MS: scoreName: test_grahams_score_2\n",
      "MS.multi_image_comparison:\n",
      "\t - score_name: test_grahams_score_2\n",
      "\t - image_name: test_img\n",
      "\t - target_name: zoo_test\n",
      "IM: Loading: test_img:\n",
      "\t - imgType: model\n",
      "\t - imgLoc: /home/mbo2d/587722984435351614/zoo_merger_models/run_0000/model_images/test_img_model.png\n",
      "IM: Loading: test_img:\n",
      "\t - imgType: init\n",
      "\t - imgLoc: /home/mbo2d/587722984435351614/zoo_merger_models/run_0000/misc_images/test_img_init.png\n",
      "MS.multi_image_comparison:\n",
      "\t - New Score: test_grahams_score_2 - 0.09497598449594945\n",
      "IM: Run.saveInfoFile: Saving info data file...\n",
      "Done\n"
     ]
    }
   ],
   "source": [
    "        \n",
    "def multi_image_comparison( rInfo, param, arg ):\n",
    "    \n",
    "    printBase = arg.printBase\n",
    "    printAll = arg.printAll\n",
    "    \n",
    "    if printBase:  print('MS.multi_image_comparison:')\n",
    "    if printAll:   gm.tabprint(\"score_name: %s\" % param['name'] )\n",
    "    \n",
    "    imgName = param['imgArg']['name']\n",
    "    tgtName = param['cmpArg']['targetName']\n",
    "    \n",
    "    if printAll:  gm.tabprint(\"image_name: %s\" % imgName )\n",
    "    if printAll:  gm.tabprint(\"target_name: %s\" % tgtName )\n",
    "    \n",
    "    mImg = rInfo.getModelImage( imgName = imgName, overWrite = True )\n",
    "    uImg = rInfo.getModelImage( imgName = imgName, imgType = 'init', overWrite = True )\n",
    "    tImg = rInfo.tInfo.getTargetImage( tName = tgtName )\n",
    "    \n",
    "    # Check all images are valid\n",
    "    if type( mImg ) == type( None ) \\\n",
    "    or type( uImg ) == type( None ) \\\n",
    "    or type( tImg ) == type( None ):\n",
    "        print(\"ERROR: MS.multi_image_comparison:\")\n",
    "        gm.tabprint(\"Invalid image\")\n",
    "        gm.tabprint(\"Target: %s\" % type(tImg) )\n",
    "        gm.tabprint(\"Model : %s\" % type(mImg) )\n",
    "        gm.tabprint(\"Init  : %s\" % type(uImg) )\n",
    "        return\n",
    "    \n",
    "    # Reshape target image if needed. \n",
    "    if tImg.shape != mImg.shape:\n",
    "        tImg = cv2.resize( tImg, ( mImg.shape[1], mImg.shape[0] ) )\n",
    "        \n",
    "    score = grahams_scoring_function( tImg, mImg, uImg )\n",
    "    \n",
    "    if printBase:  \n",
    "        print(\"MS.multi_image_comparison:\")\n",
    "        gm.tabprint(\"New Score: %s - %s\" % (param['name'], str( score ) ) )\n",
    "    \n",
    "    if score != None: \n",
    "        newScore = rInfo.addScore( name = param['name'], score=score )    \n",
    "            \n",
    "    else:\n",
    "        print(\"WARNING: MS: New Score is None: %s - %s \" % (rInfo.get('run_id'),param['name']))\n",
    "    \n",
    "    return score\n",
    "\n",
    "# End multi_image_comparison\n",
    "\n",
    "ms.multi_image_comparison = multi_image_comparison\n",
    "\n",
    "rInfo.printAll = True\n",
    "\n",
    "# Create a new score param in tInfo if needed\n",
    "tParams = tInfo.getImageParams()\n",
    "new_name = 'test_grahams_score_2'\n",
    "new_params = {}\n",
    "\n",
    "# Copy desired starting parameter.\n",
    "new_params[new_name] = deepcopy( tParams['test_param'] )\n",
    "new_params[new_name]['name'] = new_name\n",
    "new_params[new_name]['imgArg']['image_size'] = { 'width':60, 'height':40 }\n",
    "new_params[new_name]['imgArg']['galaxy_centers'] = { 'px':20, 'py':20, 'sx':40, 'sy':20 }\n",
    "new_params[new_name]['cmpArg']['function_name'] = 'test_compare'\n",
    "new_params[new_name]['cmpArg']['type'] = 'multi_image_compare'\n",
    "\n",
    "gm.saveJson( new_params, '../param/test_graham_ms.json')\n",
    "\n",
    "runArgs = gm.inArgClass()\n",
    "runArgs.printAll = True\n",
    "#runArgs.setArg( 'newSim', True )\n",
    "#runArgs.setArg( 'zipSim', True )\n",
    "runArgs.setArg( 'newImage', True )\n",
    "runArgs.setArg( 'newScore', True )\n",
    "runArgs.setArg( 'overWrite', True )\n",
    "runArgs.setArg( 'scoreParams', new_params )\n",
    "\n",
    "simr.simr_run( runArgs, rInfo,)\n",
    "print(\"Done\")"
   ]
  },
  {
   "cell_type": "markdown",
   "id": "gothic-asthma",
   "metadata": {},
   "source": [
    "___\n",
    "## Step 5: Load image for comparison\n",
    "Load in the target image and a model image for initial comparison"
   ]
  },
  {
   "cell_type": "code",
   "execution_count": 37,
   "id": "given-pavilion",
   "metadata": {},
   "outputs": [
    {
     "data": {
      "text/plain": [
       "<matplotlib.image.AxesImage at 0x7f14c180faf0>"
      ]
     },
     "execution_count": 37,
     "metadata": {},
     "output_type": "execute_result"
    },
    {
     "data": {
      "image/png": "[encoded data removed]",
      "text/plain": [
       "<Figure size 720x864 with 3 Axes>"
      ]
     },
     "metadata": {
      "needs_background": "light"
     },
     "output_type": "display_data"
    }
   ],
   "source": [
    "tImg = tInfo.getTargetImage( new_params[new_name]['cmpArg']['targetName'] )\n",
    "mImg = rInfo.getModelImage( new_params[new_name]['imgArg']['name'] )\n",
    "uImg = rInfo.getModelImage( new_params[new_name]['imgArg']['name'], imgType = 'init' )\n",
    "\n",
    "plt.figure( figsize=(10,12) )\n",
    "plt.subplot(311)\n",
    "plt.imshow( tImg, cmap='gray')\n",
    "plt.subplot(312)\n",
    "plt.imshow( mImg, cmap='gray')\n",
    "plt.subplot(313)\n",
    "plt.imshow( uImg, cmap='gray')"
   ]
  },
  {
   "cell_type": "markdown",
   "id": "unusual-tackle",
   "metadata": {},
   "source": [
    "___\n",
    "## Step 6: Create the new comparison function!\n",
    "Note: All direct image comparison take 3 arguments\n",
    "- 2x images of the same size\n",
    "- dict of comparison arguments"
   ]
  },
  {
   "cell_type": "code",
   "execution_count": null,
   "id": "republican-exhaust",
   "metadata": {},
   "outputs": [],
   "source": [
    "# Test new scoring method on 2 images directly\n",
    "\n",
    "def score_ssim( img1, img2, cmpArg ):\n",
    "    score = -1\n",
    "    score = ssim( img1, img2 )\n",
    "    return score\n",
    "\n",
    "score = score_ssim( img1, img2, None )\n",
    "\n",
    "print(score)"
   ]
  },
  {
   "cell_type": "markdown",
   "id": "adapted-condition",
   "metadata": {},
   "source": [
    "___\n",
    "## Step 7: Load new function into direct image module\n",
    "This will allow the existing code to run the function in a standard new score operation."
   ]
  },
  {
   "cell_type": "code",
   "execution_count": null,
   "id": "intermediate-mineral",
   "metadata": {},
   "outputs": [],
   "source": [
    "# Assign new function to test function in direct image compare\n",
    "dc.set_test_compare(score_ssim)\n",
    "\n",
    "# Check if all modules loaded the same function\n",
    "print(\"NOTE! All should match\")\n",
    "print('nb:   ',score_ssim)\n",
    "print('dc:   ',dc.test_compare)\n",
    "print('ms:   ',ms.dc.test_compare)\n",
    "print('simr: ',simr.ms.dc.test_compare)\n"
   ]
  },
  {
   "cell_type": "markdown",
   "id": "monthly-seating",
   "metadata": {},
   "source": [
    "___\n",
    "## Step 8: Execute new score operation for a single model.\n",
    "This confirms that the score function operates correcting in the new score pipeline"
   ]
  },
  {
   "cell_type": "code",
   "execution_count": null,
   "id": "polyphonic-december",
   "metadata": {},
   "outputs": [],
   "source": [
    "newRunScoreArg = gm.inArgClass()\n",
    "newRunScoreArg.setArg( 'rInfo', rInfo )\n",
    "newRunScoreArg.setArg( 'scoreParams', new_params )\n",
    "newRunScoreArg.setArg( 'printAll', True )\n",
    "newRunScoreArg.setArg( 'newScore', True )\n",
    "newRunScoreArg.setArg( 'overWrite', True )\n",
    "\n",
    "simr.simr_run( rInfo = rInfo, arg = newRunScoreArg )\n",
    "rInfo.printScores()"
   ]
  },
  {
   "cell_type": "markdown",
   "id": "reasonable-guitar",
   "metadata": {},
   "source": [
    "___\n",
    "## Step 9: Execute new score operation for a complete target.\n",
    "Execute the new function for a target and see if it works across many models"
   ]
  },
  {
   "cell_type": "code",
   "execution_count": null,
   "id": "informed-telling",
   "metadata": {
    "tags": []
   },
   "outputs": [],
   "source": [
    "newTarget = gm.inArgClass()\n",
    "newTarget.setArg( 'tInfo', tInfo )\n",
    "newTarget.setArg( 'scoreParams', new_params )\n",
    "newTarget.setArg( 'printAll', False )\n",
    "newTarget.setArg( 'newScore', True )\n",
    "#newTarget.setArg( 'overWrite', True )\n",
    "\n",
    "simr.simr_target( arg=newTarget )"
   ]
  },
  {
   "cell_type": "markdown",
   "id": "standard-commons",
   "metadata": {},
   "source": [
    "***\n",
    "## Step 10: View results!\n",
    "View if your new method does well or not."
   ]
  },
  {
   "cell_type": "code",
   "execution_count": null,
   "id": "industrial-indication",
   "metadata": {},
   "outputs": [],
   "source": [
    "scores = tInfo.getScores()\n",
    "sa.getNamedPlot(scores)"
   ]
  },
  {
   "cell_type": "markdown",
   "id": "spoken-symphony",
   "metadata": {},
   "source": [
    "___\n",
    "## Step 11: Add new function to direct_image_comparison.py\n",
    "\n",
    "## Step 12: Rename parameter and save\n",
    "- Create a new dict of the new score parameter\n",
    "    - Parameter name\n",
    "    - cmpMethod name: Match name of function in directory_image_compare\n",
    "   "
   ]
  },
  {
   "cell_type": "code",
   "execution_count": null,
   "id": "entire-pioneer",
   "metadata": {},
   "outputs": [],
   "source": [
    "param = deepcopy( new_params['new_score'] )\n",
    "param['name'] = 'base0_ssim'\n",
    "param['cmpArg']['cmpMethod'] = 'ssim'\n",
    "\n",
    "gm.pprint(param)"
   ]
  },
  {
   "cell_type": "markdown",
   "id": "transparent-number",
   "metadata": {},
   "source": [
    "___\n",
    "## Step 13: Save in a score parameter file"
   ]
  },
  {
   "cell_type": "code",
   "execution_count": null,
   "id": "royal-chuck",
   "metadata": {
    "tags": []
   },
   "outputs": [],
   "source": [
    "# Load existing score parameter file\n",
    "pLoc = gm.validPath('../param/base0.json')\n",
    "print(pLoc,'\\n')\n",
    "baseParamClass = im.group_score_parameter_class(pLoc = pLoc)\n",
    "\n",
    "#gm.pprint(baseParams)\n",
    "\n",
    "# Add new score parameter to dict\n",
    "baseParamClass.group[ param['name'] ] = param\n",
    "gm.pprint(baseParamClass.group)\n",
    "baseParamClass.saveParam( saveLoc = '../param/base0.json' )\n"
   ]
  },
  {
   "cell_type": "markdown",
   "id": "dominant-answer",
   "metadata": {},
   "source": [
    "___\n",
    "## Step 14: Have target run the score parameter file you just updated"
   ]
  },
  {
   "cell_type": "code",
   "execution_count": null,
   "id": "green-scale",
   "metadata": {},
   "outputs": [],
   "source": [
    "newTarget = gm.inArgClass()\n",
    "newTarget.setArg( 'tInfo', tInfo )\n",
    "newTarget.setArg( 'scoreParams', baseParamClass.group )\n",
    "newTarget.setArg( 'printAll', False )\n",
    "newTarget.setArg( 'newScore', True )\n",
    "#newTarget.setArg( 'overWrite', True )\n",
    "\n",
    "#gm.pprint(newTarget.get('scoreParams'))\n",
    "\n",
    "simr.simr_target( arg=newTarget )"
   ]
  },
  {
   "cell_type": "markdown",
   "id": "recreational-biology",
   "metadata": {},
   "source": [
    "___\n",
    "## Step 15: view target results of new score function! Again!"
   ]
  },
  {
   "cell_type": "code",
   "execution_count": null,
   "id": "agreed-campus",
   "metadata": {},
   "outputs": [],
   "source": [
    "scores = tInfo.getScores()\n",
    "ax = sa.getNamedPlot(scores, sName = 'base0_ssim' )"
   ]
  },
  {
   "cell_type": "code",
   "execution_count": null,
   "id": "ignored-massachusetts",
   "metadata": {},
   "outputs": [],
   "source": []
  }
 ],
 "metadata": {
  "kernelspec": {
   "display_name": "Python 3",
   "language": "python",
   "name": "python3"
  },
  "language_info": {
   "codemirror_mode": {
    "name": "ipython",
    "version": 3
   },
   "file_extension": ".py",
   "mimetype": "text/x-python",
   "name": "python",
   "nbconvert_exporter": "python",
   "pygments_lexer": "ipython3",
   "version": "3.8.10"
  }
 },
 "nbformat": 4,
 "nbformat_minor": 5
}
