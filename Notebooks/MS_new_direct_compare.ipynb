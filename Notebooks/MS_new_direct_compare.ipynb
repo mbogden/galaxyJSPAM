{
 "cells": [
  {
   "cell_type": "markdown",
   "id": "dutch-warehouse",
   "metadata": {},
   "source": [
    "# Creating a new Machine Scoring Method\n",
    "Hello!  This in Matt's quick tutorial on how to create and implement a new direct scoring method and then testing it on a target.\n",
    "\n",
    "## Step 1: Load nessecary modules"
   ]
  },
  {
   "cell_type": "code",
   "execution_count": 10,
   "id": "possible-texture",
   "metadata": {},
   "outputs": [
    {
     "name": "stdout",
     "output_type": "stream",
     "text": [
      "SIMR: Hi!  You're in Matthew's main program for all things galaxy collisions\n",
      "GM: Hi!  You're in Matthew's module for generally useful functions and classes\n",
      "IM: Hi!  You're in Matthew's information module for SPAM\n",
      "IC: Hi!  You're in Matthew's main code for all things image creation.\n",
      "MS: Hi!  You're in Matthew's SIMR module for all things machine scoring images\n",
      "DC: Hi!  You're in direct_image_compare.py\n",
      "SA: Hi!  You're in Matthew's Main program for score analysis!\n"
     ]
    }
   ],
   "source": [
    "# Add python modules\n",
    "import numpy as np\n",
    "import matplotlib.pyplot as plt\n",
    "from copy import deepcopy\n",
    "\n",
    "# Add parent directory for custom modules\n",
    "from sys import path as sysPath\n",
    "sysPath.append('../')\n",
    "sysPath.append('../Machine_Score/')\n",
    "\n",
    "# Load custom modules that simr has loaded\n",
    "import main_SIMR as simr\n",
    "gm = simr.gm\n",
    "im = simr.im\n",
    "ic = simr.ic\n",
    "ms = simr.ms\n",
    "sa = simr.sa\n",
    "dc = simr.ms.dc\n",
    "\n",
    "simr.test()\n",
    "gm.test()\n",
    "im.test()\n",
    "ic.test()\n",
    "ms.test()\n",
    "dc.test()\n",
    "sa.test()"
   ]
  },
  {
   "cell_type": "markdown",
   "id": "provincial-techno",
   "metadata": {},
   "source": [
    "___\n",
    "## Step 2: Load Target and single Run Info class\n",
    "Needed for loading the target image and running through models later."
   ]
  },
  {
   "cell_type": "code",
   "execution_count": 11,
   "id": "union-service",
   "metadata": {},
   "outputs": [
    {
     "name": "stdout",
     "output_type": "stream",
     "text": [
      "Target Good!\n",
      "Run 'run_0000' Good!\n"
     ]
    }
   ],
   "source": [
    "tDir = '../targetDir'\n",
    "tDir = gm.validPath(tDir)\n",
    "\n",
    "tInfo = im.target_info_class( targetDir = tDir, printAll=False)\n",
    "if tInfo.status == False:\n",
    "    print(\"WARNING: target info class bad\")\n",
    "else:\n",
    "    print(\"Target Good!\")\n",
    "\n",
    "# Get run info class\n",
    "rInfo = tInfo.getRunInfo( rID='run_0000' )\n",
    "\n",
    "if rInfo.status == False:\n",
    "    print(\"WARNING\")\n",
    "else:\n",
    "    print(\"Run '%s' Good!\"%rInfo.get('run_id'))"
   ]
  },
  {
   "cell_type": "markdown",
   "id": "wired-insurance",
   "metadata": {},
   "source": [
    "---\n",
    "## Step 4: Load score parameter file\n",
    "For loading in the the new score parameter file.  You can edit this file as you see fit"
   ]
  },
  {
   "cell_type": "code",
   "execution_count": 12,
   "id": "removed-ordinary",
   "metadata": {},
   "outputs": [
    {
     "name": "stdout",
     "output_type": "stream",
     "text": [
      "zoo_0\n",
      "new_score\n",
      "zoo_test\n",
      "{'new_score': {'cmpArg': {'direct_compare_function': 'absolute_difference',\n",
      "                          'function_name': 'test_compare',\n",
      "                          'targetName': 'zoo_0',\n",
      "                          'targetType': 'target_image',\n",
      "                          'type': 'direct_image_comparison'},\n",
      "               'comment': 'Starting '\n",
      "                          'score '\n",
      "                          'parameters '\n",
      "                          'file for '\n",
      "                          '587722984435351614',\n",
      "               'imgArg': {'comment': 'Starting '\n",
      "                                     'image '\n",
      "                                     'parameters '\n",
      "                                     'for '\n",
      "                                     '587722984435351614',\n",
      "                          'galaxy_centers': {'px': 513,\n",
      "                                             'py': 514,\n",
      "                                             'sx': 309,\n",
      "                                             'sy': 608},\n",
      "                          'image_size': {'height': 1024,\n",
      "                                         'width': 1024},\n",
      "                          'name': 'zoo_0'},\n",
      "               'name': 'new_score',\n",
      "               'scoreType': 'model_fitness_score',\n",
      "               'simArg': {'nPts': '100k',\n",
      "                          'name': '100k'}}}\n"
     ]
    }
   ],
   "source": [
    "tParams = tInfo.getImageParams()\n",
    "#gm.pprint(tParams)\n",
    "for key in tParams:\n",
    "    print(key)\n",
    "\n",
    "# Create a new score param in tInfo if needed\n",
    "new_name = 'new_score'\n",
    "new_params = {}\n",
    "\n",
    "# Copy desired starting parameter.\n",
    "new_params[new_name] = deepcopy( tParams['zoo_0'] )\n",
    "new_params[new_name]['name'] = new_name\n",
    "new_params[new_name]['cmpArg']['function_name'] = 'test_compare'\n",
    "gm.pprint(new_params)\n",
    "\n",
    "tInfo.addImageParams(new_params, overWrite = True)\n"
   ]
  },
  {
   "cell_type": "markdown",
   "id": "incorporated-cable",
   "metadata": {},
   "source": [
    "___\n",
    "## Step 5: Load image for comparison\n",
    "Load in the target image and a model image for initial comparison"
   ]
  },
  {
   "cell_type": "code",
   "execution_count": 8,
   "id": "emotional-circular",
   "metadata": {},
   "outputs": [
    {
     "ename": "NameError",
     "evalue": "name 'img2' is not defined",
     "output_type": "error",
     "traceback": [
      "\u001b[0;31m---------------------------------------------------------------------------\u001b[0m",
      "\u001b[0;31mNameError\u001b[0m                                 Traceback (most recent call last)",
      "\u001b[0;32m<ipython-input-8-43e2686ef540>\u001b[0m in \u001b[0;36m<module>\u001b[0;34m\u001b[0m\n\u001b[1;32m      6\u001b[0m \u001b[0mplt\u001b[0m\u001b[0;34m.\u001b[0m\u001b[0mimshow\u001b[0m\u001b[0;34m(\u001b[0m\u001b[0mimg1\u001b[0m\u001b[0;34m,\u001b[0m \u001b[0mcmap\u001b[0m\u001b[0;34m=\u001b[0m\u001b[0;34m'gray'\u001b[0m\u001b[0;34m)\u001b[0m\u001b[0;34m\u001b[0m\u001b[0;34m\u001b[0m\u001b[0m\n\u001b[1;32m      7\u001b[0m \u001b[0mplt\u001b[0m\u001b[0;34m.\u001b[0m\u001b[0msubplot\u001b[0m\u001b[0;34m(\u001b[0m\u001b[0;36m122\u001b[0m\u001b[0;34m)\u001b[0m\u001b[0;34m\u001b[0m\u001b[0;34m\u001b[0m\u001b[0m\n\u001b[0;32m----> 8\u001b[0;31m \u001b[0mplt\u001b[0m\u001b[0;34m.\u001b[0m\u001b[0mimshow\u001b[0m\u001b[0;34m(\u001b[0m\u001b[0mimg2\u001b[0m\u001b[0;34m,\u001b[0m \u001b[0mcmap\u001b[0m\u001b[0;34m=\u001b[0m\u001b[0;34m'gray'\u001b[0m\u001b[0;34m)\u001b[0m\u001b[0;34m\u001b[0m\u001b[0;34m\u001b[0m\u001b[0m\n\u001b[0m",
      "\u001b[0;31mNameError\u001b[0m: name 'img2' is not defined"
     ]
    },
    {
     "data": {
      "image/png": "[encoded data removed]",
      "text/plain": [
       "<Figure size 576x288 with 2 Axes>"
      ]
     },
     "metadata": {
      "needs_background": "light"
     },
     "output_type": "display_data"
    }
   ],
   "source": [
    "img1 = rInfo.getModelImage( new_params['new_score']['imgArg']['name'] )\n",
    "img0 = tInfo.getTargetImage( new_params['new_score']['cmpArg']['targetName'] )\n",
    "\n",
    "plt.figure(figsize=(8,4))\n",
    "plt.subplot(121)\n",
    "plt.imshow(img1, cmap='gray')\n",
    "plt.subplot(122)\n",
    "plt.imshow(img2, cmap='gray')"
   ]
  },
  {
   "cell_type": "markdown",
   "id": "architectural-radiation",
   "metadata": {},
   "source": [
    "___\n",
    "## Step 6: Create the new comparison function!\n",
    "Note: All direct image comparison take 3 arguments\n",
    "- 2x images of the same size\n",
    "- dict of comparison arguments"
   ]
  },
  {
   "cell_type": "code",
   "execution_count": 5,
   "id": "diagnostic-architect",
   "metadata": {},
   "outputs": [
    {
     "name": "stdout",
     "output_type": "stream",
     "text": [
      "0.9419514405092195\n"
     ]
    }
   ],
   "source": [
    "# Test new scoring method on 2 images directly\n",
    "\n",
    "def score_ssim( img1, img2, cmpArg ):\n",
    "    score = -1\n",
    "    score = ssim( img1, img2 )\n",
    "    return score\n",
    "\n",
    "score = score_ssim( img1, img2, None )\n",
    "\n",
    "print(score)"
   ]
  },
  {
   "cell_type": "markdown",
   "id": "through-adoption",
   "metadata": {},
   "source": [
    "___\n",
    "## Step 7: Load new function into direct image module\n",
    "This will allow the existing code to run the function in a standard new score operation."
   ]
  },
  {
   "cell_type": "code",
   "execution_count": 6,
   "id": "ancient-chassis",
   "metadata": {},
   "outputs": [
    {
     "name": "stdout",
     "output_type": "stream",
     "text": [
      "New Score Function:  <function score_ssim at 0x7f1a1d3010d0>\n",
      "NOTE! All should match\n",
      "nb:    <function score_ssim at 0x7f1a1d3010d0>\n",
      "dc:    <function score_ssim at 0x7f1a1d3010d0>\n",
      "ms:    <function score_ssim at 0x7f1a1d3010d0>\n",
      "simr:  <function score_ssim at 0x7f1a1d3010d0>\n"
     ]
    }
   ],
   "source": [
    "# Assign new function to test function in direct image compare\n",
    "dc.set_test_compare(score_ssim)\n",
    "\n",
    "# Check if all modules loaded the same function\n",
    "print(\"NOTE! All should match\")\n",
    "print('nb:   ',score_ssim)\n",
    "print('dc:   ',dc.test_compare)\n",
    "print('ms:   ',ms.dc.test_compare)\n",
    "print('simr: ',simr.ms.dc.test_compare)\n"
   ]
  },
  {
   "cell_type": "markdown",
   "id": "japanese-producer",
   "metadata": {},
   "source": [
    "___\n",
    "## Step 8: Execute new score operation for a single model.\n",
    "This confirms that the score function operates correcting in the new score pipeline"
   ]
  },
  {
   "cell_type": "code",
   "execution_count": 9,
   "id": "irish-grove",
   "metadata": {},
   "outputs": [
    {
     "name": "stdout",
     "output_type": "stream",
     "text": [
      "SIMR.pipelineRun: Inputs\n",
      "\t - rDir: None\n",
      "\t - rInfo: <class 'Support_Code.info_module.run_info_class'>\n",
      "SIMR.pipelineRun: \n",
      "\t - rInfo:  <Support_Code.info_module.run_info_class object at 0x7f1a29cd74c0>\n",
      "MS: Run:\n",
      "MS: scoreName: new_score\n",
      "MS: target_direct_image_compare: new_score\n",
      "\t -  paramName: new_score\n",
      "\t -  modelName: zoo_0\n",
      "\t - targetName: zoo_0\n",
      "\t - Read target image\n",
      "MS: run: Read model image\n",
      "MS: New Score!: new_score - 0.941951 - 0.941951\n",
      "IM: run_info_class.printScores()\n",
      "\t - run_id: r00000\n",
      "\t - zoo_merger: 0.945946\n",
      "\t - machine_scores: 5\n",
      "\t - zoo_test: 0.843128\n",
      "\t - zoo_0: 0.753202\n",
      "\t - zoo_test_3: 0.828484\n",
      "\t - new_score: 0.941951\n",
      "\t - zoo_2: 0.846133\n"
     ]
    }
   ],
   "source": [
    "newRunScoreArg = gm.inArgClass()\n",
    "newRunScoreArg.setArg( 'rInfo', rInfo )\n",
    "newRunScoreArg.setArg( 'scoreParams', new_params )\n",
    "newRunScoreArg.setArg( 'printAll', True )\n",
    "newRunScoreArg.setArg( 'newScore', True )\n",
    "newRunScoreArg.setArg( 'overWrite', True )\n",
    "\n",
    "simr.simr_run( rInfo = rInfo, arg = newRunScoreArg )\n",
    "rInfo.printScores()"
   ]
  },
  {
   "cell_type": "markdown",
   "id": "unknown-flash",
   "metadata": {},
   "source": [
    "___\n",
    "## Step 9: Execute new score operation for a complete target.\n",
    "Execute the new function for a target and see if it works across many models"
   ]
  },
  {
   "cell_type": "code",
   "execution_count": 19,
   "id": "fleet-stationery",
   "metadata": {
    "tags": []
   },
   "outputs": [
    {
     "name": "stdout",
     "output_type": "stream",
     "text": [
      "SIMR: pipelineTarget: input\n",
      "\t - tDir: None\n",
      "\t - tInfo: <class 'NoneType'>\n",
      "SIMR: simr_target status:\n",
      "\t - tInfo.status: True\n",
      "SIMR: new_target_scores:\n",
      "\t - tInfo: True\n",
      "\t - Scores already exist\n"
     ]
    }
   ],
   "source": [
    "newTarget = gm.inArgClass()\n",
    "newTarget.setArg( 'tInfo', tInfo )\n",
    "newTarget.setArg( 'scoreParams', new_params )\n",
    "newTarget.setArg( 'printAll', False )\n",
    "newTarget.setArg( 'newScore', True )\n",
    "#newTarget.setArg( 'overWrite', True )\n",
    "\n",
    "simr.simr_target( arg=newTarget )"
   ]
  },
  {
   "cell_type": "markdown",
   "id": "choice-tiger",
   "metadata": {},
   "source": [
    "***\n",
    "## Step 10: View results!\n",
    "View if your new method does well or not."
   ]
  },
  {
   "cell_type": "code",
   "execution_count": 20,
   "id": "separated-venture",
   "metadata": {},
   "outputs": [
    {
     "data": {
      "text/plain": [
       "<AxesSubplot:title={'center':'new_score:\\nCorr: -0.1663'}, xlabel='zoo_merger_score', ylabel='new_score'>"
      ]
     },
     "execution_count": 20,
     "metadata": {},
     "output_type": "execute_result"
    },
    {
     "data": {
      "image/png": "[encoded data removed]",
      "text/plain": [
       "<Figure size 432x288 with 2 Axes>"
      ]
     },
     "metadata": {
      "needs_background": "light"
     },
     "output_type": "display_data"
    }
   ],
   "source": [
    "scores = tInfo.getScores()\n",
    "sa.getNamedPlot(scores)"
   ]
  },
  {
   "cell_type": "markdown",
   "id": "numerical-foundation",
   "metadata": {},
   "source": [
    "___\n",
    "## Step 11: Add new function to direct_image_comparison.py\n",
    "\n",
    "## Step 12: Rename parameter and save\n",
    "- Create a new dict of the new score parameter\n",
    "    - Parameter name\n",
    "    - cmpMethod name: Match name of function in directory_image_compare\n",
    "   "
   ]
  },
  {
   "cell_type": "code",
   "execution_count": 12,
   "id": "smaller-nylon",
   "metadata": {},
   "outputs": [
    {
     "name": "stdout",
     "output_type": "stream",
     "text": [
      "{'cmpArg': {'cmpMethod': 'ssim'},\n",
      " 'imgArg': {'name': 'default',\n",
      "            'pType': 'default'},\n",
      " 'name': 'base0_ssim',\n",
      " 'scoreType': 'target',\n",
      " 'simArg': {'nPts': '100k',\n",
      "            'name': '100k'},\n",
      " 'targetName': 'zoo'}\n"
     ]
    }
   ],
   "source": [
    "param = deepcopy( new_params['new_score'] )\n",
    "param['name'] = 'base0_ssim'\n",
    "param['cmpArg']['cmpMethod'] = 'ssim'\n",
    "\n",
    "gm.pprint(param)"
   ]
  },
  {
   "cell_type": "markdown",
   "id": "national-dollar",
   "metadata": {},
   "source": [
    "___\n",
    "## Step 13: Save in a score parameter file"
   ]
  },
  {
   "cell_type": "code",
   "execution_count": 13,
   "id": "applied-pixel",
   "metadata": {
    "collapsed": true,
    "jupyter": {
     "outputs_hidden": true
    },
    "tags": []
   },
   "outputs": [
    {
     "name": "stdout",
     "output_type": "stream",
     "text": [
      "/mnt/c/Users/ogden/OneDrive/Desktop/galStuff/galaxyJSPAM/param/base0.json \n",
      "\n",
      "{'base0_bcorr0': {'cmpArg': {'cmpMethod': 'binary_correlation'},\n",
      "                  'imgArg': {'name': 'default',\n",
      "                             'pType': 'default'},\n",
      "                  'name': 'base0_bcorr0',\n",
      "                  'scoreType': 'target',\n",
      "                  'simArg': {'nPts': '100k',\n",
      "                             'name': '100k'},\n",
      "                  'targetName': 'zoo'},\n",
      " 'base0_bcorr1': {'cmpArg': {'cmpMethod': 'binary_correlation',\n",
      "                             'h1': 120,\n",
      "                             'h2': 120},\n",
      "                  'imgArg': {'name': 'default',\n",
      "                             'pType': 'default'},\n",
      "                  'name': 'base0_bcorr1',\n",
      "                  'scoreType': 'target',\n",
      "                  'simArg': {'nPts': '100k',\n",
      "                             'name': '100k'},\n",
      "                  'targetName': 'zoo'},\n",
      " 'base0_bcorr2': {'cmpArg': {'cmpMethod': 'binary_correlation',\n",
      "                             'h1': 50,\n",
      "                             'h2': 100},\n",
      "                  'imgArg': {'name': 'default',\n",
      "                             'pType': 'default'},\n",
      "                  'name': 'base0_bcorr2',\n",
      "                  'scoreType': 'target',\n",
      "                  'simArg': {'nPts': '100k',\n",
      "                             'name': '100k'},\n",
      "                  'targetName': 'zoo'},\n",
      " 'base0_bcorr3': {'cmpArg': {'cmpMethod': 'binary_correlation',\n",
      "                             'h1': 100,\n",
      "                             'h2': 50},\n",
      "                  'imgArg': {'name': 'default',\n",
      "                             'pType': 'default'},\n",
      "                  'name': 'base0_bcorr3',\n",
      "                  'scoreType': 'target',\n",
      "                  'simArg': {'nPts': '100k',\n",
      "                             'name': '100k'},\n",
      "                  'targetName': 'zoo'},\n",
      " 'base0_corr': {'cmpArg': {'cmpMethod': 'correlation'},\n",
      "                'imgArg': {'name': 'default',\n",
      "                           'pType': 'default'},\n",
      "                'name': 'base0_corr',\n",
      "                'scoreType': 'target',\n",
      "                'simArg': {'nPts': '100k',\n",
      "                           'name': '100k'},\n",
      "                'targetName': 'zoo'},\n",
      " 'base0_diff': {'cmpArg': {'cmpMethod': 'absolute_difference'},\n",
      "                'imgArg': {'name': 'default',\n",
      "                           'pType': 'default'},\n",
      "                'name': 'base0_diff',\n",
      "                'scoreType': 'target',\n",
      "                'simArg': {'nPts': '100k',\n",
      "                           'name': '100k'},\n",
      "                'targetName': 'zoo'},\n",
      " 'base0_diff_scale': {'cmpArg': {'cmpMethod': 'absolute_difference_lower_scale'},\n",
      "                      'imgArg': {'name': 'default',\n",
      "                                 'pType': 'default'},\n",
      "                      'name': 'base0_diff_scale',\n",
      "                      'scoreType': 'target',\n",
      "                      'simArg': {'nPts': '100k',\n",
      "                                 'name': '100k'},\n",
      "                      'targetName': 'zoo'},\n",
      " 'base0_diff_scale1': {'cmpArg': {'cmpMethod': 'absolute_difference_lower_scale',\n",
      "                                  'l': 0.5},\n",
      "                       'imgArg': {'name': 'default',\n",
      "                                  'pType': 'default'},\n",
      "                       'name': 'base0_diff_scale1',\n",
      "                       'scoreType': 'target',\n",
      "                       'simArg': {'nPts': '100k',\n",
      "                                  'name': '100k'},\n",
      "                       'targetName': 'zoo'},\n",
      " 'base0_diff_scale2': {'cmpArg': {'cmpMethod': 'absolute_difference_lower_scale',\n",
      "                                  'l': 0.7},\n",
      "                       'imgArg': {'name': 'default',\n",
      "                                  'pType': 'default'},\n",
      "                       'name': 'base0_diff_scale2',\n",
      "                       'scoreType': 'target',\n",
      "                       'simArg': {'nPts': '100k',\n",
      "                                  'name': '100k'},\n",
      "                       'targetName': 'zoo'},\n",
      " 'base0_overlap0': {'cmpArg': {'cmpMethod': 'overlap_fraction'},\n",
      "                    'imgArg': {'name': 'default',\n",
      "                               'pType': 'default'},\n",
      "                    'name': 'base0_overlap0',\n",
      "                    'scoreType': 'target',\n",
      "                    'simArg': {'nPts': '100k',\n",
      "                               'name': '100k'},\n",
      "                    'targetName': 'zoo'},\n",
      " 'base0_overlap1': {'cmpArg': {'cmpMethod': 'overlap_fraction',\n",
      "                               'h1': 120,\n",
      "                               'h2': 120},\n",
      "                    'imgArg': {'name': 'default',\n",
      "                               'pType': 'default'},\n",
      "                    'name': 'base0_overlap1',\n",
      "                    'scoreType': 'target',\n",
      "                    'simArg': {'nPts': '100k',\n",
      "                               'name': '100k'},\n",
      "                    'targetName': 'zoo'},\n",
      " 'base0_overlap2': {'cmpArg': {'cmpMethod': 'overlap_fraction',\n",
      "                               'h1': 100,\n",
      "                               'h2': 50},\n",
      "                    'imgArg': {'name': 'default',\n",
      "                               'pType': 'default'},\n",
      "                    'name': 'base0_overlap2',\n",
      "                    'scoreType': 'target',\n",
      "                    'simArg': {'nPts': '100k',\n",
      "                               'name': '100k'},\n",
      "                    'targetName': 'zoo'},\n",
      " 'base0_overlap3': {'cmpArg': {'cmpMethod': 'overlap_fraction',\n",
      "                               'h1': 50,\n",
      "                               'h2': 100},\n",
      "                    'imgArg': {'name': 'default',\n",
      "                               'pType': 'default'},\n",
      "                    'name': 'base0_overlap3',\n",
      "                    'scoreType': 'target',\n",
      "                    'simArg': {'nPts': '100k',\n",
      "                               'name': '100k'},\n",
      "                    'targetName': 'zoo'},\n",
      " 'base0_ssim': {'cmpArg': {'cmpMethod': 'ssim'},\n",
      "                'imgArg': {'name': 'default',\n",
      "                           'pType': 'default'},\n",
      "                'name': 'base0_ssim',\n",
      "                'scoreType': 'target',\n",
      "                'simArg': {'nPts': '100k',\n",
      "                           'name': '100k'},\n",
      "                'targetName': 'zoo'}}\n"
     ]
    }
   ],
   "source": [
    "# Load existing score parameter file\n",
    "pLoc = gm.validPath('../param/base0.json')\n",
    "print(pLoc,'\\n')\n",
    "baseParamClass = im.group_score_parameter_class(pLoc = pLoc)\n",
    "\n",
    "#gm.pprint(baseParams)\n",
    "\n",
    "# Add new score parameter to dict\n",
    "baseParamClass.group[ param['name'] ] = param\n",
    "gm.pprint(baseParamClass.group)\n",
    "baseParamClass.saveParam( saveLoc = '../param/base0.json' )\n"
   ]
  },
  {
   "cell_type": "markdown",
   "id": "alpha-brazilian",
   "metadata": {},
   "source": [
    "___\n",
    "## Step 14: Have target run the score parameter file you just updated"
   ]
  },
  {
   "cell_type": "code",
   "execution_count": 14,
   "id": "revolutionary-processor",
   "metadata": {},
   "outputs": [
    {
     "name": "stdout",
     "output_type": "stream",
     "text": [
      "SIMR: pipelineTarget: input\n",
      "\t - tDir: None\n",
      "\t - tInfo: <class 'NoneType'>\n",
      "SIMR: simr_target status:\n",
      "\t - tInfo.status: True\n",
      "SIMR: new_target_scores:\n",
      "\t - tInfo: True\n",
      "\t - Runs needing scores: 1293\n",
      "100.0% - 1293 / 1293\t  \n",
      "\n",
      "\n",
      "\n",
      "IM: Target.gatherRunInfos.\n",
      "GM: Printing Input arguments\n",
      "\t- printBase - <class 'bool'> :  True\n",
      "\t- printAll - <class 'bool'> :  False\n",
      "\t- nProc - <class 'int'> :  -1\n",
      "\t- simple - <class 'bool'> :  False\n",
      "\t- runDir - <class 'NoneType'> :  None\n",
      "\t- sdssDir - <class 'NoneType'> :  None\n",
      "\t- targetDir - <class 'NoneType'> :  None\n",
      "\t- dataDir - <class 'NoneType'> :  None\n",
      "\n",
      "0.2% - 3 / 1293\t  \n",
      "0.6% - 8 / 1293\t  \n",
      "100.0% - 1293 / 1293\t  \n",
      "\n",
      "\n",
      "\n",
      "\n",
      "\n",
      "\n",
      "IM: Target.saveInfoFile():\n",
      "\t - Saving target info file...\n",
      "IM: Target.saveInfoFile():\n",
      "\t - Saving target info file...\n",
      "IM: Target.saveInfoFile():\n",
      "\t - Saving target info file...\n"
     ]
    }
   ],
   "source": [
    "newTarget = gm.inArgClass()\n",
    "newTarget.setArg( 'tInfo', tInfo )\n",
    "newTarget.setArg( 'scoreParams', baseParamClass.group )\n",
    "newTarget.setArg( 'printAll', False )\n",
    "newTarget.setArg( 'newScore', True )\n",
    "#newTarget.setArg( 'overWrite', True )\n",
    "\n",
    "#gm.pprint(newTarget.get('scoreParams'))\n",
    "\n",
    "simr.simr_target( arg=newTarget )"
   ]
  },
  {
   "cell_type": "markdown",
   "id": "american-connecticut",
   "metadata": {},
   "source": [
    "___\n",
    "## Step 15: view target results of new score function! Again!"
   ]
  },
  {
   "cell_type": "code",
   "execution_count": 17,
   "id": "organic-validation",
   "metadata": {},
   "outputs": [
    {
     "data": {
      "image/png": "[encoded data removed]",
      "text/plain": [
       "<Figure size 432x288 with 2 Axes>"
      ]
     },
     "metadata": {
      "needs_background": "light"
     },
     "output_type": "display_data"
    }
   ],
   "source": [
    "scores = tInfo.getScores()\n",
    "ax = sa.getNamedPlot(scores, sName = 'base0_ssim' )"
   ]
  },
  {
   "cell_type": "code",
   "execution_count": null,
   "id": "verbal-racing",
   "metadata": {},
   "outputs": [],
   "source": []
  }
 ],
 "metadata": {
  "kernelspec": {
   "display_name": "Python 3",
   "language": "python",
   "name": "python3"
  },
  "language_info": {
   "codemirror_mode": {
    "name": "ipython",
    "version": 3
   },
   "file_extension": ".py",
   "mimetype": "text/x-python",
   "name": "python",
   "nbconvert_exporter": "python",
   "pygments_lexer": "ipython3",
   "version": "3.8.10"
  }
 },
 "nbformat": 4,
 "nbformat_minor": 5
}
