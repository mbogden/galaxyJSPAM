{
 "cells": [
  {
   "cell_type": "code",
   "execution_count": 1,
   "metadata": {},
   "outputs": [
    {
     "name": "stdout",
     "output_type": "stream",
     "text": [
      "SIMR: Hi!  You're in Matthew's main program for all things galaxy collisions\n",
      "GM: Hi!  You're in Matthew's module for generally useful functions and classes\n",
      "IM: Hi!  You're in Matthew Ogden's information module for SPAM\n",
      "IC: Hi!  You're in Matthew's main code for all things image creation.\n",
      "MS: Hi!  You're in Matthew's SIMR module for all things machine scoring images\n",
      "DC: Hi!  You're in direct_image_compare.py\n",
      "SA: Hi!  You're in Matthew's Main program for score analysis!\n"
     ]
    }
   ],
   "source": [
    "# Add python modules\n",
    "import numpy as np\n",
    "import cv2\n",
    "import matplotlib.pyplot as plt\n",
    "from copy import deepcopy\n",
    "\n",
    "# Add parent directory for custom modules\n",
    "from sys import path as sysPath\n",
    "sysPath.append('../')\n",
    "sysPath.append('../Machine_Score/')\n",
    "\n",
    "# Load custom modules that simr has loaded\n",
    "import main_SIMR as simr\n",
    "gm = simr.gm\n",
    "im = simr.im\n",
    "ic = simr.ic\n",
    "ms = simr.ms\n",
    "sa = simr.sa\n",
    "dc = simr.ms.dc\n",
    "\n",
    "simr.test()\n",
    "gm.test()\n",
    "im.test()\n",
    "ic.test()\n",
    "ms.test()\n",
    "dc.test()\n",
    "sa.test()"
   ]
  },
  {
   "cell_type": "code",
   "execution_count": 2,
   "metadata": {},
   "outputs": [
    {
     "name": "stdout",
     "output_type": "stream",
     "text": [
      "Before: '../targetDir' \n",
      "After: '/home/mbo2d/587722984435351614/'\n",
      "Target Good!\n"
     ]
    }
   ],
   "source": [
    "tDir = '../targetDir'\n",
    "print('Before: \\'%s\\' \\nAfter: \\'%s\\'' % (tDir,gm.validPath(tDir) ))\n",
    "tDir = gm.validPath(tDir)\n",
    "\n",
    "tInfo = im.target_info_class( targetDir = tDir, printAll=False)\n",
    "if tInfo.status == False:\n",
    "    print(\"WARNING\")\n",
    "else:\n",
    "    print(\"Target Good!\")"
   ]
  },
  {
   "cell_type": "code",
   "execution_count": 3,
   "metadata": {},
   "outputs": [
    {
     "name": "stdout",
     "output_type": "stream",
     "text": [
      "IM: target_info_class.__init__:\n",
      "\t - targetDir:  ../../targetDir/\n",
      "\t - printBase:  None\n",
      "\t - printAll:  None\n",
      "IM: Target.initTargetDir():\n",
      "\t - targetDir: ../../targetDir/\n",
      "\t - targetDir: (True) /mnt/c/Users/ogden/OneDrive/Desktop/galStuff/targetDir/\n",
      "\t - infoDir: (True) /mnt/c/Users/ogden/OneDrive/Desktop/galStuff/targetDir/information/\n",
      "\t - baseInfoLoc: (True) /mnt/c/Users/ogden/OneDrive/Desktop/galStuff/targetDir/information/base_target_info.json\n",
      "\t - allInfoLoc: (True) /mnt/c/Users/ogden/OneDrive/Desktop/galStuff/targetDir/information/target_info.json\n",
      "\t - zooMergerDir: (True) /mnt/c/Users/ogden/OneDrive/Desktop/galStuff/targetDir/gen000/\n",
      "\t - plotDir: (True) /mnt/c/Users/ogden/OneDrive/Desktop/galStuff/targetDir/plots/\n",
      "IM: Target: Opening target info json\n",
      "IM: run_info_class.__init__\n",
      "\t - runDir:  /mnt/c/Users/ogden/OneDrive/Desktop/galStuff/targetDir/gen000/run_00001/\n",
      "True\n"
     ]
    }
   ],
   "source": [
    "\n",
    "tInfo = im.target_info_class( targetDir = tDir, tArg=tArgs)\n",
    "\n",
    "if tInfo.status == False:\n",
    "    print(\"WARNING!\")\n",
    "\n",
    "scores = tInfo.getScores()\n",
    "#print(scores)\n",
    "\n",
    "rId = '00001'\n",
    "rInfo = tInfo.getRunInfo(rID=rId,)\n",
    "print(rInfo.status)"
   ]
  },
  {
   "cell_type": "code",
   "execution_count": 4,
   "metadata": {},
   "outputs": [
    {
     "name": "stdout",
     "output_type": "stream",
     "text": [
      "/mnt/c/Users/ogden/OneDrive/Desktop/galStuff/dataDir/\n",
      "/mnt/c/Users/ogden/OneDrive/Desktop/galStuff/galaxyJSPAM/param/param_base0_scores.json\n",
      "SIMR.procAllData\n",
      "\t - dataDir: /mnt/c/Users/ogden/OneDrive/Desktop/galStuff/dataDir/\n",
      "Bad Dir : /mnt/c/Users/ogden/OneDrive/Desktop/galStuff/dataDir/New folder\n",
      "Bad Dir : /mnt/c/Users/ogden/OneDrive/Desktop/galStuff/dataDir/runEx\n",
      "Bad Dir : /mnt/c/Users/ogden/OneDrive/Desktop/galStuff/dataDir/sdssEx\n"
     ]
    }
   ],
   "source": [
    "\n",
    "def simr_many_target( arg ):\n",
    "    \n",
    "    from os import listdir\n",
    "    from copy import deepcopy\n",
    "\n",
    "    dataDir   = arg.dataDir\n",
    "    printBase = arg.printBase\n",
    "    printAll  = arg.printAll \n",
    "\n",
    "    if printBase: \n",
    "        print(\"SIMR.procAllData\")\n",
    "        print(\"\\t - dataDir: %s\" % arg.dataDir )\n",
    "    \n",
    "    # Check if valid directory\n",
    "    dataDir = gm.validPath(dataDir)\n",
    "    \n",
    "    if dataDir == None:\n",
    "\n",
    "        if printBase: \n",
    "            print(\"SIMR: WARNING: simr_many_target: Invalid data directory\")\n",
    "            print(\"\\t - dataDir: %s\" % dataDir )\n",
    "            \n",
    "            \n",
    "    # Prep arguments for targets\n",
    "    tArg = deepcopy(arg)\n",
    "    tArg.dataDir = None\n",
    "    \n",
    "    \n",
    "    \n",
    "    # Get list of directories/files and go through\n",
    "    targetList = listdir( dataDir )   # List of items found in folder\n",
    "\n",
    "    for folder in targetList:        \n",
    "        \n",
    "        tArg.targetDir = dataDir + folder        \n",
    "        tInfo = im.target_info_class( tArg=tArg, printBase=False )\n",
    "        \n",
    "        if tInfo.status:\n",
    "            print(\"Good Dir: %s\" % tArg.targetDir )\n",
    "            simr.simr_target( arg = tArg, tInfo = tInfo )\n",
    "        else:\n",
    "            print(\"Bad Dir : %s\" % tArg.targetDir )\n",
    "            \n",
    "\n",
    "# End data dir\n",
    "\n",
    "dataDir = gm.validPath('../../dataDir')\n",
    "print(dataDir)\n",
    "\n",
    "pLoc = gm.validPath('../param/param_base0_scores.json')\n",
    "print(pLoc)\n",
    "\n",
    "args = gm.inArgClass()\n",
    "args.setArg('dataDir',dataDir)\n",
    "args.setArg('paramLoc',pLoc)\n",
    "args.setArg('printAll',False)\n",
    "\n",
    "args.setArg('nProc',3)\n",
    "\n",
    "simr_many_target(arg=args)\n"
   ]
  },
  {
   "cell_type": "code",
   "execution_count": 7,
   "metadata": {},
   "outputs": [
    {
     "name": "stdout",
     "output_type": "stream",
     "text": [
      "SIMR: pipelineTarget: input\n",
      "\t - tDir: ../../targetDir/\n",
      "\t - tInfo: <class 'NoneType'>\n",
      "SIMR: pipelineTarget status:\n",
      "\t - tInfo.status: True\n",
      "Time_per_target:  0.1327610000007553\n"
     ]
    }
   ],
   "source": [
    "import timeit\n",
    "\n",
    "start = timeit.default_timer()\n",
    "\n",
    "simr.simr_target( arg = tArgs )\n",
    "\n",
    "stop = timeit.default_timer()\n",
    "\n",
    "time = (stop - start)\n",
    "\n",
    "print('Time_per_target: ', time) "
   ]
  },
  {
   "cell_type": "code",
   "execution_count": null,
   "metadata": {},
   "outputs": [],
   "source": [
    "print(tInfo.getScores())\n",
    "tInfo.updateScores()\n",
    "print(tInfo.getScores())"
   ]
  },
  {
   "cell_type": "code",
   "execution_count": null,
   "metadata": {},
   "outputs": [],
   "source": []
  }
 ],
 "metadata": {
  "kernelspec": {
   "display_name": "Python 3",
   "language": "python",
   "name": "python3"
  },
  "language_info": {
   "codemirror_mode": {
    "name": "ipython",
    "version": 3
   },
   "file_extension": ".py",
   "mimetype": "text/x-python",
   "name": "python",
   "nbconvert_exporter": "python",
   "pygments_lexer": "ipython3",
   "version": "3.8.5"
  }
 },
 "nbformat": 4,
 "nbformat_minor": 4
}
