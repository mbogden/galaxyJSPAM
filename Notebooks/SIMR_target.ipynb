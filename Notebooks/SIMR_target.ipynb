{
 "cells": [
  {
   "cell_type": "code",
   "execution_count": 5,
   "metadata": {},
   "outputs": [
    {
     "name": "stdout",
     "output_type": "stream",
     "text": [
      "SA: Hi!  You're in Matthew's Main program for score analysis!\n",
      "GM: Hi!  You're in Matthew's module for generally useful functions and classes\n",
      "IM: Hi!  You're in Matthew Ogden's information module for SPAM\n",
      "IC: Hi!  You're in Matthew's main code for all things image creation.\n",
      "MS: Hi!  You're in Matthew's SIMR module for all things machine scoring images\n",
      "DI: Hi!  You're in direct_image_compare.py\n",
      "SIMR: Hi!  You're in Matthew's main program for all things galaxy collisions\n"
     ]
    }
   ],
   "source": [
    "# Add parent directory\n",
    "from sys import path as sysPath\n",
    "sysPath.append('../')\n",
    "\n",
    "# Add custom modules\n",
    "sysPath.append('../Machine_Score/')\n",
    "\n",
    "from Support_Code import general_module as gm\n",
    "from Support_Code import info_module as im\n",
    "from Image_Creator import main_image_creator as ic\n",
    "from Machine_Score import main_machine_score as ms\n",
    "from Machine_Score import direct_image_compare as dc\n",
    "from Score_Analysis import main_score_analysis as sa\n",
    "import main_SIMR as simr\n",
    "\n",
    "# General modules\n",
    "from os import path\n",
    "import numpy as np\n",
    "from matplotlib import pyplot as plt\n",
    "\n",
    "sa.test()\n",
    "gm.test()\n",
    "im.test()\n",
    "ic.test()\n",
    "ms.test()\n",
    "dc.test()\n",
    "simr.test()"
   ]
  },
  {
   "cell_type": "code",
   "execution_count": 4,
   "metadata": {},
   "outputs": [
    {
     "name": "stdout",
     "output_type": "stream",
     "text": [
      "/mnt/c/Users/ogden/OneDrive/Desktop/galStuff/1237678620102623480/\n",
      "/mnt/c/Users/ogden/OneDrive/Desktop/galStuff/galaxyJSPAM/param/base0.json\n"
     ]
    }
   ],
   "source": [
    "tDir = '../../1237678620102623480/'\n",
    "print(gm.validPath(tDir))\n",
    "\n",
    "pLoc = gm.validPath('../param/base0.json')\n",
    "print(pLoc)\n",
    "\n",
    "\n",
    "tArgs = gm.inArgClass()\n",
    "tArgs.setArg('targetDir',tDir)\n",
    "tArgs.setArg('paramLoc',pLoc)\n",
    "tArgs.setArg('printAll',True)\n",
    "\n",
    "tArgs.setArg('nProc',3)\n",
    "\n",
    "tArgs.setArg('newInfo',False)\n",
    "tArgs.setArg('newScore',False)\n",
    "tArgs.setArg('overWrite',False)\n",
    "tArgs.setArg('newRunInfos',False)\n",
    "tArgs.setArg('newRunBase',False)\n",
    "\n"
   ]
  },
  {
   "cell_type": "code",
   "execution_count": 3,
   "metadata": {},
   "outputs": [
    {
     "name": "stdout",
     "output_type": "stream",
     "text": [
      "IM: target_info_class.__init__:\n",
      "\t - targetDir:  ../../targetDir/\n",
      "\t - printBase:  None\n",
      "\t - printAll:  None\n",
      "IM: Target.initTargetDir():\n",
      "\t - targetDir: ../../targetDir/\n",
      "\t - targetDir: (True) /mnt/c/Users/ogden/OneDrive/Desktop/galStuff/targetDir/\n",
      "\t - infoDir: (True) /mnt/c/Users/ogden/OneDrive/Desktop/galStuff/targetDir/information/\n",
      "\t - baseInfoLoc: (True) /mnt/c/Users/ogden/OneDrive/Desktop/galStuff/targetDir/information/base_target_info.json\n",
      "\t - allInfoLoc: (True) /mnt/c/Users/ogden/OneDrive/Desktop/galStuff/targetDir/information/target_info.json\n",
      "\t - zooMergerDir: (True) /mnt/c/Users/ogden/OneDrive/Desktop/galStuff/targetDir/gen000/\n",
      "\t - plotDir: (True) /mnt/c/Users/ogden/OneDrive/Desktop/galStuff/targetDir/plots/\n",
      "IM: Target: Opening target info json\n",
      "IM: run_info_class.__init__\n",
      "\t - runDir:  /mnt/c/Users/ogden/OneDrive/Desktop/galStuff/targetDir/gen000/run_00001/\n",
      "True\n"
     ]
    }
   ],
   "source": [
    "\n",
    "tInfo = im.target_info_class( targetDir = tDir, tArg=tArgs)\n",
    "\n",
    "if tInfo.status == False:\n",
    "    print(\"WARNING!\")\n",
    "\n",
    "scores = tInfo.getScores()\n",
    "#print(scores)\n",
    "\n",
    "rId = '00001'\n",
    "rInfo = tInfo.getRunInfo(rID=rId,)\n",
    "print(rInfo.status)"
   ]
  },
  {
   "cell_type": "code",
   "execution_count": 4,
   "metadata": {},
   "outputs": [
    {
     "name": "stdout",
     "output_type": "stream",
     "text": [
      "/mnt/c/Users/ogden/OneDrive/Desktop/galStuff/dataDir/\n",
      "/mnt/c/Users/ogden/OneDrive/Desktop/galStuff/galaxyJSPAM/param/param_base0_scores.json\n",
      "SIMR.procAllData\n",
      "\t - dataDir: /mnt/c/Users/ogden/OneDrive/Desktop/galStuff/dataDir/\n",
      "Bad Dir : /mnt/c/Users/ogden/OneDrive/Desktop/galStuff/dataDir/New folder\n",
      "Bad Dir : /mnt/c/Users/ogden/OneDrive/Desktop/galStuff/dataDir/runEx\n",
      "Bad Dir : /mnt/c/Users/ogden/OneDrive/Desktop/galStuff/dataDir/sdssEx\n"
     ]
    }
   ],
   "source": [
    "\n",
    "def simr_many_target( arg ):\n",
    "    \n",
    "    from os import listdir\n",
    "    from copy import deepcopy\n",
    "\n",
    "    dataDir   = arg.dataDir\n",
    "    printBase = arg.printBase\n",
    "    printAll  = arg.printAll \n",
    "\n",
    "    if printBase: \n",
    "        print(\"SIMR.procAllData\")\n",
    "        print(\"\\t - dataDir: %s\" % arg.dataDir )\n",
    "    \n",
    "    # Check if valid directory\n",
    "    dataDir = gm.validPath(dataDir)\n",
    "    \n",
    "    if dataDir == None:\n",
    "\n",
    "        if printBase: \n",
    "            print(\"SIMR: WARNING: simr_many_target: Invalid data directory\")\n",
    "            print(\"\\t - dataDir: %s\" % dataDir )\n",
    "            \n",
    "            \n",
    "    # Prep arguments for targets\n",
    "    tArg = deepcopy(arg)\n",
    "    tArg.dataDir = None\n",
    "    \n",
    "    \n",
    "    \n",
    "    # Get list of directories/files and go through\n",
    "    targetList = listdir( dataDir )   # List of items found in folder\n",
    "\n",
    "    for folder in targetList:        \n",
    "        \n",
    "        tArg.targetDir = dataDir + folder        \n",
    "        tInfo = im.target_info_class( tArg=tArg, printBase=False )\n",
    "        \n",
    "        if tInfo.status:\n",
    "            print(\"Good Dir: %s\" % tArg.targetDir )\n",
    "            simr.simr_target( arg = tArg, tInfo = tInfo )\n",
    "        else:\n",
    "            print(\"Bad Dir : %s\" % tArg.targetDir )\n",
    "            \n",
    "\n",
    "# End data dir\n",
    "\n",
    "dataDir = gm.validPath('../../dataDir')\n",
    "print(dataDir)\n",
    "\n",
    "pLoc = gm.validPath('../param/param_base0_scores.json')\n",
    "print(pLoc)\n",
    "\n",
    "args = gm.inArgClass()\n",
    "args.setArg('dataDir',dataDir)\n",
    "args.setArg('paramLoc',pLoc)\n",
    "args.setArg('printAll',False)\n",
    "\n",
    "args.setArg('nProc',3)\n",
    "\n",
    "simr_many_target(arg=args)\n"
   ]
  },
  {
   "cell_type": "code",
   "execution_count": 7,
   "metadata": {},
   "outputs": [
    {
     "name": "stdout",
     "output_type": "stream",
     "text": [
      "SIMR: pipelineTarget: input\n",
      "\t - tDir: ../../targetDir/\n",
      "\t - tInfo: <class 'NoneType'>\n",
      "SIMR: pipelineTarget status:\n",
      "\t - tInfo.status: True\n",
      "Time_per_target:  0.1327610000007553\n"
     ]
    }
   ],
   "source": [
    "import timeit\n",
    "\n",
    "start = timeit.default_timer()\n",
    "\n",
    "simr.simr_target( arg = tArgs )\n",
    "\n",
    "stop = timeit.default_timer()\n",
    "\n",
    "time = (stop - start)\n",
    "\n",
    "print('Time_per_target: ', time) "
   ]
  },
  {
   "cell_type": "code",
   "execution_count": null,
   "metadata": {},
   "outputs": [],
   "source": [
    "print(tInfo.getScores())\n",
    "tInfo.updateScores()\n",
    "print(tInfo.getScores())"
   ]
  },
  {
   "cell_type": "code",
   "execution_count": null,
   "metadata": {},
   "outputs": [],
   "source": []
  }
 ],
 "metadata": {
  "kernelspec": {
   "display_name": "Python 3",
   "language": "python",
   "name": "python3"
  },
  "language_info": {
   "codemirror_mode": {
    "name": "ipython",
    "version": 3
   },
   "file_extension": ".py",
   "mimetype": "text/x-python",
   "name": "python",
   "nbconvert_exporter": "python",
   "pygments_lexer": "ipython3",
   "version": "3.8.5"
  }
 },
 "nbformat": 4,
 "nbformat_minor": 4
}
