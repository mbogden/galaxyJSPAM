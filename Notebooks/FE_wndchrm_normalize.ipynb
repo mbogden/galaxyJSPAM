{
 "cells": [
  {
   "cell_type": "markdown",
   "id": "yellow-supervision",
   "metadata": {},
   "source": [
    "# Working Notebook for creating wndchrm features\n",
    "\n",
    "## Step 1\n",
    "### Load nessecary modules"
   ]
  },
  {
   "cell_type": "code",
   "execution_count": 7,
   "id": "diagnostic-speed",
   "metadata": {},
   "outputs": [
    {
     "name": "stdout",
     "output_type": "stream",
     "text": [
      "SIMR: Hi!  You're in Matthew's main program for all things galaxy collisions\n",
      "GM: Hi!  You're in Matthew's module for generally useful functions and classes\n",
      "IM: Hi!  You're in Matthew's information module for SPAM\n",
      "IC: Hi!  You're in Matthew's main code for all things image creation.\n",
      "FE: Hi!  You're in Matthew's module for extracting feature values from images.\n",
      "MS: Hi!  You're in Matthew's SIMR module for all things machine scoring images\n",
      "DC: Hi!  You're in direct_image_compare.py\n",
      "SA: Hi!  You're in Matthew's Main program for score analysis!\n"
     ]
    }
   ],
   "source": [
    "# Add python modules\n",
    "\n",
    "import numpy as np\n",
    "import pandas as pd\n",
    "import cv2\n",
    "import matplotlib.pyplot as plt\n",
    "from copy import deepcopy\n",
    "\n",
    "# Add parent directory for custom modules\n",
    "from sys import path as sysPath\n",
    "sysPath.append('../')\n",
    "sysPath.append('../Machine_Score/')\n",
    "\n",
    "# Load custom modules that simr has loaded\n",
    "import main_SIMR as simr\n",
    "gm = simr.gm\n",
    "im = simr.im\n",
    "ic = simr.ic\n",
    "fe = simr.fe\n",
    "ms = simr.ms\n",
    "sa = simr.sa\n",
    "dc = simr.ms.dc\n",
    "\n",
    "simr.test()\n",
    "gm.test()\n",
    "im.test()\n",
    "ic.test()\n",
    "fe.test()\n",
    "ms.test()\n",
    "dc.test()\n",
    "sa.test()"
   ]
  },
  {
   "cell_type": "markdown",
   "id": "sharp-desperate",
   "metadata": {},
   "source": [
    "___\n",
    "## Step 2\n",
    "### Load Target Info class\n",
    "Needed for loading the target image and running through models later."
   ]
  },
  {
   "cell_type": "code",
   "execution_count": 2,
   "id": "incorporated-consequence",
   "metadata": {},
   "outputs": [
    {
     "name": "stdout",
     "output_type": "stream",
     "text": [
      "Target Good!: 587722984435351614\n",
      "Run Good!: run_0000\n"
     ]
    }
   ],
   "source": [
    "tDir = '../targetDir'\n",
    "tDir = gm.validPath(tDir)\n",
    "\n",
    "tInfo = im.target_info_class( targetDir = tDir, printAll=False)\n",
    "if tInfo.status == False:\n",
    "    print(\"WARNING: target info class bad\")\n",
    "else:\n",
    "    print(\"Target Good!: %s\" % tInfo.get('target_id'))\n",
    "\n",
    "# Get run info class\n",
    "rInfo = tInfo.getRunInfo( rID='run_0000' )\n",
    "\n",
    "if rInfo.status == False:\n",
    "    print(\"WARNING\")\n",
    "else:\n",
    "    print(\"Run Good!: %s\"%rInfo.get('run_id'))"
   ]
  },
  {
   "cell_type": "markdown",
   "id": "composed-adams",
   "metadata": {},
   "source": [
    "___\n",
    "## Step 4: Create a new image parameter\n"
   ]
  },
  {
   "cell_type": "code",
   "execution_count": 3,
   "id": "simplified-emperor",
   "metadata": {},
   "outputs": [],
   "source": [
    "chimeLoc = './../param/chime_group_1.json'\n",
    "chime_group_1 = gm.readJson( chimeLoc )\n",
    "#gm.pprint(chime_group_1['chime_1'])"
   ]
  },
  {
   "cell_type": "code",
   "execution_count": null,
   "id": "ahead-compact",
   "metadata": {},
   "outputs": [],
   "source": [
    "\n",
    "# Function to collect model wndchrm values and normalize them.\n",
    "def normalize_target_wndchrm( args, tInfo, normDict ):\n",
    "    \n",
    "    printAll = args.printAll\n",
    "    printBase = args.printBase\n",
    "    \n",
    "    if printBase:\n",
    "        print( \"FE: normalize_target_wnchrm.\" )\n",
    "        gm.tabprint( \"tID: %s\" % tInfo.get( 'target_id' ) )\n",
    "        gm.tabprint( \"Normalization Parameters\")\n",
    "        gm.pprint( normDict )\n",
    "\n",
    "\n",
    "fe.normalize_target_wndchrm = normalize_target_wndchrm\n",
    "fe.normalize_target_wndchrm( tArgNormTest, tInfo, norm_wndchrm_all_test )"
   ]
  },
  {
   "cell_type": "code",
   "execution_count": null,
   "id": "raised-korea",
   "metadata": {},
   "outputs": [],
   "source": [
    "tInfo.printAll = True\n",
    "tInfo.gatherRunInfos()\n",
    "print(\"Done\")"
   ]
  },
  {
   "cell_type": "code",
   "execution_count": null,
   "id": "unexpected-sudan",
   "metadata": {},
   "outputs": [],
   "source": []
  }
 ],
 "metadata": {
  "kernelspec": {
   "display_name": "Python 3",
   "language": "python",
   "name": "python3"
  },
  "language_info": {
   "codemirror_mode": {
    "name": "ipython",
    "version": 3
   },
   "file_extension": ".py",
   "mimetype": "text/x-python",
   "name": "python",
   "nbconvert_exporter": "python",
   "pygments_lexer": "ipython3",
   "version": "3.8.5"
  }
 },
 "nbformat": 4,
 "nbformat_minor": 5
}
