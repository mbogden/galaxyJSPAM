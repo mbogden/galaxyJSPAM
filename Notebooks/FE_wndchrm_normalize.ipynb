{
 "cells": [
  {
   "cell_type": "markdown",
   "id": "eligible-variety",
   "metadata": {},
   "source": [
    "# Working Notebook for creating wndchrm features\n",
    "\n",
    "## Step 1\n",
    "### Load nessecary modules"
   ]
  },
  {
   "cell_type": "code",
   "execution_count": 1,
   "id": "institutional-booth",
   "metadata": {},
   "outputs": [
    {
     "name": "stdout",
     "output_type": "stream",
     "text": [
      "SIMR: Hi!  You're in Matthew's main program for all things galaxy collisions\n",
      "GM: Hi!  You're in Matthew's module for generally useful functions and classes\n",
      "IM: Hi!  You're in Matthew's information module for SPAM\n",
      "IC: Hi!  You're in Matthew's main code for all things image creation.\n",
      "FE: Hi!  You're in Matthew's module for extracting feature values from images.\n",
      "MS: Hi!  You're in Matthew's SIMR module for all things machine scoring images\n",
      "DC: Hi!  You're in direct_image_compare.py\n",
      "SA: Hi!  You're in Matthew's Main program for score analysis!\n"
     ]
    }
   ],
   "source": [
    "# Add python modules\n",
    "\n",
    "import numpy as np\n",
    "import pandas as pd\n",
    "import cv2\n",
    "import matplotlib.pyplot as plt\n",
    "from copy import deepcopy\n",
    "\n",
    "# Add parent directory for custom modules\n",
    "from sys import path as sysPath\n",
    "sysPath.append('../')\n",
    "sysPath.append('../Machine_Score/')\n",
    "\n",
    "# Load custom modules that simr has loaded\n",
    "import main_SIMR as simr\n",
    "gm = simr.gm\n",
    "im = simr.im\n",
    "ic = simr.ic\n",
    "fe = simr.fe\n",
    "ms = simr.ms\n",
    "sa = simr.sa\n",
    "dc = simr.ms.dc\n",
    "\n",
    "simr.test()\n",
    "gm.test()\n",
    "im.test()\n",
    "ic.test()\n",
    "fe.test()\n",
    "ms.test()\n",
    "dc.test()\n",
    "sa.test()"
   ]
  },
  {
   "cell_type": "markdown",
   "id": "distinct-guyana",
   "metadata": {},
   "source": [
    "___\n",
    "## Step 2\n",
    "### Load Target Info class\n",
    "Needed for loading the target image and running through models later."
   ]
  },
  {
   "cell_type": "code",
   "execution_count": 2,
   "id": "opened-expense",
   "metadata": {},
   "outputs": [
    {
     "name": "stdout",
     "output_type": "stream",
     "text": [
      "Target Good!: 587722984435351614\n",
      "Run Good!: run_0000\n"
     ]
    }
   ],
   "source": [
    "tDir = '../targetDir'\n",
    "tDir = gm.validPath(tDir)\n",
    "\n",
    "tInfo = im.target_info_class( targetDir = tDir, printAll=False)\n",
    "if tInfo.status == False:\n",
    "    print(\"WARNING: target info class bad\")\n",
    "else:\n",
    "    print(\"Target Good!: %s\" % tInfo.get('target_id'))\n",
    "\n",
    "# Get run info class\n",
    "rInfo = tInfo.getRunInfo( rID='run_0000' )\n",
    "\n",
    "if rInfo.status == False:\n",
    "    print(\"WARNING\")\n",
    "else:\n",
    "    print(\"Run Good!: %s\"%rInfo.get('run_id'))"
   ]
  },
  {
   "cell_type": "code",
   "execution_count": 3,
   "id": "developing-therapist",
   "metadata": {},
   "outputs": [
    {
     "name": "stdout",
     "output_type": "stream",
     "text": [
      "SIMR.pipelineRun: Inputs\n",
      "\t - rDir: None\n",
      "\t - rInfo: <class 'Support_Code.info_module.run_info_class'>\n",
      "SIMR.pipelineRun: \n",
      "\t - rInfo:  <Support_Code.info_module.run_info_class object at 0x7f0cdc199df0>\n",
      "FE: image_creator_run\n",
      "FE: rInfo.status:  True\n",
      "FE: given parameters: 1\n",
      "FE: name/type: chime_0/wndchrm_all\n",
      "FE: wndchrm_run_all: Notebook development\n",
      "FE: wndchrm_run_all: Executing:\n",
      "\t - $ wndchrm train -s /home/mbo2d/587722984435351614/zoo_merger_models/run_0000/wndchrm_files/ /home/mbo2d/587722984435351614/zoo_merger_models/run_0000/wndchrm_files/wndchrm_all.fit\n",
      "FE: wndchrm_run_all: Execution Done\n",
      "\t - Collecting wndchrm all data\n",
      "FE: reorganize_wndchrm_run_data\n",
      "\t - number of features: 1059\n",
      "\t - number of images: 50\n",
      "\t - feature labels head: [ Chebyshev-Fourier Coefficients () [0], Chebyshev-Fourier Coefficients () [1], ... ]\n",
      "\t - feature labels tail: [ ..., Zernike Coefficients (Fourier ()) [70], Zernike Coefficients (Fourier ()) [71] ]\n",
      "\t - Extracted feature values dataframe\n",
      "\t -  head: [ run_id, image_name, zoo_merger_score, Chebyshev-Fourier Coefficients () [0], ... ]\n",
      "\t - feature labels tail: [ ..., Zernike Coefficients (Fourier ()) [70], Zernike Coefficients (Fourier ()) [71] ]\n",
      "\t - Saving wndchrm_all data at: /home/mbo2d/587722984435351614/zoo_merger_models/run_0000/wndchrm_files/wndchrm_all.csv\n",
      "FE_LOOP:   1 /   1 COMPLETE!\n"
     ]
    }
   ],
   "source": [
    "testArg = gm.inArgClass()\n",
    "testArg.setArg('newFeats',True)\n",
    "testArg.setArg('printAll',True)\n",
    "chime_0 = tInfo.readScoreParam('chime_0')\n",
    "testArg.setArg('scoreParams',chime_0)\n",
    "\n",
    "simr.simr_run( arg=testArg, rInfo=rInfo )"
   ]
  },
  {
   "cell_type": "code",
   "execution_count": 4,
   "id": "square-bulgaria",
   "metadata": {},
   "outputs": [
    {
     "name": "stdout",
     "output_type": "stream",
     "text": [
      "255\n"
     ]
    }
   ],
   "source": [
    "imgLoc = rInfo.wndDir + 'chime_0.tiff'\n",
    "\n",
    "img = gm.readImg( imgLoc, toType = None )\n",
    "print(np.amax(img))"
   ]
  },
  {
   "cell_type": "code",
   "execution_count": 5,
   "id": "rotary-joshua",
   "metadata": {},
   "outputs": [],
   "source": [
    "chimeLoc = './../param/chime_group_1.json'\n",
    "chime_group_1 = gm.readJson( chimeLoc )\n",
    "#gm.pprint(chime_group_1['chime_1'])"
   ]
  },
  {
   "cell_type": "code",
   "execution_count": 6,
   "id": "infrared-papua",
   "metadata": {},
   "outputs": [],
   "source": [
    "testArg = gm.inArgClass()\n",
    "testArg.printAll = True"
   ]
  },
  {
   "cell_type": "code",
   "execution_count": 7,
   "id": "nervous-kingston",
   "metadata": {},
   "outputs": [
    {
     "name": "stdout",
     "output_type": "stream",
     "text": [
      "FE: target_collect_wndchrm_all_raw\n",
      "FE: target_collect_wndchrm_all_raw: Loop: 1293 / 1293: Complete!\n",
      "\t - Read 1290 of 1293 wndchrm run files.\n",
      "\t - Final WNDCHRM DataFrame\n",
      "\t - Shape: (63211, 1062)\n",
      "\t - Unique Runs: 1290\n",
      "\t - Unique Image Names: 50\n",
      "\t - Header Length: 1062\n",
      "\t - Headers head: [ run_id, image_name, zoo_merger_score, ... ]\n",
      "\t - Headers tail: [ ... , Zernike Coefficients (Fourier ()) [70], Zernike Coefficients (Fourier ()) [71] ]\n"
     ]
    }
   ],
   "source": [
    "fe.target_collect_wndchrm_all_raw( testArg, tInfo = tInfo )"
   ]
  },
  {
   "cell_type": "code",
   "execution_count": null,
   "id": "conditional-statement",
   "metadata": {},
   "outputs": [],
   "source": []
  },
  {
   "cell_type": "code",
   "execution_count": 9,
   "id": "handled-facial",
   "metadata": {},
   "outputs": [
    {
     "name": "stdout",
     "output_type": "stream",
     "text": [
      "\t - Collecting wndchrm all data\n"
     ]
    }
   ],
   "source": [
    "fe.wndchrm_target_all( gm.inArgClass(), tInfo )"
   ]
  },
  {
   "cell_type": "code",
   "execution_count": null,
   "id": "spectacular-bloom",
   "metadata": {},
   "outputs": [],
   "source": []
  },
  {
   "cell_type": "code",
   "execution_count": 10,
   "id": "russian-organ",
   "metadata": {},
   "outputs": [
    {
     "name": "stdout",
     "output_type": "stream",
     "text": [
      "IM: Target.gatherRunInfos\n",
      "\t - IM: gather_run_info LOOP: 1293 / 1293 COMPLETE\n",
      "IM: Target.saveInfoFile():\n",
      "\t - Saving target info file...\n",
      "Done\n"
     ]
    }
   ],
   "source": [
    "tInfo.printAll = True\n",
    "tInfo.gatherRunInfos()\n",
    "print(\"Done\")"
   ]
  },
  {
   "cell_type": "code",
   "execution_count": null,
   "id": "written-wedding",
   "metadata": {},
   "outputs": [],
   "source": []
  }
 ],
 "metadata": {
  "kernelspec": {
   "display_name": "Python 3",
   "language": "python",
   "name": "python3"
  },
  "language_info": {
   "codemirror_mode": {
    "name": "ipython",
    "version": 3
   },
   "file_extension": ".py",
   "mimetype": "text/x-python",
   "name": "python",
   "nbconvert_exporter": "python",
   "pygments_lexer": "ipython3",
   "version": "3.8.5"
  }
 },
 "nbformat": 4,
 "nbformat_minor": 5
}
