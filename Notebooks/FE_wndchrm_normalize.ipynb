{
 "cells": [
  {
   "cell_type": "markdown",
   "id": "outer-mediterranean",
   "metadata": {},
   "source": [
    "# Working Notebook for creating wndchrm features\n",
    "\n",
    "## Step 1\n",
    "### Load nessecary modules"
   ]
  },
  {
   "cell_type": "code",
   "execution_count": 1,
   "id": "conventional-prerequisite",
   "metadata": {},
   "outputs": [
    {
     "name": "stdout",
     "output_type": "stream",
     "text": [
      "SIMR: Hi!  You're in Matthew's main program for all things galaxy collisions\n",
      "GM: Hi!  You're in Matthew's module for generally useful functions and classes\n",
      "IM: Hi!  You're in Matthew's information module for SPAM\n",
      "IC: Hi!  You're in Matthew's main code for all things image creation.\n",
      "FE: Hi!  You're in Matthew's module for extracting feature values from images.\n",
      "MS: Hi!  You're in Matthew's SIMR module for all things machine scoring images\n",
      "DC: Hi!  You're in direct_image_compare.py\n",
      "SA: Hi!  You're in Matthew's Main program for score analysis!\n"
     ]
    }
   ],
   "source": [
    "# Add python modules\n",
    "\n",
    "import numpy as np\n",
    "import pandas as pd\n",
    "import cv2\n",
    "import matplotlib.pyplot as plt\n",
    "from copy import deepcopy\n",
    "\n",
    "# Add parent directory for custom modules\n",
    "from sys import path as sysPath\n",
    "sysPath.append('../')\n",
    "sysPath.append('../Machine_Score/')\n",
    "\n",
    "# Load custom modules that simr has loaded\n",
    "import main_SIMR as simr\n",
    "gm = simr.gm\n",
    "im = simr.im\n",
    "ic = simr.ic\n",
    "fe = simr.fe\n",
    "ms = simr.ms\n",
    "sa = simr.sa\n",
    "dc = simr.ms.dc\n",
    "\n",
    "simr.test()\n",
    "gm.test()\n",
    "im.test()\n",
    "ic.test()\n",
    "fe.test()\n",
    "ms.test()\n",
    "dc.test()\n",
    "sa.test()"
   ]
  },
  {
   "cell_type": "markdown",
   "id": "accepting-facing",
   "metadata": {},
   "source": [
    "___\n",
    "## Step 2\n",
    "### Load Target Info class\n",
    "Needed for loading the target image and running through models later."
   ]
  },
  {
   "cell_type": "code",
   "execution_count": 2,
   "id": "viral-geneva",
   "metadata": {},
   "outputs": [
    {
     "name": "stdout",
     "output_type": "stream",
     "text": [
      "tDir: /home/mbo2d/587722984435351614/\n",
      "IM: target_info_class.__init__:\n",
      "\t - targetDir:  /home/mbo2d/587722984435351614/\n",
      "\t - arg.targetDir:  None\n",
      "IM: Target.initTargetDir():\n",
      "\t - targetDir: /home/mbo2d/587722984435351614/\n",
      "\t - targetDir: (True) /home/mbo2d/587722984435351614/\n",
      "\t - infoDir: (True) /home/mbo2d/587722984435351614/information/\n",
      "\t - baseInfoLoc: (True) /home/mbo2d/587722984435351614/information/base_target_info.json\n",
      "\t - allInfoLoc: (True) /home/mbo2d/587722984435351614/information/target_info.json\n",
      "\t - zooMergerDir: (True) /home/mbo2d/587722984435351614/zoo_merger_models/\n",
      "\t - plotDir: (True) /home/mbo2d/587722984435351614/plots/\n",
      "IM: Target: Opening target info json\n",
      "Target Good!: 587722984435351614\n",
      "Run Good!: run_0000\n"
     ]
    }
   ],
   "source": [
    "tDir = '../targetDir'\n",
    "tDir = gm.validPath(tDir)\n",
    "print('tDir: %s' % tDir)\n",
    "tInfo = im.target_info_class( targetDir = tDir, printAll=True)\n",
    "if tInfo.status == False:\n",
    "    print(\"WARNING: target info class bad\")\n",
    "else:\n",
    "    print(\"Target Good!: %s\" % tInfo.get('target_id'))\n",
    "\n",
    "# Get run info class\n",
    "rInfo = tInfo.getRunInfo( rID='run_0000' )\n",
    "\n",
    "if rInfo.status == False:\n",
    "    print(\"WARNING\")\n",
    "else:\n",
    "    print(\"Run Good!: %s\"%rInfo.get('run_id'))"
   ]
  },
  {
   "cell_type": "code",
   "execution_count": 3,
   "id": "generous-mineral",
   "metadata": {},
   "outputs": [
    {
     "name": "stdout",
     "output_type": "stream",
     "text": [
      "{'name': 'norm_chime_1', 'image_group': 'chime_group_1', 'normalization_method': 'sklearn_StandardScaler', 'top_models': 500}\n"
     ]
    }
   ],
   "source": [
    "chime_0 = tInfo.readScoreParam( 'chime_0')\n",
    "chime_group_1 = tInfo.readScoreParam( 'chime_group_1')\n",
    "norm_chime_1 = tInfo.readWndchrmNorm( 'norm_chime_1')\n",
    "print(norm_chime_1)"
   ]
  },
  {
   "cell_type": "code",
   "execution_count": 4,
   "id": "allied-visibility",
   "metadata": {},
   "outputs": [],
   "source": [
    "testArg = gm.inArgClass()\n",
    "#testArg.setArg('newFeats',True)\n",
    "#testArg.setArg('newImage',True)\n",
    "testArg.setArg('printAll',True)\n",
    "testArg.setArg( 'scoreParams', chime_group_1 )\n",
    "testArg.setArg( 'normName', 'norm_chime_1' )\n",
    "\n",
    "#testArg.printArg()\n",
    "\n",
    "#simr.simr_run( arg=testArg, rInfo=rInfo )"
   ]
  },
  {
   "cell_type": "code",
   "execution_count": 5,
   "id": "sensitive-locator",
   "metadata": {},
   "outputs": [],
   "source": [
    "\n",
    "# Exploring wndchrm_all features\n",
    "def analyze_wndchrm_dataframe( args, tInfo, ):\n",
    "    \n",
    "    # Grab useful variables\n",
    "    printAll = args.printAll\n",
    "    printBase = args.printBase\n",
    "    normName = args.get('normName', None)\n",
    "    featDF = None\n",
    "    \n",
    "    infoHeaders = tInfo.wndchrmInfoHeaders    \n",
    "    \n",
    "    if printBase:    print(\"FE: analyze_wndchrm_dataframe\")\n",
    "    \n",
    "    # Analysis requires a normalized dataset of the wndchrm features\n",
    "    # Use normalize info to read the right dataframe\n",
    "    if normName == None:\n",
    "        if printBase: \n",
    "            print(\"WARNING: FE: analyze_wndchrm_dataframe\")\n",
    "            gm.tabprint(\"Please provide `-normName file_name`\")\n",
    "        return\n",
    "    \n",
    "    elif type(normName) == type('string'):\n",
    "        \n",
    "        featDF = tInfo.readWndchrmDF( normName )\n",
    "        \n",
    "        # If dataframe read\n",
    "        if type(featDF) == type(pd.DataFrame()):\n",
    "            if printBase:\n",
    "                gm.tabprint(\"Read dataframe: %s\" % normName)\n",
    "                gm.tabprint(\"Dataframe Shape: %s\" % str(featDF.shape))\n",
    "                \n",
    "        # Didn't read a dataframe\n",
    "        else:\n",
    "            if printBase:\n",
    "                print( \"WARNING: FE: analyze_wndchrm_dataframe\" )\n",
    "                gm.tabprint( \"Unable to read dataframe: %s\" % normName)\n",
    "                gm.tabprint( \"Dataframe: %s\" % type(featDF) )\n",
    "            return\n",
    "    \n",
    "    # Seperate into info, scores, and features\n",
    "    infoDF = featDF.filter( infoHeaders, axis=1 )\n",
    "    feats = featDF.drop( infoHeaders, axis=1 ).values\n",
    "    scores = infoDF['zoo_merger_score'].values\n",
    "\n",
    "    # Variance analysis\n",
    "    fe.variance_analysis( feats, args, tInfo )    \n",
    "    \n",
    "#analyze_wndchrm_dataframe( testArg, tInfo )"
   ]
  },
  {
   "cell_type": "code",
   "execution_count": 6,
   "id": "coated-colorado",
   "metadata": {},
   "outputs": [
    {
     "name": "stdout",
     "output_type": "stream",
     "text": [
      "FE: target_apply_filter:\n",
      "\t - Gathering images names to filter\n",
      "\t - Found 48 unique images\n",
      "\t - Reading Normalized WNCHRM Features: norm_chime_1\n",
      "\t - \tStarting Shape: (63213, 1063)\n",
      "\t - Filtering scores by image\n",
      "\t - \tFiltered shape: (61921, 1063)\n",
      "(61921, 1063)\n"
     ]
    }
   ],
   "source": [
    "      \n",
    "\n",
    "df1 = fe.target_apply_filter( testArg, tInfo, )\n",
    "print(df1.shape)"
   ]
  },
  {
   "cell_type": "code",
   "execution_count": null,
   "id": "continued-signature",
   "metadata": {},
   "outputs": [],
   "source": []
  }
 ],
 "metadata": {
  "kernelspec": {
   "display_name": "Python 3",
   "language": "python",
   "name": "python3"
  },
  "language_info": {
   "codemirror_mode": {
    "name": "ipython",
    "version": 3
   },
   "file_extension": ".py",
   "mimetype": "text/x-python",
   "name": "python",
   "nbconvert_exporter": "python",
   "pygments_lexer": "ipython3",
   "version": "3.8.5"
  }
 },
 "nbformat": 4,
 "nbformat_minor": 5
}
