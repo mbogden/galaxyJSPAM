{
 "cells": [
  {
   "cell_type": "markdown",
   "id": "fluid-truth",
   "metadata": {},
   "source": [
    "# Working Notebook for creating wndchrm features\n",
    "\n",
    "## Step 1\n",
    "### Load nessecary modules"
   ]
  },
  {
   "cell_type": "code",
   "execution_count": 1,
   "id": "frozen-usage",
   "metadata": {},
   "outputs": [
    {
     "name": "stdout",
     "output_type": "stream",
     "text": [
      "SIMR: Hi!  You're in Matthew's main program for all things galaxy collisions\n",
      "GM: Hi!  You're in Matthew's module for generally useful functions and classes\n",
      "IM: Hi!  You're in Matthew's information module for SPAM\n",
      "IC: Hi!  You're in Matthew's main code for all things image creation.\n",
      "FE: Hi!  You're in Matthew's module for extracting feature values from images.\n",
      "MS: Hi!  You're in Matthew's SIMR module for all things machine scoring images\n",
      "DC: Hi!  You're in direct_image_compare.py\n",
      "SA: Hi!  You're in Matthew's Main program for score analysis!\n"
     ]
    }
   ],
   "source": [
    "# Add python modules\n",
    "\n",
    "import numpy as np\n",
    "import pandas as pd\n",
    "import cv2\n",
    "import matplotlib.pyplot as plt\n",
    "from copy import deepcopy\n",
    "\n",
    "# Add parent directory for custom modules\n",
    "from sys import path as sysPath\n",
    "sysPath.append('../')\n",
    "sysPath.append('../Machine_Score/')\n",
    "\n",
    "# Load custom modules that simr has loaded\n",
    "import main_SIMR as simr\n",
    "gm = simr.gm\n",
    "im = simr.im\n",
    "ic = simr.ic\n",
    "fe = simr.fe\n",
    "ms = simr.ms\n",
    "sa = simr.sa\n",
    "dc = simr.ms.dc\n",
    "\n",
    "simr.test()\n",
    "gm.test()\n",
    "im.test()\n",
    "ic.test()\n",
    "fe.test()\n",
    "ms.test()\n",
    "dc.test()\n",
    "sa.test()"
   ]
  },
  {
   "cell_type": "markdown",
   "id": "stupid-fraction",
   "metadata": {},
   "source": [
    "___\n",
    "## Step 2\n",
    "### Load Target Info class\n",
    "Needed for loading the target image and running through models later."
   ]
  },
  {
   "cell_type": "code",
   "execution_count": 2,
   "id": "baking-assignment",
   "metadata": {},
   "outputs": [
    {
     "name": "stdout",
     "output_type": "stream",
     "text": [
      "Target Good!: 587722984435351614\n",
      "Run Good!: run_0000\n"
     ]
    }
   ],
   "source": [
    "tDir = '../targetDir'\n",
    "tDir = gm.validPath(tDir)\n",
    "\n",
    "tInfo = im.target_info_class( targetDir = tDir, printAll=False)\n",
    "if tInfo.status == False:\n",
    "    print(\"WARNING: target info class bad\")\n",
    "else:\n",
    "    print(\"Target Good!: %s\" % tInfo.get('target_id'))\n",
    "\n",
    "# Get run info class\n",
    "rInfo = tInfo.getRunInfo( rID='run_0000' )\n",
    "\n",
    "if rInfo.status == False:\n",
    "    print(\"WARNING\")\n",
    "else:\n",
    "    print(\"Run Good!: %s\"%rInfo.get('run_id'))"
   ]
  },
  {
   "cell_type": "markdown",
   "id": "stable-start",
   "metadata": {},
   "source": [
    "___\n",
    "## Step 4: Create a new image parameter\n"
   ]
  },
  {
   "cell_type": "code",
   "execution_count": 3,
   "id": "olympic-voice",
   "metadata": {},
   "outputs": [],
   "source": [
    "chimeLoc = './../param/chime_group_1.json'\n",
    "chime_group_1 = gm.readJson( chimeLoc )\n",
    "#gm.pprint(chime_group_1['chime_1'])"
   ]
  },
  {
   "cell_type": "code",
   "execution_count": 21,
   "id": "heard-frame",
   "metadata": {},
   "outputs": [],
   "source": [
    "runsRaw = pd.read_csv( tInfo.wndRunRawLoc )\n",
    "targetRaw = pd.read_csv( tInfo.wndTargetRawLoc )\n"
   ]
  },
  {
   "cell_type": "code",
   "execution_count": 97,
   "id": "bigger-weekend",
   "metadata": {},
   "outputs": [
    {
     "name": "stdout",
     "output_type": "stream",
     "text": [
      "FE: normalize_target_wnchrm.\n",
      "\t - tID: 587722984435351614\n",
      "\t - Normalization Parameters\n",
      "{'image_group': 'chime_group_1',\n",
      " 'name': 'norm_wndchrm_test',\n",
      " 'normalization_method': 'sklearn_StandardScaler',\n",
      " 'top_models': 500}\n",
      "\t - Target Shape: (1, 1062)\n",
      "\t - Runs Shape: (61921, 1062)\n",
      "\t - top_models: 500\n",
      "\t - Shape top N: (24002, 1063)\n",
      "\t - Shape image group: (24001, 1063)\n",
      "\t - All Raw Shape: (24001, 1063)\n",
      "\t - filtered out: (24000, 1063)\n",
      "\t - info Headers: [ run_id, target_id, image_name, zoo_merger_score ]\n",
      "\t - feat value Shape: (24000, 1059)\n"
     ]
    }
   ],
   "source": [
    "\n",
    "# Function to collect model wndchrm values and normalize them.\n",
    "def normalize_target_wndchrm( args, tInfo, normDict, groupParam = None ):\n",
    "    \n",
    "    printAll = args.printAll\n",
    "    printBase = args.printBase\n",
    "    \n",
    "    if printBase:\n",
    "        print( \"FE: normalize_target_wnchrm.\" )\n",
    "        gm.tabprint( \"tID: %s\" % tInfo.get( 'target_id' ) )\n",
    "        gm.tabprint( \"Normalization Parameters\")\n",
    "        gm.pprint( normDict )\n",
    "        \n",
    "    # Useful variables\n",
    "    \n",
    "    infoHeaders = [ 'run_id', 'target_id', 'image_name', 'zoo_merger_score' ]\n",
    "        \n",
    "    # Remove quotes later\n",
    "    '''\n",
    "    # target_collect_wndchrm_all_raw( args, tInfo )\n",
    "    # runsRaw = pd.read_csv( tInfo.wndRunRawLoc )\n",
    "    # targetRaw = pd.read_csv( tInfo.wndTargetRawLoc )\n",
    "    '''\n",
    "    \n",
    "    if printAll:\n",
    "        gm.tabprint( 'Target Shape: %s' % str( targetRaw.shape ) )\n",
    "        gm.tabprint( 'Runs Shape: %s' % str( runsRaw.shape ) )\n",
    "    \n",
    "    \n",
    "    # Combine top N models and target \n",
    "    if normDict.get( 'top_models', None) != None:\n",
    "        \n",
    "        topN = int( normDict['top_models'] )\n",
    "        \n",
    "        if printAll:\n",
    "            gm.tabprint( 'top_models: %d' % topN )\n",
    "        \n",
    "        # Grab names of top N models\n",
    "        # assume run_id is listed in alphanumerical order of best.  This will likely change later\n",
    "        runIDList = list(runsRaw['run_id'].unique())[0:topN]\n",
    "        \n",
    "        topRunRaw = runsRaw[ runsRaw['run_id'].isin(runIDList) ]\n",
    "        \n",
    "        allRaw = pd.concat( [ topRunRaw, targetRaw ] )\n",
    "        \n",
    "        if printAll: gm.tabprint(\"Shape top N: %s\" % str( allRaw.shape ) )\n",
    "    \n",
    "    # Combine all models and target.\n",
    "    else:\n",
    "        allRaw = pd.concat( [ runsRaw, targetRaw ] )\n",
    "         \n",
    "    \n",
    "    # Extract only images from image_group\n",
    "    if groupParam != None:\n",
    "        imgNameList = [ groupParam[pKey]['imgArg']['name'] for pKey in groupParam ]\n",
    "        allRaw = allRaw[ allRaw['image_name'].isin(imgNameList) ]\n",
    "        \n",
    "        if printAll:    gm.tabprint(\"Shape image group: %s\" % str( allRaw.shape ) )\n",
    "    \n",
    "    if printAll:    gm.tabprint('All Raw Shape: %s'%str(allRaw.shape))\n",
    "    \n",
    "    # Headers not in info headers are assumed feature value header names\n",
    "    featHeaders = [ h for h in allRaw if h not in infoHeaders ]\n",
    "\n",
    "    # Remove any rows with nan values in feature headers\n",
    "    filtRaw = allRaw[ ~allRaw[ featHeaders ].isin([np.nan, np.inf, -np.inf]).any(1)]\n",
    "    if printAll:    gm.tabprint('filtered out: %s' % str(filtRaw.shape))\n",
    "        \n",
    "    # Seperate information columns from feature value columns being normalized.\n",
    "    infoDF = filtRaw[ infoHeaders ]\n",
    "    featValues = filtRaw.drop( infoHeaders, axis=1 ).values\n",
    "    \n",
    "    if printAll:\n",
    "        gm.tabprint('info Headers: [ %s ]' % ', '.join(infoHeaders))\n",
    "        gm.tabprint('feat value Shape: %s' % str(featValues.shape ) )\n",
    "    \n",
    "    normMethod = normDict.get( 'normalization_method', 'sklearn_StandardScaler' )\n",
    "    \n",
    "    if normMethod == 'sklearn_StandardScaler':\n",
    "        sc = \n",
    "\n",
    "    \n",
    "# Have Target collect wndchrm values and collect into one file\n",
    "\n",
    "norm_wndchrm_all_test = {}\n",
    "norm_wndchrm_all_test['name'] = 'norm_wndchrm_test'\n",
    "norm_wndchrm_all_test['top_models'] = 500\n",
    "norm_wndchrm_all_test['image_group'] = 'chime_group_1'\n",
    "norm_wndchrm_all_test['normalization_method'] = 'sklearn_StandardScaler'\n",
    "\n",
    "normLoc = '../param/' + norm_wndchrm_all_test['name'] + '.json'\n",
    "gm.saveJson( norm_wndchrm_all_test, normLoc )\n",
    "#gm.pprint( norm_wndchrm_all_test )\n",
    "\n",
    "tArg = gm.inArgClass()\n",
    "tArg.printAll = True\n",
    "\n",
    "normalize_target_wndchrm( tArg, tInfo, norm_wndchrm_all_test, groupParam = chime_group_1 )"
   ]
  },
  {
   "cell_type": "code",
   "execution_count": 63,
   "id": "developed-blogger",
   "metadata": {},
   "outputs": [
    {
     "name": "stdout",
     "output_type": "stream",
     "text": [
      "FE: reorganize_wndchrm_target_data\n",
      "\t - number of features: 1059\n",
      "\t - number of images: 1\n",
      "\t - feature labels head: [ Chebyshev-Fourier Coefficients () [0], Chebyshev-Fourier Coefficients () [1], ... ]\n",
      "\t - feature labels tail: [ ..., Zernike Coefficients (Fourier ()) [70], Zernike Coefficients (Fourier ()) [71] ]\n",
      "\t - Extracted feature values dataframe\n",
      "\t -  head: [ target_id, image_name, zoo_merger_score, Chebyshev-Fourier Coefficients () [0], ... ]\n",
      "\t - feature labels tail: [ ..., Zernike Coefficients (Fourier ()) [70], Zernike Coefficients (Fourier ()) [71] ]\n",
      "\t - Saving wndchrm data at: /home/mbo2d/587722984435351614/information/wndchrm_files/targets_raw.csv\n"
     ]
    }
   ],
   "source": [
    "fe.reorganize_wndchrm_target_data( tArg, tInfo,  )"
   ]
  },
  {
   "cell_type": "code",
   "execution_count": 10,
   "id": "noble-strategy",
   "metadata": {},
   "outputs": [
    {
     "name": "stdout",
     "output_type": "stream",
     "text": [
      "\n",
      "IC: Adusting Starting Target Image\n",
      "\n",
      "\t - From points:\n",
      "[[513. 514.]\n",
      " [309. 608.]\n",
      " [607. 718.]]\n",
      "\t - To points:\n",
      "[[33. 50.]\n",
      " [67. 50.]\n",
      " [33. 16.]]\n",
      "\t - Warp Matrix\n",
      "[[-1.37477206e-01  6.33473400e-02  7.09652739e+01]\n",
      " [-6.33473400e-02 -1.37477206e-01  1.53160469e+02]]\n",
      "\t - Writing to loc: /home/mbo2d/587722984435351614/information/target_images/target_chime_img_0.png\n",
      "\t - File should exist: /home/mbo2d/587722984435351614/information/target_images/target_chime_img_0.png\n"
     ]
    },
    {
     "data": {
      "text/plain": [
       "<matplotlib.image.AxesImage at 0x7f2547105820>"
      ]
     },
     "execution_count": 10,
     "metadata": {},
     "output_type": "execute_result"
    },
    {
     "data": {
      "image/png": "[encoded data removed]",
      "text/plain": [
       "<Figure size 432x288 with 1 Axes>"
      ]
     },
     "metadata": {
      "needs_background": "light"
     },
     "output_type": "display_data"
    }
   ],
   "source": [
    "tImg = ic.adjustTargetImage( tInfo, chime_group_1[list(chime_group_1.keys())[0]], printAll=True, wndchrm_image=True )\n",
    "\n",
    "#gm.pprint( chime_group_1[list(chime_group_1.keys())[0]] )\n",
    "plt.imshow( tImg )"
   ]
  },
  {
   "cell_type": "code",
   "execution_count": 8,
   "id": "hispanic-mobility",
   "metadata": {},
   "outputs": [
    {
     "name": "stdout",
     "output_type": "stream",
     "text": [
      "\t - Collecting wndchrm all data\n"
     ]
    }
   ],
   "source": [
    "fe.wndchrm_target_all( gm.inArgClass(), tInfo )"
   ]
  },
  {
   "cell_type": "code",
   "execution_count": 7,
   "id": "working-lighting",
   "metadata": {},
   "outputs": [
    {
     "name": "stdout",
     "output_type": "stream",
     "text": [
      "IM: Target.gatherRunInfos\n",
      "\t - IM: gather_run_info LOOP: 1293 / 1293 COMPLETE\n",
      "IM: Target.saveInfoFile():\n",
      "\t - Saving target info file...\n",
      "Done\n"
     ]
    }
   ],
   "source": [
    "tInfo.printAll = True\n",
    "tInfo.gatherRunInfos()\n",
    "print(\"Done\")"
   ]
  },
  {
   "cell_type": "code",
   "execution_count": null,
   "id": "mysterious-guyana",
   "metadata": {},
   "outputs": [],
   "source": []
  }
 ],
 "metadata": {
  "kernelspec": {
   "display_name": "Python 3",
   "language": "python",
   "name": "python3"
  },
  "language_info": {
   "codemirror_mode": {
    "name": "ipython",
    "version": 3
   },
   "file_extension": ".py",
   "mimetype": "text/x-python",
   "name": "python",
   "nbconvert_exporter": "python",
   "pygments_lexer": "ipython3",
   "version": "3.8.5"
  }
 },
 "nbformat": 4,
 "nbformat_minor": 5
}
