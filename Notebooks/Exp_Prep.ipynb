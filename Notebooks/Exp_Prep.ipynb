{
 "cells": [
  {
   "cell_type": "code",
   "execution_count": 1,
   "id": "suspected-demonstration",
   "metadata": {},
   "outputs": [
    {
     "name": "stdout",
     "output_type": "stream",
     "text": [
      "SA: Hi!  You're in Matthew's Main program for score analysis!\n",
      "GM: Hi!  You're in Matthew's module for generally useful functions and classes\n",
      "IM: Hi!  You're in Matthew's information module for SPAM\n",
      "IC: Hi!  You're in Matthew's main code for all things image creation.\n",
      "MS: Hi!  You're in Matthew's SIMR module for all things machine scoring images\n",
      "DC: Hi!  You're in direct_image_compare.py\n",
      "GA: Hi!  You're in Matthew's main code for all things genetric algorithm.\n",
      "SIMR: Hi!  You're in Matthew's main program for all things galaxy collisions\n"
     ]
    }
   ],
   "source": [
    "# Add parent directory\n",
    "from sys import path as sysPath\n",
    "from os import listdir\n",
    "sysPath.append('../')\n",
    "\n",
    "# Add custom modules\n",
    "sysPath.append('../Machine_Score/')\n",
    "\n",
    "from Support_Code import general_module as gm\n",
    "from Support_Code import info_module as im\n",
    "from Image_Creator import main_image_creator as ic\n",
    "from Machine_Score import main_machine_score as ms\n",
    "from Machine_Score import direct_image_compare as dc\n",
    "from Score_Analysis import main_score_analysis as sa\n",
    "from Genetic_Algorithm import main_Genetic_Algorithm as ga\n",
    "import main_SIMR as simr\n",
    "\n",
    "# General modules\n",
    "from os import path\n",
    "import numpy as np\n",
    "from matplotlib import pyplot as plt\n",
    "import pickle\n",
    "from copy import deepcopy\n",
    "import cv2\n",
    "\n",
    "sa.test()\n",
    "gm.test()\n",
    "im.test()\n",
    "ic.test()\n",
    "ms.test()\n",
    "dc.test()\n",
    "ga.test()\n",
    "simr.test()"
   ]
  },
  {
   "cell_type": "code",
   "execution_count": 3,
   "id": "pressed-allen",
   "metadata": {},
   "outputs": [
    {
     "name": "stdout",
     "output_type": "stream",
     "text": [
      "Target Good!\n",
      "\t - target_id: 587722984435351614\n",
      "Model Good!!!\n",
      "\t - run_id: run_0000\n"
     ]
    }
   ],
   "source": [
    "tDir = '../targetDir'\n",
    "#print('Before: \\'%s\\' \\nAfter: \\'%s\\'' % (tDir,gm.validPath(tDir) ))\n",
    "tDir = gm.validPath(tDir)\n",
    "rInfo = None\n",
    "\n",
    "tInfo = im.target_info_class( targetDir = tDir, printAll=False)\n",
    "if tInfo.status == False:\n",
    "    print(\"WARNING\")\n",
    "else:\n",
    "    print(\"Target Good!\")\n",
    "    gm.tabprint('target_id: %s' % tInfo.get('target_id'))\n",
    "    rInfo = tInfo.getRunInfo()\n",
    "    #print(rInfo)\n",
    "    if type(rInfo) == type(None):\n",
    "        print(\"BAD RUN!!!!\")\n",
    "    else:\n",
    "        print(\"Model Good!!!\")\n",
    "        gm.tabprint( 'run_id: %s' % ( rInfo.get( 'run_id' ) ) )"
   ]
  },
  {
   "cell_type": "markdown",
   "id": "devoted-procurement",
   "metadata": {},
   "source": [
    "# Read older version of experiment"
   ]
  },
  {
   "cell_type": "code",
   "execution_count": 5,
   "id": "logical-binary",
   "metadata": {},
   "outputs": [],
   "source": [
    "old_score = gm.readJson( '../param/exp_2_ms.json')\n",
    "old_ga    = gm.readJson( '../param/exp_2_ga.json')\n",
    "old_arg   = gm.readJson( '../param/exp_2_cmd.json')"
   ]
  },
  {
   "cell_type": "code",
   "execution_count": 11,
   "id": "psychological-messaging",
   "metadata": {},
   "outputs": [
    {
     "name": "stdout",
     "output_type": "stream",
     "text": [
      "********************************************\n",
      "Old Scores\n",
      "{'exp_2_score': {'cmpArg': {'targetName': 'zoo_100x100',\n",
      "                            'type': 'multi_image_compare'},\n",
      "                 'imgArg': {'image_size': {'height': 100,\n",
      "                                           'width': 100},\n",
      "                            'name': 'zoo_100x100',\n",
      "                            'target_base': 'zoo_0',\n",
      "                            'target_resize': True},\n",
      "                 'name': 'exp_2_score',\n",
      "                 'scoreType': 'model_fitness_score',\n",
      "                 'simArg': {'nPts': 4000,\n",
      "                            'name': '4k'}}}\n",
      "********************************************\n",
      "Old GA\n",
      "{'covariance_burn': 2.0,\n",
      " 'covariance_mix_amplitude': [0.3333333333333333,\n",
      "                              3.0],\n",
      " 'covariance_mix_matrix': True,\n",
      " 'covariance_mix_probability': [0.3333333333333333,\n",
      "                                0.3333333333333333,\n",
      "                                0.3333333333333333],\n",
      " 'covariance_scale': 0.05,\n",
      " 'generation_total_number': 200,\n",
      " 'name': 'exp_2_ga',\n",
      " 'parameter_number': 14,\n",
      " 'parameter_to_fit': [2, 3, 4, 5, 6, 8,\n",
      "                      9, 10, 11, 12,\n",
      "                      13],\n",
      " 'phase_number': 4,\n",
      " 'phase_parameter_to_fit': [[4, 5, 10,\n",
      "                             11, 12,\n",
      "                             13],\n",
      "                            [2, 3, 6, 8,\n",
      "                             9]],\n",
      " 'population_initialization_method': 1,\n",
      " 'population_keep': 50,\n",
      " 'population_reseed_ratio': 0.125,\n",
      " 'population_sample_size': 400,\n",
      " 'population_size': 400}\n",
      "********************************************\n",
      "Old Arg\n",
      "{'gaExp': True,\n",
      " 'newInfo': True,\n",
      " 'newTargetImage': True,\n",
      " 'overWrite': True,\n",
      " 'printAll': False}\n",
      "********************************************\n"
     ]
    }
   ],
   "source": [
    "print('********************************************')\n",
    "print('Old Scores')\n",
    "gm.pprint(old_score)\n",
    "print('********************************************')\n",
    "print('Old GA')\n",
    "gm.pprint(old_ga)\n",
    "print('********************************************')\n",
    "print('Old Arg')\n",
    "gm.pprint(old_arg)\n",
    "print('********************************************')"
   ]
  },
  {
   "cell_type": "markdown",
   "id": "artistic-celebration",
   "metadata": {},
   "source": [
    "# Rename and rewrite new parameters"
   ]
  },
  {
   "cell_type": "code",
   "execution_count": 39,
   "id": "indian-transition",
   "metadata": {},
   "outputs": [
    {
     "name": "stdout",
     "output_type": "stream",
     "text": [
      "{'sim2k_zoo100x100_mic': {'cmpArg': {'targetName': 'zoo_100x100',\n",
      "                                     'type': 'multi_image_compare'},\n",
      "                          'imgArg': {'image_size': {'height': 100,\n",
      "                                                    'width': 100},\n",
      "                                     'name': 'zoo_100x100',\n",
      "                                     'target_base': 'zoo_0',\n",
      "                                     'target_resize': True},\n",
      "                          'name': 'sim2k_zoo100x100_mic',\n",
      "                          'scoreType': 'model_fitness_score',\n",
      "                          'simArg': {'nPts': 2000,\n",
      "                                     'name': '2k'}}}\n"
     ]
    }
   ],
   "source": [
    "sName = 'sim2k_zoo100x100_mic'\n",
    "new_score = {}\n",
    "new_score[sName] = deepcopy( old_score[ list(old_score.keys())[0] ] )\n",
    "new_score[sName]['name'] = sName\n",
    "new_score[sName]['simArg']['nPts'] = 2000\n",
    "new_score[sName]['simArg']['name'] = '2k'\n",
    "gm.pprint(new_score)\n",
    "gm.saveJson( new_score, '../param/%s_score.json' % sName, pretty=True )"
   ]
  },
  {
   "cell_type": "code",
   "execution_count": 42,
   "id": "lucky-scott",
   "metadata": {},
   "outputs": [
    {
     "name": "stdout",
     "output_type": "stream",
     "text": [
      "{'covariance_burn': 2.0,\n",
      " 'covariance_mix_amplitude': [0.3333333333333333,\n",
      "                              3.0],\n",
      " 'covariance_mix_matrix': True,\n",
      " 'covariance_mix_probability': [0.3333333333333333,\n",
      "                                0.3333333333333333,\n",
      "                                0.3333333333333333],\n",
      " 'covariance_scale': 0.05,\n",
      " 'generation_total_number': 100,\n",
      " 'name': 'exp_3',\n",
      " 'parameter_number': 14,\n",
      " 'parameter_to_fit': [2, 3, 4, 5, 6, 8,\n",
      "                      9, 10, 11, 12,\n",
      "                      13],\n",
      " 'phase_number': 5,\n",
      " 'phase_parameter_to_fit': [[4, 5, 10,\n",
      "                             11, 12,\n",
      "                             13],\n",
      "                            [2, 3, 6, 8,\n",
      "                             9]],\n",
      " 'population_initialization_method': 1,\n",
      " 'population_keep': 50,\n",
      " 'population_reseed_ratio': 0.125,\n",
      " 'population_sample_size': 400,\n",
      " 'population_size': 400}\n"
     ]
    }
   ],
   "source": [
    "gName = 'exp_3'\n",
    "new_ga = deepcopy( old_ga )\n",
    "new_ga['name'] = gName\n",
    "new_ga['generation_total_number'] = 100\n",
    "new_ga['population_size'] = 400\n",
    "new_ga['population_sample_size'] = 400\n",
    "new_ga['population_keep'] = 50\n",
    "new_ga['phase_number'] = 5\n",
    "gm.pprint(new_ga)\n",
    "gm.saveJson( new_ga, '../param/%s_ga.json' % gName )"
   ]
  },
  {
   "cell_type": "code",
   "execution_count": 34,
   "id": "actual-kentucky",
   "metadata": {},
   "outputs": [
    {
     "name": "stdout",
     "output_type": "stream",
     "text": [
      "Detail keys:  ['name', 'info', 'score_parameters', 'ga_paramters']\n",
      "**************************************************\n",
      "***************   GA Parameters   ****************\n",
      "**************************************************\n",
      "******************************************************\n",
      "***************  Scoring Parameters   ****************\n",
      "******************************************************\n",
      "{'exp_0_ms': {'cmpArg': {'targetName': 'zoo_test',\n",
      "                         'type': 'multi_image_compare'},\n",
      "              'imgArg': {'blur': {'size': 5,\n",
      "                                  'type': 'gaussian_blur',\n",
      "                                  'weight': 0.75},\n",
      "                         'comment': 'Smaller '\n",
      "                                    'Image '\n",
      "                                    'by '\n",
      "                                    'Matthew.',\n",
      "                         'galaxy_centers': {'px': 20,\n",
      "                                            'py': 20,\n",
      "                                            'sx': 40,\n",
      "                                            'sy': 20},\n",
      "                         'image_size': {'height': 40,\n",
      "                                        'width': 60},\n",
      "                         'name': '60x40_zoo',\n",
      "                         'normalization': {'norm_constant': 2.5,\n",
      "                                           'type': 'type1'},\n",
      "                         'radial_const': [-1.5,\n",
      "                                          -1.5],\n",
      "                         'target_id': '587722984435351614'},\n",
      "              'name': 'exp_0_ms',\n",
      "              'scoreType': 'model_fitness_score',\n",
      "              'simArg': {'nPts': '1000',\n",
      "                         'name': 'exp_0_sim'}}}\n"
     ]
    }
   ],
   "source": [
    "expName = 'exp_0_ga_2022-05-16T11-41-18_'\n",
    "details = gm.readJson( tInfo.tmpDir + expName + 'Details.json' )\n",
    "print('Detail keys: ', list(details.keys()))\n",
    "\n",
    "print(\"**************************************************\")\n",
    "print(\"***************   GA Parameters   ****************\")\n",
    "print(\"**************************************************\")\n",
    "#gm.pprint( details['ga_paramters'] )\n",
    "\n",
    "print(\"******************************************************\")\n",
    "print(\"***************  Scoring Parameters   ****************\")\n",
    "print(\"******************************************************\")\n",
    "gm.pprint( details['score_parameters'] )\n",
    "\n",
    "tInfo.addImageParams( details['score_parameters'] )"
   ]
  },
  {
   "cell_type": "code",
   "execution_count": null,
   "id": "fancy-investigation",
   "metadata": {},
   "outputs": [],
   "source": [
    "new_name = 'exp_3'\n"
   ]
  },
  {
   "cell_type": "code",
   "execution_count": 5,
   "id": "accredited-short",
   "metadata": {},
   "outputs": [
    {
     "name": "stdout",
     "output_type": "stream",
     "text": [
      "{'exp_2_score': {'cmpArg': {'targetName': 'zoo_100x100',\n",
      "                            'type': 'multi_image_compare'},\n",
      "                 'imgArg': {'image_size': {'height': 100,\n",
      "                                           'width': 100},\n",
      "                            'name': 'zoo_100x100',\n",
      "                            'target_base': 'zoo_0',\n",
      "                            'target_resize': True},\n",
      "                 'name': 'exp_2_score',\n",
      "                 'scoreType': 'model_fitness_score',\n",
      "                 'simArg': {'nPts': 4000,\n",
      "                            'name': '4k'}}}\n"
     ]
    }
   ],
   "source": [
    "score_param = {}\n",
    "name = 'exp_2_score'\n",
    "score_param[name] = deepcopy( details['score_parameters']['exp_0_ms'] )\n",
    "score_param[name]['name'] = name\n",
    "\n",
    "score_param[name]['simArg']['name'] = '4k'\n",
    "score_param[name]['simArg']['nPts'] = 4000\n",
    "\n",
    "score_param[name]['imgArg'] = {}\n",
    "score_param[name]['imgArg']['name'] = 'zoo_100x100'\n",
    "score_param[name]['imgArg']['image_size'] = {'width':100,'height':100}\n",
    "score_param[name]['imgArg']['target_resize'] = True\n",
    "score_param[name]['imgArg']['target_base'] = 'zoo_0'\n",
    "\n",
    "score_param[name]['cmpArg']['targetName'] = 'zoo_100x100'\n",
    "\n",
    "gm.pprint(score_param)\n",
    "gm.saveJson( score_param, gm.validPath('../param/') + 'exp_2_ms.json' )"
   ]
  },
  {
   "cell_type": "code",
   "execution_count": 6,
   "id": "offshore-davis",
   "metadata": {},
   "outputs": [],
   "source": [
    "tmp = '''\n",
    "new_param = ic.adjustTargetImage( tInfo, score_param[name], \\\n",
    "                            startingImg = score_param[name]['imgArg']['target_base'], \\\n",
    "                            printAll = False, overWrite = True )\n",
    "if new_param != None:\n",
    "    score_param[name] = new_param\n",
    "gm.pprint(score_param)\n",
    "tImg = tInfo.getTargetImage( score_param[name]['cmpArg']['targetName'] )\n",
    "plt.imshow(tImg)\n",
    "'''"
   ]
  },
  {
   "cell_type": "code",
   "execution_count": 7,
   "id": "graduate-harris",
   "metadata": {},
   "outputs": [],
   "source": [
    "# Have one target do it automatically\n",
    "\n",
    "gaCmd = gm.inArgClass()\n",
    "\n",
    "gaCmd.setArg('printAll', True)\n",
    "gaCmd.setArg('targetDir', '../targetDir/')\n",
    "gaCmd.setArg( 'gaExp', True)\n",
    "gaCmd.setArg( 'gaParamLoc', '../param/ga_param_test.json')\n",
    "gaCmd.setArg( 'scoreParams', score_param )\n",
    "gaCmd.setArg( 'newTargetImage', True)\n",
    "gaCmd.setArg( 'overWrite', True)\n",
    "\n",
    "#test_ga = gm.readJson( '../param/ga_param_test.json')\n",
    "#gm.pprint(test_ga)\n",
    "\n",
    "# Completepy \n",
    "#simr.target_main( gaCmd )"
   ]
  },
  {
   "cell_type": "code",
   "execution_count": 8,
   "id": "promising-calendar",
   "metadata": {
    "tags": []
   },
   "outputs": [],
   "source": [
    "\n",
    "dArg = gm.inArgClass()\n",
    "\n",
    "dArg.setArg( 'printAll', False)\n",
    "dArg.setArg( 'dataDir', '../dataDir/')\n",
    "\n",
    "dArg.setArg( 'gaExp', True)\n",
    "dArg.setArg( 'gaParamLoc', '../param/ga_param_test.json')\n",
    "dArg.setArg( 'scoreParams', score_param )\n",
    "dArg.setArg( 'newTargetImage', True)\n",
    "dArg.setArg( 'overWrite', True)\n",
    "dArg.setArg( 'newInfo', True)\n",
    "\n",
    "#simr.Multi_Target( dArg )"
   ]
  },
  {
   "cell_type": "code",
   "execution_count": 9,
   "id": "correct-milan",
   "metadata": {},
   "outputs": [],
   "source": [
    "exp_base = {}\n",
    "exp_base['printAll'] = False\n",
    "exp_base['newInfo'] = False\n",
    "exp_base['newTargetImage'] = True\n",
    "exp_base['gaExp'] = True\n",
    "exp_base['overWrite'] = True\n",
    "\n",
    "gm.saveJson(exp_base,'../param/exp_2_cmd.json')\n"
   ]
  },
  {
   "cell_type": "code",
   "execution_count": 11,
   "id": "recorded-arcade",
   "metadata": {},
   "outputs": [
    {
     "name": "stdout",
     "output_type": "stream",
     "text": [
      "GA.initialize_ga_parameters\n"
     ]
    }
   ],
   "source": [
    "\n",
    "# end Create_Parameter_Limits\n",
    "ga_param = ga.initialize_ga_parameters( tInfo )"
   ]
  },
  {
   "cell_type": "code",
   "execution_count": null,
   "id": "personal-effort",
   "metadata": {},
   "outputs": [],
   "source": []
  }
 ],
 "metadata": {
  "kernelspec": {
   "display_name": "Python 3",
   "language": "python",
   "name": "python3"
  },
  "language_info": {
   "codemirror_mode": {
    "name": "ipython",
    "version": 3
   },
   "file_extension": ".py",
   "mimetype": "text/x-python",
   "name": "python",
   "nbconvert_exporter": "python",
   "pygments_lexer": "ipython3",
   "version": "3.8.10"
  }
 },
 "nbformat": 4,
 "nbformat_minor": 5
}
