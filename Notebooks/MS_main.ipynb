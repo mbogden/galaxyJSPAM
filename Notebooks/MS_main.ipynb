{
 "cells": [
  {
   "cell_type": "code",
   "execution_count": 1,
   "id": "painted-timer",
   "metadata": {},
   "outputs": [
    {
     "name": "stdout",
     "output_type": "stream",
     "text": [
      "SA: Hi!  You're in Matthew's Main program for score analysis!\n",
      "GM: Hi!  You're in Matthew's module for generally useful functions and classes\n",
      "IM: Hi!  You're in Matthew Ogden's information module for SPAM\n",
      "IC: Hi!  You're in Matthew's main code for all things image creation.\n",
      "MS: Hi!  You're in Matthew's SIMR module for all things machine scoring images\n",
      "DI: Hi!  You're in direct_image_compare.py\n",
      "SIMR: Hi!  You're in Matthew's main program for all things galaxy collisions\n"
     ]
    }
   ],
   "source": [
    "# Add parent directory\n",
    "from sys import path as sysPath\n",
    "sysPath.append('../')\n",
    "\n",
    "# Add custom modules\n",
    "sysPath.append('../Machine_Score/')\n",
    "\n",
    "from Support_Code import general_module as gm\n",
    "from Support_Code import info_module as im\n",
    "from Image_Creator import main_image_creator as ic\n",
    "from Machine_Score import main_machine_score as ms\n",
    "from Machine_Score import direct_image_compare as dc\n",
    "from Score_Analysis import main_score_analysis as sa\n",
    "import main_SIMR as simr\n",
    "\n",
    "# General modules\n",
    "from os import path\n",
    "import numpy as np\n",
    "from matplotlib import pyplot as plt\n",
    "\n",
    "sa.test()\n",
    "gm.test()\n",
    "im.test()\n",
    "ic.test()\n",
    "ms.test()\n",
    "dc.test()\n",
    "simr.test()"
   ]
  },
  {
   "cell_type": "code",
   "execution_count": 2,
   "id": "double-defense",
   "metadata": {},
   "outputs": [
    {
     "name": "stdout",
     "output_type": "stream",
     "text": [
      "IM: target_info_class.__init__:\n",
      "\t - targetDir:  ../../587722984435351614/\n",
      "IM: Target.initTargetDir():\n",
      "\t - targetDir: ../../587722984435351614/\n",
      "NEW PATH EXISTS: /mnt/c/Users/ogden/OneDrive/Desktop/galStuff/587722984435351614/zoo_merger_models/\n",
      "\t - targetDir: (True) /mnt/c/Users/ogden/OneDrive/Desktop/galStuff/587722984435351614/\n",
      "\t - infoDir: (True) /mnt/c/Users/ogden/OneDrive/Desktop/galStuff/587722984435351614/information/\n",
      "\t - baseInfoLoc: (True) /mnt/c/Users/ogden/OneDrive/Desktop/galStuff/587722984435351614/information/base_target_info.json\n",
      "\t - allInfoLoc: (True) /mnt/c/Users/ogden/OneDrive/Desktop/galStuff/587722984435351614/information/target_info.json\n",
      "\t - zooMergerDir: (True) /mnt/c/Users/ogden/OneDrive/Desktop/galStuff/587722984435351614/zoo_merger_models/\n",
      "\t - plotDir: (True) /mnt/c/Users/ogden/OneDrive/Desktop/galStuff/587722984435351614/plots/\n",
      "IM: Target: Opening target info json\n",
      "Target Good!\n"
     ]
    }
   ],
   "source": [
    "#tDir = '/home/mbo2d/galStuff/spam_data_pl3/587722984435351614/' \n",
    "#tDir = '../../targetDir/'\n",
    "#tDir = '../../1237678620102623480/'\n",
    "tDir = '../../587722984435351614/'\n",
    "\n",
    "tInfo = im.target_info_class( targetDir = tDir, printAll=True)\n",
    "\n",
    "if tInfo.status == False:\n",
    "    print(\"WARNING\")\n",
    "else:\n",
    "    print(\"Target Good!\")"
   ]
  },
  {
   "cell_type": "code",
   "execution_count": 3,
   "id": "important-supervision",
   "metadata": {},
   "outputs": [
    {
     "name": "stdout",
     "output_type": "stream",
     "text": [
      "None\n",
      "IM: run_info_class.__init__\n",
      "\t - runDir:  /mnt/c/Users/ogden/OneDrive/Desktop/galStuff/587722984435351614/zoo_merger_models/run_00001/\n",
      "IM: run.initRunDir\n",
      "\t - runDir: /mnt/c/Users/ogden/OneDrive/Desktop/galStuff/587722984435351614/zoo_merger_models/run_00001/\n",
      "\t - runDir: (True) /mnt/c/Users/ogden/OneDrive/Desktop/galStuff/587722984435351614/zoo_merger_models/run_00001/\n",
      "\t - ptsDir: (True) /mnt/c/Users/ogden/OneDrive/Desktop/galStuff/587722984435351614/zoo_merger_models/run_00001/particle_files/\n",
      "\t - imgDir: (True) /mnt/c/Users/ogden/OneDrive/Desktop/galStuff/587722984435351614/zoo_merger_models/run_00001/model_images/\n",
      "\t - miscDir: (True) /mnt/c/Users/ogden/OneDrive/Desktop/galStuff/587722984435351614/zoo_merger_models/run_00001/misc_images/\n",
      "\t - infoLoc: (True) /mnt/c/Users/ogden/OneDrive/Desktop/galStuff/587722984435351614/zoo_merger_models/run_00001/info.json\n",
      "\t - baseLoc: (True) /mnt/c/Users/ogden/OneDrive/Desktop/galStuff/587722984435351614/zoo_merger_models/run_00001/base_info.json\n",
      "\t - Reading Info file.\n",
      "IM: Run.__init__: Initalized: True\n",
      "Run 'r00001' Good!\n"
     ]
    }
   ],
   "source": [
    "\n",
    "print(tInfo.get('zoo_merger_models').get('00001'))\n",
    "\n",
    "rId = 'r00001'\n",
    "runArg = gm.inArgClass()\n",
    "runArg.setArg(\"printAll\",True)\n",
    "\n",
    "rInfo = tInfo.getRunInfo( rID=rId, rArg = runArg)\n",
    "rInfo.tInfo = tInfo\n",
    "\n",
    "if rInfo.status == False:\n",
    "    print(\"WARNING\")\n",
    "else:\n",
    "    print(\"Run '%s' Good!\"%rInfo.get('run_id'))"
   ]
  },
  {
   "cell_type": "code",
   "execution_count": 4,
   "id": "continent-agenda",
   "metadata": {},
   "outputs": [
    {
     "name": "stdout",
     "output_type": "stream",
     "text": [
      "/mnt/c/Users/ogden/OneDrive/Desktop/galStuff/galaxyJSPAM/param/start_param.json \n",
      "\n",
      "{'base_perturbation': {'cmpArg': {'cmpMethod': 'correlation'},\n",
      "                       'imgArg': {'name': 'default',\n",
      "                                  'pType': 'default'},\n",
      "                       'name': 'base_perturbation',\n",
      "                       'scoreType': 'perturbation',\n",
      "                       'simArg': {'nPts': '100k',\n",
      "                                  'name': '100k'}},\n",
      " 'base_score': {'cmpArg': {'cmpMethod': 'correlation'},\n",
      "                'imgArg': {'name': 'default',\n",
      "                           'pType': 'default'},\n",
      "                'name': 'base_score',\n",
      "                'scoreType': 'target',\n",
      "                'simArg': {'nPts': '100k',\n",
      "                           'name': '100k'},\n",
      "                'targetName': 'zoo'}}\n",
      "\n",
      "\n",
      "Good Starting Parameters!\n"
     ]
    }
   ],
   "source": [
    "pLoc = gm.validPath('../param/start_param.json')\n",
    "print(pLoc,'\\n')\n",
    "startParams = im.group_score_parameter_class(pLoc = pLoc)\n",
    "\n",
    "if startParams.status:\n",
    "    params = startParams.group\n",
    "    gm.pprint(params)\n",
    "    print('\\n')\n",
    "    print(\"Good Starting Parameters!\")\n",
    "else:\n",
    "    print(\"NOOOOOO\")\n"
   ]
  },
  {
   "cell_type": "code",
   "execution_count": 5,
   "id": "democratic-excitement",
   "metadata": {},
   "outputs": [
    {
     "name": "stdout",
     "output_type": "stream",
     "text": [
      "SIMR.pipelineRun: Inputs\n",
      "\t - rDir: None\n",
      "\t - rInfo: <class 'NoneType'>\n",
      "IM: run_info_class.__init__\n",
      "\t - runDir:  None\n",
      "IM: WARNING: run_info_class.__init__: Invalid run dir\n",
      "\t - runDir: - None\n",
      "SIMR.pipelineRun: \n",
      "\t - rInfo:  <Support_Code.info_module.run_info_class object at 0x7f1fad52da30>\n",
      "SIMR.pipelineRun: WARNING: runInfo bad\n",
      "\n",
      "\n",
      "{'base0_bcorr0': 0.6641861873885665,\n",
      " 'base0_bcorr1': 0.5711423657294602,\n",
      " 'base0_bcorr2': 0.6404602265891284,\n",
      " 'base0_bcorr3': 0.6404418317056928,\n",
      " 'base0_corr': 0.7376331544200321,\n",
      " 'base0_diff': 0.9468803106569776,\n",
      " 'base0_diff_scale': 0.4688031065697763,\n",
      " 'base0_diff_scale1': 0.8937606213139553,\n",
      " 'base0_diff_scale2': 0.8229343688565922,\n",
      " 'base0_overlap0': 0.5054912919157786,\n",
      " 'base0_overlap1': 0.3655356644471911,\n",
      " 'base0_overlap2': 0.4603863940468086,\n",
      " 'base0_overlap3': 0.46573162608245133,\n",
      " 'base_perturbation': 0.7167233715191668,\n",
      " 'base_score': 0.7376331544200321}\n"
     ]
    }
   ],
   "source": [
    "def perturbation_compare( rInfo, param, args ):\n",
    "    \n",
    "    printBase = args.printBase\n",
    "    printAll = args.printAll\n",
    "    \n",
    "    # Base info\n",
    "    pName = param['name']\n",
    "    mName = param['imgArg']['name']\n",
    "    \n",
    "    if printBase: print('MS: perturbation_compare: %s'%pName)\n",
    "    \n",
    "    if printAll:\n",
    "        im.tabprint(' paramName: %s'%pName)\n",
    "        im.tabprint(' modelName: %s'%mName)\n",
    "    \n",
    "    # Exit if invalid request\n",
    "    if type(pName) == type(None) and type(mName) == type(None):\n",
    "        if printBase:\n",
    "                print(\"MS: Error: target_image_compare: Bad param given\")\n",
    "        return None\n",
    "    \n",
    "    # GET MODEL IMAGE    \n",
    "    mImg = None\n",
    "    mLoc = None\n",
    "    \n",
    "    # Create dict for storing model images if needed later       \n",
    "    if rInfo.get('modelImg') == None:\n",
    "        rInfo.modelImg = {}\n",
    "        \n",
    "    # Check if in rInfo has model Image already\n",
    "    if type( rInfo.modelImg.get(mName) ) != type(None):\n",
    "        mImg = rInfo.modelImg.get(mName)\n",
    "    \n",
    "    # Else, have rInfo retrieve img location\n",
    "    else:\n",
    "        mImg = rInfo.getModelImg(mName)\n",
    "        rInfo.modelImg[mName] = mImg\n",
    "    \n",
    "    # Check if valid image\n",
    "    if type(mImg) == type(None): \n",
    "        if printBase: \n",
    "            print(\"MS: Error: target_image_compare: failed to load model image\")\n",
    "            gm.tabprint(\"runId: %s\"%rInfo.get('run_id'))\n",
    "            gm.tabprint(\"model: %s\"%mName)\n",
    "        return None\n",
    "        \n",
    "    elif printAll: print(\"MS: perturbation_compare: Read model image: %s\"%mName)\n",
    "        \n",
    "        \n",
    "    # GET INIT IMAGE    \n",
    "    iImg = None\n",
    "    iLoc = None\n",
    "    \n",
    "    # Create dict for storing init images if needed later    \n",
    "    if rInfo.get('initImg') == None:\n",
    "        rInfo.initImg = {}\n",
    "        \n",
    "    # Check if in rInfo has model Image already\n",
    "    if type( rInfo.initImg.get(mName) ) != type(None):\n",
    "        iImg = rInfo.initImg.get(mName)\n",
    "    \n",
    "    # Else, have rInfo retrieve img location\n",
    "    else:\n",
    "        iImg = rInfo.getModelImg(mName,initImg=True)\n",
    "        rInfo.initImg[mName] = iImg\n",
    "        \n",
    "    if type(iImg) == type(None): \n",
    "        if printBase: \n",
    "            print(\"MS: Error: target_image_compare: failed to load init image\")\n",
    "            gm.tabprint(\"runId: %s\"%rInfo.get('run_id'))\n",
    "            gm.tabprint(\"model: %s\"%mName)\n",
    "        return None\n",
    "        \n",
    "    elif printAll: print(\"MS: perturbation_compare: Read init image: %s\"%mName)\n",
    "    \n",
    "    # Create score and add to rInfo\n",
    "    \n",
    "    score = dc.createScore( mImg, iImg, param['cmpArg'] )\n",
    "    newScore = rInfo.addScore( name = pName, score=score )\n",
    "    \n",
    "    return score\n",
    "\n",
    "    \n",
    "ms.set_test_func( perturbation_compare )\n",
    "\n",
    "newScoreArg = gm.inArgClass()\n",
    "newScoreArg.setArg('rInfo',rInfo)\n",
    "newScoreArg.setArg('overWrite',True)\n",
    "newScoreArg.setArg('scoreParams',params)\n",
    "newScoreArg.setArg('printAll',True)\n",
    "#ms.MS_Run( printBase = True, printAll = True, rInfo = rInfo, arg = newScoreArg, params = params )\n",
    "simr.simr_run( arg = newScoreArg, )\n",
    "\n",
    "print('\\n')\n",
    "gm.pprint(rInfo.get('machine_scores'))"
   ]
  },
  {
   "cell_type": "code",
   "execution_count": 6,
   "id": "manual-retirement",
   "metadata": {},
   "outputs": [
    {
     "name": "stdout",
     "output_type": "stream",
     "text": [
      "DONE\n"
     ]
    }
   ],
   "source": [
    "# Run through all of target now\n",
    "\n",
    "newScoreTargetArg = gm.inArgClass()\n",
    "newScoreTargetArg.setArg('tInfo',tInfo)\n",
    "newScoreTargetArg.setArg('overWrite',True)\n",
    "newScoreTargetArg.setArg('scoreParams',params)\n",
    "newScoreTargetArg.setArg('newScore',True)\n",
    "\n",
    "#simr.simr_target(arg=newScoreTargetArg)\n",
    "print('DONE')"
   ]
  },
  {
   "cell_type": "code",
   "execution_count": 7,
   "id": "enormous-purple",
   "metadata": {},
   "outputs": [
    {
     "name": "stdout",
     "output_type": "stream",
     "text": [
      "Hi\n"
     ]
    }
   ],
   "source": [
    "print(\"Hi\")"
   ]
  },
  {
   "cell_type": "code",
   "execution_count": null,
   "id": "eligible-cuisine",
   "metadata": {},
   "outputs": [],
   "source": []
  },
  {
   "cell_type": "code",
   "execution_count": null,
   "id": "objective-batman",
   "metadata": {},
   "outputs": [],
   "source": []
  },
  {
   "cell_type": "code",
   "execution_count": null,
   "id": "abstract-murray",
   "metadata": {},
   "outputs": [],
   "source": []
  }
 ],
 "metadata": {
  "kernelspec": {
   "display_name": "Python 3",
   "language": "python",
   "name": "python3"
  },
  "language_info": {
   "codemirror_mode": {
    "name": "ipython",
    "version": 3
   },
   "file_extension": ".py",
   "mimetype": "text/x-python",
   "name": "python",
   "nbconvert_exporter": "python",
   "pygments_lexer": "ipython3",
   "version": "3.8.5"
  }
 },
 "nbformat": 4,
 "nbformat_minor": 5
}
