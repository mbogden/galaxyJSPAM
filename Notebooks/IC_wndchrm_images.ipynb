{
 "cells": [
  {
   "cell_type": "markdown",
   "id": "auburn-alexander",
   "metadata": {},
   "source": [
    "# Working Notebook for creating wndchrm features\n",
    "\n",
    "## Step 1\n",
    "### Load nessecary modules"
   ]
  },
  {
   "cell_type": "code",
   "execution_count": 1,
   "id": "federal-efficiency",
   "metadata": {},
   "outputs": [
    {
     "name": "stdout",
     "output_type": "stream",
     "text": [
      "SIMR: Hi!  You're in Matthew's main program for all things galaxy collisions\n",
      "GM: Hi!  You're in Matthew's module for generally useful functions and classes\n",
      "IM: Hi!  You're in Matthew's information module for SPAM\n",
      "IC: Hi!  You're in Matthew's main code for all things image creation.\n",
      "FE: Hi!  You're in Matthew's module for extracting feature values from images.\n",
      "MS: Hi!  You're in Matthew's SIMR module for all things machine scoring images\n",
      "DC: Hi!  You're in direct_image_compare.py\n",
      "SA: Hi!  You're in Matthew's Main program for score analysis!\n"
     ]
    }
   ],
   "source": [
    "# Add python modules\n",
    "\n",
    "import numpy as np\n",
    "import cv2\n",
    "import matplotlib.pyplot as plt\n",
    "from copy import deepcopy\n",
    "\n",
    "# Add parent directory for custom modules\n",
    "from sys import path as sysPath\n",
    "sysPath.append('../')\n",
    "sysPath.append('../Machine_Score/')\n",
    "\n",
    "# Load custom modules that simr has loaded\n",
    "import main_SIMR as simr\n",
    "gm = simr.gm\n",
    "im = simr.im\n",
    "ic = simr.ic\n",
    "fe = simr.fe\n",
    "ms = simr.ms\n",
    "sa = simr.sa\n",
    "dc = simr.ms.dc\n",
    "\n",
    "simr.test()\n",
    "gm.test()\n",
    "im.test()\n",
    "ic.test()\n",
    "fe.test()\n",
    "ms.test()\n",
    "dc.test()\n",
    "sa.test()"
   ]
  },
  {
   "cell_type": "markdown",
   "id": "allied-muscle",
   "metadata": {},
   "source": [
    "___\n",
    "## Step 2\n",
    "### Load Target Info class\n",
    "Needed for loading the target image and running through models later."
   ]
  },
  {
   "cell_type": "code",
   "execution_count": 2,
   "id": "instrumental-springer",
   "metadata": {},
   "outputs": [
    {
     "name": "stdout",
     "output_type": "stream",
     "text": [
      "Target Good!\n",
      "Run 'run_0000' Good!\n"
     ]
    }
   ],
   "source": [
    "tDir = '../targetDir'\n",
    "tDir = gm.validPath(tDir)\n",
    "\n",
    "tInfo = im.target_info_class( targetDir = tDir, printAll=False)\n",
    "if tInfo.status == False:\n",
    "    print(\"WARNING: target info class bad\")\n",
    "else:\n",
    "    print(\"Target Good!\")\n",
    "\n",
    "# Get run info class\n",
    "rInfo = tInfo.getRunInfo( rID='run_0000' )\n",
    "\n",
    "if rInfo.status == False:\n",
    "    print(\"WARNING\")\n",
    "else:\n",
    "    print(\"Run '%s' Good!\"%rInfo.get('run_id'))"
   ]
  },
  {
   "cell_type": "markdown",
   "id": "interstate-diesel",
   "metadata": {},
   "source": [
    "___\n",
    "## Step 3\n",
    "### Load a starting image and image parameter for target\n",
    "Loading a previous image allows you to start with the correct image size and pixel centers for an associated target image."
   ]
  },
  {
   "cell_type": "code",
   "execution_count": 3,
   "id": "accomplished-tactics",
   "metadata": {},
   "outputs": [
    {
     "name": "stdout",
     "output_type": "stream",
     "text": [
      "{'cmpArg': {'direct_compare_function': 'absolute_difference',\n",
      "            'targetName': 'zoo_0',\n",
      "            'targetType': 'target_image',\n",
      "            'type': 'direct_image_comparison'},\n",
      " 'comment': 'Starting score parameters '\n",
      "            'file for '\n",
      "            '587722984435351614',\n",
      " 'imgArg': {'comment': 'Starting image '\n",
      "                       'parameters for '\n",
      "                       '587722984435351614',\n",
      "            'galaxy_centers': {'px': 513,\n",
      "                               'py': 514,\n",
      "                               'sx': 309,\n",
      "                               'sy': 608},\n",
      "            'image_size': {'height': 1024,\n",
      "                           'width': 1024},\n",
      "            'name': 'zoo_0'},\n",
      " 'name': 'zoo_0',\n",
      " 'scoreType': 'model_fitness_score',\n",
      " 'simArg': {'nPts': '100k',\n",
      "            'name': '100k'}}\n"
     ]
    },
    {
     "data": {
      "text/plain": [
       "Text(0.5, 1.0, 'Starting Target Image')"
      ]
     },
     "execution_count": 3,
     "metadata": {},
     "output_type": "execute_result"
    },
    {
     "data": {
      "image/png": "[encoded data removed]",
      "text/plain": [
       "<Figure size 432x288 with 1 Axes>"
      ]
     },
     "metadata": {
      "needs_background": "light"
     },
     "output_type": "display_data"
    }
   ],
   "source": [
    "# Change image name if you want to grab a different image parameter\n",
    "old_name = 'zoo_0'\n",
    "old_params = tInfo.getImageParams(  )\n",
    "old_param = old_params[old_name]\n",
    "\n",
    "# This image parameter should have the correct size and pixel centers\n",
    "gm.pprint( old_param )\n",
    "\n",
    "tInfo.addImageParams( old_param, overWrite = True )\n",
    "\n",
    "# Get target image for \n",
    "target_image = tInfo.getTargetImage(old_name)\n",
    "plt.imshow(target_image,cmap='gray')\n",
    "plt.title(\"Starting Target Image\")\n",
    "\n"
   ]
  },
  {
   "cell_type": "markdown",
   "id": "united-transmission",
   "metadata": {},
   "source": [
    "___\n",
    "## Step 4: Create a new image parameter\n"
   ]
  },
  {
   "cell_type": "code",
   "execution_count": 4,
   "id": "constitutional-decimal",
   "metadata": {},
   "outputs": [
    {
     "name": "stdout",
     "output_type": "stream",
     "text": [
      "{'chime_test_param': {'cmpArg': {'direct_compare_function': 'absolute_difference',\n",
      "                                 'targetName': 'chime_test_image_2',\n",
      "                                 'targetType': 'target_image',\n",
      "                                 'type': 'direct_image_comparison'},\n",
      "                      'comment': 'Developing '\n",
      "                                 'initial '\n",
      "                                 'WNDCHRM '\n",
      "                                 'implementation',\n",
      "                      'featArg': {'type': 'wndchrm_all'},\n",
      "                      'imgArg': {'blur': {'size': 5,\n",
      "                                          'type': 'gaussian_blur',\n",
      "                                          'weight': 0.5},\n",
      "                                 'comment': 'Developing '\n",
      "                                            'the '\n",
      "                                            'creation '\n",
      "                                            'process '\n",
      "                                            'for '\n",
      "                                            'new '\n",
      "                                            'wndchrm '\n",
      "                                            'photos',\n",
      "                                 'galaxy_centers': {'px': 33,\n",
      "                                                    'py': 50,\n",
      "                                                    'sx': 67,\n",
      "                                                    'sy': 50},\n",
      "                                 'image_size': {'height': 100,\n",
      "                                                'width': 100},\n",
      "                                 'name': 'chime_test_image_2',\n",
      "                                 'normalization': {'norm_constant': 2.5,\n",
      "                                                   'type': 'type1'},\n",
      "                                 'radial_const': [1.5,\n",
      "                                                  1.5],\n",
      "                                 'type': 'wndchrm'},\n",
      "                      'name': 'chime_test_param',\n",
      "                      'scoreType': 'model_fitness_score',\n",
      "                      'simArg': {'nPts': '100k',\n",
      "                                 'name': '100k'}}}\n"
     ]
    }
   ],
   "source": [
    "# Create a blank group score parameter and copy starting parameters\n",
    "newName = 'chime_test_param'\n",
    "newImgName = 'chime_test_image_2'\n",
    "new_params = {}\n",
    "new_params[newName] = deepcopy( old_param )\n",
    "\n",
    "# ALWAYS modify the names\n",
    "new_params[newName]['name'] = newName\n",
    "new_params[newName]['comment'] = 'Developing initial WNDCHRM implementation'\n",
    "new_params[newName]['imgArg']['name'] = newImgName\n",
    "new_params[newName]['imgArg']['type'] = 'wndchrm'\n",
    "\n",
    "# Leave a comment if its for a specific experiment\n",
    "cmt = 'Developing the creation process for new wndchrm photos'\n",
    "new_params[newName]['imgArg']['comment'] = cmt\n",
    "\n",
    "# If you want to resize the image\n",
    "new_params[newName]['imgArg']['image_size']['width'] = 100\n",
    "new_params[newName]['imgArg']['image_size']['height'] = 100\n",
    "\n",
    "# If you want to change the galaxy centers\n",
    "# Primary Galaxy\n",
    "new_params[newName]['imgArg']['galaxy_centers']['px'] = 33\n",
    "new_params[newName]['imgArg']['galaxy_centers']['py'] = 50\n",
    "# Secondary Galaxy\n",
    "new_params[newName]['imgArg']['galaxy_centers']['sx'] = 67\n",
    "new_params[newName]['imgArg']['galaxy_centers']['sy'] = 50\n",
    "# NOTE!: If image size and/or galaxy centers are modified,\n",
    "#        you'll need to create a new target image to match.\n",
    "new_params[newName]['cmpArg']['targetName'] = newImgName\n",
    "\n",
    "\n",
    "# If you want to modify the image blurring affect\n",
    "new_params[newName]['imgArg']['blur'] = {}\n",
    "new_params[newName]['imgArg']['blur']['type'] = 'gaussian_blur'\n",
    "new_params[newName]['imgArg']['blur']['size'] = 5\n",
    "new_params[newName]['imgArg']['blur']['weight'] = .5\n",
    "\n",
    "\n",
    "# If you want to modify the radial brightness constant\n",
    "pc = 1.5    # primary galaxy\n",
    "sc = 1.5     #secondary galaxy\n",
    "new_params[newName]['imgArg']['radial_const'] = [ pc, sc ]\n",
    "\n",
    "# If you want to modify the final image brightness normalization\n",
    "new_params[newName]['imgArg']['normalization'] = {}\n",
    "new_params[newName]['imgArg']['normalization']['type'] = 'type1'\n",
    "new_params[newName]['imgArg']['normalization']['norm_constant'] = 2.5\n",
    "\n",
    "new_params[newName]['featArg'] = {}\n",
    "new_params[newName]['featArg']['type'] = 'wndchrm_all'\n",
    "\n",
    "gm.pprint(new_params)"
   ]
  },
  {
   "cell_type": "code",
   "execution_count": 15,
   "id": "indirect-tuner",
   "metadata": {},
   "outputs": [
    {
     "name": "stdout",
     "output_type": "stream",
     "text": [
      "\n",
      "IC: Adusting Starting Target Image\n",
      "\n",
      "\t - From points:\n",
      "[[513. 514.]\n",
      " [309. 608.]\n",
      " [607. 718.]]\n",
      "\t - To points:\n",
      "[[33. 50.]\n",
      " [67. 50.]\n",
      " [33. 16.]]\n",
      "\t - Warp Matrix\n",
      "[[-1.37477206e-01  6.33473400e-02  7.09652739e+01]\n",
      " [-6.33473400e-02 -1.37477206e-01  1.53160469e+02]]\n",
      "\t - Writing to loc: /home/mbo2d/587722984435351614/information/target_images/target_chime_test_image_2.png\n",
      "\t - File should exist: /home/mbo2d/587722984435351614/information/target_images/target_chime_test_image_2.png\n"
     ]
    },
    {
     "data": {
      "image/png": "[encoded data removed]",
      "text/plain": [
       "<Figure size 432x288 with 1 Axes>"
      ]
     },
     "metadata": {
      "needs_background": "light"
     },
     "output_type": "display_data"
    }
   ],
   "source": [
    "# Function in Image Creator that modifes\n",
    "# exsiting target images to match new image\n",
    "\n",
    "# Create and return new target image\n",
    "tImg = ic.adjustTargetImage( tInfo, new_params[newName], overWrite=True, printAll = True )\n",
    "\n",
    "tImg2 = tInfo.getTargetImage( newImgName, overwrite=True )\n",
    "\n",
    "if type(tImg2) != type(None):\n",
    "    plt.imshow( gm.float32_to_uint8(tImg2), cmap='gray')\n",
    "\n",
    "else:\n",
    "    print(\"WARNING!  Target image not found\")"
   ]
  },
  {
   "cell_type": "code",
   "execution_count": 5,
   "id": "capital-owner",
   "metadata": {},
   "outputs": [],
   "source": [
    "from os import listdir\n",
    "newLoc = './../param/chime_test.json'\n",
    "gm.saveJson( new_params, newLoc)\n",
    "tmp = gm.readJson( newLoc )\n",
    "#gm.pprint(tmp)"
   ]
  },
  {
   "cell_type": "code",
   "execution_count": 6,
   "id": "confused-natural",
   "metadata": {},
   "outputs": [
    {
     "name": "stdout",
     "output_type": "stream",
     "text": [
      "SIMR.pipelineRun: Inputs\n",
      "\t - rDir: None\n",
      "\t - rInfo: <class 'Support_Code.info_module.run_info_class'>\n",
      "SIMR.pipelineRun: \n",
      "\t - rInfo:  <Support_Code.info_module.run_info_class object at 0x7f71596768e0>\n",
      "FE: image_creator_run\n",
      "FE: rInfo.status:  True\n",
      "FE: given parameters: 1\n",
      "FE: name/type: chime_test_param/wndchrm_all\n",
      "FE_LOOP:   1 /   1 COMPLETE!\n"
     ]
    }
   ],
   "source": [
    "rArg = gm.inArgClass()\n",
    "rArg.printAll = True\n",
    "rArg.setArg( 'rInfo', rInfo )\n",
    "#rArg.setArg( 'newImage', True )\n",
    "rArg.setArg( 'newFeats', True )\n",
    "#rArg.setArg( 'newScore', True )\n",
    "rArg.setArg( 'paramLoc', newLoc )\n",
    "rArg.setArg( 'overWrite', True )\n",
    "\n",
    "simr.simr_run( arg=rArg, rInfo=rInfo)"
   ]
  },
  {
   "cell_type": "code",
   "execution_count": 14,
   "id": "delayed-theta",
   "metadata": {},
   "outputs": [
    {
     "name": "stdout",
     "output_type": "stream",
     "text": [
      "SIMR.pipelineRun: Inputs\n",
      "\t - rDir: None\n",
      "\t - rInfo: <class 'Support_Code.info_module.run_info_class'>\n",
      "SIMR.pipelineRun: \n",
      "\t - rInfo:  <Support_Code.info_module.run_info_class object at 0x7f71596768e0>\n",
      "FE: image_creator_run\n",
      "FE: rInfo.status:  True\n",
      "FE: given parameters: 1\n",
      "FE: name/type: chime_test_param/wndchrm_all\n",
      "FE: wndchrm_all: Notebook development\n",
      "*************** WORKING ***************\n",
      "\t - Run WNDCHRM dir: /home/mbo2d/587722984435351614/zoo_merger_models/run_0000/wndchrm_files/\n",
      "\t - Removing .sig files  WNDCHRM dir\n",
      "FE: wndchrm_all: Executing:\n",
      "\t - $ wndchrm train /home/mbo2d/587722984435351614/zoo_merger_models/run_0000/wndchrm_files/ /home/mbo2d/587722984435351614/zoo_merger_models/run_0000/wndchrm_files/wndchrm_all.fit\n",
      "FE_LOOP:   1 /   1 COMPLETE!\n"
     ]
    }
   ],
   "source": [
    "\n",
    "def wndchrm_all( rInfo, arg, fParam ):\n",
    "    from shutil import which\n",
    "    from os import remove, listdir\n",
    "    import subprocess \n",
    "    \n",
    "    # extract variables\n",
    "    printBase=arg.printBase\n",
    "    printAll=arg.printAll\n",
    "    \n",
    "    if printAll: print(\"FE: wndchrm_all: Notebook development\")\n",
    "        \n",
    "    print( '***'*5 + \" WORKING \" + '***'*5 )\n",
    "    \n",
    "    wndDir = rInfo.get('wndDir')\n",
    "    allLoc = wndDir + 'wndchrm_all.fit'\n",
    "    wndchrm_command = [ 'wndchrm', 'train', wndDir, allLoc ]\n",
    "    \n",
    "    \n",
    "    # If None, assumed wndchrm not installed/in public executable path.\n",
    "    wndchrm_path = which('wndchrm')\n",
    "    if wndchrm_path == None:\n",
    "        print(\"FE: WARNING: WNDCHRM executable not found\")\n",
    "        return \n",
    "    \n",
    "    if printAll: gm.tabprint(\"Run WNDCHRM dir: %s\"%wndDir)\n",
    "    \n",
    "    # If overwriting, remove current files\n",
    "    if arg.get('overWrite',False):\n",
    "        if printAll: gm.tabprint(\"Removing .sig files  WNDCHRM dir\")\n",
    "        \n",
    "        if gm.validPath( allLoc ): remove( allLoc )\n",
    "        \n",
    "        wndFiles = listdir( wndDir )\n",
    "        for name in wndFiles:\n",
    "            if '.sig' in name:\n",
    "                fLoc = wndDir + name\n",
    "                remove( fLoc )\n",
    "    \n",
    "    if printAll:\n",
    "        print(\"FE: wndchrm_all: Executing:\")\n",
    "        gm.tabprint( '$ %s' % ' '.join(wndchrm_command))\n",
    "        \n",
    "    cmd_results = subprocess.run(wndchrm_command)\n",
    "    \n",
    "    if printAll: print(\"FE: wndchrm_all: Execution Done\")\n",
    "    \n",
    "        \n",
    "#fe.set_test_func( wndchrm_all )\n",
    "    \n",
    "simr.simr_run( arg=rArg, rInfo=rInfo)"
   ]
  },
  {
   "cell_type": "markdown",
   "id": "civilian-transaction",
   "metadata": {},
   "source": [
    "___\n",
    "## Step 4.1\n",
    "### Create a new target Image\n",
    "If the size and centers were modified, then create a new target image to match the size and centers\n"
   ]
  },
  {
   "cell_type": "code",
   "execution_count": 8,
   "id": "narrow-dancing",
   "metadata": {},
   "outputs": [
    {
     "data": {
      "text/plain": [
       "<matplotlib.image.AxesImage at 0x7f56d405fbe0>"
      ]
     },
     "execution_count": 8,
     "metadata": {},
     "output_type": "execute_result"
    },
    {
     "data": {
      "image/png": "[encoded data removed]",
      "text/plain": [
       "<Figure size 576x576 with 4 Axes>"
      ]
     },
     "metadata": {
      "needs_background": "light"
     },
     "output_type": "display_data"
    }
   ],
   "source": [
    "# View new model image next to target image\n",
    "fig, ax = plt.subplots(2,2,figsize=(8,8))\n",
    "\n",
    "ax[0,0].set_title(\"Old Target Image\")\n",
    "ax[0,0].imshow( gm.float32_to_uint8( tInfo.getTargetImage( old_param['cmpArg']['targetName']) ), cmap='gray' )\n",
    "#ax[0,0].imshow( tInfo.getTargetImage( old_param['cmpArg']['targetName']) )\n",
    "\n",
    "ax[0,1].set_title(\"Old Model Image\")\n",
    "ax[0,1].imshow( gm.float32_to_uint8( rInfo.getModelImage( old_param['imgArg']['name'] ) ), cmap='gray' )\n",
    "\n",
    "ax[1,0].set_title(\"New Target Image\")\n",
    "ax[1,0].imshow( gm.float32_to_uint8( tInfo.getTargetImage( newImgName ) ), cmap='gray' )\n",
    "\n",
    "ax[1,1].set_title(\"New Model Image\")\n",
    "ax[1,1].imshow( gm.float32_to_uint8( rInfo.getModelImage( newImgName ) ), cmap='gray' )"
   ]
  },
  {
   "cell_type": "markdown",
   "id": "seeing-contrast",
   "metadata": {},
   "source": [
    "___\n",
    "## Step 5\n",
    "### Test if SIMR pipeline can create the new model image!"
   ]
  },
  {
   "cell_type": "code",
   "execution_count": 17,
   "id": "dimensional-warehouse",
   "metadata": {},
   "outputs": [
    {
     "name": "stdout",
     "output_type": "stream",
     "text": [
      "Run 'run_0000' Good!\n",
      "True\n",
      "SIMR.pipelineRun: Inputs\n",
      "\t - rDir: None\n",
      "\t - rInfo: <class 'Support_Code.info_module.run_info_class'>\n",
      "SIMR.pipelineRun: \n",
      "\t - rInfo:  <Support_Code.info_module.run_info_class object at 0x7f71596768e0>\n",
      "IC: image_creator_run\n",
      "IC: rInfo.status:  True\n",
      "WORKING**********************************************\n",
      "MAX:  100\n",
      "FE: image_creator_run\n",
      "FE: rInfo.status:  True\n",
      "*************** WORKING ***************\n",
      "FE_LOOP:   1 /   1 COMPLETE!\n",
      "MS: Run:\n",
      "IM: run_info_class.printScores()\n",
      "\t - run_id: run_0000\n",
      "\t - zoo_merger: 0.9459459459459459\n",
      "\t - machine_scores: 1\n",
      "\t - chime_test_param: 0.980660\n"
     ]
    }
   ],
   "source": [
    "\n",
    "if rInfo.status == False:\n",
    "    print(\"WARNING\")\n",
    "else:\n",
    "    print(\"Run '%s' Good!\"%rInfo.get('run_id'))\n",
    "    print(rInfo.get('tInfo').status)\n",
    "\n",
    "# Define arguments for executing simr\n",
    "newImgArg = gm.inArgClass( )\n",
    "newImgArg.setArg( 'rInfo', rInfo )  # Give rInfo\n",
    "newImgArg.setArg( 'scoreParams', new_params )  # Give new parameter\n",
    "newImgArg.setArg( 'printAll', False )  # Print all if you need to troubleshoot\n",
    "newImgArg.setArg( 'newImage', True )  # Make true if you want new image\n",
    "newImgArg.setArg( 'newFeats', True )\n",
    "newImgArg.setArg( 'newScore', True )  # Make sure it can create a new score as well.\n",
    "newImgArg.setArg( 'overWrite', True )  # Make true if you need to overwrite\n",
    "\n",
    "# Run through simr image creation\n",
    "simr.simr_run( rInfo=rInfo, arg = newImgArg )\n",
    "rInfo.printScores(allScores=True)"
   ]
  },
  {
   "cell_type": "markdown",
   "id": "prescription-violin",
   "metadata": {},
   "source": [
    "___\n",
    "## Step 5.1\n",
    "### View results for the new Model Image!"
   ]
  },
  {
   "cell_type": "code",
   "execution_count": 10,
   "id": "accredited-farming",
   "metadata": {
    "tags": []
   },
   "outputs": [
    {
     "ename": "TypeError",
     "evalue": "Image data of dtype object cannot be converted to float",
     "output_type": "error",
     "traceback": [
      "\u001b[0;31m---------------------------------------------------------------------------\u001b[0m",
      "\u001b[0;31mTypeError\u001b[0m                                 Traceback (most recent call last)",
      "\u001b[0;32m<ipython-input-10-55a595eabdd6>\u001b[0m in \u001b[0;36m<module>\u001b[0;34m\u001b[0m\n\u001b[1;32m     14\u001b[0m \u001b[0;34m\u001b[0m\u001b[0m\n\u001b[1;32m     15\u001b[0m \u001b[0max\u001b[0m\u001b[0;34m[\u001b[0m\u001b[0;36m1\u001b[0m\u001b[0;34m,\u001b[0m\u001b[0;36m1\u001b[0m\u001b[0;34m]\u001b[0m\u001b[0;34m.\u001b[0m\u001b[0mset_title\u001b[0m\u001b[0;34m(\u001b[0m\u001b[0;34m\"New Model Image\"\u001b[0m\u001b[0;34m)\u001b[0m\u001b[0;34m\u001b[0m\u001b[0;34m\u001b[0m\u001b[0m\n\u001b[0;32m---> 16\u001b[0;31m \u001b[0max\u001b[0m\u001b[0;34m[\u001b[0m\u001b[0;36m1\u001b[0m\u001b[0;34m,\u001b[0m\u001b[0;36m1\u001b[0m\u001b[0;34m]\u001b[0m\u001b[0;34m.\u001b[0m\u001b[0mimshow\u001b[0m\u001b[0;34m(\u001b[0m\u001b[0mmImg\u001b[0m\u001b[0;34m,\u001b[0m\u001b[0mcmap\u001b[0m\u001b[0;34m=\u001b[0m\u001b[0;34m'gray'\u001b[0m\u001b[0;34m)\u001b[0m\u001b[0;34m\u001b[0m\u001b[0;34m\u001b[0m\u001b[0m\n\u001b[0m",
      "\u001b[0;32m~/.local/lib/python3.8/site-packages/matplotlib/__init__.py\u001b[0m in \u001b[0;36minner\u001b[0;34m(ax, data, *args, **kwargs)\u001b[0m\n\u001b[1;32m   1350\u001b[0m     \u001b[0;32mdef\u001b[0m \u001b[0minner\u001b[0m\u001b[0;34m(\u001b[0m\u001b[0max\u001b[0m\u001b[0;34m,\u001b[0m \u001b[0;34m*\u001b[0m\u001b[0margs\u001b[0m\u001b[0;34m,\u001b[0m \u001b[0mdata\u001b[0m\u001b[0;34m=\u001b[0m\u001b[0;32mNone\u001b[0m\u001b[0;34m,\u001b[0m \u001b[0;34m**\u001b[0m\u001b[0mkwargs\u001b[0m\u001b[0;34m)\u001b[0m\u001b[0;34m:\u001b[0m\u001b[0;34m\u001b[0m\u001b[0;34m\u001b[0m\u001b[0m\n\u001b[1;32m   1351\u001b[0m         \u001b[0;32mif\u001b[0m \u001b[0mdata\u001b[0m \u001b[0;32mis\u001b[0m \u001b[0;32mNone\u001b[0m\u001b[0;34m:\u001b[0m\u001b[0;34m\u001b[0m\u001b[0;34m\u001b[0m\u001b[0m\n\u001b[0;32m-> 1352\u001b[0;31m             \u001b[0;32mreturn\u001b[0m \u001b[0mfunc\u001b[0m\u001b[0;34m(\u001b[0m\u001b[0max\u001b[0m\u001b[0;34m,\u001b[0m \u001b[0;34m*\u001b[0m\u001b[0mmap\u001b[0m\u001b[0;34m(\u001b[0m\u001b[0msanitize_sequence\u001b[0m\u001b[0;34m,\u001b[0m \u001b[0margs\u001b[0m\u001b[0;34m)\u001b[0m\u001b[0;34m,\u001b[0m \u001b[0;34m**\u001b[0m\u001b[0mkwargs\u001b[0m\u001b[0;34m)\u001b[0m\u001b[0;34m\u001b[0m\u001b[0;34m\u001b[0m\u001b[0m\n\u001b[0m\u001b[1;32m   1353\u001b[0m \u001b[0;34m\u001b[0m\u001b[0m\n\u001b[1;32m   1354\u001b[0m         \u001b[0mbound\u001b[0m \u001b[0;34m=\u001b[0m \u001b[0mnew_sig\u001b[0m\u001b[0;34m.\u001b[0m\u001b[0mbind\u001b[0m\u001b[0;34m(\u001b[0m\u001b[0max\u001b[0m\u001b[0;34m,\u001b[0m \u001b[0;34m*\u001b[0m\u001b[0margs\u001b[0m\u001b[0;34m,\u001b[0m \u001b[0;34m**\u001b[0m\u001b[0mkwargs\u001b[0m\u001b[0;34m)\u001b[0m\u001b[0;34m\u001b[0m\u001b[0;34m\u001b[0m\u001b[0m\n",
      "\u001b[0;32m~/.local/lib/python3.8/site-packages/matplotlib/axes/_axes.py\u001b[0m in \u001b[0;36mimshow\u001b[0;34m(self, X, cmap, norm, aspect, interpolation, alpha, vmin, vmax, origin, extent, filternorm, filterrad, resample, url, **kwargs)\u001b[0m\n\u001b[1;32m   5586\u001b[0m                               resample=resample, **kwargs)\n\u001b[1;32m   5587\u001b[0m \u001b[0;34m\u001b[0m\u001b[0m\n\u001b[0;32m-> 5588\u001b[0;31m         \u001b[0mim\u001b[0m\u001b[0;34m.\u001b[0m\u001b[0mset_data\u001b[0m\u001b[0;34m(\u001b[0m\u001b[0mX\u001b[0m\u001b[0;34m)\u001b[0m\u001b[0;34m\u001b[0m\u001b[0;34m\u001b[0m\u001b[0m\n\u001b[0m\u001b[1;32m   5589\u001b[0m         \u001b[0mim\u001b[0m\u001b[0;34m.\u001b[0m\u001b[0mset_alpha\u001b[0m\u001b[0;34m(\u001b[0m\u001b[0malpha\u001b[0m\u001b[0;34m)\u001b[0m\u001b[0;34m\u001b[0m\u001b[0;34m\u001b[0m\u001b[0m\n\u001b[1;32m   5590\u001b[0m         \u001b[0;32mif\u001b[0m \u001b[0mim\u001b[0m\u001b[0;34m.\u001b[0m\u001b[0mget_clip_path\u001b[0m\u001b[0;34m(\u001b[0m\u001b[0;34m)\u001b[0m \u001b[0;32mis\u001b[0m \u001b[0;32mNone\u001b[0m\u001b[0;34m:\u001b[0m\u001b[0;34m\u001b[0m\u001b[0;34m\u001b[0m\u001b[0m\n",
      "\u001b[0;32m~/.local/lib/python3.8/site-packages/matplotlib/image.py\u001b[0m in \u001b[0;36mset_data\u001b[0;34m(self, A)\u001b[0m\n\u001b[1;32m    698\u001b[0m         if (self._A.dtype != np.uint8 and\n\u001b[1;32m    699\u001b[0m                 not np.can_cast(self._A.dtype, float, \"same_kind\")):\n\u001b[0;32m--> 700\u001b[0;31m             raise TypeError(\"Image data of dtype {} cannot be converted to \"\n\u001b[0m\u001b[1;32m    701\u001b[0m                             \"float\".format(self._A.dtype))\n\u001b[1;32m    702\u001b[0m \u001b[0;34m\u001b[0m\u001b[0m\n",
      "\u001b[0;31mTypeError\u001b[0m: Image data of dtype object cannot be converted to float"
     ]
    },
    {
     "data": {
      "image/png": "[encoded data removed]",
      "text/plain": [
       "<Figure size 576x576 with 4 Axes>"
      ]
     },
     "metadata": {
      "needs_background": "light"
     },
     "output_type": "display_data"
    }
   ],
   "source": [
    "# View new model image next to target image\n",
    "mImg = rInfo.getModelImage( newName )\n",
    "\n",
    "fig, ax = plt.subplots(2,2,figsize=(8,8))\n",
    "\n",
    "ax[0,0].set_title(\"Old Target Image\")\n",
    "ax[0,0].imshow( tInfo.getTargetImage(old_param['cmpArg']['targetName']), cmap='gray' )\n",
    "\n",
    "ax[0,1].set_title(\"Old Model Image\")\n",
    "ax[0,1].imshow( rInfo.getModelImage( old_param['imgArg']['name'] ), cmap='gray' )\n",
    "\n",
    "ax[1,0].set_title(\"New Target Image\")\n",
    "ax[1,0].imshow(tImg,cmap='gray')\n",
    "\n",
    "ax[1,1].set_title(\"New Model Image\")\n",
    "ax[1,1].imshow(mImg,cmap='gray')"
   ]
  },
  {
   "cell_type": "markdown",
   "id": "therapeutic-abuse",
   "metadata": {},
   "source": [
    "___\n",
    "## Step 6\n",
    "### Save your new image parameters!"
   ]
  },
  {
   "cell_type": "code",
   "execution_count": null,
   "id": "dimensional-application",
   "metadata": {},
   "outputs": [],
   "source": [
    "# Add to target image repository\n",
    "tInfo.addImageParams( new_params, overWrite=True )\n",
    "\n",
    "# Or save to a location of your choosing\n",
    "tInfoLoc = tInfo.get(\"infoDir\")\n",
    "imgParamLoc = '../param/' + 'param_zoo_test.json'\n",
    "gm.saveJson( new_params, imgParamLoc )"
   ]
  },
  {
   "cell_type": "code",
   "execution_count": null,
   "id": "touched-daughter",
   "metadata": {},
   "outputs": [],
   "source": [
    "gm.pprint(old_params)\n",
    "\n",
    "i = 1\n",
    "\n",
    "for nVal in np.arange( 1.5, 4.0, 0.5 ):\n",
    "    print(nVal)\n",
    "\n",
    "    # Create a blank group score parameter and copy starting parameters\n",
    "    newName = 'chime_%d' % i\n",
    "    i += 1\n",
    "    \n",
    "    new_params[newName] = deepcopy( new_params['chime_0'] )\n",
    "\n",
    "    # ALWAYS modify the names\n",
    "    new_params[newName]['name'] = newName\n",
    "    new_params[newName]['imgArg']['name'] = newName\n",
    "\n",
    "    \n",
    "    # If you want to modify the image blurring affect\n",
    "    new_params[newName]['imgArg']['blur'] = {}\n",
    "    new_params[newName]['imgArg']['blur']['type'] = 'gaussian_blur'\n",
    "    new_params[newName]['imgArg']['blur']['size'] = 5\n",
    "    new_params[newName]['imgArg']['blur']['weight'] = 1.5\n",
    "\n",
    "    # If you want to modify the radial brightness constant\n",
    "    pc = 2.5    # primary galaxy\n",
    "    sc = 1.5     #secondary galaxy\n",
    "    new_params[newName]['imgArg']['radial_const'] = [ pc, sc ]\n",
    "    \n",
    "\n",
    "    # If you want to modify the final image brightness normalization\n",
    "    new_params[newName]['imgArg']['normalization'] = {}\n",
    "    new_params[newName]['imgArg']['normalization']['type'] = 'type1'\n",
    "    new_params[newName]['imgArg']['normalization']['norm_constant'] = nVal\n",
    "\n",
    "#gm.pprint(new_params)"
   ]
  },
  {
   "cell_type": "code",
   "execution_count": null,
   "id": "unable-standard",
   "metadata": {},
   "outputs": [],
   "source": [
    "\n",
    "# Define arguments for executing simr\n",
    "newImgArg = gm.inArgClass( )\n",
    "newImgArg.setArg( 'rInfo', rInfo )  # Give rInfo\n",
    "newImgArg.setArg( 'scoreParams', new_params )  # Give new parameter\n",
    "newImgArg.setArg( 'printAll', False )  # Print all if you need to troubleshoot\n",
    "newImgArg.setArg( 'newImage', True )  # Make true if you want new image\n",
    "newImgArg.setArg( 'newScore', True )  # Make sure it can create a new score as well.\n",
    "newImgArg.setArg( 'overWrite', True )  # Make true if you need to overwrite\n",
    "\n",
    "# Run through simr image creation\n",
    "simr.simr_run( rInfo=rInfo, arg = newImgArg )\n",
    "rInfo.printScores(allScores=True)"
   ]
  },
  {
   "cell_type": "code",
   "execution_count": null,
   "id": "national-change",
   "metadata": {},
   "outputs": [],
   "source": [
    "\n",
    "def plot_image_list( params, rInfo ):\n",
    "    n = len(params)\n",
    "    \n",
    "    fig, ax = plt.subplots(n,figsize=(8,4*n))\n",
    "    \n",
    "    for i, n in enumerate(params):\n",
    "\n",
    "        ax[i].set_title( params[n]['imgArg']['name'] )\n",
    "        img = rInfo.getModelImage( params[n]['imgArg']['name'] )\n",
    "        if type(img) != type(None):\n",
    "            ax[i].imshow( img, cmap='gray' )\n",
    "\n",
    "\n",
    "plot_image_list( new_params, rInfo )"
   ]
  },
  {
   "cell_type": "code",
   "execution_count": null,
   "id": "ignored-cookbook",
   "metadata": {},
   "outputs": [],
   "source": []
  },
  {
   "cell_type": "code",
   "execution_count": null,
   "id": "minute-conjunction",
   "metadata": {},
   "outputs": [],
   "source": []
  },
  {
   "cell_type": "code",
   "execution_count": null,
   "id": "liquid-robertson",
   "metadata": {},
   "outputs": [],
   "source": []
  },
  {
   "cell_type": "code",
   "execution_count": null,
   "id": "destroyed-plumbing",
   "metadata": {},
   "outputs": [],
   "source": []
  }
 ],
 "metadata": {
  "kernelspec": {
   "display_name": "Python 3",
   "language": "python",
   "name": "python3"
  },
  "language_info": {
   "codemirror_mode": {
    "name": "ipython",
    "version": 3
   },
   "file_extension": ".py",
   "mimetype": "text/x-python",
   "name": "python",
   "nbconvert_exporter": "python",
   "pygments_lexer": "ipython3",
   "version": "3.8.5"
  }
 },
 "nbformat": 4,
 "nbformat_minor": 5
}
