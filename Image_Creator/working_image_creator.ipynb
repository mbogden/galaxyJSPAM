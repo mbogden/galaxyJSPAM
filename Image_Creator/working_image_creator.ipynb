{
 "cells": [
  {
   "cell_type": "code",
   "execution_count": 1,
   "metadata": {},
   "outputs": [
    {
     "name": "stdout",
     "output_type": "stream",
     "text": [
      "In image creator version 4. 2020 Feb 3.\n"
     ]
    }
   ],
   "source": [
    "import python.image_creator_v4 as ic\n",
    "ic.test()\n",
    "\n",
    "import numpy as np\n",
    "import cv2\n",
    "from os import path, listdir"
   ]
  },
  {
   "cell_type": "code",
   "execution_count": 2,
   "metadata": {},
   "outputs": [
    {
     "name": "stdout",
     "output_type": "stream",
     "text": [
      "True\n",
      "True\n",
      "True\n"
     ]
    }
   ],
   "source": [
    "p1Loc = path.abspath('../a.000')\n",
    "p2Loc = path.abspath('../a.101')\n",
    "print(path.isfile(p1Loc))\n",
    "print(path.isfile(p2Loc))\n",
    "\n",
    "pLoc = path.abspath('../a_param.txt')\n",
    "print( path.isfile( pLoc ))\n",
    "\n",
    "imgLoc = '../a_model.png'"
   ]
  },
  {
   "cell_type": "code",
   "execution_count": 3,
   "metadata": {},
   "outputs": [
    {
     "name": "stdout",
     "output_type": "stream",
     "text": [
      "Reading particle file: /nfshome/mbo2d/galaxyJSPAM/a.000\n",
      "Reading particle file: /nfshome/mbo2d/galaxyJSPAM/a.101\n"
     ]
    }
   ],
   "source": [
    "ic.from_wrapper( pLoc, p1Loc, p2Loc, imgLoc )"
   ]
  },
  {
   "cell_type": "code",
   "execution_count": 4,
   "metadata": {},
   "outputs": [
    {
     "name": "stdout",
     "output_type": "stream",
     "text": [
      "True\n"
     ]
    }
   ],
   "source": [
    "\n",
    "print( path.isfile( imgLoc ))\n",
    "img = cv2.imread(imgLoc)\n",
    "\n",
    "def showImg( imgLoc = None, img=None ):\n",
    "    if img == None:\n",
    "        img = cv2.imread(imgLoc)\n",
    "    cv2.namedWindow('test', cv2.WINDOW_NORMAL)\n",
    "    cv2.resizeWindow('test',500,500)\n",
    "    cv2.imshow('test', img)\n",
    "    cv2.waitKey(0)\n",
    "    cv2.destroyAllWindows() #close the image window"
   ]
  },
  {
   "cell_type": "code",
   "execution_count": 5,
   "metadata": {},
   "outputs": [],
   "source": []
  },
  {
   "cell_type": "code",
   "execution_count": 6,
   "metadata": {},
   "outputs": [
    {
     "data": {
      "text/plain": [
       "'\\nprint(\"Checking files\")\\nprint(\"\\t%s - %s\" % ( str( path.isfile(p1Loc)), p1Loc ) )\\nprint(\"\\t%s - %s\" % ( str( path.isfile(p2Loc)), p2Loc ) )\\nprint(\"\\t%s - %s\" % ( str( path.isfile(paramLoc)), paramLoc ) )\\nprint(\"\\t%s - %s\" % ( str( path.isfile(imgLoc)), imgLoc ) )\\n\\nimgParam = ic.imageParameterClass_v3( paramLoc )\\n#print( imgParam.printVal() )\\n\\npts = readParticleFiles()\\npts = readParticleFiles( pts1Loc=p1Loc, pts2Loc=p2Loc )\\n\\nif pts==None:\\n    print(\"Under construction\")\\n'"
      ]
     },
     "execution_count": 6,
     "metadata": {},
     "output_type": "execute_result"
    }
   ],
   "source": []
  },
  {
   "cell_type": "markdown",
   "metadata": {},
   "source": []
  },
  {
   "cell_type": "code",
   "execution_count": 7,
   "metadata": {},
   "outputs": [],
   "source": [
    "# Find angle between from and to galaxy center vectors\n",
    "def getRotationAngle( v1, v2 ):    \n",
    "    \n",
    "    if v1.shape != (2,) or v2.shape != (2,):\n",
    "        print(\"WARNING. Image Creator.getRotationAngle()\")\n",
    "        print(\"Was not given 2D arrays, returning 0\")\n",
    "        return None   \n",
    "    \n",
    "    # signed angle between v1 and (x=1,y=0)\n",
    "    v1_angle = np.arctan2( v1[1], v1[0] ) # (y,x)\n",
    "    \n",
    "    # signed angle between v2 and (x=1,y=0)\n",
    "    v2_angle = np.arctan2( v2[1], v2[0] ) # (y,x)\n",
    "    \n",
    "    # signed angle from v1 to v2\n",
    "    angle = v2_angle - v1_angle\n",
    "    \n",
    "    return angle"
   ]
  },
  {
   "cell_type": "code",
   "execution_count": 8,
   "metadata": {},
   "outputs": [
    {
     "name": "stdout",
     "output_type": "stream",
     "text": [
      "0.0 0.0 [ 0. 10.]\n",
      "2.5 2.5 [2.5 7.5]\n",
      "5.0 5.0 [5. 5.]\n",
      "7.5 7.5 [7.5 2.5]\n",
      "10.0 10.0 [10.  0.]\n"
     ]
    }
   ],
   "source": [
    "def ImgCartConv( x, y, mat_height ):\n",
    "    \n",
    "    return np.array( [x, mat_height - y] )\n",
    "\n",
    "height = 10\n",
    "\n",
    "x_plot = np.linspace( 0, 10, 5)\n",
    "y_plot = np.linspace( 0, 10, 5)\n",
    "\n",
    "for x,y in zip(x_plot,y_plot):\n",
    "    print(x,y, ImgCartConv(x,y,height))"
   ]
  },
  {
   "cell_type": "code",
   "execution_count": 45,
   "metadata": {},
   "outputs": [
    {
     "data": {
      "text/plain": [
       "'\\ntPoints = np.ones((10,3))\\n\\nfor i in range(10):\\n    tPoints[i,0:2] = np.array([i,i])\\n\\ntp2 = np.copy(tPoints)\\n\\n\\n\\n#print(pts.fCenters)\\ntCenters = np.ones((2,3))\\ntCenters[1,:] = np.array( [ 5, 5, 0])\\nprint(tCenters)\\n\\nrPts1, rPts2, rCenters = shiftPoints_v3(         tPoints, tp2, tCenters, imgParam, printTR=True )\\n\\nprint(rPts1)\\n\\n#print(adjMat)\\n#print( np.dot( adjMat, np.transpose( tp2 ) ) )\\n#g1pts[:,0:3] = np.transpose(np.matmul(adjMat, np.transpose(g1pts[:,0:3])))\\n#   \\n\\n'"
      ]
     },
     "execution_count": 45,
     "metadata": {},
     "output_type": "execute_result"
    }
   ],
   "source": [
    "# This is to shift the points so the galaxies match the desired points\n",
    "# inputs ( galaxy_1_particles, galaxy_2_particles, galaxy_centers, to_image_centers)\n",
    "\n",
    "def shiftPoints_v3( g1pts, g2pts, ptsCenters, imgParam, printTR=False ):\n",
    "    \n",
    "    imgCenters = imgParam.gCenter\n",
    "    imgHeight = imgParam.nRow\n",
    "    \n",
    "    # x,y Cartesian coordinates for galaxy centers of particles\n",
    "    g1_fc = ptsCenters[0,0:2]\n",
    "    g2_fc = ptsCenters[1,0:2]\n",
    "    \n",
    "    # galaxy centers in pts format\n",
    "    gc = np.ones((3,2))\n",
    "    gc[0:2,0] = g1_fc\n",
    "    gc[0:2,1] = g2_fc  \n",
    "\n",
    "    # x, y cartesian coordinates for galaxy centers on img\n",
    "    g1_tc = ImgCartConv( imgCenters[0,0], imgCenters[1,0], imgHeight)\n",
    "    g2_tc = ImgCartConv( imgCenters[0,1], imgCenters[1,1], imgHeight)\n",
    "      \n",
    "    \n",
    "    # Vector for pts centers if at origin \n",
    "    fv = g2_fc - g1_fc\n",
    "    \n",
    "    # vector for img center if at origin\n",
    "    tv = g2_tc - g1_tc\n",
    "    \n",
    "    # Find rotation angle between vectors created by galaxy centers.\n",
    "    theta = getRotationAngle( fv, tv )\n",
    "        \n",
    "    # Create Scaling Matrix    \n",
    "    fl = np.sqrt( fv[0]**2 + fv[1]**2 ) # from center length\n",
    "    tl = np.sqrt( tv[0]**2 + tv[1]**2 ) # to center length\n",
    "    scale = tl/fl    \n",
    "    \n",
    "    scaleMat = np.eye(3)\n",
    "    scaleMat[0,0] = scale\n",
    "    scaleMat[1,1] = scale\n",
    "    \n",
    "    # Create Rotation Matrix\n",
    "    rotMat = np.eye((3))\n",
    "    rotMat[0,0:2] = [ np.cos( theta ) , -np.sin( theta ) ]\n",
    "    rotMat[1,0:2] = [ np.sin( theta ) ,  np.cos( theta ) ]\n",
    "    \n",
    "    # Create 1st Translation Matrix\n",
    "    t1Mat = np.eye(3)\n",
    "    t1Mat[0,2] = g1_tc[0]\n",
    "    t1Mat[1,2] = g1_tc[1]\n",
    "    \n",
    "    \n",
    "    # Create Matrix to convert pts from cartesian coordinates \n",
    "    # to image coord. by reflecting across x-axis and adding imgHeight\n",
    "    # Equivalent to y_img = imgHeight - y_cart\n",
    "    \n",
    "    # reflection matrix across x=0\n",
    "    reflectMat = np.eye(3)\n",
    "    reflectMat[1,1] *= -1\n",
    "    \n",
    "    # Create 2nd translation matrix to move up imgHeight\n",
    "    t2Mat = np.eye(3)\n",
    "    t2Mat[1,2] = imgHeight\n",
    "    \n",
    "    # Create single matrix to apply to all points at once\n",
    "    #   for computational effeciency    \n",
    "    \n",
    "    # Rotate points to match image orientation\n",
    "    adjMat = np.copy(rotMat)\n",
    "\n",
    "    # Scale points to match image scale\n",
    "    adjMat = np.matmul( scaleMat, adjMat )\n",
    "\n",
    "    # reflect points across x-axis for image coord\n",
    "    #adjMat = np.matmul( reflectMat, adjMat )\n",
    "\n",
    "    # translate points to desired centers in cartesian coord\n",
    "    adjMat = np.matmul( t1Mat, adjMat )\n",
    "\n",
    "    # translate points to image coord\n",
    "    #adjMat = np.matmul( t2Mat, adjMat )\n",
    "\n",
    "    \n",
    "\n",
    "    if printTR:\n",
    "\n",
    "        print('FROM:')\n",
    "        print(gc[0:2,:])\n",
    "\n",
    "        print(\"To:\")\n",
    "        print(imgCenters)  \n",
    "\n",
    "        # Rotate points to match image\n",
    "        print(\"\\nRotate\")\n",
    "        adjMat2 = np.copy(rotMat)\n",
    "        tMat = np.matmul( rotMat, gc )\n",
    "        print( np.matmul( adjMat, gc ) )\n",
    "        print( tMat )  \n",
    "\n",
    "        # Scale points to match image\n",
    "        adjMat2 = np.matmul( scaleMat, adjMat )\n",
    "        print(\"\\nScale\")\n",
    "        tMat = np.matmul( scaleMat, tMat )\n",
    "        print( np.matmul( adjMat, gc ) )\n",
    "        print( tMat )\n",
    "\n",
    "        # translate points to desired centers in cartesian\n",
    "        adjMat2 = np.matmul( t1Mat, adjMat )    \n",
    "        print(\"\\nTranslate to final centers cart\")\n",
    "        tMat = np.matmul( t1Mat, tMat )\n",
    "        print( np.matmul( adjMat, gc ) )\n",
    "        \n",
    "\n",
    "        '''\n",
    "        # reflect points across x-axis\n",
    "        adjMat2 = np.matmul( reflectMat, adjMat ) \n",
    "        print(\"\\nReflect across x-axis\")\n",
    "        tMat = np.matmul( reflectMat, tMat )\n",
    "        print( np.matmul( adjMat, gc ) )\n",
    "        print( tMat )  \n",
    "\n",
    "        # translate points to image coordinates\n",
    "        adjMat2 = np.matmul( t2Mat, adjMat ) \n",
    "        print(\"\\nTranslate up to image coord\")\n",
    "        tMat = np.matmul( t2Mat, tMat )\n",
    "        print( np.matmul( adjMat, gc ) )\n",
    "        '''\n",
    "\n",
    "        print( tMat )\n",
    "        print(\"\\nShould match\")\n",
    "        print( imgCenters )\n",
    "\n",
    "        \n",
    "    # APPLYING MATRICES TO POINTS\n",
    "    # Transpose points because I  (Matthew Ogden)\n",
    "    # view lists of points as vertical, not horizontal\n",
    "    \n",
    "    \n",
    "    gc = np.transpose( np.matmul(adjMat, gc) )\n",
    "    \n",
    "    n = g1pts.shape[0]\n",
    "    \n",
    "    tPts = np.ones((3,n))\n",
    "    \n",
    "    tPts[0:2,:] = g1pts[:,0:2].T    \n",
    "    g1pts[:,0:2] = np.matmul( adjMat, tPts )[0:2,:].T\n",
    "    \n",
    "    tPts[0:2,:] = g2pts[:,0:2].T    \n",
    "    g2pts[:,0:2] = np.matmul( adjMat, tPts )[0:2,:].T\n",
    "    \n",
    "    \n",
    "    #g1pts[:,0:3] = np.transpose(np.matmul(adjMat, np.transpose(g1pts[:,0:3])))\n",
    "    #g2pts[:,0:3] = np.transpose(np.matmul(adjMat, np.transpose(g2pts[:,0:3])))\n",
    "    \n",
    "    \n",
    "    return g1pts, g2pts, gc\n",
    "\n"
   ]
  },
  {
   "cell_type": "code",
   "execution_count": 46,
   "metadata": {
    "collapsed": true
   },
   "outputs": [
    {
     "name": "stdout",
     "output_type": "stream",
     "text": [
      "Reading particle file: /nfshome/mbo2d/galaxyJSPAM/a.000\n",
      "Reading particle file: /nfshome/mbo2d/galaxyJSPAM/a.101\n",
      "FROM:\n",
      "[[ 0.        -9.9395293]\n",
      " [ 0.        -4.5854109]]\n",
      "To:\n",
      "[[513. 309.]\n",
      " [514. 608.]]\n",
      "\n",
      "Rotate\n",
      "[[513. 309.]\n",
      " [510. 416.]\n",
      " [  1.   1.]]\n",
      "[[ 0.         -9.94159482]\n",
      " [ 0.         -4.58093095]\n",
      " [ 1.          1.        ]]\n",
      "\n",
      "Scale\n",
      "[[513. 309.]\n",
      " [510. 416.]\n",
      " [  1.   1.]]\n",
      "[[   0. -204.]\n",
      " [   0.  -94.]\n",
      " [   1.    1.]]\n",
      "\n",
      "Translate to final centers cart\n",
      "[[513. 309.]\n",
      " [510. 416.]\n",
      " [  1.   1.]]\n",
      "[[513. 309.]\n",
      " [510. 416.]\n",
      " [  1.   1.]]\n",
      "\n",
      "Should match\n",
      "[[513. 309.]\n",
      " [514. 608.]]\n",
      "\n",
      "\n",
      "[[ 0.         0.         0.       ]\n",
      " [-9.9395293 -4.5854109  3.2716137]]\n",
      "[[513. 510.   1.]\n",
      " [309. 416.   1.]]\n",
      "[[513. 309.]\n",
      " [514. 608.]]\n"
     ]
    }
   ],
   "source": [
    "newCreateImage( pLoc, p1Loc, p2Loc, 'here.png')"
   ]
  },
  {
   "cell_type": "code",
   "execution_count": null,
   "metadata": {},
   "outputs": [],
   "source": []
  }
 ],
 "metadata": {
  "kernelspec": {
   "display_name": "Python 3",
   "language": "python",
   "name": "python3"
  },
  "language_info": {
   "codemirror_mode": {
    "name": "ipython",
    "version": 3
   },
   "file_extension": ".py",
   "mimetype": "text/x-python",
   "name": "python",
   "nbconvert_exporter": "python",
   "pygments_lexer": "ipython3",
   "version": "3.6.8"
  }
 },
 "nbformat": 4,
 "nbformat_minor": 2
}
