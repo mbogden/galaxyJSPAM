{
 "cells": [
  {
   "cell_type": "code",
   "execution_count": 2,
   "metadata": {},
   "outputs": [
    {
     "name": "stdout",
     "output_type": "stream",
     "text": [
      "GM: Hi!  You're in Matthew's module for generally useful functions and classes\n",
      "IM: Hi!  You're in Matthew Ogden's information module for SPAM\n"
     ]
    }
   ],
   "source": [
    "# General libraries\n",
    "from os import path, listdir\n",
    "from sys import path as sysPath\n",
    "\n",
    "import numpy as np\n",
    "import matplotlib.pyplot as plt\n",
    "import pandas as pd\n",
    "\n",
    "# For data preprocessing \n",
    "from sklearn.model_selection import train_test_split\n",
    "from sklearn.preprocessing import StandardScaler\n",
    "\n",
    "# For data analysis\n",
    "from sklearn.metrics import confusion_matrix, accuracy_score\n",
    "\n",
    "# For loading in Matt's python libraries for SPAM related content\n",
    "sysPath.append( path.abspath( \"../Support_Code/\" ) )\n",
    "import general_module as gm\n",
    "import info_module as im\n",
    "gm.test()\n",
    "im.test()\n"
   ]
  },
  {
   "cell_type": "code",
   "execution_count": 3,
   "metadata": {},
   "outputs": [
    {
     "name": "stdout",
     "output_type": "stream",
     "text": [
      "True\n"
     ]
    }
   ],
   "source": [
    "tInfo = im.target_info_class( targetDir = '../../spam_data_pl3/587722984435351614/', printAll = False, newInfo=False)\n",
    "print(tInfo.status)"
   ]
  },
  {
   "cell_type": "code",
   "execution_count": 4,
   "metadata": {},
   "outputs": [
    {
     "name": "stdout",
     "output_type": "stream",
     "text": [
      "(9972, 1752)\n"
     ]
    }
   ],
   "source": [
    "# Read data \n",
    "wndDir = tInfo.targetDir + 'wndcharm/'\n",
    "f1Loc = wndDir + 'f1_feats.csv'\n",
    "f1DF = pd.read_csv(f1Loc,)\n",
    "print(f1DF.shape)\n",
    "\n",
    "X = f1DF.iloc[:,2:].values \n",
    "y = f1DF.iloc[:,1].values\n",
    "\n",
    "yd1 = np.zeros(y.shape[0])\n",
    "yd1[y>0.25] = 1\n",
    "yd1 = yd1.astype(int)"
   ]
  },
  {
   "cell_type": "code",
   "execution_count": 24,
   "metadata": {},
   "outputs": [
    {
     "name": "stdout",
     "output_type": "stream",
     "text": [
      "run_id\n",
      "zoo_merger_score\n"
     ]
    }
   ],
   "source": [
    "cList = list( f1DF.columns )\n",
    "print(cList.pop(0))\n",
    "print(cList.pop(0))"
   ]
  },
  {
   "cell_type": "code",
   "execution_count": 10,
   "metadata": {},
   "outputs": [
    {
     "name": "stdout",
     "output_type": "stream",
     "text": [
      "(1750,)\n"
     ]
    }
   ],
   "source": []
  },
  {
   "cell_type": "code",
   "execution_count": 30,
   "metadata": {},
   "outputs": [
    {
     "name": "stdout",
     "output_type": "stream",
     "text": [
      "  46: 0.217   Otsu Object Features () [29]\n",
      " 160: 0.199   Comb Moments () [14]\n",
      "   4: 0.197   Edge Features () [8]\n",
      "   9: 0.191   Edge Features () [16]\n",
      "1540: 0.185   Haralick Textures (Fourier (Edge ())) [8]\n",
      "1535: 0.178   Haralick Textures (Fourier (Edge ())) [2]\n",
      "1262: 0.178   Multiscale Histograms (Chebyshev (Wavelet ())) [10]\n",
      "  78: 0.170   Chebyshev-Fourier Coefficients () [0]\n",
      "1263: 0.170   Multiscale Histograms (Chebyshev (Wavelet ())) [11]\n",
      "1362: 0.168   Comb Moments (Edge ()) [14]\n"
     ]
    }
   ],
   "source": [
    "# Retrieve top N items with highest classification association\n",
    "from sklearn.feature_selection import mutual_info_classif\n",
    "X_new = mutual_info_classif(X, yd1, n_neighbors=3, )\n",
    "\n",
    "n = 10\n",
    "topClassInd = X_new.argsort()[-n:][::-1]\n",
    "topClass = X_new[topClassInd]\n",
    "\n",
    "for i in range(n):\n",
    "    print('%4d: %.3f   %s'%(topClassInd[i],topClass[i],cList[topClassInd[i]]))"
   ]
  },
  {
   "cell_type": "code",
   "execution_count": 22,
   "metadata": {},
   "outputs": [
    {
     "name": "stdout",
     "output_type": "stream",
     "text": [
      "(1750,)\n"
     ]
    }
   ],
   "source": [
    "from sklearn.feature_selection import mutual_info_regression\n",
    "X_reg = mutual_info_regression(X, y, n_neighbors=3, )\n",
    "print(X_reg.shape)"
   ]
  },
  {
   "cell_type": "code",
   "execution_count": 31,
   "metadata": {},
   "outputs": [
    {
     "name": "stdout",
     "output_type": "stream",
     "text": [
      "   9: 0.593   Edge Features () [16]\n",
      "   4: 0.594   Edge Features () [8]\n",
      "   3: 1.836   Edge Features () [7]\n",
      "   7: 1.869   Edge Features () [11]\n",
      " 932: 0.351   Multiscale Histograms (Wavelet (Fourier ())) [8]\n",
      "   8: 0.449   Edge Features () [12]\n",
      "   6: 0.663   Edge Features () [10]\n",
      "   2: 0.412   Edge Features () [6]\n",
      "   5: 0.607   Edge Features () [9]\n",
      " 753: 0.383   Multiscale Histograms (Chebyshev ()) [20]\n"
     ]
    }
   ],
   "source": [
    "# Retrieve top N items with highest regression association\n",
    "from sklearn.feature_selection import mutual_info_regression\n",
    "X_reg = mutual_info_regression(X, y, n_neighbors=3, )\n",
    "\n",
    "n = 10\n",
    "topRegInd = X_reg.argsort()[-n:][::-1]\n",
    "topReg = X_reg[topClassInd]\n",
    "\n",
    "for i in range(n):\n",
    "    print('%4d: %.3f   %s'%(topRegInd[i],topReg[i],cList[topRegInd[i]]))\n"
   ]
  },
  {
   "cell_type": "code",
   "execution_count": 49,
   "metadata": {},
   "outputs": [
    {
     "name": "stdout",
     "output_type": "stream",
     "text": [
      "Edge Features () [6]\n",
      "Edge Features () [7]\n",
      "Edge Features () [8]\n",
      "Edge Features () [9]\n",
      "Edge Features () [10]\n",
      "Edge Features () [11]\n",
      "Edge Features () [12]\n",
      "Edge Features () [16]\n",
      "Otsu Object Features () [29]\n",
      "Chebyshev-Fourier Coefficients () [0]\n",
      "Comb Moments () [14]\n",
      "Multiscale Histograms (Chebyshev ()) [20]\n",
      "Multiscale Histograms (Wavelet (Fourier ())) [8]\n",
      "Multiscale Histograms (Chebyshev (Wavelet ())) [10]\n",
      "Multiscale Histograms (Chebyshev (Wavelet ())) [11]\n",
      "Comb Moments (Edge ()) [14]\n",
      "Haralick Textures (Fourier (Edge ())) [2]\n",
      "Haralick Textures (Fourier (Edge ())) [8]\n"
     ]
    }
   ],
   "source": [
    "top20Ind = np.unique( np.concatenate( (topClassInd, topRegInd) ) )\n",
    "\n",
    "for ind in top20Ind:\n",
    "    print(cList[ind])\n",
    "\n",
    "X_select = X[:,top20Ind]\n"
   ]
  },
  {
   "cell_type": "code",
   "execution_count": 41,
   "metadata": {},
   "outputs": [],
   "source": [
    "# Create black-box Artificial Nueral Network\n",
    "import tensorflow as tf\n",
    "\n",
    "from sklearn.model_selection import train_test_split\n",
    "X_train, X_test, y_train, y_test = train_test_split(X_select, y, test_size = 0.2, random_state = 0)"
   ]
  },
  {
   "cell_type": "code",
   "execution_count": 44,
   "metadata": {},
   "outputs": [
    {
     "name": "stdout",
     "output_type": "stream",
     "text": [
      "Model: \"sequential_1\"\n",
      "_________________________________________________________________\n",
      "Layer (type)                 Output Shape              Param #   \n",
      "=================================================================\n",
      "dense_4 (Dense)              (None, 20)                380       \n",
      "_________________________________________________________________\n",
      "dense_5 (Dense)              (None, 20)                420       \n",
      "_________________________________________________________________\n",
      "dense_6 (Dense)              (None, 20)                420       \n",
      "_________________________________________________________________\n",
      "dense_7 (Dense)              (None, 1)                 21        \n",
      "=================================================================\n",
      "Total params: 1,241\n",
      "Trainable params: 1,241\n",
      "Non-trainable params: 0\n",
      "_________________________________________________________________\n"
     ]
    }
   ],
   "source": [
    "ann = tf.keras.models.Sequential()\n",
    "ann.add(tf.keras.layers.Dense(units=20, input_dim=X_select.shape[1], activation='relu'))\n",
    "ann.add(tf.keras.layers.Dense(units=20, activation='relu'))\n",
    "ann.add(tf.keras.layers.Dense(units=20, activation='relu'))\n",
    "ann.add(tf.keras.layers.Dense(units=1, activation='sigmoid'))\n",
    "ann.compile( optimizer = 'adam', loss = 'mse', metrics = ['mean_absolute_error'] )\n",
    "ann.summary()"
   ]
  },
  {
   "cell_type": "code",
   "execution_count": null,
   "metadata": {},
   "outputs": [],
   "source": [
    "history = ann.fit(X_train, y_train, batch_size = 32, epochs = 100, validation_split=0.2)"
   ]
  },
  {
   "cell_type": "code",
   "execution_count": 48,
   "metadata": {},
   "outputs": [
    {
     "name": "stdout",
     "output_type": "stream",
     "text": [
      "(1995,)\n",
      "(1995, 1)\n",
      "0.9194807518302653\n"
     ]
    },
    {
     "data": {
      "text/plain": [
       "Text(0.5, 1.0, 'WNDCHARM: Top 18 DNN\\nCorrelation: 0.92')"
      ]
     },
     "execution_count": 48,
     "metadata": {},
     "output_type": "execute_result"
    },
    {
     "data": {
      "image/png": "[encoded data removed]",
      "text/plain": [
       "<Figure size 432x288 with 1 Axes>"
      ]
     },
     "metadata": {
      "needs_background": "light"
     },
     "output_type": "display_data"
    }
   ],
   "source": [
    "y_pred = ann.predict(X_test)\n",
    "plt.scatter(y_test,y_pred,s=3)\n",
    "plt.xlim([0,1])\n",
    "plt.ylim([0,1])\n",
    "\n",
    "plt.xlabel('Galaxy Zoo: Merger Score')\n",
    "plt.ylabel('DNN Predicted Score')\n",
    "\n",
    "title = 'Dense Neural Network'\n",
    "print(y_test.shape)\n",
    "print(y_pred.shape)\n",
    "corr = np.corrcoef(y_test, y_pred[:,0])[0,1]\n",
    "print(corr)\n",
    "\n",
    "plt.title('WNDCHARM: Top 18 DNN\\nCorrelation: %.2f'%corr)"
   ]
  },
  {
   "cell_type": "code",
   "execution_count": 47,
   "metadata": {},
   "outputs": [
    {
     "name": "stdout",
     "output_type": "stream",
     "text": [
      "dict_keys(['loss', 'mean_absolute_error', 'val_loss', 'val_mean_absolute_error'])\n"
     ]
    },
    {
     "data": {
      "image/png": "[encoded data removed]",
      "text/plain": [
       "<Figure size 432x288 with 1 Axes>"
      ]
     },
     "metadata": {
      "needs_background": "light"
     },
     "output_type": "display_data"
    }
   ],
   "source": [
    "print(history.history.keys())\n",
    "# \"Loss\"\n",
    "plt.plot(history.history['loss'])\n",
    "plt.plot(history.history['val_loss'])\n",
    "plt.title('model loss')\n",
    "plt.ylabel('loss')\n",
    "plt.xlabel('epoch')\n",
    "plt.legend(['train', 'validation'], loc='upper right')\n",
    "plt.show()"
   ]
  },
  {
   "cell_type": "code",
   "execution_count": null,
   "metadata": {},
   "outputs": [],
   "source": []
  }
 ],
 "metadata": {
  "kernelspec": {
   "display_name": "Python 3",
   "language": "python",
   "name": "python3"
  },
  "language_info": {
   "codemirror_mode": {
    "name": "ipython",
    "version": 3
   },
   "file_extension": ".py",
   "mimetype": "text/x-python",
   "name": "python",
   "nbconvert_exporter": "python",
   "pygments_lexer": "ipython3",
   "version": "3.8.10"
  }
 },
 "nbformat": 4,
 "nbformat_minor": 4
}
