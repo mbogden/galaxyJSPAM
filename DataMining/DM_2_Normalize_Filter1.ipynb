{
 "cells": [
  {
   "cell_type": "code",
   "execution_count": 2,
   "metadata": {},
   "outputs": [
    {
     "name": "stdout",
     "output_type": "stream",
     "text": [
      "GM: Hi!  You're in Matthew's module for generally useful functions and classes\n",
      "IM: Hi!  You're in Matthew Ogden's information module for SPAM\n"
     ]
    }
   ],
   "source": [
    "# General libraries\n",
    "from os import path, listdir\n",
    "from sys import path as sysPath\n",
    "\n",
    "import numpy as np\n",
    "import matplotlib.pyplot as plt\n",
    "import pandas as pd\n",
    "\n",
    "# For data preprocessing \n",
    "from sklearn.model_selection import train_test_split\n",
    "from sklearn.preprocessing import StandardScaler\n",
    "\n",
    "# For data analysis\n",
    "from sklearn.metrics import confusion_matrix, accuracy_score\n",
    "\n",
    "# For loading in Matt's python libraries for SPAM related content\n",
    "sysPath.append( path.abspath( \"../Support_Code/\" ) )\n",
    "import general_module as gm\n",
    "import info_module as im\n",
    "gm.test()\n",
    "im.test()\n"
   ]
  },
  {
   "cell_type": "code",
   "execution_count": 3,
   "metadata": {},
   "outputs": [
    {
     "name": "stdout",
     "output_type": "stream",
     "text": [
      "True\n"
     ]
    }
   ],
   "source": [
    "tInfo = im.target_info_class( targetDir = '../../spam_data_pl3/587722984435351614/', printAll = False, newInfo=False)\n",
    "print(tInfo.status)"
   ]
  },
  {
   "cell_type": "code",
   "execution_count": 4,
   "metadata": {},
   "outputs": [
    {
     "name": "stdout",
     "output_type": "stream",
     "text": [
      "(9987, 2921)\n"
     ]
    }
   ],
   "source": [
    "# Read data\n",
    "wndDir = tInfo.targetDir + 'wndcharm/'\n",
    "rawLoc = wndDir + 'rawFeats.csv'\n",
    "rawDF = pd.read_csv(rawLoc)\n",
    "print(rawDF.shape)"
   ]
  },
  {
   "cell_type": "code",
   "execution_count": null,
   "metadata": {},
   "outputs": [],
   "source": []
  },
  {
   "cell_type": "code",
   "execution_count": 5,
   "metadata": {},
   "outputs": [
    {
     "name": "stdout",
     "output_type": "stream",
     "text": [
      "Before:  9987\n",
      "After :  9972\n",
      "(9972, 2919)\n"
     ]
    }
   ],
   "source": [
    "# Filter out any rows with invalid values\n",
    "validDF = rawDF[~rawDF.isin([np.nan, np.inf, -np.inf]).any(1)]\n",
    "\n",
    "print(\"Before: \", rawDF.shape[0])\n",
    "print(\"After : \", validDF.shape[0])\n",
    "\n",
    "# Extract feature values\n",
    "X = validDF.iloc[:,2:].values \n",
    "\n",
    "# Preprocess data and save scalar for later use\n",
    "from pickle import dump\n",
    "\n",
    "sc = StandardScaler()\n",
    "X_scaled = sc.fit_transform(X)\n",
    "print( X_scaled.shape )\n",
    "\n",
    "scaleLoc = wndDir + 'scaler.pkl'\n",
    "dump(sc, open(scaleLoc, 'wb'))\n"
   ]
  },
  {
   "cell_type": "code",
   "execution_count": 9,
   "metadata": {},
   "outputs": [
    {
     "data": {
      "text/plain": [
       "(0, 100000)"
      ]
     },
     "execution_count": 9,
     "metadata": {},
     "output_type": "execute_result"
    },
    {
     "data": {
      "image/png": "[encoded data removed]",
      "text/plain": [
       "<Figure size 432x288 with 1 Axes>"
      ]
     },
     "metadata": {
      "needs_background": "light"
     },
     "output_type": "display_data"
    }
   ],
   "source": [
    "plt.scatter(range(sc.mean_.shape[0]),sc.mean_)\n",
    "plt.ylim([0,100000])"
   ]
  },
  {
   "cell_type": "code",
   "execution_count": 6,
   "metadata": {},
   "outputs": [
    {
     "name": "stdout",
     "output_type": "stream",
     "text": [
      "run_id\n",
      "zoo_merger_score\n",
      "Scaled Saved\n"
     ]
    }
   ],
   "source": [
    "# Save new scaled values\n",
    "\n",
    "scaledLoc = wndDir + 'scaledFeats.csv'\n",
    "cList = list( rawDF.columns )\n",
    "print(cList.pop(0))\n",
    "print(cList.pop(0))\n",
    "\n",
    "# Open file if there\n",
    "if False and path.exists( scaledLoc ):\n",
    "    scaledDF = pd.read_csv( scaledLoc )\n",
    "    \n",
    "# Else create from scratch\n",
    "else:\n",
    "    scaledDF = pd.DataFrame( columns=validDF.columns )\n",
    "    scaledDF['run_id'] = validDF['run_id']\n",
    "    scaledDF['zoo_merger_score'] = validDF['zoo_merger_score']\n",
    "\n",
    "    for i, col in enumerate( cList ):\n",
    "        scaledDF[col] = X_scaled[:,i]\n",
    "        print(' %4d / %4d '%(i,scaledDF.shape[1] ), end='\\r' )\n",
    "\n",
    "\n",
    "if not path.exists(scaledLoc):\n",
    "    scaledDF.to_csv(scaledLoc, index = False)\n",
    "print(\"Scaled Saved\")"
   ]
  },
  {
   "cell_type": "code",
   "execution_count": 7,
   "metadata": {},
   "outputs": [
    {
     "name": "stdout",
     "output_type": "stream",
     "text": [
      "50\r"
     ]
    }
   ],
   "source": [
    "# Analyze raw features for their variance\n",
    "from sklearn.feature_selection import VarianceThreshold\n",
    "p = 1\n",
    "\n",
    "n = 51\n",
    "pList = np.linspace(0.5,1,n)\n",
    "count = np.zeros(n)\n",
    "\n",
    "for i, p in enumerate(pList):\n",
    "    var = VarianceThreshold( threshold=(p * (1 - p)) )\n",
    "    varX = var.fit_transform(X)\n",
    "    count[i] = varX.shape[1]\n",
    "    print(i,end='\\r')\n"
   ]
  },
  {
   "cell_type": "code",
   "execution_count": 21,
   "metadata": {},
   "outputs": [
    {
     "data": {
      "text/plain": [
       "Text(0.5, 1.0, 'Variance Threshold')"
      ]
     },
     "execution_count": 21,
     "metadata": {},
     "output_type": "execute_result"
    },
    {
     "data": {
      "image/png": "[encoded data removed]",
      "text/plain": [
       "<Figure size 432x288 with 1 Axes>"
      ]
     },
     "metadata": {
      "needs_background": "light"
     },
     "output_type": "display_data"
    }
   ],
   "source": [
    "# Choose 2.5% variance\n",
    "p = 0.025\n",
    "var = VarianceThreshold( threshold=(p * (1 - p)) )\n",
    "varX = var.fit_transform(X)\n",
    "tempy = varX.shape[1]\n",
    "\n",
    "# Filter selected \n",
    "\n",
    "# Plot results and selection\n",
    "plt.plot(1-pList,count)\n",
    "plt.ylabel('Retained Features')\n",
    "plt.xlabel('Variance Threshold')\n",
    "\n",
    "plt.scatter( 1-p, tempy)\n",
    "plt.text( .85, tempy+50, '( %.3f, %d )'%(1-p,tempy), rotation=0)\n",
    "plt.title(\"Variance Threshold\")\n"
   ]
  },
  {
   "cell_type": "code",
   "execution_count": 11,
   "metadata": {},
   "outputs": [
    {
     "name": "stdout",
     "output_type": "stream",
     "text": [
      "Should be 1750+2:  1752\n",
      "Variance saved\n"
     ]
    }
   ],
   "source": [
    "# Get column mask for filtering low variance\n",
    "varMask = var.get_support()\n",
    "\n",
    "newColumns = []\n",
    "for i, col in enumerate( cList ):\n",
    "    \n",
    "    if varMask[i]:\n",
    "        newColumns.append(col)\n",
    "\n",
    "# Add scores and IDs to list\n",
    "newColumns.insert(0,'run_id')\n",
    "newColumns.insert(1,'zoo_merger_score')\n",
    "\n",
    "varDF = scaledDF[ newColumns ]\n",
    "\n",
    "print(\"Should be 1750+2: \", varDF.shape[1] ) \n",
    "f1Loc = wndDir + 'f1_feats.csv'\n",
    "\n",
    "varDF.to_csv(f1Loc, index = False)\n",
    "print(\"Variance saved\")"
   ]
  },
  {
   "cell_type": "code",
   "execution_count": null,
   "metadata": {},
   "outputs": [],
   "source": []
  }
 ],
 "metadata": {
  "kernelspec": {
   "display_name": "Python 3",
   "language": "python",
   "name": "python3"
  },
  "language_info": {
   "codemirror_mode": {
    "name": "ipython",
    "version": 3
   },
   "file_extension": ".py",
   "mimetype": "text/x-python",
   "name": "python",
   "nbconvert_exporter": "python",
   "pygments_lexer": "ipython3",
   "version": "3.8.5"
  }
 },
 "nbformat": 4,
 "nbformat_minor": 4
}
