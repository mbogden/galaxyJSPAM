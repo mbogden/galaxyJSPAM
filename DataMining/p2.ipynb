{
 "cells": [
  {
   "cell_type": "code",
   "execution_count": 9,
   "metadata": {},
   "outputs": [
    {
     "name": "stdout",
     "output_type": "stream",
     "text": [
      "GM: Hi!  You're in Matthew's module for generally useful functions and classes\n",
      "IM: Hi!  You're in Matthew Ogden's information module for SPAM\n"
     ]
    }
   ],
   "source": [
    "# General libraries\n",
    "from os import path, listdir\n",
    "from sys import path as sysPath\n",
    "\n",
    "import numpy as np\n",
    "import matplotlib.pyplot as plt\n",
    "import pandas as pd\n",
    "\n",
    "# For data preprocessing \n",
    "from sklearn.model_selection import train_test_split\n",
    "from sklearn.preprocessing import StandardScaler\n",
    "\n",
    "# For data analysis\n",
    "from sklearn.metrics import confusion_matrix, accuracy_score\n",
    "\n",
    "# For loading in Matt's python libraries for SPAM related content\n",
    "sysPath.append( path.abspath( \"../Support_Code/\" ) )\n",
    "import general_module as gm\n",
    "import info_module as im\n",
    "gm.test()\n",
    "im.test()\n"
   ]
  },
  {
   "cell_type": "code",
   "execution_count": 8,
   "metadata": {},
   "outputs": [
    {
     "name": "stdout",
     "output_type": "stream",
     "text": [
      "True\n"
     ]
    }
   ],
   "source": [
    "tInfo = im.target_info_class( targetDir = '../../spam_data_pl3/587722984435351614/', printAll = False, newInfo=False)\n",
    "print(tInfo.status)"
   ]
  },
  {
   "cell_type": "code",
   "execution_count": null,
   "metadata": {},
   "outputs": [],
   "source": [
    "# Read data and split into training/testing\n",
    "wndDir = tInfo.targetDir + 'wndcharm/'\n",
    "rawLoc = wndDir + 'rawFeats.csv'\n",
    "rawFeats = pd.read_csv(rawLoc)\n",
    "print(rawFeats)"
   ]
  },
  {
   "cell_type": "code",
   "execution_count": 133,
   "metadata": {},
   "outputs": [
    {
     "name": "stdout",
     "output_type": "stream",
     "text": [
      "Before:  9987\n",
      "After :  9972\n",
      "X: (9972, 2918)\n",
      "y: (9972,)\n"
     ]
    }
   ],
   "source": [
    "# Filter out any rows with invalid values\n",
    "validFeats = rawFeats[~rawFeats.isin([np.nan, np.inf, -np.inf]).any(1)]\n",
    "\n",
    "print(\"Before: \", rawFeats.shape[0])\n",
    "print(\"After : \", validFeats.shape[0])\n",
    "\n",
    "# Plot some basic information about the features\n",
    "X = validFeats.iloc[:,2:-1].values \n",
    "y = validFeats.iloc[:,1].values  # Continue value\n",
    "nFeats = X.shape[1]\n",
    "print('X:', X.shape)\n",
    "print('y:', y.shape)\n",
    "\n",
    "# Preprocess data and save scalar for later use\n",
    "from pickle import dump\n",
    "\n",
    "sc = StandardScaler()\n",
    "X_scaled = sc.fit_transform(X)\n",
    "\n",
    "scaleLoc = wndDir + 'scaler.pkl'\n",
    "dump(sc, open(scaleLoc, 'wb'))\n"
   ]
  },
  {
   "cell_type": "code",
   "execution_count": 134,
   "metadata": {},
   "outputs": [
    {
     "name": "stdout",
     "output_type": "stream",
     "text": [
      "5102\n",
      "(1, 5102, 2918) (5102,)\n",
      "(1, 4870, 2918) (4870,)\n",
      "\n"
     ]
    },
    {
     "data": {
      "image/png": "[encoded data removed]",
      "text/plain": [
       "<Figure size 432x288 with 1 Axes>"
      ]
     },
     "metadata": {
      "needs_background": "light"
     },
     "output_type": "display_data"
    }
   ],
   "source": [
    "badId = np.where( yc < 0.25 )\n",
    "goodId = np.where( yc >= 0.25 )\n",
    "print(len(veryBad[0]))\n",
    "badX = X[badId,:]\n",
    "badY = y[badId]\n",
    "goodX = X[goodId,:]\n",
    "goodY = y[goodId]\n",
    "print(badX.shape, badY.shape)\n",
    "print(goodX.shape, goodY.shape)\n",
    "print(\"\")\n",
    "\n",
    "plt.hist( badY, bins=20, range=(0,1), label=' Bad: %d'%badY.shape[0] )\n",
    "plt.hist(goodY, bins=20, range=(0,1), label='Good: %d'%goodY.shape[0] )\n",
    "plt.axvline(0.25, c='k', ls='--', )\n",
    "plt.text(0.23,-300,'0.25', rotation=-45)\n",
    "plt.title(\"Histogram of score distribution\")\n",
    "plt.legend()\n",
    "plt.xlim([0,1])\n",
    "plt.show()"
   ]
  },
  {
   "cell_type": "code",
   "execution_count": 137,
   "metadata": {},
   "outputs": [
    {
     "name": "stdout",
     "output_type": "stream",
     "text": [
      "0.95 -> 1 \n",
      "0.71 -> 1 \n",
      "0.56 -> 1 \n",
      "0.40 -> 1 \n",
      "0.31 -> 1 \n",
      "0.24 -> 0 \n",
      "0.20 -> 0 \n",
      "0.17 -> 0 \n",
      "0.15 -> 0 \n",
      "0.14 -> 0 \n"
     ]
    }
   ],
   "source": [
    "# Create discrete labels for those above and below 0.25\n",
    "y1 = np.zeros(y.shape[0])\n",
    "y1[y>0.25] = 1\n",
    "y1 = y1.astype(int)\n",
    "\n",
    "# sample y values for confirmation\n",
    "for i in range(0,9900,1000):\n",
    "    print('%.2f -> %d ' % ( y[i], y1[i] ) )\n",
    "          "
   ]
  },
  {
   "cell_type": "code",
   "execution_count": null,
   "metadata": {},
   "outputs": [],
   "source": [
    "# For retrieving basic statistics on predicted vs actual\n",
    "def get_stats( y, y_pred ):\n",
    "    # print results\n",
    "    cm = confusion_matrix( y, y_pred )\n",
    "    acc =  accuracy_score( y, y_pred )\n",
    "    \n",
    "    return cm, acc\n",
    "\n",
    "class dec_tree_class:\n",
    "    \n",
    "    from sklearn.tree import DecisionTreeClassifier\n",
    "    from sklearn import tree\n",
    "    \n",
    "    # Variables \n",
    "    k_fold = 10\n",
    "    name = 'decision_tree'\n",
    "    classifier = None\n",
    "    depth = 4   \n",
    "    \n",
    "    def __init__( self, X_train, y_train, criterion = 'entropy' ):\n",
    "\n",
    "        # Training data\n",
    "        self.criterion = criterion\n",
    "        self.classifier = self.DecisionTreeClassifier(max_depth=2, criterion = self.criterion, random_state = 0 )\n",
    "        self.classifier = self.classifier.fit(X_train, y_train)\n",
    "    \n",
    "    def predict( self, X_test ):        \n",
    "        return self.classifier.predict( X_test )\n",
    "        \n",
    "    def plotTree( self, X_train, y_train, depth = 2 ):\n",
    "\n",
    "        # Training data\n",
    "        self.classifier = self.DecisionTreeClassifier(max_depth=self.depth, criterion = self.criterion, random_state = 0 )\n",
    "        self.classifier = self.classifier.fit(X_train, y_train)\n",
    "        self.tree.plot_tree( self.classifier )\n",
    "    \n",
    "    def cv_accuracy( self, X, y, k_fold = 5, depth=3 ):\n",
    "        \n",
    "        from sklearn.model_selection import KFold\n",
    "        kf = KFold( n_splits= k_fold )\n",
    "        \n",
    "        scores = np.zeros(k_fold)\n",
    "        \n",
    "        for i, indexes in enumerate( kf.split( X ) ):\n",
    "            \n",
    "            print(\"Cross Validate: %d\"%i,end='\\r')\n",
    "            \n",
    "            train_i, test_i = indexes\n",
    "            \n",
    "            tx_train, tx_test = X[train_i], X[test_i]\n",
    "            ty_train, ty_test = y[train_i], y[test_i]   \n",
    "            \n",
    "            temp_class = self.DecisionTreeClassifier( max_depth=depth, criterion = self.criterion, random_state = 0 )\n",
    "            temp_class = temp_class.fit( tx_train, ty_train )            \n",
    "            ty_pred = temp_class.predict( tx_test )\n",
    "            \n",
    "            t_cm, t_acc = get_stats( ty_test, ty_pred )\n",
    "            \n",
    "            scores[i] = t_acc\n",
    "            \n",
    "            \n",
    "        return np.mean( scores )\n",
    "        \n",
    "dt_classifier = dec_tree_class( X, y1, )  \n",
    "print(dt_classifier.name) \n",
    "print(dt_classifier.cv_accuracy(X,y1))\n",
    "#dt_classifier.plotTree(X,y1)\n",
    "\n",
    "scores = []\n",
    "\n",
    "for i in range(1,10):\n",
    "    scores.append( dt_classifier.cv_accuracy(X,y1, depth=i) )"
   ]
  },
  {
   "cell_type": "code",
   "execution_count": 159,
   "metadata": {},
   "outputs": [
    {
     "data": {
      "text/plain": [
       "Text(0.5, 0, 'Tree Depth')"
      ]
     },
     "execution_count": 159,
     "metadata": {},
     "output_type": "execute_result"
    },
    {
     "data": {
      "image/png": "[encoded data removed]",
      "text/plain": [
       "<Figure size 432x288 with 1 Axes>"
      ]
     },
     "metadata": {
      "needs_background": "light"
     },
     "output_type": "display_data"
    }
   ],
   "source": [
    "plt.plot(range(1,10),scores)\n",
    "for i,s in enumerate(scores):    \n",
    "    plt.text( i+1, s, '%.3f'%s, rotation=0)\n",
    "\n",
    "plt.title(\"Binary Decision Tree\\n5-fold Cross Validation\")\n",
    "plt.ylabel(\"Accuracy\")\n",
    "plt.xlabel(\"Tree Depth\")"
   ]
  },
  {
   "cell_type": "code",
   "execution_count": 5,
   "metadata": {},
   "outputs": [
    {
     "data": {
      "image/png": "[encoded data removed]",
      "text/plain": [
       "<Figure size 432x288 with 1 Axes>"
      ]
     },
     "metadata": {
      "needs_background": "light"
     },
     "output_type": "display_data"
    }
   ],
   "source": [
    "class k_neighbor_class:\n",
    "    \n",
    "    from sklearn.neighbors import KNeighborsClassifier\n",
    "    \n",
    "    # Variables \n",
    "    name = \"K_Nearest_Neighbor\"\n",
    "    \n",
    "    \n",
    "    def __init__( self, X_train, y_train, n_neighbors = 15 ):\n",
    "        \n",
    "        self.n_neighbors = n_neighbors\n",
    "        self.classifier = self.KNeighborsClassifier(n_neighbors = n_neighbors, metric = 'minkowski', p = 2, )\n",
    "        self.classifier = self.classifier.fit(X_train, y_train)\n",
    "    \n",
    "    def predict( self, X_test ):        \n",
    "        return self.classifier.predict( X_test )\n",
    "    \n",
    "    def cv_accuracy( self, X_train, y_train, k_fold = 10 ):\n",
    "        \n",
    "        from sklearn.model_selection import KFold\n",
    "        kf = KFold( n_splits= k_fold )\n",
    "        \n",
    "        scores = np.zeros(k_fold)\n",
    "        \n",
    "        for i, indexes in enumerate( kf.split( X_train ) ):\n",
    "            \n",
    "            train_i, test_i = indexes\n",
    "            \n",
    "            tx_train, tx_test = X_train[train_i], X_train[test_i]\n",
    "            ty_train, ty_test = y_train[train_i], y_train[test_i]   \n",
    "            \n",
    "            temp_class = self.KNeighborsClassifier( n_neighbors = self.n_neighbors, metric = 'minkowski', p = 2, )\n",
    "            temp_class = temp_class.fit( tx_train, ty_train )            \n",
    "            ty_pred = temp_class.predict( tx_test )\n",
    "            \n",
    "            t_cm, t_acc = get_stats( ty_test, ty_pred )\n",
    "            \n",
    "            scores[i] = t_acc\n",
    "            \n",
    "        return np.mean( scores )\n",
    "\n",
    "# prep plot\n",
    "nmin = 1\n",
    "nmax = 15\n",
    "nstep = int( (nmax-nmin) / 2 + 1)\n",
    "\n",
    "x_plot = np.linspace( nmin, nmax, nstep)\n",
    "y_plot = np.zeros( len(x_plot) )\n",
    "\n",
    "# fill plot\n",
    "for i,x in enumerate(x_plot):    \n",
    "    kn_classifier = k_neighbor_class( X, y, n_neighbors = int(x) )\n",
    "    fold_scores = kn_classifier.cv_accuracy( X, y )\n",
    "    y_plot[i] = fold_scores\n",
    "    \n",
    "plt.plot(x_plot,y_plot,'o-')\n",
    "plt.show()"
   ]
  },
  {
   "cell_type": "code",
   "execution_count": 14,
   "metadata": {},
   "outputs": [
    {
     "name": "stdout",
     "output_type": "stream",
     "text": [
      "0.8\n"
     ]
    }
   ],
   "source": [
    "class naive_bayes_class:\n",
    "    \n",
    "    from sklearn.naive_bayes import GaussianNB\n",
    "    \n",
    "    # Variables \n",
    "    name = \"Gaussian Naive Bayes\"\n",
    "    \n",
    "    def __init__( self, X_train, y_train, n_neighbors = 15 ):\n",
    "        \n",
    "        self.classifier = self.GaussianNB()\n",
    "        self.classifier = self.classifier.fit(X_train, y_train)\n",
    "    \n",
    "    def predict( self, X_test ):        \n",
    "        return self.classifier.predict( X_test )\n",
    "    \n",
    "    def cv_accuracy( self, X_train, y_train, k_fold = 10 ):\n",
    "        \n",
    "        from sklearn.model_selection import KFold\n",
    "        kf = KFold( n_splits= k_fold )\n",
    "        \n",
    "        scores = np.zeros(k_fold)\n",
    "        \n",
    "        # Loop through k-fold divisions and get score\n",
    "        for i, indexes in enumerate( kf.split( X_train ) ):\n",
    "            \n",
    "            train_i, test_i = indexes\n",
    "            \n",
    "            tx_train, tx_test = X_train[train_i], X_train[test_i]\n",
    "            ty_train, ty_test = y_train[train_i], y_train[test_i]   \n",
    "            \n",
    "            temp_class = self.GaussianNB()\n",
    "            temp_class = temp_class.fit( tx_train, ty_train )            \n",
    "            ty_pred = temp_class.predict( tx_test )\n",
    "            \n",
    "            t_cm, t_acc = get_stats( ty_test, ty_pred )\n",
    "            \n",
    "            scores[i] = t_acc\n",
    "            \n",
    "        return np.mean( scores )\n",
    "\n",
    "nb_classifier = naive_bayes_class( X, y, )\n",
    "fold_scores = nb_classifier.cv_accuracy( X, y )\n",
    "print(fold_scores)"
   ]
  },
  {
   "cell_type": "code",
   "execution_count": null,
   "metadata": {},
   "outputs": [],
   "source": [
    "class nn_class:\n",
    "    \n",
    "    import tensorflow as tf\n",
    "    \n",
    "    # Variables \n",
    "    name = \"artificial neural network\"\n",
    "    \n",
    "    def __init__( self, X_train, y_train, depth = 3, width, =  ):\n",
    "        \n",
    "        self.n_neighbors = n_neighbors\n",
    "        self.classifier = self.KNeighborsClassifier(n_neighbors = n_neighbors, metric = 'minkowski', p = 2, )\n",
    "        self.classifier = self.classifier.fit(X_train, y_train)\n",
    "    \n",
    "    def predict( self, X_test ):        \n",
    "        return self.classifier.predict( X_test )\n",
    "    \n",
    "    def cv_accuracy( self, X_train, y_train, k_fold = 10 ):\n",
    "        \n",
    "        from sklearn.model_selection import KFold\n",
    "        kf = KFold( n_splits= k_fold )\n",
    "        \n",
    "        scores = np.zeros(k_fold)\n",
    "        \n",
    "        for i, indexes in enumerate( kf.split( X_train ) ):\n",
    "            \n",
    "            train_i, test_i = indexes\n",
    "            \n",
    "            tx_train, tx_test = X_train[train_i], X_train[test_i]\n",
    "            ty_train, ty_test = y_train[train_i], y_train[test_i]   \n",
    "            \n",
    "            temp_class = self.KNeighborsClassifier( n_neighbors = self.n_neighbors, metric = 'minkowski', p = 2, )\n",
    "            temp_class = temp_class.fit( tx_train, ty_train )            \n",
    "            ty_pred = temp_class.predict( tx_test )\n",
    "            \n",
    "            t_cm, t_acc = get_stats( ty_test, ty_pred )\n",
    "            \n",
    "            scores[i] = t_acc\n",
    "            \n",
    "        return np.mean( scores )\n",
    "\n",
    "# prep plot\n",
    "nmin = 1\n",
    "nmax = 15\n",
    "nstep = int( (nmax-nmin) / 2 + 1)\n",
    "\n",
    "x_plot = np.linspace( nmin, nmax, nstep)\n",
    "y_plot = np.zeros( len(x_plot) )\n",
    "\n",
    "# fill plot\n",
    "for i,x in enumerate(x_plot):    \n",
    "    kn_classifier = k_neighbor_class( X, y, n_neighbors = int(x) )\n",
    "    fold_scores = kn_classifier.cv_accuracy( X, y )\n",
    "    y_plot[i] = fold_scores\n",
    "    \n",
    "plt.plot(x_plot,y_plot,'o-')\n",
    "plt.show()"
   ]
  },
  {
   "cell_type": "code",
   "execution_count": 16,
   "metadata": {},
   "outputs": [
    {
     "name": "stdout",
     "output_type": "stream",
     "text": [
      "Logistic_Regression: 0.806667\n",
      "K_Nearest_Neighbor: 0.649540\n",
      "decision_tree: 0.786092\n",
      "Gaussian Naive Bayes: 0.800000\n"
     ]
    }
   ],
   "source": [
    "methodList = [ log_reg_class, k_neighbor_class, dec_tree_class, naive_bayes_class ]\n",
    "\n",
    "for m_class in methodList:\n",
    "    m = m_class( X, y )\n",
    "    acc = m.cv_accuracy( X, y )\n",
    "    \n",
    "    print( '%s: %f' % (m.name, acc) )\n",
    "    #print( '\\n' )"
   ]
  },
  {
   "cell_type": "code",
   "execution_count": 9,
   "metadata": {},
   "outputs": [],
   "source": [
    "# help\n"
   ]
  }
 ],
 "metadata": {
  "kernelspec": {
   "display_name": "Python 3",
   "language": "python",
   "name": "python3"
  },
  "language_info": {
   "codemirror_mode": {
    "name": "ipython",
    "version": 3
   },
   "file_extension": ".py",
   "mimetype": "text/x-python",
   "name": "python",
   "nbconvert_exporter": "python",
   "pygments_lexer": "ipython3",
   "version": "3.8.5"
  }
 },
 "nbformat": 4,
 "nbformat_minor": 4
}
