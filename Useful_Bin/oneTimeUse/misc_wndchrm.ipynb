{
 "cells": [
  {
   "cell_type": "code",
   "execution_count": 1,
   "id": "introductory-projector",
   "metadata": {},
   "outputs": [
    {
     "name": "stdout",
     "output_type": "stream",
     "text": [
      "SIMR: Hi!  You're in Matthew's main program for all things galaxy collisions\n",
      "GM: Hi!  You're in Matthew's module for generally useful functions and classes\n",
      "IM: Hi!  You're in Matthew's information module for SPAM\n",
      "IC: Hi!  You're in Matthew's main code for all things image creation.\n",
      "MS: Hi!  You're in Matthew's SIMR module for all things machine scoring images\n",
      "DC: Hi!  You're in direct_image_compare.py\n",
      "MC: Hi!  You're in masked_image_compare.py\n",
      "FC: Hi!  You're in feature_image_compare.py\n",
      "SA: Hi!  You're in Matthew's Main program for score analysis!\n"
     ]
    }
   ],
   "source": [
    "# Add python modules\n",
    "import numpy as np\n",
    "import cv2\n",
    "import matplotlib.pyplot as plt\n",
    "from copy import deepcopy\n",
    "\n",
    "# Add parent directory for custom modules\n",
    "from sys import path as sysPath\n",
    "sysPath.append('../')\n",
    "sysPath.append('../..')\n",
    "sysPath.append('../../Machine_Score/')\n",
    "\n",
    "# Load custom modules that simr has loaded\n",
    "import main_SIMR as simr\n",
    "gm = simr.gm\n",
    "im = simr.im\n",
    "ic = simr.ic\n",
    "ms = simr.ms\n",
    "sa = simr.sa\n",
    "dc = simr.ms.dc\n",
    "mc = simr.ms.mc\n",
    "fc = simr.ms.fc\n",
    "\n",
    "simr.test()\n",
    "gm.test()\n",
    "im.test()\n",
    "ic.test()\n",
    "ms.test()\n",
    "dc.test()\n",
    "mc.test()\n",
    "fc.test()\n",
    "sa.test()"
   ]
  },
  {
   "cell_type": "code",
   "execution_count": 2,
   "id": "controlling-karen",
   "metadata": {},
   "outputs": [],
   "source": [
    "from os import listdir, path\n",
    "miscDir = '../../../miscImgs'\n",
    "miscFileList = listdir( miscDir )\n",
    "#print( listdir(miscDir))"
   ]
  },
  {
   "cell_type": "code",
   "execution_count": 3,
   "id": "mediterranean-theater",
   "metadata": {},
   "outputs": [
    {
     "name": "stdout",
     "output_type": "stream",
     "text": [
      "True ../../../test_wndchrm/\n",
      "True ../../../test_wndchrm/model/\n",
      "True ../../../test_wndchrm/init/\n"
     ]
    }
   ],
   "source": [
    "testDir = \"../../../test_wndchrm/\"\n",
    "modelDir = testDir + 'model/'\n",
    "initDir = testDir + 'init/'\n",
    "print(path.exists(testDir),testDir)\n",
    "print(path.exists(modelDir),modelDir)\n",
    "print(path.exists(initDir),initDir)"
   ]
  },
  {
   "cell_type": "code",
   "execution_count": 4,
   "id": "actual-robinson",
   "metadata": {
    "tags": []
   },
   "outputs": [
    {
     "name": "stdout",
     "output_type": "stream",
     "text": [
      "0164_initl\r"
     ]
    },
    {
     "ename": "KeyboardInterrupt",
     "evalue": "",
     "output_type": "error",
     "traceback": [
      "\u001b[0;31m---------------------------------------------------------------------------\u001b[0m",
      "\u001b[0;31mKeyboardInterrupt\u001b[0m                         Traceback (most recent call last)",
      "\u001b[0;32m<ipython-input-4-308802d53384>\u001b[0m in \u001b[0;36m<module>\u001b[0;34m\u001b[0m\n\u001b[1;32m     18\u001b[0m     \u001b[0;32mif\u001b[0m \u001b[0;34m'init'\u001b[0m \u001b[0;32min\u001b[0m \u001b[0mf\u001b[0m\u001b[0;34m:\u001b[0m\u001b[0;34m\u001b[0m\u001b[0;34m\u001b[0m\u001b[0m\n\u001b[1;32m     19\u001b[0m         \u001b[0mnewLoc\u001b[0m \u001b[0;34m=\u001b[0m \u001b[0minitDir\u001b[0m \u001b[0;34m+\u001b[0m \u001b[0mname\u001b[0m \u001b[0;34m+\u001b[0m \u001b[0;34m'.tiff'\u001b[0m\u001b[0;34m\u001b[0m\u001b[0;34m\u001b[0m\u001b[0m\n\u001b[0;32m---> 20\u001b[0;31m         \u001b[0mcv2\u001b[0m\u001b[0;34m.\u001b[0m\u001b[0mimwrite\u001b[0m\u001b[0;34m(\u001b[0m \u001b[0mnewLoc\u001b[0m\u001b[0;34m,\u001b[0m \u001b[0mnewImg\u001b[0m \u001b[0;34m)\u001b[0m\u001b[0;34m\u001b[0m\u001b[0;34m\u001b[0m\u001b[0m\n\u001b[0m\u001b[1;32m     21\u001b[0m \u001b[0;34m\u001b[0m\u001b[0m\n\u001b[1;32m     22\u001b[0m \u001b[0;34m\u001b[0m\u001b[0m\n",
      "\u001b[0;31mKeyboardInterrupt\u001b[0m: "
     ]
    }
   ],
   "source": [
    "for i,f in enumerate(miscFileList):\n",
    "    fLoc = miscDir + '/' + f \n",
    "    if '.png' not in f:\n",
    "        continue\n",
    "    #print(path.exists(fLoc),fLoc)\n",
    "    \n",
    "    img = cv2.imread( fLoc, 0 )\n",
    "    newImg = np.zeros((100,100))\n",
    "    newImg[17:83,:] = cv2.resize( img, (100, 66))\n",
    "    newImg = np.uint8( newImg )\n",
    "    name = f.split('.')[0]\n",
    "    print(name,end='\\r')\n",
    "    \n",
    "    if 'model' in f:\n",
    "        newLoc = modelDir + name + '.tiff'\n",
    "        cv2.imwrite( newLoc, newImg )\n",
    "        \n",
    "    if 'init' in f:\n",
    "        newLoc = initDir + name + '.tiff'\n",
    "        cv2.imwrite( newLoc, newImg )\n",
    "    \n",
    "    "
   ]
  },
  {
   "cell_type": "code",
   "execution_count": 4,
   "id": "fleet-money",
   "metadata": {},
   "outputs": [
    {
     "name": "stdout",
     "output_type": "stream",
     "text": [
      "Done\n"
     ]
    }
   ],
   "source": [
    "print(\"Done\")"
   ]
  },
  {
   "cell_type": "code",
   "execution_count": 8,
   "id": "recognized-exclusion",
   "metadata": {},
   "outputs": [
    {
     "name": "stdout",
     "output_type": "stream",
     "text": [
      "Target Good!\n",
      "IM: run_info_class.__init__\n",
      "\t - runDir:  /home/mbo2d/spam_data_1/1237678620102623480/zoo_merger_models/run_0000/\n",
      "IM: run.initRunDir\n",
      "\t - runDir: /home/mbo2d/spam_data_1/1237678620102623480/zoo_merger_models/run_0000/\n",
      "\t -  runDir: (True) /home/mbo2d/spam_data_1/1237678620102623480/zoo_merger_models/run_0000/\n",
      "\t -  ptsDir: (True) /home/mbo2d/spam_data_1/1237678620102623480/zoo_merger_models/run_0000/particle_files/\n",
      "\t -  imgDir: (True) /home/mbo2d/spam_data_1/1237678620102623480/zoo_merger_models/run_0000/model_images/\n",
      "\t - miscDir: (True) /home/mbo2d/spam_data_1/1237678620102623480/zoo_merger_models/run_0000/misc_images/\n",
      "\t - wndDir: (True) /home/mbo2d/spam_data_1/1237678620102623480/zoo_merger_models/run_0000/wndchrm_files/\n",
      "\t - infoLoc: (True) /home/mbo2d/spam_data_1/1237678620102623480/zoo_merger_models/run_0000/info.json\n",
      "\t - baseLoc: (True) /home/mbo2d/spam_data_1/1237678620102623480/zoo_merger_models/run_0000/base_info.json\n",
      "\t - Reading Info file.\n",
      "IM: Run.__init__: Initalized: True\n",
      "Run 'run_0000' Good!\n"
     ]
    }
   ],
   "source": [
    "tDir = '../../targetDir2'\n",
    "tDir = gm.validPath(tDir)\n",
    "\n",
    "del tInfo\n",
    "tInfo = im.target_info_class( targetDir = tDir, printAll=False)\n",
    "if tInfo.status == False:\n",
    "    print(\"WARNING: target info class bad\")\n",
    "else:\n",
    "    print(\"Target Good!\")\n",
    "    \n",
    "#print(tInfo.get('zoo_merger_models'))\n",
    "\n",
    "# Get run info class\n",
    "tmpArg = gm.inArgClass()\n",
    "tmpArg.printAll = True\n",
    "rInfo = tInfo.getRunInfo( rID='run_0000', rArg= tmpArg )\n",
    "\n",
    "if rInfo.status == False:\n",
    "    print(\"WARNING\")\n",
    "else:\n",
    "    print(\"Run '%s' Good!\"%rInfo.get('run_id'))"
   ]
  },
  {
   "cell_type": "code",
   "execution_count": 9,
   "id": "supreme-bandwidth",
   "metadata": {},
   "outputs": [
    {
     "name": "stdout",
     "output_type": "stream",
     "text": [
      "1237678620102623480\n"
     ]
    }
   ],
   "source": [
    "print( tInfo.get('target_id'))"
   ]
  },
  {
   "cell_type": "code",
   "execution_count": 10,
   "id": "wireless-medium",
   "metadata": {},
   "outputs": [
    {
     "ename": "error",
     "evalue": "OpenCV(4.5.1) /tmp/pip-req-build-ms668fyv/opencv/modules/imgproc/src/resize.cpp:4051: error: (-215:Assertion failed) !ssize.empty() in function 'resize'\n",
     "output_type": "error",
     "traceback": [
      "\u001b[0;31m---------------------------------------------------------------------------\u001b[0m",
      "\u001b[0;31merror\u001b[0m                                     Traceback (most recent call last)",
      "\u001b[0;32m<ipython-input-10-4965c25af152>\u001b[0m in \u001b[0;36m<module>\u001b[0;34m\u001b[0m\n\u001b[1;32m      1\u001b[0m \u001b[0mtImg\u001b[0m \u001b[0;34m=\u001b[0m \u001b[0mtInfo\u001b[0m\u001b[0;34m.\u001b[0m\u001b[0mgetTargetImage\u001b[0m\u001b[0;34m(\u001b[0m \u001b[0;34m'zoo_2'\u001b[0m \u001b[0;34m)\u001b[0m\u001b[0;34m\u001b[0m\u001b[0;34m\u001b[0m\u001b[0m\n\u001b[0;32m----> 2\u001b[0;31m \u001b[0mtImg2\u001b[0m \u001b[0;34m=\u001b[0m \u001b[0mcv2\u001b[0m\u001b[0;34m.\u001b[0m\u001b[0mresize\u001b[0m\u001b[0;34m(\u001b[0m \u001b[0mtImg\u001b[0m\u001b[0;34m,\u001b[0m \u001b[0;34m(\u001b[0m\u001b[0;36m100\u001b[0m\u001b[0;34m,\u001b[0m \u001b[0;36m66\u001b[0m\u001b[0;34m)\u001b[0m \u001b[0;34m)\u001b[0m\u001b[0;34m\u001b[0m\u001b[0;34m\u001b[0m\u001b[0m\n\u001b[0m\u001b[1;32m      3\u001b[0m \u001b[0mplt\u001b[0m\u001b[0;34m.\u001b[0m\u001b[0mimshow\u001b[0m\u001b[0;34m(\u001b[0m\u001b[0mtImg2\u001b[0m\u001b[0;34m)\u001b[0m\u001b[0;34m\u001b[0m\u001b[0;34m\u001b[0m\u001b[0m\n\u001b[1;32m      4\u001b[0m \u001b[0;34m\u001b[0m\u001b[0m\n\u001b[1;32m      5\u001b[0m \u001b[0mnewImg\u001b[0m \u001b[0;34m=\u001b[0m \u001b[0mnp\u001b[0m\u001b[0;34m.\u001b[0m\u001b[0mzeros\u001b[0m\u001b[0;34m(\u001b[0m\u001b[0;34m(\u001b[0m\u001b[0;36m100\u001b[0m\u001b[0;34m,\u001b[0m\u001b[0;36m100\u001b[0m\u001b[0;34m)\u001b[0m\u001b[0;34m)\u001b[0m\u001b[0;34m\u001b[0m\u001b[0;34m\u001b[0m\u001b[0m\n",
      "\u001b[0;31merror\u001b[0m: OpenCV(4.5.1) /tmp/pip-req-build-ms668fyv/opencv/modules/imgproc/src/resize.cpp:4051: error: (-215:Assertion failed) !ssize.empty() in function 'resize'\n"
     ]
    }
   ],
   "source": [
    "tImg = tInfo.getTargetImage( 'zoo_2' )\n",
    "tImg2 = cv2.resize( tImg, (100, 66) )\n",
    "plt.imshow(tImg2)\n",
    "\n",
    "newImg = np.zeros((100,100))\n",
    "newImg[17:83,:] = tImg2[:,:]\n",
    "newImg = np.uint8( newImg*255 )\n",
    "\n",
    "plt.imshow(newImg)"
   ]
  },
  {
   "cell_type": "code",
   "execution_count": 5,
   "id": "polar-salem",
   "metadata": {},
   "outputs": [
    {
     "name": "stdout",
     "output_type": "stream",
     "text": [
      "/usr/bin/wget\n",
      "/home/mbo2d/bin/wndchrm\n",
      "None\n"
     ]
    }
   ],
   "source": [
    "from shutil import which\n",
    "print( which('wget') )\n",
    "print( which('wndchrm') )\n",
    "print( which('wndchrm2') )"
   ]
  },
  {
   "cell_type": "code",
   "execution_count": 22,
   "id": "acknowledged-branch",
   "metadata": {},
   "outputs": [
    {
     "name": "stdout",
     "output_type": "stream",
     "text": [
      "YYay\n",
      "stdout: \n",
      " \n",
      "stderr: \n",
      " wndchrm: ./Eigen/src/Core/DenseCoeffsBase.h:394: Eigen::DenseCoeffsBase<Derived, 1>::Scalar& Eigen::DenseCoeffsBase<Derived, 1>::operator()(Eigen::DenseCoeffsBase<Derived, 1>::Index) [with Derived = Eigen::Matrix<std::complex<double>, -1, 1>; Eigen::DenseCoeffsBase<Derived, 1>::Scalar = std::complex<double>; Eigen::DenseCoeffsBase<Derived, 1>::Index = long int]: Assertion `index >= 0 && index < size()' failed.\n",
      "\n",
      "return node: \n",
      " -6\n",
      "Done\n"
     ]
    }
   ],
   "source": [
    "import subprocess\n",
    "import sys\n",
    "\n",
    "if which( 'wndchrm' ) != None:\n",
    "    print(\"YYay\")\n",
    "    \n",
    "    wndCmd = ['wndchrm', 'train', rInfo.wndDir, rInfo.wndDir + 'wndchrm.fit' ]\n",
    "\n",
    "    command = subprocess.run( wndCmd, capture_output=True)\n",
    "    \n",
    "    print( 'stdout: \\n', command.stdout.decode(\"utf-8\") )\n",
    "\n",
    "    print( 'stderr: \\n', command.stderr.decode(\"utf-8\") )\n",
    "    \n",
    "    print( 'return node: \\n',command.returncode )\n",
    "    print(\"Done\")"
   ]
  },
  {
   "cell_type": "code",
   "execution_count": null,
   "id": "julian-outreach",
   "metadata": {},
   "outputs": [],
   "source": []
  },
  {
   "cell_type": "code",
   "execution_count": null,
   "id": "described-sending",
   "metadata": {},
   "outputs": [],
   "source": []
  }
 ],
 "metadata": {
  "kernelspec": {
   "display_name": "Python 3",
   "language": "python",
   "name": "python3"
  },
  "language_info": {
   "codemirror_mode": {
    "name": "ipython",
    "version": 3
   },
   "file_extension": ".py",
   "mimetype": "text/x-python",
   "name": "python",
   "nbconvert_exporter": "python",
   "pygments_lexer": "ipython3",
   "version": "3.8.5"
  }
 },
 "nbformat": 4,
 "nbformat_minor": 5
}
